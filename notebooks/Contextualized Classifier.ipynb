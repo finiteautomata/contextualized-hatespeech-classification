{
 "cells": [
  {
   "cell_type": "markdown",
   "id": "numerous-contamination",
   "metadata": {},
   "source": [
    "## Contextualized model\n",
    "\n",
    "Let's train a model but this time **taking** the context into account"
   ]
  },
  {
   "cell_type": "code",
   "execution_count": 1,
   "id": "tribal-strip",
   "metadata": {},
   "outputs": [],
   "source": [
    "%load_ext autoreload\n",
    "%autoreload 2\n",
    "import json\n",
    "\n",
    "with open(\"../data/train.json\") as f:\n",
    "    train_articles = json.load(f)\n",
    "\n",
    "with open(\"../data/test.json\") as f:\n",
    "    test_articles = json.load(f)"
   ]
  },
  {
   "cell_type": "markdown",
   "id": "informational-allergy",
   "metadata": {},
   "source": [
    "Let's take just the comments"
   ]
  },
  {
   "cell_type": "code",
   "execution_count": 2,
   "id": "architectural-statistics",
   "metadata": {},
   "outputs": [],
   "source": [
    "from sklearn.model_selection import train_test_split\n",
    "from datasets import Dataset, Value, ClassLabel, Features\n",
    "import pandas as pd\n",
    "\n",
    "def serialize(article, comment):\n",
    "    ret = comment.copy()\n",
    "    ret[\"context\"] = article[\"title\"]\n",
    "    return ret\n",
    "    \n",
    "\n",
    "train_comments = [serialize(article, comment) for article in train_articles for comment in article[\"comments\"]]\n",
    "test_comments = [serialize(article, comment) for article in test_articles for comment in article[\"comments\"]]\n",
    "\n",
    "#train_comments = sorted(train_comments, key=lambda x: len(x[\"text\"] + x[\"context\"]))\n",
    "#test_comments = sorted(train_comments, key=lambda x: len(x[\"text\"] + x[\"context\"]))\n",
    "\n",
    "train_df = pd.DataFrame(train_comments)\n",
    "test_df = pd.DataFrame(test_comments)\n",
    "\n",
    "train_df, dev_df = train_test_split(train_df, test_size=0.2, random_state=20212021)"
   ]
  },
  {
   "cell_type": "code",
   "execution_count": 3,
   "id": "spatial-therapy",
   "metadata": {},
   "outputs": [],
   "source": [
    "import re\n",
    "\n",
    "user_regex = re.compile(r\"@[a-zA-Z0-9_]{0,15}\")\n",
    "url_regex = re.compile(\n",
    "    \"((?<=[^a-zA-Z0-9])(?:https?\\:\\/\\/|[a-zA-Z0-9]{1,}\\.{1}|\\b)(?:\\w{1,}\\.{1}){1,5}(?:com|co|org|edu|gov|uk|net|ca|de|jp|fr|au|us|ru|ch|it|nl|se|no|es|mil|iq|io|ac|ly|sm){1}(?:\\/[a-zA-Z0-9]{1,})*)\"\n",
    ")\n",
    "\n",
    "def preprocess_tweet(text):\n",
    "    \"\"\"\n",
    "    Basic preprocessing\n",
    "    \"\"\"\n",
    "    text = user_regex.sub(\"usuario\", text)\n",
    "    text = url_regex.sub(\"url\", text)\n",
    "\n",
    "    return text\n",
    "\n",
    "train_df[\"text\"] = train_df[\"text\"].apply(preprocess_tweet)\n",
    "dev_df[\"text\"] = dev_df[\"text\"].apply(preprocess_tweet)\n",
    "test_df[\"text\"] = test_df[\"text\"].apply(preprocess_tweet)"
   ]
  },
  {
   "cell_type": "code",
   "execution_count": 4,
   "id": "communist-television",
   "metadata": {},
   "outputs": [],
   "source": [
    "features = Features({\n",
    "    'context': Value('string'),\n",
    "    'text': Value('string'),\n",
    "    'is_hateful': ClassLabel(num_classes=2, names=[\"Not Hateful\", \"Hateful\"])\n",
    "})\n",
    "\n",
    "columns = [\n",
    "    \"context\",\n",
    "    \"text\",\n",
    "    \"is_hateful\",\n",
    "]\n",
    "\n",
    "train_dataset = Dataset.from_pandas(train_df[columns], features=features)\n",
    "dev_dataset = Dataset.from_pandas(dev_df[columns], features=features)\n",
    "test_dataset = Dataset.from_pandas(test_df[columns], features=features)\n"
   ]
  },
  {
   "cell_type": "code",
   "execution_count": 5,
   "id": "casual-bread",
   "metadata": {},
   "outputs": [
    {
     "data": {
      "text/plain": [
       "(is_hateful    0.158162\n",
       " calls         0.028813\n",
       " WOMEN         0.022466\n",
       " LGBTI         0.012851\n",
       " RACISM        0.047203\n",
       " CLASS         0.014158\n",
       " POLITICS      0.024333\n",
       " DISABLED      0.010237\n",
       " APPEARANCE    0.031147\n",
       " CRIMINAL      0.033605\n",
       " dtype: float64,\n",
       " is_hateful   -0.005143\n",
       " calls         0.005331\n",
       " WOMEN        -0.008032\n",
       " LGBTI        -0.003811\n",
       " RACISM        0.005207\n",
       " CLASS        -0.004161\n",
       " POLITICS     -0.004899\n",
       " DISABLED     -0.002040\n",
       " APPEARANCE   -0.003736\n",
       " CRIMINAL      0.011097\n",
       " dtype: float64)"
      ]
     },
     "execution_count": 5,
     "metadata": {},
     "output_type": "execute_result"
    }
   ],
   "source": [
    "categories = [\n",
    "    \"is_hateful\",\n",
    "    \"calls\",\n",
    "    \"WOMEN\",\n",
    "    \"LGBTI\",\n",
    "    \"RACISM\",\n",
    "    \"CLASS\",\n",
    "    \"POLITICS\",\n",
    "    \"DISABLED\",\n",
    "    \"APPEARANCE\",\n",
    "    \"CRIMINAL\",\n",
    "]\n",
    "\n",
    "train_df[categories].mean(), train_df[categories].mean() - test_df[categories].mean()"
   ]
  },
  {
   "cell_type": "markdown",
   "id": "approximate-bulgaria",
   "metadata": {},
   "source": [
    "It seems that somehow it is evenly distributed..."
   ]
  },
  {
   "cell_type": "code",
   "execution_count": 6,
   "id": "stone-ethiopia",
   "metadata": {},
   "outputs": [],
   "source": [
    "train_df[\"text\"] = train_df[\"text\"].apply(preprocess_tweet)\n",
    "dev_df[\"text\"] = dev_df[\"text\"].apply(preprocess_tweet)\n",
    "test_df[\"text\"] = test_df[\"text\"].apply(preprocess_tweet)\n"
   ]
  },
  {
   "cell_type": "code",
   "execution_count": 7,
   "id": "russian-raise",
   "metadata": {},
   "outputs": [
    {
     "name": "stderr",
     "output_type": "stream",
     "text": [
      "Some weights of the model checkpoint at dccuchile/bert-base-spanish-wwm-cased were not used when initializing BertForSequenceClassification: ['cls.predictions.bias', 'cls.predictions.transform.dense.weight', 'cls.predictions.transform.dense.bias', 'cls.predictions.transform.LayerNorm.weight', 'cls.predictions.transform.LayerNorm.bias', 'cls.predictions.decoder.weight']\n",
      "- This IS expected if you are initializing BertForSequenceClassification from the checkpoint of a model trained on another task or with another architecture (e.g. initializing a BertForSequenceClassification model from a BertForPreTraining model).\n",
      "- This IS NOT expected if you are initializing BertForSequenceClassification from the checkpoint of a model that you expect to be exactly identical (initializing a BertForSequenceClassification model from a BertForSequenceClassification model).\n",
      "Some weights of BertForSequenceClassification were not initialized from the model checkpoint at dccuchile/bert-base-spanish-wwm-cased and are newly initialized: ['classifier.weight', 'classifier.bias']\n",
      "You should probably TRAIN this model on a down-stream task to be able to use it for predictions and inference.\n"
     ]
    }
   ],
   "source": [
    "import torch\n",
    "from transformers import AutoModelForSequenceClassification, AutoTokenizer\n",
    "\n",
    "model_name = 'dccuchile/bert-base-spanish-wwm-cased'\n",
    "\n",
    "device = \"cuda\" if torch.cuda.is_available() else \"cpu\"\n",
    "\n",
    "id2label = {0: 'Not hateful', 1: 'Hateful'}\n",
    "label2id = {v:k for k,v in id2label.items()}\n",
    "\n",
    "model = AutoModelForSequenceClassification.from_pretrained(model_name, return_dict=True, num_labels=2)\n",
    "\n",
    "model.config.id2label = id2label\n",
    "model.config.label2id = label2id\n",
    "\n",
    "model = model.to(device)\n",
    "model.train();\n",
    "\n",
    "\n",
    "\n",
    "tokenizer = AutoTokenizer.from_pretrained(model_name)\n",
    "tokenizer.model_max_length = 256"
   ]
  },
  {
   "cell_type": "code",
   "execution_count": 8,
   "id": "negative-cincinnati",
   "metadata": {},
   "outputs": [
    {
     "data": {
      "application/vnd.jupyter.widget-view+json": {
       "model_id": "e7e4394fd69345b29335ab91a61366ea",
       "version_major": 2,
       "version_minor": 0
      },
      "text/plain": [
       "HBox(children=(FloatProgress(value=0.0, max=1005.0), HTML(value='')))"
      ]
     },
     "metadata": {},
     "output_type": "display_data"
    },
    {
     "name": "stdout",
     "output_type": "stream",
     "text": [
      "\n"
     ]
    },
    {
     "data": {
      "application/vnd.jupyter.widget-view+json": {
       "model_id": "d7f2cb6132be4954b675fe3d5b3ea1ce",
       "version_major": 2,
       "version_minor": 0
      },
      "text/plain": [
       "HBox(children=(FloatProgress(value=0.0, max=503.0), HTML(value='')))"
      ]
     },
     "metadata": {},
     "output_type": "display_data"
    },
    {
     "name": "stdout",
     "output_type": "stream",
     "text": [
      "\n"
     ]
    },
    {
     "data": {
      "application/vnd.jupyter.widget-view+json": {
       "model_id": "1c2af0cfb3064f80b517df838fc9d0da",
       "version_major": 2,
       "version_minor": 0
      },
      "text/plain": [
       "HBox(children=(FloatProgress(value=0.0, max=642.0), HTML(value='')))"
      ]
     },
     "metadata": {},
     "output_type": "display_data"
    },
    {
     "name": "stdout",
     "output_type": "stream",
     "text": [
      "\n"
     ]
    }
   ],
   "source": [
    "def tokenize(batch):\n",
    "    return tokenizer(batch['context'], batch['text'], padding='max_length', truncation=True)\n",
    "\n",
    "batch_size = 32\n",
    "eval_batch_size = 16\n",
    "\n",
    "train_dataset = train_dataset.map(tokenize, batched=True, batch_size=batch_size)\n",
    "dev_dataset = dev_dataset.map(tokenize, batched=True, batch_size=eval_batch_size)\n",
    "test_dataset = test_dataset.map(tokenize, batched=True, batch_size=eval_batch_size)\n",
    "\n"
   ]
  },
  {
   "cell_type": "code",
   "execution_count": 9,
   "id": "wooden-apparel",
   "metadata": {},
   "outputs": [
    {
     "data": {
      "application/vnd.jupyter.widget-view+json": {
       "model_id": "09c351f256184b5b9ec7f440471cf05f",
       "version_major": 2,
       "version_minor": 0
      },
      "text/plain": [
       "HBox(children=(FloatProgress(value=0.0, max=32138.0), HTML(value='')))"
      ]
     },
     "metadata": {},
     "output_type": "display_data"
    },
    {
     "name": "stdout",
     "output_type": "stream",
     "text": [
      "\n"
     ]
    },
    {
     "data": {
      "application/vnd.jupyter.widget-view+json": {
       "model_id": "2b72c5e6e68a403d8e65f08528bf2e99",
       "version_major": 2,
       "version_minor": 0
      },
      "text/plain": [
       "HBox(children=(FloatProgress(value=0.0, max=8035.0), HTML(value='')))"
      ]
     },
     "metadata": {},
     "output_type": "display_data"
    },
    {
     "name": "stdout",
     "output_type": "stream",
     "text": [
      "\n"
     ]
    },
    {
     "data": {
      "application/vnd.jupyter.widget-view+json": {
       "model_id": "a343affb96db45279bfa4a9f46051fce",
       "version_major": 2,
       "version_minor": 0
      },
      "text/plain": [
       "HBox(children=(FloatProgress(value=0.0, max=10263.0), HTML(value='')))"
      ]
     },
     "metadata": {},
     "output_type": "display_data"
    },
    {
     "name": "stdout",
     "output_type": "stream",
     "text": [
      "\n"
     ]
    }
   ],
   "source": [
    "\n",
    "def format_dataset(dataset):\n",
    "    dataset = dataset.map(lambda examples: {'labels': examples['is_hateful']})\n",
    "    dataset.set_format(type='torch', columns=['input_ids', 'token_type_ids', 'attention_mask', 'labels'])\n",
    "    return dataset\n",
    "\n",
    "train_dataset = format_dataset(train_dataset)\n",
    "dev_dataset = format_dataset(dev_dataset)\n",
    "test_dataset = format_dataset(test_dataset)"
   ]
  },
  {
   "cell_type": "code",
   "execution_count": 10,
   "id": "portuguese-nursing",
   "metadata": {},
   "outputs": [],
   "source": [
    "from sklearn.metrics import precision_recall_fscore_support, accuracy_score\n",
    "\n",
    "def compute_metrics(pred):\n",
    "    \"\"\"\n",
    "    Compute metrics for Trainer\n",
    "    \"\"\"\n",
    "    labels = pred.label_ids\n",
    "    preds = pred.predictions.argmax(-1)\n",
    "    precision, recall, f1, _ = precision_recall_fscore_support(labels, preds, average='macro')\n",
    "    acc = accuracy_score(labels, preds)\n",
    "    return {\n",
    "        'accuracy': acc,\n",
    "        'f1': f1,\n",
    "        'precision': precision,\n",
    "        'recall': recall\n",
    "    }"
   ]
  },
  {
   "cell_type": "code",
   "execution_count": 11,
   "id": "apart-skirt",
   "metadata": {},
   "outputs": [
    {
     "data": {
      "text/html": [
       "\n",
       "    <div>\n",
       "        <style>\n",
       "            /* Turns off some styling */\n",
       "            progress {\n",
       "                /* gets rid of default border in Firefox and Opera. */\n",
       "                border: none;\n",
       "                /* Needs to be in here for Safari polyfill so background images work as expected. */\n",
       "                background-size: auto;\n",
       "            }\n",
       "        </style>\n",
       "      \n",
       "      <progress value='10050' max='10050' style='width:300px; height:20px; vertical-align: middle;'></progress>\n",
       "      [10050/10050 2:24:42, Epoch 10/10]\n",
       "    </div>\n",
       "    <table border=\"1\" class=\"dataframe\">\n",
       "  <thead>\n",
       "    <tr style=\"text-align: left;\">\n",
       "      <th>Epoch</th>\n",
       "      <th>Training Loss</th>\n",
       "      <th>Validation Loss</th>\n",
       "      <th>Accuracy</th>\n",
       "      <th>F1</th>\n",
       "      <th>Precision</th>\n",
       "      <th>Recall</th>\n",
       "      <th>Runtime</th>\n",
       "      <th>Samples Per Second</th>\n",
       "    </tr>\n",
       "  </thead>\n",
       "  <tbody>\n",
       "    <tr>\n",
       "      <td>1</td>\n",
       "      <td>0.293600</td>\n",
       "      <td>0.325564</td>\n",
       "      <td>0.868451</td>\n",
       "      <td>0.647018</td>\n",
       "      <td>0.899410</td>\n",
       "      <td>0.612738</td>\n",
       "      <td>66.952100</td>\n",
       "      <td>120.011000</td>\n",
       "    </tr>\n",
       "    <tr>\n",
       "      <td>2</td>\n",
       "      <td>0.218400</td>\n",
       "      <td>0.248986</td>\n",
       "      <td>0.907405</td>\n",
       "      <td>0.818037</td>\n",
       "      <td>0.854059</td>\n",
       "      <td>0.791908</td>\n",
       "      <td>67.389400</td>\n",
       "      <td>119.232000</td>\n",
       "    </tr>\n",
       "    <tr>\n",
       "      <td>3</td>\n",
       "      <td>0.127400</td>\n",
       "      <td>0.322458</td>\n",
       "      <td>0.908027</td>\n",
       "      <td>0.820306</td>\n",
       "      <td>0.853701</td>\n",
       "      <td>0.795559</td>\n",
       "      <td>66.708800</td>\n",
       "      <td>120.449000</td>\n",
       "    </tr>\n",
       "    <tr>\n",
       "      <td>4</td>\n",
       "      <td>0.071600</td>\n",
       "      <td>0.430035</td>\n",
       "      <td>0.909147</td>\n",
       "      <td>0.825273</td>\n",
       "      <td>0.851649</td>\n",
       "      <td>0.804571</td>\n",
       "      <td>67.414800</td>\n",
       "      <td>119.188000</td>\n",
       "    </tr>\n",
       "    <tr>\n",
       "      <td>5</td>\n",
       "      <td>0.040500</td>\n",
       "      <td>0.526347</td>\n",
       "      <td>0.911512</td>\n",
       "      <td>0.826879</td>\n",
       "      <td>0.861615</td>\n",
       "      <td>0.801225</td>\n",
       "      <td>67.057300</td>\n",
       "      <td>119.823000</td>\n",
       "    </tr>\n",
       "    <tr>\n",
       "      <td>6</td>\n",
       "      <td>0.021300</td>\n",
       "      <td>0.559009</td>\n",
       "      <td>0.908899</td>\n",
       "      <td>0.828415</td>\n",
       "      <td>0.845865</td>\n",
       "      <td>0.813656</td>\n",
       "      <td>66.926500</td>\n",
       "      <td>120.057000</td>\n",
       "    </tr>\n",
       "    <tr>\n",
       "      <td>7</td>\n",
       "      <td>0.015200</td>\n",
       "      <td>0.617748</td>\n",
       "      <td>0.912383</td>\n",
       "      <td>0.828291</td>\n",
       "      <td>0.864033</td>\n",
       "      <td>0.802046</td>\n",
       "      <td>66.477500</td>\n",
       "      <td>120.868000</td>\n",
       "    </tr>\n",
       "    <tr>\n",
       "      <td>8</td>\n",
       "      <td>0.008800</td>\n",
       "      <td>0.683005</td>\n",
       "      <td>0.911139</td>\n",
       "      <td>0.829779</td>\n",
       "      <td>0.854686</td>\n",
       "      <td>0.809937</td>\n",
       "      <td>66.966900</td>\n",
       "      <td>119.985000</td>\n",
       "    </tr>\n",
       "    <tr>\n",
       "      <td>9</td>\n",
       "      <td>0.003000</td>\n",
       "      <td>0.704842</td>\n",
       "      <td>0.911388</td>\n",
       "      <td>0.830702</td>\n",
       "      <td>0.854483</td>\n",
       "      <td>0.811576</td>\n",
       "      <td>66.992700</td>\n",
       "      <td>119.938000</td>\n",
       "    </tr>\n",
       "    <tr>\n",
       "      <td>10</td>\n",
       "      <td>0.002700</td>\n",
       "      <td>0.721557</td>\n",
       "      <td>0.911014</td>\n",
       "      <td>0.831805</td>\n",
       "      <td>0.850936</td>\n",
       "      <td>0.815820</td>\n",
       "      <td>66.763400</td>\n",
       "      <td>120.350000</td>\n",
       "    </tr>\n",
       "  </tbody>\n",
       "</table><p>"
      ],
      "text/plain": [
       "<IPython.core.display.HTML object>"
      ]
     },
     "metadata": {},
     "output_type": "display_data"
    },
    {
     "data": {
      "text/plain": [
       "TrainOutput(global_step=10050, training_loss=0.08420811005149834, metrics={'train_runtime': 8682.8158, 'train_samples_per_second': 1.157, 'total_flos': 54227512468746240, 'epoch': 10.0})"
      ]
     },
     "execution_count": 11,
     "metadata": {},
     "output_type": "execute_result"
    }
   ],
   "source": [
    "from transformers import Trainer, TrainingArguments\n",
    "epochs = 10\n",
    "\n",
    "total_steps = (epochs * len(train_dataset)) // batch_size\n",
    "warmup_steps = total_steps // 10\n",
    "training_args = TrainingArguments(\n",
    "    output_dir='./results',\n",
    "    num_train_epochs=epochs,\n",
    "    per_device_train_batch_size=batch_size,\n",
    "    per_device_eval_batch_size=eval_batch_size,\n",
    "    warmup_steps=warmup_steps,\n",
    "    evaluation_strategy=\"epoch\",\n",
    "    do_eval=False,\n",
    "    weight_decay=0.01,\n",
    "    logging_dir='./logs',\n",
    "    group_by_length=True,\n",
    "    load_best_model_at_end=True,\n",
    "    metric_for_best_model=\"f1\",\n",
    ")\n",
    "\n",
    "\n",
    "trainer = Trainer(\n",
    "    model=model,\n",
    "    args=training_args,\n",
    "    compute_metrics=compute_metrics,\n",
    "    train_dataset=train_dataset,\n",
    "    eval_dataset=dev_dataset,\n",
    ")\n",
    "\n",
    "trainer.train()\n",
    "\n"
   ]
  },
  {
   "cell_type": "code",
   "execution_count": 12,
   "id": "latin-graduate",
   "metadata": {},
   "outputs": [
    {
     "data": {
      "text/html": [
       "\n",
       "    <div>\n",
       "        <style>\n",
       "            /* Turns off some styling */\n",
       "            progress {\n",
       "                /* gets rid of default border in Firefox and Opera. */\n",
       "                border: none;\n",
       "                /* Needs to be in here for Safari polyfill so background images work as expected. */\n",
       "                background-size: auto;\n",
       "            }\n",
       "        </style>\n",
       "      \n",
       "      <progress value='503' max='503' style='width:300px; height:20px; vertical-align: middle;'></progress>\n",
       "      [503/503 01:06]\n",
       "    </div>\n",
       "    "
      ],
      "text/plain": [
       "<IPython.core.display.HTML object>"
      ]
     },
     "metadata": {},
     "output_type": "display_data"
    },
    {
     "data": {
      "text/plain": [
       "{'eval_loss': 0.7215569019317627,\n",
       " 'eval_accuracy': 0.911014312383323,\n",
       " 'eval_f1': 0.8318054828480544,\n",
       " 'eval_precision': 0.8509359013185828,\n",
       " 'eval_recall': 0.8158195953108915,\n",
       " 'eval_runtime': 66.0959,\n",
       " 'eval_samples_per_second': 121.566,\n",
       " 'epoch': 10.0}"
      ]
     },
     "execution_count": 12,
     "metadata": {},
     "output_type": "execute_result"
    }
   ],
   "source": [
    "trainer.evaluate(dev_dataset)"
   ]
  },
  {
   "cell_type": "code",
   "execution_count": 18,
   "id": "square-population",
   "metadata": {},
   "outputs": [
    {
     "data": {
      "text/plain": [
       "('../models/bert-contextualized-hate-speech-es/tokenizer_config.json',\n",
       " '../models/bert-contextualized-hate-speech-es/special_tokens_map.json',\n",
       " '../models/bert-contextualized-hate-speech-es/vocab.txt',\n",
       " '../models/bert-contextualized-hate-speech-es/added_tokens.json')"
      ]
     },
     "execution_count": 18,
     "metadata": {},
     "output_type": "execute_result"
    }
   ],
   "source": [
    "trainer.save_model(\"../models/bert-contextualized-hate-speech-es\")\n",
    "tokenizer.save_pretrained(\"../models/bert-contextualized-hate-speech-es/\")"
   ]
  }
 ],
 "metadata": {
  "kernelspec": {
   "display_name": "Python 3",
   "language": "python",
   "name": "python3"
  },
  "language_info": {
   "codemirror_mode": {
    "name": "ipython",
    "version": 3
   },
   "file_extension": ".py",
   "mimetype": "text/x-python",
   "name": "python",
   "nbconvert_exporter": "python",
   "pygments_lexer": "ipython3",
   "version": "3.8.5"
  }
 },
 "nbformat": 4,
 "nbformat_minor": 5
}
