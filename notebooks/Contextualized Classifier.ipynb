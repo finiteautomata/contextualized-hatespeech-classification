{
 "cells": [
  {
   "cell_type": "markdown",
   "id": "binding-protein",
   "metadata": {},
   "source": [
    "## Non-contextualized model\n",
    "\n",
    "Let's train a model without using the news"
   ]
  },
  {
   "cell_type": "code",
   "execution_count": 1,
   "id": "rapid-fellow",
   "metadata": {},
   "outputs": [],
   "source": [
    "%load_ext autoreload\n",
    "%autoreload 2\n",
    "import json\n",
    "\n",
    "with open(\"../data/train.json\") as f:\n",
    "    train_articles = json.load(f)\n",
    "\n",
    "with open(\"../data/test.json\") as f:\n",
    "    test_articles = json.load(f)"
   ]
  },
  {
   "cell_type": "markdown",
   "id": "civil-exemption",
   "metadata": {},
   "source": [
    "Let's take just the comments"
   ]
  },
  {
   "cell_type": "code",
   "execution_count": 2,
   "id": "classical-programming",
   "metadata": {},
   "outputs": [],
   "source": [
    "from sklearn.model_selection import train_test_split\n",
    "from datasets import Dataset, Value, ClassLabel, Features\n",
    "import pandas as pd\n",
    "\n",
    "def serialize(article, comment):\n",
    "    ret = comment.copy()\n",
    "    ret[\"context\"] = article[\"title\"]\n",
    "    return ret\n",
    "    \n",
    "\n",
    "train_comments = [serialize(article, comment) for article in train_articles for comment in article[\"comments\"]]\n",
    "test_comments = [serialize(article, comment) for article in test_articles for comment in article[\"comments\"]]\n",
    "\n",
    "#train_comments = sorted(train_comments, key=lambda x: len(x[\"text\"] + x[\"context\"]))\n",
    "#test_comments = sorted(train_comments, key=lambda x: len(x[\"text\"] + x[\"context\"]))\n",
    "\n",
    "train_df = pd.DataFrame(train_comments)\n",
    "test_df = pd.DataFrame(test_comments)\n",
    "\n",
    "train_df, dev_df = train_test_split(train_df, test_size=0.2)"
   ]
  },
  {
   "cell_type": "code",
   "execution_count": 3,
   "id": "statistical-refrigerator",
   "metadata": {},
   "outputs": [],
   "source": [
    "import re\n",
    "\n",
    "user_regex = re.compile(r\"@[a-zA-Z0-9_]{0,15}\")\n",
    "url_regex = re.compile(\n",
    "    \"((?<=[^a-zA-Z0-9])(?:https?\\:\\/\\/|[a-zA-Z0-9]{1,}\\.{1}|\\b)(?:\\w{1,}\\.{1}){1,5}(?:com|co|org|edu|gov|uk|net|ca|de|jp|fr|au|us|ru|ch|it|nl|se|no|es|mil|iq|io|ac|ly|sm){1}(?:\\/[a-zA-Z0-9]{1,})*)\"\n",
    ")\n",
    "\n",
    "def preprocess_tweet(text):\n",
    "    \"\"\"\n",
    "    Basic preprocessing\n",
    "    \"\"\"\n",
    "    text = user_regex.sub(\"usuario\", text)\n",
    "    text = url_regex.sub(\"url\", text)\n",
    "\n",
    "    return text\n",
    "\n",
    "train_df[\"text\"] = train_df[\"text\"].apply(preprocess_tweet)\n",
    "dev_df[\"text\"] = dev_df[\"text\"].apply(preprocess_tweet)\n",
    "test_df[\"text\"] = test_df[\"text\"].apply(preprocess_tweet)"
   ]
  },
  {
   "cell_type": "code",
   "execution_count": 4,
   "id": "reserved-agreement",
   "metadata": {},
   "outputs": [],
   "source": [
    "features = Features({\n",
    "    'context': Value('string'),\n",
    "    'text': Value('string'),\n",
    "    'is_hateful': ClassLabel(num_classes=2, names=[\"Not Hateful\", \"Hateful\"])\n",
    "})\n",
    "\n",
    "columns = [\n",
    "    \"context\",\n",
    "    \"text\",\n",
    "    \"is_hateful\",\n",
    "]\n",
    "\n",
    "train_dataset = Dataset.from_pandas(train_df[columns], features=features)\n",
    "dev_dataset = Dataset.from_pandas(dev_df[columns], features=features)\n",
    "test_dataset = Dataset.from_pandas(test_df[columns], features=features)\n"
   ]
  },
  {
   "cell_type": "code",
   "execution_count": 5,
   "id": "lucky-conspiracy",
   "metadata": {},
   "outputs": [
    {
     "data": {
      "text/plain": [
       "(is_hateful    0.178000\n",
       " calls         0.032341\n",
       " WOMEN         0.024120\n",
       " LGBTI         0.008618\n",
       " RACISM        0.057501\n",
       " CLASS         0.018523\n",
       " POLITICS      0.025605\n",
       " DISABLED      0.011886\n",
       " APPEARANCE    0.037492\n",
       " CRIMINAL      0.038136\n",
       " dtype: float64,\n",
       " is_hateful   -0.005573\n",
       " calls        -0.002791\n",
       " WOMEN        -0.011171\n",
       " LGBTI        -0.002935\n",
       " RACISM        0.010025\n",
       " CLASS         0.001907\n",
       " POLITICS     -0.003988\n",
       " DISABLED     -0.000299\n",
       " APPEARANCE   -0.004129\n",
       " CRIMINAL     -0.000953\n",
       " dtype: float64)"
      ]
     },
     "execution_count": 5,
     "metadata": {},
     "output_type": "execute_result"
    }
   ],
   "source": [
    "categories = [\n",
    "    \"is_hateful\",\n",
    "    \"calls\",\n",
    "    \"WOMEN\",\n",
    "    \"LGBTI\",\n",
    "    \"RACISM\",\n",
    "    \"CLASS\",\n",
    "    \"POLITICS\",\n",
    "    \"DISABLED\",\n",
    "    \"APPEARANCE\",\n",
    "    \"CRIMINAL\",\n",
    "]\n",
    "\n",
    "train_df[categories].mean(), train_df[categories].mean() - test_df[categories].mean()"
   ]
  },
  {
   "cell_type": "markdown",
   "id": "collaborative-letter",
   "metadata": {},
   "source": [
    "It seems that somehow it is evenly distributed..."
   ]
  },
  {
   "cell_type": "code",
   "execution_count": null,
   "id": "removable-august",
   "metadata": {},
   "outputs": [],
   "source": []
  },
  {
   "cell_type": "code",
   "execution_count": 6,
   "id": "exterior-marina",
   "metadata": {},
   "outputs": [],
   "source": [
    "train_df[\"text\"] = train_df[\"text\"].apply(preprocess_tweet)\n",
    "dev_df[\"text\"] = dev_df[\"text\"].apply(preprocess_tweet)\n",
    "test_df[\"text\"] = test_df[\"text\"].apply(preprocess_tweet)\n"
   ]
  },
  {
   "cell_type": "code",
   "execution_count": 7,
   "id": "running-dating",
   "metadata": {},
   "outputs": [
    {
     "name": "stderr",
     "output_type": "stream",
     "text": [
      "Some weights of the model checkpoint at dccuchile/bert-base-spanish-wwm-cased were not used when initializing BertForSequenceClassification: ['cls.predictions.bias', 'cls.predictions.transform.dense.weight', 'cls.predictions.transform.dense.bias', 'cls.predictions.transform.LayerNorm.weight', 'cls.predictions.transform.LayerNorm.bias', 'cls.predictions.decoder.weight']\n",
      "- This IS expected if you are initializing BertForSequenceClassification from the checkpoint of a model trained on another task or with another architecture (e.g. initializing a BertForSequenceClassification model from a BertForPreTraining model).\n",
      "- This IS NOT expected if you are initializing BertForSequenceClassification from the checkpoint of a model that you expect to be exactly identical (initializing a BertForSequenceClassification model from a BertForSequenceClassification model).\n",
      "Some weights of BertForSequenceClassification were not initialized from the model checkpoint at dccuchile/bert-base-spanish-wwm-cased and are newly initialized: ['classifier.weight', 'classifier.bias']\n",
      "You should probably TRAIN this model on a down-stream task to be able to use it for predictions and inference.\n"
     ]
    }
   ],
   "source": [
    "import torch\n",
    "from transformers import AutoModelForSequenceClassification, AutoTokenizer\n",
    "\n",
    "model_name = 'dccuchile/bert-base-spanish-wwm-cased'\n",
    "\n",
    "device = \"cuda\" if torch.cuda.is_available() else \"cpu\"\n",
    "\n",
    "id2label = {0: 'Not hateful', 1: 'Hateful'}\n",
    "label2id = {v:k for k,v in id2label.items()}\n",
    "\n",
    "model = AutoModelForSequenceClassification.from_pretrained(model_name, return_dict=True, num_labels=2)\n",
    "\n",
    "model.config.id2label = id2label\n",
    "model.config.label2id = label2id\n",
    "\n",
    "model = model.to(device)\n",
    "model.train();\n",
    "\n",
    "\n",
    "\n",
    "tokenizer = AutoTokenizer.from_pretrained(model_name)\n",
    "tokenizer.model_max_length = 256"
   ]
  },
  {
   "cell_type": "code",
   "execution_count": 8,
   "id": "mysterious-settle",
   "metadata": {},
   "outputs": [
    {
     "data": {
      "application/vnd.jupyter.widget-view+json": {
       "model_id": "fc12d6f3e08346fba2fabaa85cb7f0d0",
       "version_major": 2,
       "version_minor": 0
      },
      "text/plain": [
       "HBox(children=(FloatProgress(value=0.0, max=631.0), HTML(value='')))"
      ]
     },
     "metadata": {},
     "output_type": "display_data"
    },
    {
     "name": "stdout",
     "output_type": "stream",
     "text": [
      "\n"
     ]
    },
    {
     "data": {
      "application/vnd.jupyter.widget-view+json": {
       "model_id": "4ce65333ca254eb4b3c511b172dfa4da",
       "version_major": 2,
       "version_minor": 0
      },
      "text/plain": [
       "HBox(children=(FloatProgress(value=0.0, max=316.0), HTML(value='')))"
      ]
     },
     "metadata": {},
     "output_type": "display_data"
    },
    {
     "name": "stdout",
     "output_type": "stream",
     "text": [
      "\n"
     ]
    },
    {
     "data": {
      "application/vnd.jupyter.widget-view+json": {
       "model_id": "85d7ad2bc44d435d8e9a1a9f93935b78",
       "version_major": 2,
       "version_minor": 0
      },
      "text/plain": [
       "HBox(children=(FloatProgress(value=0.0, max=395.0), HTML(value='')))"
      ]
     },
     "metadata": {},
     "output_type": "display_data"
    },
    {
     "name": "stdout",
     "output_type": "stream",
     "text": [
      "\n"
     ]
    }
   ],
   "source": [
    "def tokenize(batch):\n",
    "    return tokenizer(batch['context'], batch['text'], padding='max_length', truncation=True)\n",
    "\n",
    "batch_size = 32\n",
    "eval_batch_size = 16\n",
    "\n",
    "train_dataset = train_dataset.map(tokenize, batched=True, batch_size=batch_size)\n",
    "dev_dataset = dev_dataset.map(tokenize, batched=True, batch_size=eval_batch_size)\n",
    "test_dataset = test_dataset.map(tokenize, batched=True, batch_size=eval_batch_size)\n",
    "\n"
   ]
  },
  {
   "cell_type": "code",
   "execution_count": 9,
   "id": "worthy-philadelphia",
   "metadata": {},
   "outputs": [
    {
     "data": {
      "application/vnd.jupyter.widget-view+json": {
       "model_id": "0c162ebb5b004956ad5bd5f72964f583",
       "version_major": 2,
       "version_minor": 0
      },
      "text/plain": [
       "HBox(children=(FloatProgress(value=0.0, max=20191.0), HTML(value='')))"
      ]
     },
     "metadata": {},
     "output_type": "display_data"
    },
    {
     "name": "stdout",
     "output_type": "stream",
     "text": [
      "\n"
     ]
    },
    {
     "data": {
      "application/vnd.jupyter.widget-view+json": {
       "model_id": "c7f03837305a4b05bf6e0849c30d8368",
       "version_major": 2,
       "version_minor": 0
      },
      "text/plain": [
       "HBox(children=(FloatProgress(value=0.0, max=5048.0), HTML(value='')))"
      ]
     },
     "metadata": {},
     "output_type": "display_data"
    },
    {
     "name": "stdout",
     "output_type": "stream",
     "text": [
      "\n"
     ]
    },
    {
     "data": {
      "application/vnd.jupyter.widget-view+json": {
       "model_id": "045f915dbc844c3f8a4dfb80c579470e",
       "version_major": 2,
       "version_minor": 0
      },
      "text/plain": [
       "HBox(children=(FloatProgress(value=0.0, max=6319.0), HTML(value='')))"
      ]
     },
     "metadata": {},
     "output_type": "display_data"
    },
    {
     "name": "stdout",
     "output_type": "stream",
     "text": [
      "\n"
     ]
    }
   ],
   "source": [
    "\n",
    "def format_dataset(dataset):\n",
    "    dataset = dataset.map(lambda examples: {'labels': examples['is_hateful']})\n",
    "    dataset.set_format(type='torch', columns=['input_ids', 'token_type_ids', 'attention_mask', 'labels'])\n",
    "    return dataset\n",
    "\n",
    "train_dataset = format_dataset(train_dataset)\n",
    "dev_dataset = format_dataset(dev_dataset)\n",
    "test_dataset = format_dataset(test_dataset)"
   ]
  },
  {
   "cell_type": "code",
   "execution_count": 10,
   "id": "identified-retro",
   "metadata": {},
   "outputs": [],
   "source": [
    "from sklearn.metrics import precision_recall_fscore_support, accuracy_score\n",
    "\n",
    "def compute_metrics(pred):\n",
    "    \"\"\"\n",
    "    Compute metrics for Trainer\n",
    "    \"\"\"\n",
    "    labels = pred.label_ids\n",
    "    preds = pred.predictions.argmax(-1)\n",
    "    precision, recall, f1, _ = precision_recall_fscore_support(labels, preds, average='macro')\n",
    "    acc = accuracy_score(labels, preds)\n",
    "    return {\n",
    "        'accuracy': acc,\n",
    "        'f1': f1,\n",
    "        'precision': precision,\n",
    "        'recall': recall\n",
    "    }"
   ]
  },
  {
   "cell_type": "code",
   "execution_count": 11,
   "id": "noted-nature",
   "metadata": {},
   "outputs": [
    {
     "data": {
      "text/html": [
       "\n",
       "    <div>\n",
       "        <style>\n",
       "            /* Turns off some styling */\n",
       "            progress {\n",
       "                /* gets rid of default border in Firefox and Opera. */\n",
       "                border: none;\n",
       "                /* Needs to be in here for Safari polyfill so background images work as expected. */\n",
       "                background-size: auto;\n",
       "            }\n",
       "        </style>\n",
       "      \n",
       "      <progress value='6310' max='6310' style='width:300px; height:20px; vertical-align: middle;'></progress>\n",
       "      [6310/6310 1:32:31, Epoch 10/10]\n",
       "    </div>\n",
       "    <table border=\"1\" class=\"dataframe\">\n",
       "  <thead>\n",
       "    <tr style=\"text-align: left;\">\n",
       "      <th>Epoch</th>\n",
       "      <th>Training Loss</th>\n",
       "      <th>Validation Loss</th>\n",
       "      <th>Accuracy</th>\n",
       "      <th>F1</th>\n",
       "      <th>Precision</th>\n",
       "      <th>Recall</th>\n",
       "      <th>Runtime</th>\n",
       "      <th>Samples Per Second</th>\n",
       "    </tr>\n",
       "  </thead>\n",
       "  <tbody>\n",
       "    <tr>\n",
       "      <td>1</td>\n",
       "      <td>0.393300</td>\n",
       "      <td>0.303925</td>\n",
       "      <td>0.878962</td>\n",
       "      <td>0.802495</td>\n",
       "      <td>0.796098</td>\n",
       "      <td>0.809499</td>\n",
       "      <td>42.169100</td>\n",
       "      <td>119.709000</td>\n",
       "    </tr>\n",
       "    <tr>\n",
       "      <td>2</td>\n",
       "      <td>0.263500</td>\n",
       "      <td>0.290862</td>\n",
       "      <td>0.884905</td>\n",
       "      <td>0.812794</td>\n",
       "      <td>0.805305</td>\n",
       "      <td>0.821092</td>\n",
       "      <td>42.175400</td>\n",
       "      <td>119.691000</td>\n",
       "    </tr>\n",
       "    <tr>\n",
       "      <td>3</td>\n",
       "      <td>0.184000</td>\n",
       "      <td>0.355174</td>\n",
       "      <td>0.897781</td>\n",
       "      <td>0.824957</td>\n",
       "      <td>0.833927</td>\n",
       "      <td>0.816836</td>\n",
       "      <td>42.084300</td>\n",
       "      <td>119.950000</td>\n",
       "    </tr>\n",
       "    <tr>\n",
       "      <td>4</td>\n",
       "      <td>0.067300</td>\n",
       "      <td>0.420819</td>\n",
       "      <td>0.897583</td>\n",
       "      <td>0.807719</td>\n",
       "      <td>0.858290</td>\n",
       "      <td>0.775686</td>\n",
       "      <td>42.257200</td>\n",
       "      <td>119.459000</td>\n",
       "    </tr>\n",
       "    <tr>\n",
       "      <td>5</td>\n",
       "      <td>0.040400</td>\n",
       "      <td>0.551210</td>\n",
       "      <td>0.885103</td>\n",
       "      <td>0.820126</td>\n",
       "      <td>0.803115</td>\n",
       "      <td>0.842147</td>\n",
       "      <td>42.346300</td>\n",
       "      <td>119.208000</td>\n",
       "    </tr>\n",
       "    <tr>\n",
       "      <td>6</td>\n",
       "      <td>0.022500</td>\n",
       "      <td>0.602360</td>\n",
       "      <td>0.905903</td>\n",
       "      <td>0.831612</td>\n",
       "      <td>0.859694</td>\n",
       "      <td>0.810087</td>\n",
       "      <td>42.324200</td>\n",
       "      <td>119.270000</td>\n",
       "    </tr>\n",
       "    <tr>\n",
       "      <td>7</td>\n",
       "      <td>0.016100</td>\n",
       "      <td>0.711772</td>\n",
       "      <td>0.904319</td>\n",
       "      <td>0.829097</td>\n",
       "      <td>0.856080</td>\n",
       "      <td>0.808279</td>\n",
       "      <td>42.259000</td>\n",
       "      <td>119.454000</td>\n",
       "    </tr>\n",
       "    <tr>\n",
       "      <td>8</td>\n",
       "      <td>0.006000</td>\n",
       "      <td>0.739600</td>\n",
       "      <td>0.900357</td>\n",
       "      <td>0.832214</td>\n",
       "      <td>0.835231</td>\n",
       "      <td>0.829298</td>\n",
       "      <td>42.371600</td>\n",
       "      <td>119.137000</td>\n",
       "    </tr>\n",
       "    <tr>\n",
       "      <td>9</td>\n",
       "      <td>0.004200</td>\n",
       "      <td>0.786964</td>\n",
       "      <td>0.905309</td>\n",
       "      <td>0.833282</td>\n",
       "      <td>0.853959</td>\n",
       "      <td>0.816421</td>\n",
       "      <td>42.242400</td>\n",
       "      <td>119.501000</td>\n",
       "    </tr>\n",
       "    <tr>\n",
       "      <td>10</td>\n",
       "      <td>0.002100</td>\n",
       "      <td>0.797052</td>\n",
       "      <td>0.904120</td>\n",
       "      <td>0.832869</td>\n",
       "      <td>0.849196</td>\n",
       "      <td>0.819043</td>\n",
       "      <td>42.396900</td>\n",
       "      <td>119.065000</td>\n",
       "    </tr>\n",
       "  </tbody>\n",
       "</table><p>"
      ],
      "text/plain": [
       "<IPython.core.display.HTML object>"
      ]
     },
     "metadata": {},
     "output_type": "display_data"
    },
    {
     "ename": "NameError",
     "evalue": "name 'results' is not defined",
     "output_type": "error",
     "traceback": [
      "\u001b[0;31m---------------------------------------------------------------------------\u001b[0m",
      "\u001b[0;31mNameError\u001b[0m                                 Traceback (most recent call last)",
      "\u001b[0;32m<ipython-input-11-06666bbc5b7c>\u001b[0m in \u001b[0;36m<module>\u001b[0;34m\u001b[0m\n\u001b[1;32m     30\u001b[0m \u001b[0mtrainer\u001b[0m\u001b[0;34m.\u001b[0m\u001b[0mtrain\u001b[0m\u001b[0;34m(\u001b[0m\u001b[0;34m)\u001b[0m\u001b[0;34m\u001b[0m\u001b[0;34m\u001b[0m\u001b[0m\n\u001b[1;32m     31\u001b[0m \u001b[0;34m\u001b[0m\u001b[0m\n\u001b[0;32m---> 32\u001b[0;31m \u001b[0mf1_scores\u001b[0m \u001b[0;34m=\u001b[0m \u001b[0mtorch\u001b[0m\u001b[0;34m.\u001b[0m\u001b[0mTensor\u001b[0m\u001b[0;34m(\u001b[0m\u001b[0;34m[\u001b[0m\u001b[0mr\u001b[0m\u001b[0;34m[\u001b[0m\u001b[0;34m\"eval_f1\"\u001b[0m\u001b[0;34m]\u001b[0m \u001b[0;32mfor\u001b[0m \u001b[0mr\u001b[0m \u001b[0;32min\u001b[0m \u001b[0mresults\u001b[0m\u001b[0;34m]\u001b[0m\u001b[0;34m)\u001b[0m\u001b[0;34m\u001b[0m\u001b[0;34m\u001b[0m\u001b[0m\n\u001b[0m\u001b[1;32m     33\u001b[0m \u001b[0mprint\u001b[0m\u001b[0;34m(\u001b[0m\u001b[0;34mf\"Macro F1: {f1_scores.mean():.3f} +- {f1_scores.std():.3f}\"\u001b[0m\u001b[0;34m)\u001b[0m\u001b[0;34m\u001b[0m\u001b[0;34m\u001b[0m\u001b[0m\n",
      "\u001b[0;31mNameError\u001b[0m: name 'results' is not defined"
     ]
    }
   ],
   "source": [
    "from transformers import Trainer, TrainingArguments\n",
    "epochs = 10\n",
    "\n",
    "total_steps = (epochs * len(train_dataset)) // batch_size\n",
    "warmup_steps = total_steps // 10\n",
    "training_args = TrainingArguments(\n",
    "    output_dir='./results',\n",
    "    num_train_epochs=epochs,\n",
    "    per_device_train_batch_size=batch_size,\n",
    "    per_device_eval_batch_size=eval_batch_size,\n",
    "    warmup_steps=warmup_steps,\n",
    "    evaluation_strategy=\"epoch\",\n",
    "    do_eval=False,\n",
    "    weight_decay=0.01,\n",
    "    logging_dir='./logs',\n",
    "    group_by_length=True,\n",
    "    load_best_model_at_end=True,\n",
    "    metric_for_best_model=\"f1\",\n",
    ")\n",
    "\n",
    "\n",
    "trainer = Trainer(\n",
    "    model=model,\n",
    "    args=training_args,\n",
    "    compute_metrics=compute_metrics,\n",
    "    train_dataset=train_dataset,\n",
    "    eval_dataset=dev_dataset,\n",
    ")\n",
    "\n",
    "trainer.train()\n",
    "\n"
   ]
  },
  {
   "cell_type": "code",
   "execution_count": 12,
   "id": "neither-hollow",
   "metadata": {},
   "outputs": [
    {
     "data": {
      "text/html": [
       "\n",
       "    <div>\n",
       "        <style>\n",
       "            /* Turns off some styling */\n",
       "            progress {\n",
       "                /* gets rid of default border in Firefox and Opera. */\n",
       "                border: none;\n",
       "                /* Needs to be in here for Safari polyfill so background images work as expected. */\n",
       "                background-size: auto;\n",
       "            }\n",
       "        </style>\n",
       "      \n",
       "      <progress value='395' max='395' style='width:300px; height:20px; vertical-align: middle;'></progress>\n",
       "      [395/395 00:46]\n",
       "    </div>\n",
       "    "
      ],
      "text/plain": [
       "<IPython.core.display.HTML object>"
      ]
     },
     "metadata": {},
     "output_type": "display_data"
    },
    {
     "data": {
      "text/plain": [
       "{'eval_loss': 1.1021950244903564,\n",
       " 'eval_accuracy': 0.8716569077385662,\n",
       " 'eval_f1': 0.7624932074993378,\n",
       " 'eval_precision': 0.7993836464784296,\n",
       " 'eval_recall': 0.7383036675110788,\n",
       " 'eval_runtime': 46.9653,\n",
       " 'eval_samples_per_second': 134.546,\n",
       " 'epoch': 10.0}"
      ]
     },
     "execution_count": 12,
     "metadata": {},
     "output_type": "execute_result"
    }
   ],
   "source": [
    "trainer.evaluate(test_dataset)"
   ]
  },
  {
   "cell_type": "code",
   "execution_count": null,
   "id": "yellow-mainstream",
   "metadata": {},
   "outputs": [],
   "source": []
  }
 ],
 "metadata": {
  "kernelspec": {
   "display_name": "Python 3",
   "language": "python",
   "name": "python3"
  },
  "language_info": {
   "codemirror_mode": {
    "name": "ipython",
    "version": 3
   },
   "file_extension": ".py",
   "mimetype": "text/x-python",
   "name": "python",
   "nbconvert_exporter": "python",
   "pygments_lexer": "ipython3",
   "version": "3.8.5"
  }
 },
 "nbformat": 4,
 "nbformat_minor": 5
}
