{
 "cells": [
  {
   "cell_type": "markdown",
   "id": "recreational-guess",
   "metadata": {},
   "source": [
    "## Generate Dataset\n",
    "\n",
    "Check how to create a held out dataset"
   ]
  },
  {
   "cell_type": "code",
   "execution_count": 1,
   "id": "threatened-rough",
   "metadata": {},
   "outputs": [
    {
     "name": "stdout",
     "output_type": "stream",
     "text": [
      "We have 559 articles and 25995 comments\n"
     ]
    }
   ],
   "source": [
    "%load_ext autoreload\n",
    "%autoreload 2\n",
    "\n",
    "import json\n",
    "\n",
    "with open(\"../data/articles.json\") as f:\n",
    "    raw_articles = json.load(f)\n",
    "\n",
    "with open(\"../data/comments_not_anon.json\") as f:\n",
    "    raw_comments = json.load(f)\n",
    "    \n",
    "print(f\"We have {len(raw_articles)} articles and {len(raw_comments)} comments\")"
   ]
  },
  {
   "cell_type": "code",
   "execution_count": 2,
   "id": "quality-piano",
   "metadata": {},
   "outputs": [],
   "source": [
    "articles = {art['tweet_id']:art for art in raw_articles}\n",
    "\n",
    "for art in articles.values():\n",
    "    art[\"comments\"] = []\n"
   ]
  },
  {
   "cell_type": "code",
   "execution_count": 3,
   "id": "closed-welsh",
   "metadata": {},
   "outputs": [],
   "source": [
    "from collections import defaultdict\n",
    "\n",
    "counts = []\n",
    "\n",
    "categories = [\n",
    "    \"WOMEN\", \"LGBTI\", \"RACISM\", \"CLASS\",\n",
    "    \"POLITICS\", \"DISABLED\", \"APPEARANCE\", \"CRIMINAL\",\n",
    "]\n",
    "\n",
    "def process_comment(raw_comment):\n",
    "    \"\"\"\n",
    "    Process raw comment\n",
    "    \"\"\"\n",
    "    ret = {\n",
    "        \"text\": raw_comment[\"text\"],\n",
    "        \"is_hateful\": int(len(raw_comment['HATE']) >= 2)\n",
    "    }\n",
    "    for cat in categories + [\"calls\"]:\n",
    "        ret[cat] = 0\n",
    "    \n",
    "    if ret[\"is_hateful\"]:\n",
    "        ret[\"calls\"] = int(len(raw_comment['CALLS']) >= 2)\n",
    "        \n",
    "        for category in categories:\n",
    "            ret[category] = int(len(raw_comment[category]) > 0)\n",
    "    \n",
    "    return ret\n",
    "\n"
   ]
  },
  {
   "cell_type": "markdown",
   "id": "specific-turkey",
   "metadata": {},
   "source": [
    "## Process articles"
   ]
  },
  {
   "cell_type": "code",
   "execution_count": 4,
   "id": "conservative-prophet",
   "metadata": {},
   "outputs": [
    {
     "data": {
      "application/vnd.jupyter.widget-view+json": {
       "model_id": "4d1203ae79794e25b8ef7861838733ea",
       "version_major": 2,
       "version_minor": 0
      },
      "text/plain": [
       "  0%|          | 0/25995 [00:00<?, ?it/s]"
      ]
     },
     "metadata": {},
     "output_type": "display_data"
    }
   ],
   "source": [
    "from tqdm.auto import tqdm\n",
    "\n",
    "for comment in tqdm(raw_comments):\n",
    "    tweet_id = comment[\"article_id\"]\n",
    "    article = articles[tweet_id]\n",
    "    article[\"comments\"].append(\n",
    "        process_comment(comment)\n",
    "    )"
   ]
  },
  {
   "cell_type": "markdown",
   "id": "foster-pleasure",
   "metadata": {},
   "source": [
    "## Naive approach\n",
    "\n",
    "Random sample of articles"
   ]
  },
  {
   "cell_type": "code",
   "execution_count": 10,
   "id": "olive-vanilla",
   "metadata": {},
   "outputs": [
    {
     "data": {
      "text/plain": [
       "(447, 112)"
      ]
     },
     "execution_count": 10,
     "metadata": {},
     "output_type": "execute_result"
    }
   ],
   "source": [
    "from sklearn.model_selection import train_test_split\n",
    "\n",
    "train_articles, test_articles = train_test_split(articles, train_size=0.8, random_state=2021)\n",
    "\n",
    "\n",
    "len(train_articles), len(test_articles)"
   ]
  },
  {
   "cell_type": "code",
   "execution_count": 11,
   "id": "personalized-cornwall",
   "metadata": {},
   "outputs": [],
   "source": [
    "with open(\"../data/train.json\", \"w\") as f:\n",
    "    json.dump(train_articles, f)\n",
    "with open(\"../data/test.json\", \"w\") as f:\n",
    "    json.dump(test_articles, f)"
   ]
  }
 ],
 "metadata": {
  "kernelspec": {
   "display_name": "Python 3",
   "language": "python",
   "name": "python3"
  },
  "language_info": {
   "codemirror_mode": {
    "name": "ipython",
    "version": 3
   },
   "file_extension": ".py",
   "mimetype": "text/x-python",
   "name": "python",
   "nbconvert_exporter": "python",
   "pygments_lexer": "ipython3",
   "version": "3.8.5"
  }
 },
 "nbformat": 4,
 "nbformat_minor": 5
}
