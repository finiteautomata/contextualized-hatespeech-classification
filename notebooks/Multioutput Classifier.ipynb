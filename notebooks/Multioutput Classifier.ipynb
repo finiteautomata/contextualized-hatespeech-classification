{
 "cells": [
  {
   "cell_type": "markdown",
   "id": "major-queens",
   "metadata": {},
   "source": [
    "## Multioutput model\n",
    "\n",
    "Now, we need a model to detect the type of hate"
   ]
  },
  {
   "cell_type": "code",
   "execution_count": 1,
   "id": "vertical-fleet",
   "metadata": {},
   "outputs": [],
   "source": [
    "%load_ext autoreload\n",
    "%autoreload 2\n",
    "import json\n",
    "\n",
    "with open(\"../data/train.json\") as f:\n",
    "    train_articles = json.load(f)\n",
    "\n",
    "with open(\"../data/test.json\") as f:\n",
    "    test_articles = json.load(f)"
   ]
  },
  {
   "cell_type": "markdown",
   "id": "front-buddy",
   "metadata": {},
   "source": [
    "Let's take just the comments that are HATEFUL"
   ]
  },
  {
   "cell_type": "code",
   "execution_count": 2,
   "id": "distinct-helping",
   "metadata": {},
   "outputs": [
    {
     "name": "stdout",
     "output_type": "stream",
     "text": [
      "We have 5140 hateful comments in train\n",
      "We have 1285 hateful comments in dev\n",
      "We have 1676 hateful comments in test\n"
     ]
    }
   ],
   "source": [
    "from sklearn.model_selection import train_test_split\n",
    "import pandas as pd\n",
    "\n",
    "train_comments = [c for article in train_articles for c in article[\"comments\"] if c[\"is_hateful\"]]\n",
    "test_comments = [c for article in test_articles for c in article[\"comments\"] if c[\"is_hateful\"]]\n",
    "\n",
    "train_df = pd.DataFrame(train_comments)\n",
    "test_df = pd.DataFrame(test_comments)\n",
    "\n",
    "train_df, dev_df = train_test_split(train_df, test_size=0.2)\n",
    "\n",
    "print(f\"We have {len(train_df)} hateful comments in train\")\n",
    "print(f\"We have {len(dev_df)} hateful comments in dev\")\n",
    "print(f\"We have {len(test_df)} hateful comments in test\")"
   ]
  },
  {
   "cell_type": "code",
   "execution_count": 3,
   "id": "destroyed-synthetic",
   "metadata": {},
   "outputs": [
    {
     "data": {
      "text/plain": [
       "calls         0.036945\n",
       "WOMEN        -0.047260\n",
       "LGBTI        -0.021873\n",
       "RACISM        0.040700\n",
       "CLASS        -0.017619\n",
       "POLITICS     -0.021994\n",
       "DISABLED     -0.010198\n",
       "APPEARANCE   -0.014577\n",
       "CRIMINAL      0.077541\n",
       "dtype: float64"
      ]
     },
     "execution_count": 3,
     "metadata": {},
     "output_type": "execute_result"
    }
   ],
   "source": [
    "categories = [\n",
    "    \"calls\",\n",
    "    \"WOMEN\",\n",
    "    \"LGBTI\",\n",
    "    \"RACISM\",\n",
    "    \"CLASS\",\n",
    "    \"POLITICS\",\n",
    "    \"DISABLED\",\n",
    "    \"APPEARANCE\",\n",
    "    \"CRIMINAL\",\n",
    "]\n",
    "\n",
    "train_df[categories].mean() - test_df[categories].mean()"
   ]
  },
  {
   "cell_type": "markdown",
   "id": "charming-function",
   "metadata": {},
   "source": [
    "It is slightly unbalanced!"
   ]
  },
  {
   "cell_type": "code",
   "execution_count": 4,
   "id": "tracked-object",
   "metadata": {},
   "outputs": [],
   "source": [
    "from hatedetection.preprocessing import preprocess_tweet\n",
    "\n",
    "train_df[\"text\"] = train_df[\"text\"].apply(preprocess_tweet)\n",
    "dev_df[\"text\"] = dev_df[\"text\"].apply(preprocess_tweet)\n",
    "test_df[\"text\"] = test_df[\"text\"].apply(preprocess_tweet)\n"
   ]
  },
  {
   "cell_type": "markdown",
   "id": "constitutional-green",
   "metadata": {},
   "source": [
    "## Binary Cross Entropy Loss\n",
    "\n",
    "Si tenemos nuestras categorías en $C$, queremos hacer un \"multi-tasking\" usando una loss que sea \n",
    "\n",
    "$$\n",
    "J(y, \\hat{y}) = \\frac{1}{|C|}\\sum\\limits_{c \\in C} J_c(y, \\hat{y})\n",
    "$$\n",
    "\n",
    "O sea, para cada instancia, la función de pérdida va a ser el promedio de las pérdidas para `MUJER`, `RACISMO`, etc..."
   ]
  },
  {
   "cell_type": "code",
   "execution_count": 5,
   "id": "aerial-matter",
   "metadata": {},
   "outputs": [
    {
     "data": {
      "text/plain": [
       "tensor(0.7450)"
      ]
     },
     "execution_count": 5,
     "metadata": {},
     "output_type": "execute_result"
    }
   ],
   "source": [
    "import torch\n",
    "from torch.nn import BCEWithLogitsLoss\n",
    "from torch.nn.functional import binary_cross_entropy_with_logits\n",
    "\n",
    "\n",
    "\"\"\"\n",
    "Supongamos que tenemos un batch de 32 \n",
    "Por cada uno\n",
    "\"\"\"\n",
    "\n",
    "logits = torch.randn(32, 8)\n",
    "labels = torch.Tensor([[1, 1, 1, 1, 0, 0, 0, 0] for _ in range(32)])\n",
    "\n",
    "\n",
    "loss_fct = BCEWithLogitsLoss()\n",
    "loss_fct(logits, labels)\n"
   ]
  },
  {
   "cell_type": "code",
   "execution_count": 6,
   "id": "forty-corporation",
   "metadata": {},
   "outputs": [
    {
     "data": {
      "text/plain": [
       "tensor(7.1403e-05)"
      ]
     },
     "execution_count": 6,
     "metadata": {},
     "output_type": "execute_result"
    }
   ],
   "source": [
    "logits = torch.Tensor([[-10, -9, -10]])\n",
    "target = torch.zeros(1, 3)\n",
    "\n",
    "loss_fct(\n",
    "    logits,\n",
    "    target,\n",
    ")"
   ]
  },
  {
   "cell_type": "markdown",
   "id": "instant-survey",
   "metadata": {},
   "source": [
    "¿Está haciendo lo esperado esto? Veamos...\n",
    "\n",
    "Cross entropy es \n",
    "\n",
    "$- [y \\log \\hat{y} + (1-y) \\log (1-\\hat{y}) ]$"
   ]
  },
  {
   "cell_type": "code",
   "execution_count": 7,
   "id": "embedded-shakespeare",
   "metadata": {},
   "outputs": [
    {
     "name": "stderr",
     "output_type": "stream",
     "text": [
      "/home/jmperez/.local/share/virtualenvs/hatespeech-classification-n4GdOxTz/lib/python3.8/site-packages/torch/nn/functional.py:1639: UserWarning: nn.functional.sigmoid is deprecated. Use torch.sigmoid instead.\n",
      "  warnings.warn(\"nn.functional.sigmoid is deprecated. Use torch.sigmoid instead.\")\n"
     ]
    },
    {
     "data": {
      "text/plain": [
       "tensor(7.1410e-05)"
      ]
     },
     "execution_count": 7,
     "metadata": {},
     "output_type": "execute_result"
    }
   ],
   "source": [
    "from torch.nn.functional import sigmoid\n",
    "\n",
    "pred = sigmoid(logits)\n",
    "\n",
    "losses = -(target * torch.log(pred) + (1 - target) * torch.log(1-pred))\n",
    "\n",
    "losses.mean()"
   ]
  },
  {
   "cell_type": "markdown",
   "id": "becoming-specification",
   "metadata": {},
   "source": [
    "Espectacular!!! \n",
    "\n",
    "Qué pasa con el weight?"
   ]
  },
  {
   "cell_type": "code",
   "execution_count": 8,
   "id": "weekly-terrorism",
   "metadata": {},
   "outputs": [
    {
     "data": {
      "text/plain": [
       "(tensor(5.3217e-05), tensor(7.1526e-05))"
      ]
     },
     "execution_count": 8,
     "metadata": {},
     "output_type": "execute_result"
    }
   ],
   "source": [
    "from torch.nn.functional import sigmoid\n",
    "\n",
    "pred = sigmoid(logits)\n",
    "\n",
    "weights = torch.Tensor([0.5, 0.1, 0.4])\n",
    "\n",
    "losses = -(target * torch.log(pred) + (1 - target) * torch.log(1-pred))\n",
    "\n",
    "loss_fct = BCEWithLogitsLoss(pos_weight=weights)\n",
    "\n",
    "(losses * weights).sum(), loss_fct(logits, target)"
   ]
  },
  {
   "cell_type": "markdown",
   "id": "educated-consent",
   "metadata": {},
   "source": [
    "\n",
    "\n",
    "Hummm...no me queda claro **CHEQUEAR ESTO**"
   ]
  },
  {
   "cell_type": "markdown",
   "id": "bottom-latter",
   "metadata": {},
   "source": [
    "## Clasificación\n",
    "\n",
    "Usamos nuestro modelo `hatedetection.BertForSequenceMultiClassification`. Es una leve modificación del clasificador de `transformers`"
   ]
  },
  {
   "cell_type": "code",
   "execution_count": 9,
   "id": "dangerous-shareware",
   "metadata": {},
   "outputs": [
    {
     "name": "stderr",
     "output_type": "stream",
     "text": [
      "Some weights of the model checkpoint at dccuchile/bert-base-spanish-wwm-cased were not used when initializing BertForSequenceMultiClassification: ['cls.predictions.bias', 'cls.predictions.transform.dense.weight', 'cls.predictions.transform.dense.bias', 'cls.predictions.transform.LayerNorm.weight', 'cls.predictions.transform.LayerNorm.bias', 'cls.predictions.decoder.weight']\n",
      "- This IS expected if you are initializing BertForSequenceMultiClassification from the checkpoint of a model trained on another task or with another architecture (e.g. initializing a BertForSequenceClassification model from a BertForPreTraining model).\n",
      "- This IS NOT expected if you are initializing BertForSequenceMultiClassification from the checkpoint of a model that you expect to be exactly identical (initializing a BertForSequenceClassification model from a BertForSequenceClassification model).\n",
      "Some weights of BertForSequenceMultiClassification were not initialized from the model checkpoint at dccuchile/bert-base-spanish-wwm-cased and are newly initialized: ['classifier.weight', 'classifier.bias']\n",
      "You should probably TRAIN this model on a down-stream task to be able to use it for predictions and inference.\n"
     ]
    }
   ],
   "source": [
    "from transformers import AutoTokenizer\n",
    "from hatedetection import BertForSequenceMultiClassification\n",
    "\n",
    "model_name = 'dccuchile/bert-base-spanish-wwm-cased'\n",
    "\n",
    "device = \"cuda\" if torch.cuda.is_available() else \"cpu\"\n",
    "\n",
    "id2label = {0: 'Not hateful', 1: 'Hateful'}\n",
    "label2id = {v:k for k,v in id2label.items()}\n",
    "\n",
    "model = BertForSequenceMultiClassification.from_pretrained(model_name, return_dict=True, num_labels=len(categories))\n",
    "\n",
    "model.config.id2label = id2label\n",
    "model.config.label2id = label2id\n",
    "\n",
    "model = model.to(device)\n",
    "model.train();\n",
    "\n",
    "\n",
    "\n",
    "tokenizer = AutoTokenizer.from_pretrained(model_name)\n",
    "tokenizer.model_max_length = 128"
   ]
  },
  {
   "cell_type": "code",
   "execution_count": 10,
   "id": "meaningful-traveler",
   "metadata": {},
   "outputs": [],
   "source": [
    "from datasets import Dataset, Value, ClassLabel, Features\n",
    "\n",
    "#examples = pd.concat([train_df, dev_df])\n",
    "\n",
    "features = Features({\n",
    "    'text': Value('string'),\n",
    "})\n",
    "\n",
    "for cat in categories:\n",
    "    features[cat] = ClassLabel(num_classes=2, names=[\"NO\", \"YES\"])\n",
    "\n",
    "columns = [\"text\"] + categories\n",
    "train_dataset = Dataset.from_pandas(train_df[columns], features=features)\n",
    "dev_dataset = Dataset.from_pandas(dev_df[columns], features=features)\n",
    "test_dataset = Dataset.from_pandas(test_df[columns], features=features)\n"
   ]
  },
  {
   "cell_type": "code",
   "execution_count": 11,
   "id": "latin-colombia",
   "metadata": {},
   "outputs": [
    {
     "data": {
      "application/vnd.jupyter.widget-view+json": {
       "model_id": "85dbb1875915428397aa0d1c0b336346",
       "version_major": 2,
       "version_minor": 0
      },
      "text/plain": [
       "HBox(children=(FloatProgress(value=0.0, max=161.0), HTML(value='')))"
      ]
     },
     "metadata": {},
     "output_type": "display_data"
    },
    {
     "name": "stdout",
     "output_type": "stream",
     "text": [
      "\n"
     ]
    },
    {
     "data": {
      "application/vnd.jupyter.widget-view+json": {
       "model_id": "3756cb7f9efc40a6b7a48fb95cfcc542",
       "version_major": 2,
       "version_minor": 0
      },
      "text/plain": [
       "HBox(children=(FloatProgress(value=0.0, max=81.0), HTML(value='')))"
      ]
     },
     "metadata": {},
     "output_type": "display_data"
    },
    {
     "name": "stdout",
     "output_type": "stream",
     "text": [
      "\n"
     ]
    },
    {
     "data": {
      "application/vnd.jupyter.widget-view+json": {
       "model_id": "859c014baedc46ec8c35a99446a1a26a",
       "version_major": 2,
       "version_minor": 0
      },
      "text/plain": [
       "HBox(children=(FloatProgress(value=0.0, max=105.0), HTML(value='')))"
      ]
     },
     "metadata": {},
     "output_type": "display_data"
    },
    {
     "name": "stdout",
     "output_type": "stream",
     "text": [
      "\n"
     ]
    }
   ],
   "source": [
    "def tokenize(batch):\n",
    "    return tokenizer(batch['text'], padding='max_length', truncation=True)\n",
    "\n",
    "batch_size = 32\n",
    "eval_batch_size = 16\n",
    "\n",
    "train_dataset = train_dataset.map(tokenize, batched=True, batch_size=batch_size)\n",
    "dev_dataset = dev_dataset.map(tokenize, batched=True, batch_size=eval_batch_size)\n",
    "test_dataset = test_dataset.map(tokenize, batched=True, batch_size=eval_batch_size)\n",
    "\n"
   ]
  },
  {
   "cell_type": "code",
   "execution_count": 12,
   "id": "vertical-processor",
   "metadata": {},
   "outputs": [
    {
     "data": {
      "application/vnd.jupyter.widget-view+json": {
       "model_id": "e7e1ac78dcef4837bc5d62cc6ce7e484",
       "version_major": 2,
       "version_minor": 0
      },
      "text/plain": [
       "HBox(children=(FloatProgress(value=0.0, max=5140.0), HTML(value='')))"
      ]
     },
     "metadata": {},
     "output_type": "display_data"
    },
    {
     "name": "stdout",
     "output_type": "stream",
     "text": [
      "\n"
     ]
    },
    {
     "data": {
      "application/vnd.jupyter.widget-view+json": {
       "model_id": "36420ed2ae6f421195de821a8a9f74ae",
       "version_major": 2,
       "version_minor": 0
      },
      "text/plain": [
       "HBox(children=(FloatProgress(value=0.0, max=1285.0), HTML(value='')))"
      ]
     },
     "metadata": {},
     "output_type": "display_data"
    },
    {
     "name": "stdout",
     "output_type": "stream",
     "text": [
      "\n"
     ]
    },
    {
     "data": {
      "application/vnd.jupyter.widget-view+json": {
       "model_id": "4b54e3c2bc2e4678a9be5ea10240ad93",
       "version_major": 2,
       "version_minor": 0
      },
      "text/plain": [
       "HBox(children=(FloatProgress(value=0.0, max=1676.0), HTML(value='')))"
      ]
     },
     "metadata": {},
     "output_type": "display_data"
    },
    {
     "name": "stdout",
     "output_type": "stream",
     "text": [
      "\n"
     ]
    }
   ],
   "source": [
    "def format_dataset(dataset):\n",
    "    def sarasa(examples):\n",
    "        return {'labels': torch.Tensor([examples[cat] for cat in categories])}\n",
    "    dataset = dataset.map(sarasa)\n",
    "    dataset.set_format(type='torch', columns=['input_ids', 'token_type_ids', 'attention_mask', 'labels'])\n",
    "    return dataset\n",
    "\n",
    "train_dataset = format_dataset(train_dataset)\n",
    "dev_dataset = format_dataset(dev_dataset)\n",
    "test_dataset = format_dataset(test_dataset)"
   ]
  },
  {
   "cell_type": "markdown",
   "id": "mysterious-bubble",
   "metadata": {},
   "source": [
    "Esta API de mierda vive cambiando todo el tiempo"
   ]
  },
  {
   "cell_type": "code",
   "execution_count": 13,
   "id": "horizontal-thumbnail",
   "metadata": {},
   "outputs": [],
   "source": [
    "from sklearn.metrics import precision_recall_fscore_support, accuracy_score\n",
    "\n",
    "def compute_metrics(pred):\n",
    "    \"\"\"\n",
    "    Compute metrics for Trainer\n",
    "    \"\"\"\n",
    "   \n",
    "    \n",
    "    \n",
    "    labels = pred.label_ids\n",
    "    preds = torch.sigmoid(torch.Tensor(pred.predictions)).round()\n",
    "\n",
    "    ret = {\n",
    "    }\n",
    "    \"\"\"\n",
    "    Calculo F1 por cada posición. Asumo que cada categoría está alineada correctamente en la i-ésima posición\n",
    "    \"\"\"\n",
    "    f1s = []\n",
    "    for i, cat in enumerate(categories):\n",
    "        cat_labels, cat_preds = labels[:, i], preds[:, i]\n",
    "        precision, recall, f1, _ = precision_recall_fscore_support(cat_labels, cat_preds, average='macro')\n",
    "        \n",
    "        f1s.append(f1)\n",
    "        \n",
    "        ret[cat+\" F1\"] = f1\n",
    "        \n",
    "    ret[\"Mean F1\"] = torch.Tensor(f1s).mean()\n",
    "    return ret"
   ]
  },
  {
   "cell_type": "code",
   "execution_count": 14,
   "id": "applicable-understanding",
   "metadata": {},
   "outputs": [
    {
     "data": {
      "text/html": [
       "\n",
       "    <div>\n",
       "        <style>\n",
       "            /* Turns off some styling */\n",
       "            progress {\n",
       "                /* gets rid of default border in Firefox and Opera. */\n",
       "                border: none;\n",
       "                /* Needs to be in here for Safari polyfill so background images work as expected. */\n",
       "                background-size: auto;\n",
       "            }\n",
       "        </style>\n",
       "      \n",
       "      <progress value='805' max='805' style='width:300px; height:20px; vertical-align: middle;'></progress>\n",
       "      [805/805 08:25, Epoch 5/5]\n",
       "    </div>\n",
       "    <table border=\"1\" class=\"dataframe\">\n",
       "  <thead>\n",
       "    <tr style=\"text-align: left;\">\n",
       "      <th>Epoch</th>\n",
       "      <th>Training Loss</th>\n",
       "      <th>Validation Loss</th>\n",
       "      <th>Calls f1</th>\n",
       "      <th>Women f1</th>\n",
       "      <th>Lgbti f1</th>\n",
       "      <th>Racism f1</th>\n",
       "      <th>Class f1</th>\n",
       "      <th>Politics f1</th>\n",
       "      <th>Disabled f1</th>\n",
       "      <th>Appearance f1</th>\n",
       "      <th>Criminal f1</th>\n",
       "      <th>Mean f1</th>\n",
       "      <th>Runtime</th>\n",
       "      <th>Samples Per Second</th>\n",
       "    </tr>\n",
       "  </thead>\n",
       "  <tbody>\n",
       "    <tr>\n",
       "      <td>1</td>\n",
       "      <td>No log</td>\n",
       "      <td>0.247293</td>\n",
       "      <td>0.824837</td>\n",
       "      <td>0.709522</td>\n",
       "      <td>0.669156</td>\n",
       "      <td>0.894917</td>\n",
       "      <td>0.650340</td>\n",
       "      <td>0.788101</td>\n",
       "      <td>0.569254</td>\n",
       "      <td>0.872706</td>\n",
       "      <td>0.836701</td>\n",
       "      <td>0.757282</td>\n",
       "      <td>5.275600</td>\n",
       "      <td>243.572000</td>\n",
       "    </tr>\n",
       "    <tr>\n",
       "      <td>2</td>\n",
       "      <td>No log</td>\n",
       "      <td>0.193201</td>\n",
       "      <td>0.823014</td>\n",
       "      <td>0.813078</td>\n",
       "      <td>0.754359</td>\n",
       "      <td>0.910956</td>\n",
       "      <td>0.797217</td>\n",
       "      <td>0.844851</td>\n",
       "      <td>0.794621</td>\n",
       "      <td>0.903271</td>\n",
       "      <td>0.873970</td>\n",
       "      <td>0.835037</td>\n",
       "      <td>5.355500</td>\n",
       "      <td>239.939000</td>\n",
       "    </tr>\n",
       "    <tr>\n",
       "      <td>3</td>\n",
       "      <td>No log</td>\n",
       "      <td>0.183866</td>\n",
       "      <td>0.848037</td>\n",
       "      <td>0.821601</td>\n",
       "      <td>0.798580</td>\n",
       "      <td>0.920349</td>\n",
       "      <td>0.804524</td>\n",
       "      <td>0.847298</td>\n",
       "      <td>0.864021</td>\n",
       "      <td>0.904878</td>\n",
       "      <td>0.862286</td>\n",
       "      <td>0.852397</td>\n",
       "      <td>5.358500</td>\n",
       "      <td>239.807000</td>\n",
       "    </tr>\n",
       "    <tr>\n",
       "      <td>4</td>\n",
       "      <td>0.236600</td>\n",
       "      <td>0.183888</td>\n",
       "      <td>0.853212</td>\n",
       "      <td>0.820883</td>\n",
       "      <td>0.802736</td>\n",
       "      <td>0.922187</td>\n",
       "      <td>0.840342</td>\n",
       "      <td>0.840796</td>\n",
       "      <td>0.849010</td>\n",
       "      <td>0.909721</td>\n",
       "      <td>0.867442</td>\n",
       "      <td>0.856259</td>\n",
       "      <td>5.252500</td>\n",
       "      <td>244.646000</td>\n",
       "    </tr>\n",
       "    <tr>\n",
       "      <td>5</td>\n",
       "      <td>0.236600</td>\n",
       "      <td>0.182855</td>\n",
       "      <td>0.857016</td>\n",
       "      <td>0.821241</td>\n",
       "      <td>0.812675</td>\n",
       "      <td>0.925905</td>\n",
       "      <td>0.817732</td>\n",
       "      <td>0.847217</td>\n",
       "      <td>0.864239</td>\n",
       "      <td>0.912296</td>\n",
       "      <td>0.867442</td>\n",
       "      <td>0.858418</td>\n",
       "      <td>5.336600</td>\n",
       "      <td>240.789000</td>\n",
       "    </tr>\n",
       "  </tbody>\n",
       "</table><p>"
      ],
      "text/plain": [
       "<IPython.core.display.HTML object>"
      ]
     },
     "metadata": {},
     "output_type": "display_data"
    },
    {
     "data": {
      "text/plain": [
       "TrainOutput(global_step=805, training_loss=0.178641398649038, metrics={'train_runtime': 506.1865, 'train_samples_per_second': 1.59, 'total_flos': 2168329333017600.0, 'epoch': 5.0, 'init_mem_cpu_alloc_delta': 55269, 'init_mem_gpu_alloc_delta': 0, 'init_mem_cpu_peaked_delta': 18258, 'init_mem_gpu_peaked_delta': 0, 'train_mem_cpu_alloc_delta': 593768, 'train_mem_gpu_alloc_delta': 1381010944, 'train_mem_cpu_peaked_delta': 191444750, 'train_mem_gpu_peaked_delta': 3558643712})"
      ]
     },
     "execution_count": 14,
     "metadata": {},
     "output_type": "execute_result"
    }
   ],
   "source": [
    "from transformers import Trainer, TrainingArguments\n",
    "epochs = 5\n",
    "\n",
    "total_steps = (epochs * len(train_dataset)) // batch_size\n",
    "warmup_steps = total_steps // 10\n",
    "\n",
    "training_args = TrainingArguments(\n",
    "    output_dir='./results',\n",
    "    num_train_epochs=epochs,\n",
    "    per_device_train_batch_size=batch_size,\n",
    "    per_device_eval_batch_size=eval_batch_size,\n",
    "    warmup_steps=warmup_steps,\n",
    "    evaluation_strategy=\"epoch\",\n",
    "    do_eval=False,\n",
    "    weight_decay=0.01,\n",
    "    logging_dir='./logs',\n",
    ")\n",
    "\n",
    "results = []\n",
    "\n",
    "trainer = Trainer(\n",
    "    model=model,\n",
    "    args=training_args,\n",
    "    compute_metrics=compute_metrics,\n",
    "    train_dataset=train_dataset,\n",
    "    eval_dataset=dev_dataset,\n",
    ")\n",
    "\n",
    "trainer.train()\n"
   ]
  },
  {
   "cell_type": "code",
   "execution_count": 62,
   "id": "fuzzy-piece",
   "metadata": {},
   "outputs": [],
   "source": [
    "def predict(sentence, context=None):\n",
    "    sentence = preprocess_tweet(sentence)\n",
    "    idx = torch.LongTensor(tokenizer.encode(sentence)).view(1, -1).to(device)\n",
    "    \n",
    "    output = model(idx)\n",
    "\n",
    "    output = output.logits.detach().cpu().numpy()[0]\n",
    "\n",
    "    ret = [cat for cat, out in list(zip(categories, output > 0)) if out]\n",
    "\n",
    "    return ret"
   ]
  },
  {
   "cell_type": "code",
   "execution_count": 63,
   "id": "continental-button",
   "metadata": {},
   "outputs": [
    {
     "data": {
      "text/plain": [
       "['RACISM']"
      ]
     },
     "execution_count": 63,
     "metadata": {},
     "output_type": "execute_result"
    }
   ],
   "source": [
    "predict(\"Negro chorro de mierda\")"
   ]
  },
  {
   "cell_type": "code",
   "execution_count": 64,
   "id": "discrete-priest",
   "metadata": {},
   "outputs": [
    {
     "data": {
      "text/plain": [
       "['WOMEN']"
      ]
     },
     "execution_count": 64,
     "metadata": {},
     "output_type": "execute_result"
    }
   ],
   "source": [
    "predict(\"Quiere bijaaa\")"
   ]
  },
  {
   "cell_type": "code",
   "execution_count": 65,
   "id": "ultimate-hunger",
   "metadata": {},
   "outputs": [
    {
     "data": {
      "text/plain": [
       "['LGBTI']"
      ]
     },
     "execution_count": 65,
     "metadata": {},
     "output_type": "execute_result"
    }
   ],
   "source": [
    "predict(\"Le falta verga\")"
   ]
  },
  {
   "cell_type": "code",
   "execution_count": 66,
   "id": "animal-cinema",
   "metadata": {},
   "outputs": [
    {
     "data": {
      "text/plain": [
       "['LGBTI']"
      ]
     },
     "execution_count": 66,
     "metadata": {},
     "output_type": "execute_result"
    }
   ],
   "source": [
    "predict(\"Trolazo\")"
   ]
  },
  {
   "cell_type": "code",
   "execution_count": 67,
   "id": "remarkable-fleet",
   "metadata": {},
   "outputs": [
    {
     "data": {
      "text/plain": [
       "['LGBTI']"
      ]
     },
     "execution_count": 67,
     "metadata": {},
     "output_type": "execute_result"
    }
   ],
   "source": [
    "predict(\"Te llamás Raúl querido\")"
   ]
  },
  {
   "cell_type": "code",
   "execution_count": 68,
   "id": "related-death",
   "metadata": {},
   "outputs": [
    {
     "data": {
      "text/plain": [
       "['LGBTI', 'APPEARANCE']"
      ]
     },
     "execution_count": 68,
     "metadata": {},
     "output_type": "execute_result"
    }
   ],
   "source": [
    "predict(\"No seas trolo viejo\")"
   ]
  },
  {
   "cell_type": "code",
   "execution_count": 69,
   "id": "brave-february",
   "metadata": {},
   "outputs": [
    {
     "data": {
      "text/plain": [
       "['WOMEN']"
      ]
     },
     "execution_count": 69,
     "metadata": {},
     "output_type": "execute_result"
    }
   ],
   "source": [
    "predict(\"A esta trola hay que agarrarla de a varios para que sepa lo que es bueno\")"
   ]
  },
  {
   "cell_type": "markdown",
   "id": "laughing-palestinian",
   "metadata": {},
   "source": [
    "Acá no encuentra el llamado a la acción...ahora, si lo cambiamos ligeramente..."
   ]
  },
  {
   "cell_type": "code",
   "execution_count": 70,
   "id": "gentle-break",
   "metadata": {},
   "outputs": [
    {
     "data": {
      "text/plain": [
       "['calls', 'RACISM']"
      ]
     },
     "execution_count": 70,
     "metadata": {},
     "output_type": "execute_result"
    }
   ],
   "source": [
    "predict(\"A esta negra de mierda hay que agarrarla de a varios para que sepa lo que es bueno\")"
   ]
  },
  {
   "cell_type": "code",
   "execution_count": 71,
   "id": "collected-arthritis",
   "metadata": {},
   "outputs": [
    {
     "data": {
      "text/plain": [
       "['calls']"
      ]
     },
     "execution_count": 71,
     "metadata": {},
     "output_type": "execute_result"
    }
   ],
   "source": [
    "predict(\"Hay que encerrar a todos estos homosexuales de mierda\")"
   ]
  },
  {
   "cell_type": "code",
   "execution_count": 72,
   "id": "greek-execution",
   "metadata": {},
   "outputs": [
    {
     "data": {
      "text/plain": [
       "['LGBTI']"
      ]
     },
     "execution_count": 72,
     "metadata": {},
     "output_type": "execute_result"
    }
   ],
   "source": [
    "predict(\"Qué asco de homosexuales\")"
   ]
  },
  {
   "cell_type": "code",
   "execution_count": 73,
   "id": "phantom-privacy",
   "metadata": {},
   "outputs": [
    {
     "data": {
      "text/plain": [
       "['calls', 'CRIMINAL']"
      ]
     },
     "execution_count": 73,
     "metadata": {},
     "output_type": "execute_result"
    }
   ],
   "source": [
    "predict(\"Qué asco de homosexuales, mátenlos\")"
   ]
  },
  {
   "cell_type": "markdown",
   "id": "affecting-round",
   "metadata": {},
   "source": [
    "Parece que correlaciona todo llamado a la acción a los criminales"
   ]
  },
  {
   "cell_type": "code",
   "execution_count": 74,
   "id": "tender-housing",
   "metadata": {},
   "outputs": [
    {
     "data": {
      "text/plain": [
       "['calls', 'RACISM', 'CLASS']"
      ]
     },
     "execution_count": 74,
     "metadata": {},
     "output_type": "execute_result"
    }
   ],
   "source": [
    "predict(\"Negros chorros de mierda, cuarenta ladrillos y arreglamos esto\")"
   ]
  },
  {
   "cell_type": "code",
   "execution_count": 75,
   "id": "periodic-essex",
   "metadata": {},
   "outputs": [
    {
     "data": {
      "text/plain": [
       "['calls', 'RACISM', 'CRIMINAL']"
      ]
     },
     "execution_count": 75,
     "metadata": {},
     "output_type": "execute_result"
    }
   ],
   "source": [
    "predict(\"negras al paredón!\")"
   ]
  },
  {
   "cell_type": "code",
   "execution_count": 76,
   "id": "caring-agency",
   "metadata": {},
   "outputs": [
    {
     "data": {
      "text/plain": [
       "['RACISM']"
      ]
     },
     "execution_count": 76,
     "metadata": {},
     "output_type": "execute_result"
    }
   ],
   "source": [
    "predict(\"No queremos rojitos acá\")"
   ]
  },
  {
   "cell_type": "code",
   "execution_count": 77,
   "id": "western-evaluation",
   "metadata": {},
   "outputs": [
    {
     "data": {
      "text/plain": [
       "['CLASS']"
      ]
     },
     "execution_count": 77,
     "metadata": {},
     "output_type": "execute_result"
    }
   ],
   "source": [
    "predict(\"No les gusta laburar eh\")"
   ]
  },
  {
   "cell_type": "code",
   "execution_count": 78,
   "id": "retained-penny",
   "metadata": {},
   "outputs": [
    {
     "data": {
      "text/plain": [
       "[]"
      ]
     },
     "execution_count": 78,
     "metadata": {},
     "output_type": "execute_result"
    }
   ],
   "source": [
    "predict(\"Agarrá la pala!\")"
   ]
  },
  {
   "cell_type": "code",
   "execution_count": 79,
   "id": "stuffed-pharmacology",
   "metadata": {},
   "outputs": [
    {
     "data": {
      "text/plain": [
       "['CLASS']"
      ]
     },
     "execution_count": 79,
     "metadata": {},
     "output_type": "execute_result"
    }
   ],
   "source": [
    "predict(\"Agarrá la pala, vago!\")"
   ]
  },
  {
   "cell_type": "code",
   "execution_count": 80,
   "id": "adopted-surge",
   "metadata": {},
   "outputs": [
    {
     "data": {
      "text/plain": [
       "['CLASS']"
      ]
     },
     "execution_count": 80,
     "metadata": {},
     "output_type": "execute_result"
    }
   ],
   "source": [
    "predict(\"Menos ganas de laborar eh\")"
   ]
  },
  {
   "cell_type": "code",
   "execution_count": 81,
   "id": "lonely-singing",
   "metadata": {},
   "outputs": [
    {
     "data": {
      "text/plain": [
       "['CLASS']"
      ]
     },
     "execution_count": 81,
     "metadata": {},
     "output_type": "execute_result"
    }
   ],
   "source": [
    "predict(\"Viven del Estado, esta gente sinceramente no tiene remedio\")"
   ]
  },
  {
   "cell_type": "code",
   "execution_count": 82,
   "id": "clear-copying",
   "metadata": {},
   "outputs": [
    {
     "data": {
      "text/plain": [
       "['LGBTI']"
      ]
     },
     "execution_count": 82,
     "metadata": {},
     "output_type": "execute_result"
    }
   ],
   "source": [
    "predict(\"Tenés dos pelotas entre las piernas amigazo\")"
   ]
  },
  {
   "cell_type": "code",
   "execution_count": 83,
   "id": "fundamental-cedar",
   "metadata": {},
   "outputs": [
    {
     "data": {
      "text/plain": [
       "['CLASS']"
      ]
     },
     "execution_count": 83,
     "metadata": {},
     "output_type": "execute_result"
    }
   ],
   "source": [
    "predict(\"jajajajaj pero ni por puta casualidad laburar, no?\")"
   ]
  },
  {
   "cell_type": "code",
   "execution_count": 84,
   "id": "theoretical-transport",
   "metadata": {},
   "outputs": [
    {
     "data": {
      "text/plain": [
       "['CRIMINAL']"
      ]
     },
     "execution_count": 84,
     "metadata": {},
     "output_type": "execute_result"
    }
   ],
   "source": [
    "predict(\"más topu imposible\")"
   ]
  },
  {
   "cell_type": "code",
   "execution_count": 90,
   "id": "legendary-disorder",
   "metadata": {},
   "outputs": [
    {
     "data": {
      "text/plain": [
       "['calls', 'RACISM']"
      ]
     },
     "execution_count": 90,
     "metadata": {},
     "output_type": "execute_result"
    }
   ],
   "source": [
    "predict(\"hay que mandarlos a un campo de concentración a estos musulmanes\")"
   ]
  },
  {
   "cell_type": "code",
   "execution_count": null,
   "id": "latter-briefs",
   "metadata": {},
   "outputs": [],
   "source": []
  }
 ],
 "metadata": {
  "kernelspec": {
   "display_name": "Python 3",
   "language": "python",
   "name": "python3"
  },
  "language_info": {
   "codemirror_mode": {
    "name": "ipython",
    "version": 3
   },
   "file_extension": ".py",
   "mimetype": "text/x-python",
   "name": "python",
   "nbconvert_exporter": "python",
   "pygments_lexer": "ipython3",
   "version": "3.8.5"
  }
 },
 "nbformat": 4,
 "nbformat_minor": 5
}
