{
 "cells": [
  {
   "cell_type": "markdown",
   "id": "clear-ground",
   "metadata": {},
   "source": [
    "## Results 1 - Hate Speech Detection\n",
    "\n",
    "Let's check where the context really helps"
   ]
  },
  {
   "cell_type": "code",
   "execution_count": 1,
   "id": "congressional-external",
   "metadata": {},
   "outputs": [
    {
     "name": "stdout",
     "output_type": "stream",
     "text": [
      "We have 15 title and body context evaluations\n",
      "We have 15 title context evaluations\n",
      "We have 15 no evaluations\n"
     ]
    }
   ],
   "source": [
    "%load_ext autoreload\n",
    "%autoreload 2\n",
    "\n",
    "from hatedetection import load_datasets\n",
    "import glob\n",
    "import json\n",
    "\n",
    "train_dataset, dev_dataset, test_dataset = load_datasets(add_body=True)\n",
    "\n",
    "no_context_evals = []\n",
    "context_evals = []\n",
    "full_context_evals = []\n",
    "\n",
    "for path in glob.glob(\"../evaluations/non-context*\"):\n",
    "    if \"category\" in path:\n",
    "        continue\n",
    "    with open(path) as f:\n",
    "        obj = json.load(f)\n",
    "        obj[\"file\"] = path\n",
    "        no_context_evals.append(obj)\n",
    "\n",
    "for path in glob.glob(\"../evaluations/context*\"):\n",
    "    if \"category\" in path:\n",
    "        continue\n",
    "\n",
    "    with open(path) as f:\n",
    "        obj = json.load(f)\n",
    "        obj[\"file\"] = path\n",
    "        context_evals.append(obj)\n",
    "\n",
    "for path in glob.glob(\"../evaluations/title-body_*\"):\n",
    "    if \"category\" in path:\n",
    "        continue\n",
    "    with open(path) as f:\n",
    "        obj = json.load(f)\n",
    "        obj[\"file\"] = path\n",
    "        full_context_evals.append(obj)\n",
    "print(f\"We have {len(full_context_evals)} title and body context evaluations\")\n",
    "print(f\"We have {len(context_evals)} title context evaluations\")\n",
    "print(f\"We have {len(no_context_evals)} no evaluations\")"
   ]
  },
  {
   "cell_type": "code",
   "execution_count": 2,
   "id": "social-trick",
   "metadata": {},
   "outputs": [
    {
     "data": {
      "text/html": [
       "<div>\n",
       "<style scoped>\n",
       "    .dataframe tbody tr th:only-of-type {\n",
       "        vertical-align: middle;\n",
       "    }\n",
       "\n",
       "    .dataframe tbody tr th {\n",
       "        vertical-align: top;\n",
       "    }\n",
       "\n",
       "    .dataframe thead th {\n",
       "        text-align: right;\n",
       "    }\n",
       "</style>\n",
       "<table border=\"1\" class=\"dataframe\">\n",
       "  <thead>\n",
       "    <tr style=\"text-align: right;\">\n",
       "      <th></th>\n",
       "      <th>full context mean</th>\n",
       "      <th>full context std</th>\n",
       "      <th>context mean</th>\n",
       "      <th>context std</th>\n",
       "      <th>no context mean</th>\n",
       "      <th>no context std</th>\n",
       "    </tr>\n",
       "  </thead>\n",
       "  <tbody>\n",
       "    <tr>\n",
       "      <th>eval_precision</th>\n",
       "      <td>0.738500</td>\n",
       "      <td>0.008403</td>\n",
       "      <td>0.750523</td>\n",
       "      <td>0.011957</td>\n",
       "      <td>0.681722</td>\n",
       "      <td>0.019894</td>\n",
       "    </tr>\n",
       "    <tr>\n",
       "      <th>eval_recall</th>\n",
       "      <td>0.615619</td>\n",
       "      <td>0.004930</td>\n",
       "      <td>0.603302</td>\n",
       "      <td>0.010823</td>\n",
       "      <td>0.593063</td>\n",
       "      <td>0.017633</td>\n",
       "    </tr>\n",
       "    <tr>\n",
       "      <th>eval_f1</th>\n",
       "      <td>0.671448</td>\n",
       "      <td>0.004108</td>\n",
       "      <td>0.668799</td>\n",
       "      <td>0.007305</td>\n",
       "      <td>0.633848</td>\n",
       "      <td>0.005997</td>\n",
       "    </tr>\n",
       "    <tr>\n",
       "      <th>eval_macro_f1</th>\n",
       "      <td>0.807807</td>\n",
       "      <td>0.002472</td>\n",
       "      <td>0.806790</td>\n",
       "      <td>0.004181</td>\n",
       "      <td>0.785066</td>\n",
       "      <td>0.003388</td>\n",
       "    </tr>\n",
       "  </tbody>\n",
       "</table>\n",
       "</div>"
      ],
      "text/plain": [
       "                full context mean  full context std  context mean  \\\n",
       "eval_precision           0.738500          0.008403      0.750523   \n",
       "eval_recall              0.615619          0.004930      0.603302   \n",
       "eval_f1                  0.671448          0.004108      0.668799   \n",
       "eval_macro_f1            0.807807          0.002472      0.806790   \n",
       "\n",
       "                context std  no context mean  no context std  \n",
       "eval_precision     0.011957         0.681722        0.019894  \n",
       "eval_recall        0.010823         0.593063        0.017633  \n",
       "eval_f1            0.007305         0.633848        0.005997  \n",
       "eval_macro_f1      0.004181         0.785066        0.003388  "
      ]
     },
     "execution_count": 2,
     "metadata": {},
     "output_type": "execute_result"
    }
   ],
   "source": [
    "import pandas as pd\n",
    "\n",
    "metric_columns = [\"eval_precision\", \"eval_recall\", \"eval_f1\", \"eval_macro_f1\"]\n",
    "\n",
    "df_full_context_evals = pd.DataFrame([\n",
    "    {**{\"file\": evaluation[\"file\"]}, **evaluation[\"metrics\"]} for evaluation in full_context_evals\n",
    "])\n",
    "\n",
    "df_context_evals = pd.DataFrame([\n",
    "    {**{\"file\": evaluation[\"file\"]}, **evaluation[\"metrics\"]} for evaluation in context_evals\n",
    "])\n",
    "\n",
    "df_no_context_evals = pd.DataFrame([\n",
    "    {**{\"file\": evaluation[\"file\"]}, **evaluation[\"metrics\"]} for evaluation in no_context_evals\n",
    "])\n",
    "\n",
    "full_context_df = pd.DataFrame({\n",
    "    \"full context mean\": df_full_context_evals[metric_columns].mean(), \n",
    "    \"full context std\": df_full_context_evals[metric_columns].std()})\n",
    "\n",
    "context_df = pd.DataFrame({\n",
    "    \"context mean\": df_context_evals[metric_columns].mean(), \n",
    "    \"context std\": df_context_evals[metric_columns].std()\n",
    "})\n",
    "\n",
    "no_context_df = pd.DataFrame({\n",
    "    \"no context mean\": df_no_context_evals[metric_columns].mean(), \n",
    "    \"no context std\": df_no_context_evals[metric_columns].std()})\n",
    "\n",
    "\n",
    "result_df = pd.concat([full_context_df, context_df, no_context_df], axis=1)\n",
    "\n",
    "result_df"
   ]
  },
  {
   "cell_type": "code",
   "execution_count": 10,
   "id": "cellular-monday",
   "metadata": {},
   "outputs": [
    {
     "data": {
      "text/plain": [
       "'Tugo bierno'"
      ]
     },
     "execution_count": 10,
     "metadata": {},
     "output_type": "execute_result"
    }
   ],
   "source": [
    "\"tugo bierno\".capitalize()"
   ]
  },
  {
   "cell_type": "code",
   "execution_count": 13,
   "id": "faced-virginia",
   "metadata": {},
   "outputs": [
    {
     "data": {
      "text/html": [
       "<div>\n",
       "<style scoped>\n",
       "    .dataframe tbody tr th:only-of-type {\n",
       "        vertical-align: middle;\n",
       "    }\n",
       "\n",
       "    .dataframe tbody tr th {\n",
       "        vertical-align: top;\n",
       "    }\n",
       "\n",
       "    .dataframe thead th {\n",
       "        text-align: right;\n",
       "    }\n",
       "</style>\n",
       "<table border=\"1\" class=\"dataframe\">\n",
       "  <thead>\n",
       "    <tr style=\"text-align: right;\">\n",
       "      <th>metrics</th>\n",
       "      <th>Precision</th>\n",
       "      <th>Recall</th>\n",
       "      <th>F1</th>\n",
       "      <th>Macro F1</th>\n",
       "    </tr>\n",
       "  </thead>\n",
       "  <tbody>\n",
       "    <tr>\n",
       "      <th>BERT Title+Body</th>\n",
       "      <td>$0.738 \\pm 0.008$</td>\n",
       "      <td>$0.616 \\pm 0.005$</td>\n",
       "      <td>$0.671 \\pm 0.004$</td>\n",
       "      <td>$0.808 \\pm 0.002$</td>\n",
       "    </tr>\n",
       "    <tr>\n",
       "      <th>BERT Title</th>\n",
       "      <td>$0.751 \\pm 0.012$</td>\n",
       "      <td>$0.603 \\pm 0.011$</td>\n",
       "      <td>$0.669 \\pm 0.007$</td>\n",
       "      <td>$0.807 \\pm 0.004$</td>\n",
       "    </tr>\n",
       "    <tr>\n",
       "      <th>BERT No Context</th>\n",
       "      <td>$0.682 \\pm 0.020$</td>\n",
       "      <td>$0.593 \\pm 0.018$</td>\n",
       "      <td>$0.634 \\pm 0.006$</td>\n",
       "      <td>$0.785 \\pm 0.003$</td>\n",
       "    </tr>\n",
       "  </tbody>\n",
       "</table>\n",
       "</div>"
      ],
      "text/plain": [
       "metrics                  Precision             Recall                 F1  \\\n",
       "BERT Title+Body  $0.738 \\pm 0.008$  $0.616 \\pm 0.005$  $0.671 \\pm 0.004$   \n",
       "BERT Title       $0.751 \\pm 0.012$  $0.603 \\pm 0.011$  $0.669 \\pm 0.007$   \n",
       "BERT No Context  $0.682 \\pm 0.020$  $0.593 \\pm 0.018$  $0.634 \\pm 0.006$   \n",
       "\n",
       "metrics                   Macro F1  \n",
       "BERT Title+Body  $0.808 \\pm 0.002$  \n",
       "BERT Title       $0.807 \\pm 0.004$  \n",
       "BERT No Context  $0.785 \\pm 0.003$  "
      ]
     },
     "execution_count": 13,
     "metadata": {},
     "output_type": "execute_result"
    }
   ],
   "source": [
    "def print_mean(row, context, ):\n",
    "    mean = row[context + \" mean\"]\n",
    "    std = row[context + \" std\"]\n",
    "    return f\"${mean:.3f} \\pm {std:.3f}$\"\n",
    "\n",
    "display_df = pd.DataFrame()\n",
    "\n",
    "for context, model_name in [\n",
    "    (\"full context\", \"BERT Title+Body\"), \n",
    "    (\"context\", \"BERT Title\"), \n",
    "    (\"no context\", \"BERT No Context\")]:\n",
    "    display_df[model_name] = result_df.apply(lambda x: print_mean(x, context), axis=1)\n",
    "\n",
    "\n",
    "display_df[\"metrics\"] = display_df.index.map(lambda x: \" \".join([y.capitalize() for y in x.split(\"_\")[1:]]))\n",
    "display_df.reset_index(inplace=True)\n",
    "del display_df[\"index\"]\n",
    "display_df.set_index(\"metrics\", inplace=True)\n",
    "display_df.T\n"
   ]
  },
  {
   "cell_type": "code",
   "execution_count": 14,
   "id": "sapphire-transsexual",
   "metadata": {},
   "outputs": [
    {
     "name": "stdout",
     "output_type": "stream",
     "text": [
      "\\begin{tabular}{lllll}\n",
      "\\toprule\n",
      "metrics &          Precision &             Recall &                 F1 &           Macro F1 \\\\\n",
      "\\midrule\n",
      "BERT Title+Body &  $0.738 \\pm 0.008$ &  $0.616 \\pm 0.005$ &  $0.671 \\pm 0.004$ &  $0.808 \\pm 0.002$ \\\\\n",
      "BERT Title      &  $0.751 \\pm 0.012$ &  $0.603 \\pm 0.011$ &  $0.669 \\pm 0.007$ &  $0.807 \\pm 0.004$ \\\\\n",
      "BERT No Context &  $0.682 \\pm 0.020$ &  $0.593 \\pm 0.018$ &  $0.634 \\pm 0.006$ &  $0.785 \\pm 0.003$ \\\\\n",
      "\\bottomrule\n",
      "\\end{tabular}\n",
      "\n"
     ]
    }
   ],
   "source": [
    "print(display_df.T.to_latex(escape=False, longtable=False))"
   ]
  },
  {
   "cell_type": "markdown",
   "id": "accurate-exchange",
   "metadata": {},
   "source": [
    "Hay que chequear qué pasa con los FP de no usar contexto"
   ]
  }
 ],
 "metadata": {
  "kernelspec": {
   "display_name": "Python 3",
   "language": "python",
   "name": "python3"
  },
  "language_info": {
   "codemirror_mode": {
    "name": "ipython",
    "version": 3
   },
   "file_extension": ".py",
   "mimetype": "text/x-python",
   "name": "python",
   "nbconvert_exporter": "python",
   "pygments_lexer": "ipython3",
   "version": "3.8.5"
  }
 },
 "nbformat": 4,
 "nbformat_minor": 5
}
