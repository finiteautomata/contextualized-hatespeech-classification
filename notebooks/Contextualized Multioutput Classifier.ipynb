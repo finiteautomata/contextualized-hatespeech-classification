{
 "cells": [
  {
   "cell_type": "markdown",
   "id": "proof-moscow",
   "metadata": {},
   "source": [
    "## Multioutput model (with context)\n",
    "\n",
    "Now, we need a model to detect the type of hate"
   ]
  },
  {
   "cell_type": "code",
   "execution_count": 1,
   "id": "affiliated-reminder",
   "metadata": {},
   "outputs": [],
   "source": [
    "%load_ext autoreload\n",
    "%autoreload 2\n",
    "\n",
    "from hatedetection import load_datasets\n",
    "\n",
    "train_dataset, dev_dataset, test_dataset = load_datasets()\n"
   ]
  },
  {
   "cell_type": "markdown",
   "id": "approximate-arrow",
   "metadata": {},
   "source": [
    "Let's take just the comments that are HATEFUL"
   ]
  },
  {
   "cell_type": "code",
   "execution_count": 2,
   "id": "norman-vinyl",
   "metadata": {},
   "outputs": [
    {
     "data": {
      "application/vnd.jupyter.widget-view+json": {
       "model_id": "dcb8dc29c3a849a2b635f7a098ae353d",
       "version_major": 2,
       "version_minor": 0
      },
      "text/plain": [
       "HBox(children=(FloatProgress(value=0.0, max=37.0), HTML(value='')))"
      ]
     },
     "metadata": {},
     "output_type": "display_data"
    },
    {
     "name": "stdout",
     "output_type": "stream",
     "text": [
      "\n"
     ]
    },
    {
     "data": {
      "application/vnd.jupyter.widget-view+json": {
       "model_id": "7d5d82458393406b8e06ccdaa0c372cb",
       "version_major": 2,
       "version_minor": 0
      },
      "text/plain": [
       "HBox(children=(FloatProgress(value=0.0, max=10.0), HTML(value='')))"
      ]
     },
     "metadata": {},
     "output_type": "display_data"
    },
    {
     "name": "stdout",
     "output_type": "stream",
     "text": [
      "\n"
     ]
    },
    {
     "data": {
      "application/vnd.jupyter.widget-view+json": {
       "model_id": "9cd916acbbf84dfdab2b91ba4385a2a2",
       "version_major": 2,
       "version_minor": 0
      },
      "text/plain": [
       "HBox(children=(FloatProgress(value=0.0, max=12.0), HTML(value='')))"
      ]
     },
     "metadata": {},
     "output_type": "display_data"
    },
    {
     "name": "stdout",
     "output_type": "stream",
     "text": [
      "\n"
     ]
    }
   ],
   "source": [
    "from sklearn.model_selection import train_test_split\n",
    "import pandas as pd\n",
    "\n",
    "train_dataset = train_dataset.filter(lambda x: x[\"HATEFUL\"] > 0)\n",
    "dev_dataset = dev_dataset.filter(lambda x: x[\"HATEFUL\"] > 0)\n",
    "test_dataset = test_dataset.filter(lambda x: x[\"HATEFUL\"] > 0)\n"
   ]
  },
  {
   "cell_type": "markdown",
   "id": "convertible-colony",
   "metadata": {},
   "source": [
    "## Clasificación\n",
    "\n",
    "Usamos nuestro modelo `hatedetection.BertForSequenceMultiClassification`. Es una leve modificación del clasificador de `transformers`"
   ]
  },
  {
   "cell_type": "code",
   "execution_count": 3,
   "id": "sixth-vulnerability",
   "metadata": {},
   "outputs": [],
   "source": [
    "from transformers import AutoTokenizer\n",
    "from hatedetection import BertForSequenceMultiClassification, extended_hate_categories\n",
    "\n",
    "model_name = \"../models/bert-contextualized-hate-category-es/\"\n",
    "\n",
    "model = BertForSequenceMultiClassification.from_pretrained(\n",
    "    model_name,\n",
    "    return_dict=True, num_labels=len(extended_hate_categories)\n",
    ")\n",
    "\n",
    "model.eval();\n",
    "tokenizer = AutoTokenizer.from_pretrained(model_name)\n",
    "#\n",
    "tokenizer.model_max_length = 256"
   ]
  },
  {
   "cell_type": "code",
   "execution_count": 4,
   "id": "false-february",
   "metadata": {},
   "outputs": [
    {
     "data": {
      "application/vnd.jupyter.widget-view+json": {
       "model_id": "94505d30a06f4f448667d082a9a917e8",
       "version_major": 2,
       "version_minor": 0
      },
      "text/plain": [
       "HBox(children=(FloatProgress(value=0.0, max=173.0), HTML(value='')))"
      ]
     },
     "metadata": {},
     "output_type": "display_data"
    },
    {
     "name": "stdout",
     "output_type": "stream",
     "text": [
      "\n"
     ]
    },
    {
     "data": {
      "application/vnd.jupyter.widget-view+json": {
       "model_id": "c46ae5db4f4d473c87aced0400b5ce5b",
       "version_major": 2,
       "version_minor": 0
      },
      "text/plain": [
       "HBox(children=(FloatProgress(value=0.0, max=87.0), HTML(value='')))"
      ]
     },
     "metadata": {},
     "output_type": "display_data"
    },
    {
     "name": "stdout",
     "output_type": "stream",
     "text": [
      "\n"
     ]
    },
    {
     "data": {
      "application/vnd.jupyter.widget-view+json": {
       "model_id": "cb27c66a3a0249798ef11c2fb7dadc4d",
       "version_major": 2,
       "version_minor": 0
      },
      "text/plain": [
       "HBox(children=(FloatProgress(value=0.0, max=113.0), HTML(value='')))"
      ]
     },
     "metadata": {},
     "output_type": "display_data"
    },
    {
     "name": "stdout",
     "output_type": "stream",
     "text": [
      "\n"
     ]
    }
   ],
   "source": [
    "def tokenize(batch, context=True, padding='max_length', truncation=True):\n",
    "    \"\"\"\n",
    "    Apply tokenization\n",
    "    \n",
    "    Arguments:\n",
    "    ---------\n",
    "    \n",
    "    use_context: boolean (default True)\n",
    "        Whether to add the context to the \n",
    "    \"\"\"\n",
    "    \n",
    "    if context:\n",
    "        args = [batch['context'], batch['text']]\n",
    "    else:\n",
    "        args = [batch['text']]\n",
    "        \n",
    "    return tokenizer(*args, padding='max_length', truncation=True)\n",
    "\n",
    "batch_size = 32\n",
    "eval_batch_size = 16\n",
    "\n",
    "my_tokenize = lambda x: tokenize(x, context=True)\n",
    "\n",
    "train_dataset = train_dataset.map(my_tokenize, batched=True, batch_size=batch_size)\n",
    "dev_dataset = dev_dataset.map(my_tokenize, batched=True, batch_size=eval_batch_size)\n",
    "test_dataset = test_dataset.map(my_tokenize, batched=True, batch_size=eval_batch_size)\n",
    "\n"
   ]
  },
  {
   "cell_type": "code",
   "execution_count": 5,
   "id": "proprietary-possible",
   "metadata": {},
   "outputs": [
    {
     "data": {
      "application/vnd.jupyter.widget-view+json": {
       "model_id": "23c09c64b66c45e28027e5828708a472",
       "version_major": 2,
       "version_minor": 0
      },
      "text/plain": [
       "HBox(children=(FloatProgress(value=0.0, max=5531.0), HTML(value='')))"
      ]
     },
     "metadata": {},
     "output_type": "display_data"
    },
    {
     "name": "stdout",
     "output_type": "stream",
     "text": [
      "\n"
     ]
    },
    {
     "data": {
      "application/vnd.jupyter.widget-view+json": {
       "model_id": "e7ba22e1d20c4e1eabf352de5fc74ea0",
       "version_major": 2,
       "version_minor": 0
      },
      "text/plain": [
       "HBox(children=(FloatProgress(value=0.0, max=1387.0), HTML(value='')))"
      ]
     },
     "metadata": {},
     "output_type": "display_data"
    },
    {
     "name": "stdout",
     "output_type": "stream",
     "text": [
      "\n"
     ]
    },
    {
     "data": {
      "application/vnd.jupyter.widget-view+json": {
       "model_id": "f55b5a09f18b4002a56a502b078560eb",
       "version_major": 2,
       "version_minor": 0
      },
      "text/plain": [
       "HBox(children=(FloatProgress(value=0.0, max=1797.0), HTML(value='')))"
      ]
     },
     "metadata": {},
     "output_type": "display_data"
    },
    {
     "name": "stdout",
     "output_type": "stream",
     "text": [
      "\n"
     ]
    }
   ],
   "source": [
    "import torch\n",
    "def format_dataset(dataset):\n",
    "    def get_category_labels(examples):\n",
    "        return {'labels': torch.Tensor([examples[cat] for cat in extended_hate_categories])}\n",
    "    dataset = dataset.map(get_category_labels)\n",
    "    dataset.set_format(type='torch', columns=['input_ids', 'token_type_ids', 'attention_mask', 'labels'])\n",
    "    return dataset\n",
    "\n",
    "train_dataset = format_dataset(train_dataset)\n",
    "dev_dataset = format_dataset(dev_dataset)\n",
    "test_dataset = format_dataset(test_dataset)\n"
   ]
  },
  {
   "cell_type": "markdown",
   "id": "objective-mirror",
   "metadata": {},
   "source": [
    "Esta API de mierda vive cambiando todo el tiempo"
   ]
  },
  {
   "cell_type": "code",
   "execution_count": 6,
   "id": "corresponding-visiting",
   "metadata": {},
   "outputs": [],
   "source": [
    "from hatedetection.metrics import compute_category_metrics\n",
    "from transformers import Trainer, TrainingArguments\n",
    "\n",
    "\n",
    "\n",
    "training_args = TrainingArguments(\n",
    "    output_dir='./results',\n",
    "    per_device_train_batch_size=batch_size,\n",
    "    per_device_eval_batch_size=eval_batch_size,\n",
    "    evaluation_strategy=\"epoch\",\n",
    "    do_eval=False,\n",
    "    weight_decay=0.01,\n",
    "    logging_dir='./logs',\n",
    "    load_best_model_at_end=True,\n",
    "    metric_for_best_model=\"f1\",\n",
    ")\n",
    "\n",
    "results = []\n",
    "\n",
    "trainer = Trainer(\n",
    "    model=model,\n",
    "    args=training_args,\n",
    "    compute_metrics=compute_category_metrics,\n",
    "    train_dataset=train_dataset,\n",
    "    eval_dataset=dev_dataset,\n",
    ")"
   ]
  },
  {
   "cell_type": "code",
   "execution_count": 7,
   "id": "extra-grant",
   "metadata": {},
   "outputs": [
    {
     "data": {
      "text/html": [
       "\n",
       "    <div>\n",
       "        <style>\n",
       "            /* Turns off some styling */\n",
       "            progress {\n",
       "                /* gets rid of default border in Firefox and Opera. */\n",
       "                border: none;\n",
       "                /* Needs to be in here for Safari polyfill so background images work as expected. */\n",
       "                background-size: auto;\n",
       "            }\n",
       "        </style>\n",
       "      \n",
       "      <progress value='87' max='87' style='width:300px; height:20px; vertical-align: middle;'></progress>\n",
       "      [87/87 00:10]\n",
       "    </div>\n",
       "    "
      ],
      "text/plain": [
       "<IPython.core.display.HTML object>"
      ]
     },
     "metadata": {},
     "output_type": "display_data"
    },
    {
     "data": {
      "text/html": [
       "<div>\n",
       "<style scoped>\n",
       "    .dataframe tbody tr th:only-of-type {\n",
       "        vertical-align: middle;\n",
       "    }\n",
       "\n",
       "    .dataframe tbody tr th {\n",
       "        vertical-align: top;\n",
       "    }\n",
       "\n",
       "    .dataframe thead th {\n",
       "        text-align: right;\n",
       "    }\n",
       "</style>\n",
       "<table border=\"1\" class=\"dataframe\">\n",
       "  <thead>\n",
       "    <tr style=\"text-align: right;\">\n",
       "      <th></th>\n",
       "      <th>0</th>\n",
       "    </tr>\n",
       "  </thead>\n",
       "  <tbody>\n",
       "    <tr>\n",
       "      <th>eval_loss</th>\n",
       "      <td>0.11481</td>\n",
       "    </tr>\n",
       "    <tr>\n",
       "      <th>eval_calls_f1</th>\n",
       "      <td>0.90134</td>\n",
       "    </tr>\n",
       "    <tr>\n",
       "      <th>eval_women_f1</th>\n",
       "      <td>0.89698</td>\n",
       "    </tr>\n",
       "    <tr>\n",
       "      <th>eval_lgbti_f1</th>\n",
       "      <td>0.93648</td>\n",
       "    </tr>\n",
       "    <tr>\n",
       "      <th>eval_racism_f1</th>\n",
       "      <td>0.96321</td>\n",
       "    </tr>\n",
       "    <tr>\n",
       "      <th>eval_class_f1</th>\n",
       "      <td>0.90073</td>\n",
       "    </tr>\n",
       "    <tr>\n",
       "      <th>eval_politics_f1</th>\n",
       "      <td>0.90122</td>\n",
       "    </tr>\n",
       "    <tr>\n",
       "      <th>eval_disabled_f1</th>\n",
       "      <td>0.87398</td>\n",
       "    </tr>\n",
       "    <tr>\n",
       "      <th>eval_appearance_f1</th>\n",
       "      <td>0.93343</td>\n",
       "    </tr>\n",
       "    <tr>\n",
       "      <th>eval_criminal_f1</th>\n",
       "      <td>0.97199</td>\n",
       "    </tr>\n",
       "    <tr>\n",
       "      <th>eval_mean_f1</th>\n",
       "      <td>0.91993</td>\n",
       "    </tr>\n",
       "    <tr>\n",
       "      <th>eval_mean_precision</th>\n",
       "      <td>0.93115</td>\n",
       "    </tr>\n",
       "    <tr>\n",
       "      <th>eval_mean_recall</th>\n",
       "      <td>0.90991</td>\n",
       "    </tr>\n",
       "    <tr>\n",
       "      <th>eval_runtime</th>\n",
       "      <td>10.36520</td>\n",
       "    </tr>\n",
       "    <tr>\n",
       "      <th>eval_samples_per_second</th>\n",
       "      <td>133.81400</td>\n",
       "    </tr>\n",
       "    <tr>\n",
       "      <th>init_mem_cpu_alloc_delta</th>\n",
       "      <td>59310.00000</td>\n",
       "    </tr>\n",
       "    <tr>\n",
       "      <th>init_mem_gpu_alloc_delta</th>\n",
       "      <td>439960064.00000</td>\n",
       "    </tr>\n",
       "    <tr>\n",
       "      <th>init_mem_cpu_peaked_delta</th>\n",
       "      <td>18258.00000</td>\n",
       "    </tr>\n",
       "    <tr>\n",
       "      <th>init_mem_gpu_peaked_delta</th>\n",
       "      <td>0.00000</td>\n",
       "    </tr>\n",
       "    <tr>\n",
       "      <th>eval_mem_cpu_alloc_delta</th>\n",
       "      <td>449953.00000</td>\n",
       "    </tr>\n",
       "    <tr>\n",
       "      <th>eval_mem_gpu_alloc_delta</th>\n",
       "      <td>0.00000</td>\n",
       "    </tr>\n",
       "    <tr>\n",
       "      <th>eval_mem_cpu_peaked_delta</th>\n",
       "      <td>265055.00000</td>\n",
       "    </tr>\n",
       "    <tr>\n",
       "      <th>eval_mem_gpu_peaked_delta</th>\n",
       "      <td>189022208.00000</td>\n",
       "    </tr>\n",
       "  </tbody>\n",
       "</table>\n",
       "</div>"
      ],
      "text/plain": [
       "                                        0\n",
       "eval_loss                         0.11481\n",
       "eval_calls_f1                     0.90134\n",
       "eval_women_f1                     0.89698\n",
       "eval_lgbti_f1                     0.93648\n",
       "eval_racism_f1                    0.96321\n",
       "eval_class_f1                     0.90073\n",
       "eval_politics_f1                  0.90122\n",
       "eval_disabled_f1                  0.87398\n",
       "eval_appearance_f1                0.93343\n",
       "eval_criminal_f1                  0.97199\n",
       "eval_mean_f1                      0.91993\n",
       "eval_mean_precision               0.93115\n",
       "eval_mean_recall                  0.90991\n",
       "eval_runtime                     10.36520\n",
       "eval_samples_per_second         133.81400\n",
       "init_mem_cpu_alloc_delta      59310.00000\n",
       "init_mem_gpu_alloc_delta  439960064.00000\n",
       "init_mem_cpu_peaked_delta     18258.00000\n",
       "init_mem_gpu_peaked_delta         0.00000\n",
       "eval_mem_cpu_alloc_delta     449953.00000\n",
       "eval_mem_gpu_alloc_delta          0.00000\n",
       "eval_mem_cpu_peaked_delta    265055.00000\n",
       "eval_mem_gpu_peaked_delta 189022208.00000"
      ]
     },
     "execution_count": 7,
     "metadata": {},
     "output_type": "execute_result"
    }
   ],
   "source": [
    "import pandas as pd\n",
    "pd.options.display.max_columns = 40\n",
    "pd.set_option('display.float_format', lambda x: '%.5f' % x)\n",
    "\n",
    "df_results = pd.DataFrame([trainer.evaluate(dev_dataset)])\n",
    "\n",
    "df_results.T"
   ]
  },
  {
   "cell_type": "code",
   "execution_count": 8,
   "id": "coordinate-costume",
   "metadata": {},
   "outputs": [],
   "source": [
    "from hatedetection.predict import predict_category\n",
    "\n",
    "def predict(sentence, context=None):\n",
    "    return predict_category(model, tokenizer, sentence, context=context)"
   ]
  },
  {
   "cell_type": "code",
   "execution_count": 9,
   "id": "spiritual-metabolism",
   "metadata": {},
   "outputs": [
    {
     "name": "stdout",
     "output_type": "stream",
     "text": [
      "Negro chorro de mierda\n",
      "['RACISM', 'CRIMINAL']\n",
      "Este país está lleno de vagos\n",
      "['CRIMINAL']\n",
      "Cuarenta ladrillos y esto se arregla...\n",
      "['CRIMINAL']\n",
      "Bala\n",
      "['CRIMINAL']\n",
      "Videla volvé!\n",
      "['CRIMINAL']\n",
      "Ahhhn y donde estan las feministas de mierda eh?\n",
      "['WOMEN']\n",
      "Y qué van a decir los chinos sobre este desastre?\n",
      "['RACISM']\n"
     ]
    }
   ],
   "source": [
    "\n",
    "\n",
    "context = \"Motín de presos en la cárcel de Devoto\"\n",
    "\n",
    "comments = [\n",
    "    \"Negro chorro de mierda\",\n",
    "    \"Este país está lleno de vagos\",\n",
    "    \"Cuarenta ladrillos y esto se arregla...\",\n",
    "    \"Bala\",\n",
    "    \"Videla volvé!\",\n",
    "    \"Ahhhn y donde estan las feministas de mierda eh?\",\n",
    "    \"Y qué van a decir los chinos sobre este desastre?\",\n",
    "]\n",
    "\n",
    "for comment in comments:\n",
    "    print(comment)\n",
    "    prediction = predict(comment, context=context)\n",
    "    print(prediction)"
   ]
  },
  {
   "cell_type": "code",
   "execution_count": 10,
   "id": "talented-beach",
   "metadata": {},
   "outputs": [
    {
     "name": "stdout",
     "output_type": "stream",
     "text": [
      "Corrupta\n",
      "['WOMEN']\n",
      "Callate petera\n",
      "['WOMEN']\n",
      "Gato viejo\n",
      "['WOMEN', 'APPEARANCE']\n",
      "Quiere bijaaa\n",
      "['WOMEN']\n",
      "Toda cirujeada esta\n",
      "['WOMEN']\n",
      "Estás gordita mamu\n",
      "['WOMEN', 'APPEARANCE']\n",
      "Che y de los chinos come murcielagos no tenés nada para decir?\n",
      "['RACISM']\n"
     ]
    }
   ],
   "source": [
    "context=\"Florencia Peña dio una entrevista a Infobae\"\n",
    "\n",
    "comments = [\n",
    "    \"Corrupta\",\n",
    "    \"Callate petera\",\n",
    "    \"Gato viejo\",\n",
    "    \"Quiere bijaaa\",\n",
    "    \"Toda cirujeada esta\",\n",
    "    \"Estás gordita mamu\",\n",
    "    \"Che y de los chinos come murcielagos no tenés nada para decir?\",\n",
    "]\n",
    "\n",
    "for comment in comments:\n",
    "    print(comment)\n",
    "    prediction = predict(comment, context=context)\n",
    "    print(prediction)\n",
    "\n"
   ]
  },
  {
   "cell_type": "code",
   "execution_count": 11,
   "id": "israeli-america",
   "metadata": {},
   "outputs": [
    {
     "name": "stdout",
     "output_type": "stream",
     "text": [
      "Soreta\n",
      "['DISABLED']\n",
      "Callate petera\n",
      "[]\n",
      "Gato viejo\n",
      "['APPEARANCE']\n",
      "Toda cirujeada esta\n",
      "['APPEARANCE']\n",
      "Estás gordita mamu\n",
      "['APPEARANCE']\n",
      "Che y de los chinos come murcielagos no tenés nada para decir?\n",
      "['RACISM']\n"
     ]
    }
   ],
   "source": [
    "context=\"Cristina Fernández de Kirchner inaugura una obra en Tierra del Fuego\"\n",
    "\n",
    "comments = [\n",
    "    \"Soreta\",\n",
    "    \"Callate petera\",\n",
    "    \"Gato viejo\",\n",
    "    \"Toda cirujeada esta\",\n",
    "    \"Estás gordita mamu\",\n",
    "    \"Che y de los chinos come murcielagos no tenés nada para decir?\",\n",
    "]\n",
    "\n",
    "for comment in comments:\n",
    "    print(comment)\n",
    "    prediction = predict(comment, context=context)\n",
    "    print(prediction)\n",
    "\n"
   ]
  },
  {
   "cell_type": "code",
   "execution_count": 12,
   "id": "hollow-lover",
   "metadata": {},
   "outputs": [
    {
     "name": "stdout",
     "output_type": "stream",
     "text": [
      "Noticia:\n",
      "Juan y Fernando Pérez se casarán por civil durante la pandemia \n",
      "\n",
      "\n",
      "\n",
      "Comentarios\n",
      "Ay pero qué asco\n",
      "['WOMEN']\n",
      "Viejos putos\n",
      "['LGBTI', 'APPEARANCE']\n",
      "Trolos roñosos\n",
      "['LGBTI', 'APPEARANCE']\n",
      "Desviados!\n",
      "['WOMEN']\n",
      "Hay que mandarlos a una isla en el medio del oceano a estos pervertidos\n",
      "['CALLS']\n",
      "Basta de topus, coronavirus, chinos y Soros\n",
      "['RACISM']\n",
      "Che y las feminazis hijas de puta no tienen nada para decir de esto?\n",
      "['WOMEN']\n",
      "Pero qué asco por favor\n",
      "['WOMEN']\n",
      "Puedo vomitar?\n",
      "['WOMEN']\n",
      "Jajaja no seas trolo Raúl\n",
      "['LGBTI']\n",
      "Asco\n",
      "['WOMEN', 'LGBTI']\n",
      "Esta gente no teme a Dios\n",
      "['WOMEN']\n"
     ]
    }
   ],
   "source": [
    "context=\"Juan y Fernando Pérez se casarán por civil durante la pandemia\"\n",
    "\n",
    "comments = [\n",
    "    \"Ay pero qué asco\",\n",
    "    \"Viejos putos\",\n",
    "    \"Trolos roñosos\",\n",
    "    \"Desviados!\",\n",
    "    \"Hay que mandarlos a una isla en el medio del oceano a estos pervertidos\",\n",
    "    \"Basta de topus, coronavirus, chinos y Soros\",\n",
    "    \"Che y las feminazis hijas de puta no tienen nada para decir de esto?\",\n",
    "    \"Pero qué asco por favor\",\n",
    "    \"Puedo vomitar?\",\n",
    "    \"Jajaja no seas trolo Raúl\",\n",
    "    \"Asco\",\n",
    "    \"Esta gente no teme a Dios\"\n",
    "]\n",
    "\n",
    "print(\"Noticia:\")\n",
    "print(context, \"\\n\"*3)\n",
    "\n",
    "print(\"Comentarios\")\n",
    "for comment in comments:\n",
    "    print(comment)\n",
    "    prediction = predict(comment, context=context)\n",
    "    print(prediction)\n",
    "\n"
   ]
  },
  {
   "cell_type": "code",
   "execution_count": 13,
   "id": "renewable-still",
   "metadata": {},
   "outputs": [
    {
     "data": {
      "text/plain": [
       "['WOMEN']"
      ]
     },
     "execution_count": 13,
     "metadata": {},
     "output_type": "execute_result"
    }
   ],
   "source": [
    "predict(\"Quiere bijaaa\", context=\"Florencia Peña dio una entrevista a Infobae\")"
   ]
  },
  {
   "cell_type": "code",
   "execution_count": 14,
   "id": "separate-window",
   "metadata": {},
   "outputs": [
    {
     "name": "stdout",
     "output_type": "stream",
     "text": [
      "Noticia:\n",
      "Cristiano Ronaldo metió su gol número 812 y es el mayor goleador de la historia \n",
      "\n",
      "\n",
      "\n",
      "Comentarios\n",
      "Asco\n",
      "['LGBTI']\n",
      "Esta gente no teme a Dios\n",
      "[]\n",
      "A este Cristiano le gusta el sable\n",
      "['LGBTI']\n",
      "Se sentó encima de la pelota?\n",
      "['LGBTI']\n",
      "Es más uto este Cristiano\n",
      "['LGBTI']\n"
     ]
    }
   ],
   "source": [
    "context=\"Cristiano Ronaldo metió su gol número 812 y es el mayor goleador de la historia\"\n",
    "\n",
    "comments = [\n",
    "    \"Asco\",\n",
    "    \"Esta gente no teme a Dios\",\n",
    "    \"A este Cristiano le gusta el sable\",\n",
    "    \"Se sentó encima de la pelota?\",\n",
    "    \"Es más uto este Cristiano\"\n",
    "]\n",
    "\n",
    "print(\"Noticia:\")\n",
    "print(context, \"\\n\"*3)\n",
    "\n",
    "print(\"Comentarios\")\n",
    "for comment in comments:\n",
    "    print(comment)\n",
    "    prediction = predict(comment, context=context)\n",
    "    print(prediction)\n",
    "\n"
   ]
  },
  {
   "cell_type": "code",
   "execution_count": 15,
   "id": "mechanical-princeton",
   "metadata": {},
   "outputs": [
    {
     "name": "stdout",
     "output_type": "stream",
     "text": [
      "Noticia:\n",
      "Romina C, una chica trans, nos cuenta sus vacaciones en Cancún \n",
      "\n",
      "\n",
      "\n",
      "Comentarios\n",
      "Asco\n",
      "['LGBTI']\n",
      "Esta gente no teme a Dios\n",
      "['LGBTI']\n",
      "Me parece que se llama Romino\n",
      "['LGBTI']\n",
      "Es un camionero!\n",
      "['LGBTI']\n",
      "Esta tal Romina que muestre el documento\n",
      "['LGBTI']\n",
      "Romina es un flor de travesti\n",
      "['LGBTI']\n",
      "Habría que ver si viene con paquete la tal Romina\n",
      "['LGBTI']\n",
      "Romina es macho\n",
      "['LGBTI']\n"
     ]
    }
   ],
   "source": [
    "context=\"Romina C, una chica trans, nos cuenta sus vacaciones en Cancún\"\n",
    "\n",
    "comments = [\n",
    "    \"Asco\",\n",
    "    \"Esta gente no teme a Dios\",\n",
    "    \"Me parece que se llama Romino\",\n",
    "    \"Es un camionero!\",\n",
    "    \"Esta tal Romina que muestre el documento\",\n",
    "    \"Romina es un flor de travesti\",\n",
    "    \"Habría que ver si viene con paquete la tal Romina\",\n",
    "    \"Romina es macho\",\n",
    "]\n",
    "\n",
    "print(\"Noticia:\")\n",
    "print(context, \"\\n\"*3)\n",
    "\n",
    "print(\"Comentarios\")\n",
    "for comment in comments:\n",
    "    print(comment)\n",
    "    prediction = predict(comment, context=context)\n",
    "    print(prediction)\n",
    "\n"
   ]
  },
  {
   "cell_type": "code",
   "execution_count": 16,
   "id": "selective-round",
   "metadata": {},
   "outputs": [
    {
     "name": "stdout",
     "output_type": "stream",
     "text": [
      "Noticia:\n",
      "Romina C nos cuenta sus vacaciones en Cancún \n",
      "\n",
      "\n",
      "\n",
      "Comentarios\n",
      "Asco\n",
      "['WOMEN']\n",
      "Esta gente no teme a Dios\n",
      "['WOMEN']\n",
      "Me parece que se llama Romino\n",
      "['WOMEN']\n",
      "Es un camionero!\n",
      "[]\n",
      "Esta tal Romina que muestre el documento\n",
      "['WOMEN']\n",
      "Romina es un flor de travesti\n",
      "['LGBTI']\n",
      "Habría que ver si viene con paquete la tal Romina\n",
      "['WOMEN']\n",
      "Romina es macho\n",
      "['LGBTI']\n",
      "Qué tiene entre las piernas?\n",
      "['WOMEN']\n",
      "Me parece que viene con sorpresita jajaja\n",
      "['WOMEN']\n",
      "Vino con picaporte?\n",
      "['WOMEN']\n",
      "Naciste y seguís siendo hombre\n",
      "['LGBTI']\n",
      "Callate varón!\n",
      "['WOMEN']\n",
      "Tiene las gambas del defensor de Cambáceres\n",
      "['WOMEN']\n",
      "Y esta quién es?\n",
      "['WOMEN']\n"
     ]
    }
   ],
   "source": [
    "context=\"Romina C nos cuenta sus vacaciones en Cancún\"\n",
    "\n",
    "comments = [\n",
    "    \"Asco\",\n",
    "    \"Esta gente no teme a Dios\",\n",
    "    \"Me parece que se llama Romino\",\n",
    "    \"Es un camionero!\",\n",
    "    \"Esta tal Romina que muestre el documento\",\n",
    "    \"Romina es un flor de travesti\",\n",
    "    \"Habría que ver si viene con paquete la tal Romina\",\n",
    "    \"Romina es macho\",\n",
    "    \"Qué tiene entre las piernas?\",\n",
    "    \"Me parece que viene con sorpresita jajaja\",\n",
    "    \"Vino con picaporte?\",\n",
    "    \"Naciste y seguís siendo hombre\",\n",
    "    \"Callate varón!\",\n",
    "    \"Tiene las gambas del defensor de Cambáceres\",\n",
    "    \"Y esta quién es?\",\n",
    "]\n",
    "\n",
    "print(\"Noticia:\")\n",
    "print(context, \"\\n\"*3)\n",
    "\n",
    "print(\"Comentarios\")\n",
    "for comment in comments:\n",
    "    print(comment)\n",
    "    prediction = predict(comment, context=context)\n",
    "    print(prediction)\n",
    "\n"
   ]
  },
  {
   "cell_type": "code",
   "execution_count": 17,
   "id": "inappropriate-tanzania",
   "metadata": {},
   "outputs": [
    {
     "data": {
      "text/plain": [
       "['WOMEN']"
      ]
     },
     "execution_count": 17,
     "metadata": {},
     "output_type": "execute_result"
    }
   ],
   "source": [
    "predict(\"A esta trola hay que agarrarla de a varios para que sepa lo que es bueno\", context=\"Romina C nos cuenta sus vacaciones en Cancún\")"
   ]
  },
  {
   "cell_type": "markdown",
   "id": "israeli-jonathan",
   "metadata": {},
   "source": [
    "Acá no encuentra el llamado a la acción...ahora, si lo cambiamos ligeramente..."
   ]
  },
  {
   "cell_type": "code",
   "execution_count": 18,
   "id": "brutal-latitude",
   "metadata": {},
   "outputs": [
    {
     "data": {
      "text/plain": [
       "['WOMEN', 'RACISM']"
      ]
     },
     "execution_count": 18,
     "metadata": {},
     "output_type": "execute_result"
    }
   ],
   "source": [
    "predict(\"A esta negra trola hay que agarrarla de a varios para que sepa lo que es bueno\", context=\"Romina C nos cuenta sus vacaciones en Cancún\")"
   ]
  },
  {
   "cell_type": "code",
   "execution_count": 19,
   "id": "widespread-equity",
   "metadata": {},
   "outputs": [
    {
     "data": {
      "text/plain": [
       "['CLASS']"
      ]
     },
     "execution_count": 19,
     "metadata": {},
     "output_type": "execute_result"
    }
   ],
   "source": [
    "predict(\"Viven del Estado, esta gente sinceramente no tiene remedio\")"
   ]
  },
  {
   "cell_type": "code",
   "execution_count": 20,
   "id": "objective-machinery",
   "metadata": {},
   "outputs": [
    {
     "data": {
      "text/plain": [
       "['LGBTI']"
      ]
     },
     "execution_count": 20,
     "metadata": {},
     "output_type": "execute_result"
    }
   ],
   "source": [
    "predict(\"Tenés dos pelotas entre las piernas amigazo\")"
   ]
  },
  {
   "cell_type": "code",
   "execution_count": 22,
   "id": "alike-spain",
   "metadata": {},
   "outputs": [
    {
     "data": {
      "text/plain": [
       "'[CLS] [UNK] [SEP]'"
      ]
     },
     "execution_count": 22,
     "metadata": {},
     "output_type": "execute_result"
    }
   ],
   "source": [
    "tokenizer.decode(tokenizer.encode(\"🤢\"))"
   ]
  },
  {
   "cell_type": "code",
   "execution_count": null,
   "id": "accessory-conflict",
   "metadata": {},
   "outputs": [],
   "source": []
  }
 ],
 "metadata": {
  "kernelspec": {
   "display_name": "Python 3",
   "language": "python",
   "name": "python3"
  },
  "language_info": {
   "codemirror_mode": {
    "name": "ipython",
    "version": 3
   },
   "file_extension": ".py",
   "mimetype": "text/x-python",
   "name": "python",
   "nbconvert_exporter": "python",
   "pygments_lexer": "ipython3",
   "version": "3.8.5"
  }
 },
 "nbformat": 4,
 "nbformat_minor": 5
}
