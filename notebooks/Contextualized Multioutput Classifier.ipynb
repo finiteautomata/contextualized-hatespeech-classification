{
 "cells": [
  {
   "cell_type": "markdown",
   "id": "declared-pennsylvania",
   "metadata": {},
   "source": [
    "## Multioutput model (with context)\n",
    "\n",
    "Now, we need a model to detect the type of hate"
   ]
  },
  {
   "cell_type": "code",
   "execution_count": 1,
   "id": "assumed-swift",
   "metadata": {},
   "outputs": [],
   "source": [
    "%load_ext autoreload\n",
    "%autoreload 2\n",
    "\n",
    "from hatedetection import load_datasets\n",
    "\n",
    "train_dataset, dev_dataset, test_dataset = load_datasets()\n"
   ]
  },
  {
   "cell_type": "markdown",
   "id": "adult-cycling",
   "metadata": {},
   "source": [
    "Let's take just the comments that are HATEFUL"
   ]
  },
  {
   "cell_type": "code",
   "execution_count": 2,
   "id": "american-ethnic",
   "metadata": {},
   "outputs": [
    {
     "data": {
      "application/vnd.jupyter.widget-view+json": {
       "model_id": "dd245467d2c44d039704eaddb410f625",
       "version_major": 2,
       "version_minor": 0
      },
      "text/plain": [
       "HBox(children=(FloatProgress(value=0.0, max=34.0), HTML(value='')))"
      ]
     },
     "metadata": {},
     "output_type": "display_data"
    },
    {
     "name": "stdout",
     "output_type": "stream",
     "text": [
      "\n"
     ]
    },
    {
     "data": {
      "application/vnd.jupyter.widget-view+json": {
       "model_id": "c51f7260999b46c2b722b6971d456f83",
       "version_major": 2,
       "version_minor": 0
      },
      "text/plain": [
       "HBox(children=(FloatProgress(value=0.0, max=9.0), HTML(value='')))"
      ]
     },
     "metadata": {},
     "output_type": "display_data"
    },
    {
     "name": "stdout",
     "output_type": "stream",
     "text": [
      "\n"
     ]
    },
    {
     "data": {
      "application/vnd.jupyter.widget-view+json": {
       "model_id": "d395464d3e754c0d8b6a4bdf5a320d9e",
       "version_major": 2,
       "version_minor": 0
      },
      "text/plain": [
       "HBox(children=(FloatProgress(value=0.0, max=11.0), HTML(value='')))"
      ]
     },
     "metadata": {},
     "output_type": "display_data"
    },
    {
     "name": "stdout",
     "output_type": "stream",
     "text": [
      "\n"
     ]
    }
   ],
   "source": [
    "from sklearn.model_selection import train_test_split\n",
    "import pandas as pd\n",
    "\n",
    "train_dataset = train_dataset.filter(lambda x: x[\"HATEFUL\"] > 0)\n",
    "dev_dataset = dev_dataset.filter(lambda x: x[\"HATEFUL\"] > 0)\n",
    "test_dataset = test_dataset.filter(lambda x: x[\"HATEFUL\"] > 0)\n"
   ]
  },
  {
   "cell_type": "markdown",
   "id": "polyphonic-fight",
   "metadata": {},
   "source": [
    "## Clasificación\n",
    "\n",
    "Usamos nuestro modelo `hatedetection.BertForSequenceMultiClassification`. Es una leve modificación del clasificador de `transformers`"
   ]
  },
  {
   "cell_type": "code",
   "execution_count": 3,
   "id": "random-trial",
   "metadata": {},
   "outputs": [],
   "source": [
    "from transformers import AutoTokenizer\n",
    "from hatedetection import BertForSequenceMultiClassification, extended_hate_categories\n",
    "\n",
    "model_name = \"../models/bert-contextualized-hate-category-es/\"\n",
    "\n",
    "model = BertForSequenceMultiClassification.from_pretrained(\n",
    "    model_name,\n",
    "    return_dict=True, num_labels=len(extended_hate_categories)\n",
    ")\n",
    "\n",
    "model.eval();\n",
    "tokenizer = AutoTokenizer.from_pretrained(model_name)\n",
    "#\n",
    "tokenizer.model_max_length = 256"
   ]
  },
  {
   "cell_type": "code",
   "execution_count": 5,
   "id": "muslim-lover",
   "metadata": {},
   "outputs": [
    {
     "data": {
      "application/vnd.jupyter.widget-view+json": {
       "model_id": "fcbc447f4bf944c7aaf95d7383349ebc",
       "version_major": 2,
       "version_minor": 0
      },
      "text/plain": [
       "HBox(children=(FloatProgress(value=0.0, max=167.0), HTML(value='')))"
      ]
     },
     "metadata": {},
     "output_type": "display_data"
    },
    {
     "name": "stdout",
     "output_type": "stream",
     "text": [
      "\n"
     ]
    },
    {
     "data": {
      "application/vnd.jupyter.widget-view+json": {
       "model_id": "48314e6a172c4d2d88cdf6888587d71c",
       "version_major": 2,
       "version_minor": 0
      },
      "text/plain": [
       "HBox(children=(FloatProgress(value=0.0, max=86.0), HTML(value='')))"
      ]
     },
     "metadata": {},
     "output_type": "display_data"
    },
    {
     "name": "stdout",
     "output_type": "stream",
     "text": [
      "\n"
     ]
    },
    {
     "data": {
      "application/vnd.jupyter.widget-view+json": {
       "model_id": "49626095e4e841d4974c07c9251fbc40",
       "version_major": 2,
       "version_minor": 0
      },
      "text/plain": [
       "HBox(children=(FloatProgress(value=0.0, max=101.0), HTML(value='')))"
      ]
     },
     "metadata": {},
     "output_type": "display_data"
    },
    {
     "name": "stdout",
     "output_type": "stream",
     "text": [
      "\n"
     ]
    }
   ],
   "source": [
    "def tokenize(batch, context=True, padding='max_length', truncation=True):\n",
    "    \"\"\"\n",
    "    Apply tokenization\n",
    "    \n",
    "    Arguments:\n",
    "    ---------\n",
    "    \n",
    "    use_context: boolean (default True)\n",
    "        Whether to add the context to the \n",
    "    \"\"\"\n",
    "    \n",
    "    if context:\n",
    "        args = [batch['context'], batch['text']]\n",
    "    else:\n",
    "        args = [batch['text']]\n",
    "        \n",
    "    return tokenizer(*args, padding='max_length', truncation=True)\n",
    "\n",
    "batch_size = 32\n",
    "eval_batch_size = 16\n",
    "\n",
    "my_tokenize = lambda x: tokenize(x, context=True)\n",
    "\n",
    "train_dataset = train_dataset.map(my_tokenize, batched=True, batch_size=batch_size)\n",
    "dev_dataset = dev_dataset.map(my_tokenize, batched=True, batch_size=eval_batch_size)\n",
    "test_dataset = test_dataset.map(my_tokenize, batched=True, batch_size=eval_batch_size)\n",
    "\n"
   ]
  },
  {
   "cell_type": "code",
   "execution_count": 7,
   "id": "unknown-berlin",
   "metadata": {},
   "outputs": [
    {
     "data": {
      "application/vnd.jupyter.widget-view+json": {
       "model_id": "7796e1466aaa446ba76274df69aef545",
       "version_major": 2,
       "version_minor": 0
      },
      "text/plain": [
       "HBox(children=(FloatProgress(value=0.0, max=5338.0), HTML(value='')))"
      ]
     },
     "metadata": {},
     "output_type": "display_data"
    },
    {
     "name": "stdout",
     "output_type": "stream",
     "text": [
      "\n"
     ]
    },
    {
     "data": {
      "application/vnd.jupyter.widget-view+json": {
       "model_id": "4f0e0c0cbc3245a5a7eb5af11414f734",
       "version_major": 2,
       "version_minor": 0
      },
      "text/plain": [
       "HBox(children=(FloatProgress(value=0.0, max=1364.0), HTML(value='')))"
      ]
     },
     "metadata": {},
     "output_type": "display_data"
    },
    {
     "name": "stdout",
     "output_type": "stream",
     "text": [
      "\n"
     ]
    },
    {
     "data": {
      "application/vnd.jupyter.widget-view+json": {
       "model_id": "13322a8b9b944ca08345834eb4b40497",
       "version_major": 2,
       "version_minor": 0
      },
      "text/plain": [
       "HBox(children=(FloatProgress(value=0.0, max=1612.0), HTML(value='')))"
      ]
     },
     "metadata": {},
     "output_type": "display_data"
    },
    {
     "name": "stdout",
     "output_type": "stream",
     "text": [
      "\n"
     ]
    }
   ],
   "source": [
    "import torch\n",
    "def format_dataset(dataset):\n",
    "    def get_category_labels(examples):\n",
    "        return {'labels': torch.Tensor([examples[cat] for cat in extended_hate_categories])}\n",
    "    dataset = dataset.map(get_category_labels)\n",
    "    dataset.set_format(type='torch', columns=['input_ids', 'token_type_ids', 'attention_mask', 'labels'])\n",
    "    return dataset\n",
    "\n",
    "train_dataset = format_dataset(train_dataset)\n",
    "dev_dataset = format_dataset(dev_dataset)\n",
    "test_dataset = format_dataset(test_dataset)\n"
   ]
  },
  {
   "cell_type": "markdown",
   "id": "parallel-manual",
   "metadata": {},
   "source": [
    "Esta API de mierda vive cambiando todo el tiempo"
   ]
  },
  {
   "cell_type": "code",
   "execution_count": 8,
   "id": "radio-renaissance",
   "metadata": {},
   "outputs": [],
   "source": [
    "from hatedetection.metrics import compute_category_metrics\n",
    "from transformers import Trainer, TrainingArguments\n",
    "\n",
    "\n",
    "\n",
    "training_args = TrainingArguments(\n",
    "    output_dir='./results',\n",
    "    per_device_train_batch_size=batch_size,\n",
    "    per_device_eval_batch_size=eval_batch_size,\n",
    "    evaluation_strategy=\"epoch\",\n",
    "    do_eval=False,\n",
    "    weight_decay=0.01,\n",
    "    logging_dir='./logs',\n",
    "    load_best_model_at_end=True,\n",
    "    metric_for_best_model=\"f1\",\n",
    ")\n",
    "\n",
    "results = []\n",
    "\n",
    "trainer = Trainer(\n",
    "    model=model,\n",
    "    args=training_args,\n",
    "    compute_metrics=compute_category_metrics,\n",
    "    train_dataset=train_dataset,\n",
    "    eval_dataset=dev_dataset,\n",
    ")"
   ]
  },
  {
   "cell_type": "code",
   "execution_count": 93,
   "id": "relative-description",
   "metadata": {},
   "outputs": [
    {
     "data": {
      "text/html": [
       "<div>\n",
       "<style scoped>\n",
       "    .dataframe tbody tr th:only-of-type {\n",
       "        vertical-align: middle;\n",
       "    }\n",
       "\n",
       "    .dataframe tbody tr th {\n",
       "        vertical-align: top;\n",
       "    }\n",
       "\n",
       "    .dataframe thead th {\n",
       "        text-align: right;\n",
       "    }\n",
       "</style>\n",
       "<table border=\"1\" class=\"dataframe\">\n",
       "  <thead>\n",
       "    <tr style=\"text-align: right;\">\n",
       "      <th></th>\n",
       "      <th>0</th>\n",
       "    </tr>\n",
       "  </thead>\n",
       "  <tbody>\n",
       "    <tr>\n",
       "      <th>eval_loss</th>\n",
       "      <td>1.155769e-01</td>\n",
       "    </tr>\n",
       "    <tr>\n",
       "      <th>eval_calls_f1</th>\n",
       "      <td>8.991542e-01</td>\n",
       "    </tr>\n",
       "    <tr>\n",
       "      <th>eval_women_f1</th>\n",
       "      <td>8.897097e-01</td>\n",
       "    </tr>\n",
       "    <tr>\n",
       "      <th>eval_lgbti_f1</th>\n",
       "      <td>9.659893e-01</td>\n",
       "    </tr>\n",
       "    <tr>\n",
       "      <th>eval_racism_f1</th>\n",
       "      <td>9.672970e-01</td>\n",
       "    </tr>\n",
       "    <tr>\n",
       "      <th>eval_class_f1</th>\n",
       "      <td>9.031219e-01</td>\n",
       "    </tr>\n",
       "    <tr>\n",
       "      <th>eval_politics_f1</th>\n",
       "      <td>8.934258e-01</td>\n",
       "    </tr>\n",
       "    <tr>\n",
       "      <th>eval_disabled_f1</th>\n",
       "      <td>8.720998e-01</td>\n",
       "    </tr>\n",
       "    <tr>\n",
       "      <th>eval_appearance_f1</th>\n",
       "      <td>9.217695e-01</td>\n",
       "    </tr>\n",
       "    <tr>\n",
       "      <th>eval_criminal_f1</th>\n",
       "      <td>9.778483e-01</td>\n",
       "    </tr>\n",
       "    <tr>\n",
       "      <th>eval_mean_f1</th>\n",
       "      <td>9.211573e-01</td>\n",
       "    </tr>\n",
       "    <tr>\n",
       "      <th>eval_runtime</th>\n",
       "      <td>1.764530e+01</td>\n",
       "    </tr>\n",
       "    <tr>\n",
       "      <th>eval_samples_per_second</th>\n",
       "      <td>7.730100e+01</td>\n",
       "    </tr>\n",
       "    <tr>\n",
       "      <th>eval_mem_cpu_alloc_delta</th>\n",
       "      <td>2.035340e+05</td>\n",
       "    </tr>\n",
       "    <tr>\n",
       "      <th>eval_mem_gpu_alloc_delta</th>\n",
       "      <td>0.000000e+00</td>\n",
       "    </tr>\n",
       "    <tr>\n",
       "      <th>eval_mem_cpu_peaked_delta</th>\n",
       "      <td>2.702530e+05</td>\n",
       "    </tr>\n",
       "    <tr>\n",
       "      <th>eval_mem_gpu_peaked_delta</th>\n",
       "      <td>1.890196e+08</td>\n",
       "    </tr>\n",
       "  </tbody>\n",
       "</table>\n",
       "</div>"
      ],
      "text/plain": [
       "                                      0\n",
       "eval_loss                  1.155769e-01\n",
       "eval_calls_f1              8.991542e-01\n",
       "eval_women_f1              8.897097e-01\n",
       "eval_lgbti_f1              9.659893e-01\n",
       "eval_racism_f1             9.672970e-01\n",
       "eval_class_f1              9.031219e-01\n",
       "eval_politics_f1           8.934258e-01\n",
       "eval_disabled_f1           8.720998e-01\n",
       "eval_appearance_f1         9.217695e-01\n",
       "eval_criminal_f1           9.778483e-01\n",
       "eval_mean_f1               9.211573e-01\n",
       "eval_runtime               1.764530e+01\n",
       "eval_samples_per_second    7.730100e+01\n",
       "eval_mem_cpu_alloc_delta   2.035340e+05\n",
       "eval_mem_gpu_alloc_delta   0.000000e+00\n",
       "eval_mem_cpu_peaked_delta  2.702530e+05\n",
       "eval_mem_gpu_peaked_delta  1.890196e+08"
      ]
     },
     "execution_count": 93,
     "metadata": {},
     "output_type": "execute_result"
    }
   ],
   "source": [
    "\n",
    "pd.options.display.max_columns = 40\n",
    "pd.DataFrame([trainer.evaluate(dev_dataset)]).T"
   ]
  },
  {
   "cell_type": "code",
   "execution_count": 91,
   "id": "stopped-butter",
   "metadata": {},
   "outputs": [],
   "source": [
    "from hatedetection.predict import predict_category\n",
    "\n",
    "def predict(sentence, context=None):\n",
    "    return predict_category(model, tokenizer, sentence, context=context)"
   ]
  },
  {
   "cell_type": "code",
   "execution_count": 92,
   "id": "promising-viewer",
   "metadata": {},
   "outputs": [
    {
     "name": "stdout",
     "output_type": "stream",
     "text": [
      "Negro chorro de mierda\n",
      "['RACISM', 'CRIMINAL']\n",
      "Este país está lleno de vagos\n",
      "['CRIMINAL']\n",
      "Cuarenta ladrillos y esto se arregla...\n",
      "['CRIMINAL']\n",
      "Bala\n",
      "['CALLS', 'CRIMINAL']\n",
      "Videla volvé!\n",
      "['CRIMINAL']\n",
      "Ahhhn y donde estan las feministas de mierda eh?\n",
      "['WOMEN']\n",
      "Y qué van a decir los chinos sobre este desastre?\n",
      "['RACISM']\n"
     ]
    }
   ],
   "source": [
    "\n",
    "\n",
    "context = \"Motín de presos en la cárcel de Devoto\"\n",
    "\n",
    "comments = [\n",
    "    \"Negro chorro de mierda\",\n",
    "    \"Este país está lleno de vagos\",\n",
    "    \"Cuarenta ladrillos y esto se arregla...\",\n",
    "    \"Bala\",\n",
    "    \"Videla volvé!\",\n",
    "    \"Ahhhn y donde estan las feministas de mierda eh?\",\n",
    "    \"Y qué van a decir los chinos sobre este desastre?\",\n",
    "]\n",
    "\n",
    "for comment in comments:\n",
    "    print(comment)\n",
    "    prediction = predict(comment, context=context)\n",
    "    print(prediction)"
   ]
  },
  {
   "cell_type": "code",
   "execution_count": 44,
   "id": "local-panama",
   "metadata": {},
   "outputs": [
    {
     "name": "stdout",
     "output_type": "stream",
     "text": [
      "Corrupta\n",
      "['WOMEN']\n",
      "Callate petera\n",
      "['WOMEN']\n",
      "Gato viejo\n",
      "['WOMEN', 'APPEARANCE']\n",
      "Quiere bijaaa\n",
      "['WOMEN']\n",
      "Toda cirujeada esta\n",
      "['WOMEN']\n",
      "Estás gordita mamu\n",
      "['APPEARANCE']\n",
      "Che y de los chinos come murcielagos no tenés nada para decir?\n",
      "['RACISM']\n"
     ]
    }
   ],
   "source": [
    "context=\"Florencia Peña dio una entrevista a Infobae\"\n",
    "\n",
    "comments = [\n",
    "    \"Corrupta\",\n",
    "    \"Callate petera\",\n",
    "    \"Gato viejo\",\n",
    "    \"Quiere bijaaa\",\n",
    "    \"Toda cirujeada esta\",\n",
    "    \"Estás gordita mamu\",\n",
    "    \"Che y de los chinos come murcielagos no tenés nada para decir?\",\n",
    "]\n",
    "\n",
    "for comment in comments:\n",
    "    print(comment)\n",
    "    prediction = predict(comment, context=context)\n",
    "    print(prediction)\n",
    "\n"
   ]
  },
  {
   "cell_type": "code",
   "execution_count": 43,
   "id": "biblical-desire",
   "metadata": {},
   "outputs": [
    {
     "name": "stdout",
     "output_type": "stream",
     "text": [
      "Soreta\n",
      "['APPEARANCE']\n",
      "Callate petera\n",
      "['WOMEN']\n",
      "Gato viejo\n",
      "['APPEARANCE']\n",
      "Toda cirujeada esta\n",
      "['DISABLED']\n",
      "Estás gordita mamu\n",
      "['APPEARANCE']\n",
      "Che y de los chinos come murcielagos no tenés nada para decir?\n",
      "[]\n"
     ]
    }
   ],
   "source": [
    "context=\"Cristina Fernández de Kirchner inaugura una obra en Tierra del Fuego\"\n",
    "\n",
    "comments = [\n",
    "    \"Soreta\",\n",
    "    \"Callate petera\",\n",
    "    \"Gato viejo\",\n",
    "    \"Toda cirujeada esta\",\n",
    "    \"Estás gordita mamu\",\n",
    "    \"Che y de los chinos come murcielagos no tenés nada para decir?\",\n",
    "]\n",
    "\n",
    "for comment in comments:\n",
    "    print(comment)\n",
    "    prediction = predict(comment, context=context)\n",
    "    print(prediction)\n",
    "\n"
   ]
  },
  {
   "cell_type": "code",
   "execution_count": 61,
   "id": "recovered-statement",
   "metadata": {},
   "outputs": [
    {
     "name": "stdout",
     "output_type": "stream",
     "text": [
      "Noticia:\n",
      "Juan y Fernando Pérez se casarán por civil durante la pandemia \n",
      "\n",
      "\n",
      "\n",
      "Comentarios\n",
      "Ay pero qué asco\n",
      "['WOMEN', 'LGBTI']\n",
      "Viejos putos\n",
      "['LGBTI', 'APPEARANCE']\n",
      "Trolos roñosos\n",
      "['LGBTI', 'APPEARANCE']\n",
      "Desviados!\n",
      "['WOMEN', 'LGBTI']\n",
      "Hay que mandarlos a una isla en el medio del oceano a estos pervertidos\n",
      "['CALLS', 'LGBTI']\n",
      "Basta de topus, coronavirus, chinos y Soros\n",
      "[]\n",
      "Che y las feminazis hijas de puta no tienen nada para decir de esto?\n",
      "['WOMEN']\n",
      "Pero qué asco por favor\n",
      "['WOMEN', 'LGBTI']\n",
      "Puedo vomitar?\n",
      "['WOMEN', 'LGBTI']\n",
      "Jajaja no seas trolo Raúl\n",
      "['LGBTI']\n",
      "Asco\n",
      "['WOMEN', 'LGBTI']\n",
      "Esta gente no teme a Dios\n",
      "['LGBTI']\n"
     ]
    }
   ],
   "source": [
    "context=\"Juan y Fernando Pérez se casarán por civil durante la pandemia\"\n",
    "\n",
    "comments = [\n",
    "    \"Ay pero qué asco\",\n",
    "    \"Viejos putos\",\n",
    "    \"Trolos roñosos\",\n",
    "    \"Desviados!\",\n",
    "    \"Hay que mandarlos a una isla en el medio del oceano a estos pervertidos\",\n",
    "    \"Basta de topus, coronavirus, chinos y Soros\",\n",
    "    \"Che y las feminazis hijas de puta no tienen nada para decir de esto?\",\n",
    "    \"Pero qué asco por favor\",\n",
    "    \"Puedo vomitar?\",\n",
    "    \"Jajaja no seas trolo Raúl\",\n",
    "    \"Asco\",\n",
    "    \"Esta gente no teme a Dios\"\n",
    "]\n",
    "\n",
    "print(\"Noticia:\")\n",
    "print(context, \"\\n\"*3)\n",
    "\n",
    "print(\"Comentarios\")\n",
    "for comment in comments:\n",
    "    print(comment)\n",
    "    prediction = predict(comment, context=context)\n",
    "    print(prediction)\n",
    "\n"
   ]
  },
  {
   "cell_type": "code",
   "execution_count": null,
   "id": "complete-leather",
   "metadata": {},
   "outputs": [],
   "source": [
    "predict(\"Quiere bijaaa\", context=\"Florencia Peña dio una entrevista a Infobae\")"
   ]
  },
  {
   "cell_type": "code",
   "execution_count": 67,
   "id": "identified-richardson",
   "metadata": {},
   "outputs": [
    {
     "name": "stdout",
     "output_type": "stream",
     "text": [
      "Noticia:\n",
      "Cristiano Ronaldo metió su gol número 812 y es el mayor goleador de la historia \n",
      "\n",
      "\n",
      "\n",
      "Comentarios\n",
      "Asco\n",
      "[]\n",
      "Esta gente no teme a Dios\n",
      "[]\n",
      "A este Cristiano le gusta el sable\n",
      "['LGBTI']\n",
      "Se sentó encima de la pelota?\n",
      "[]\n",
      "Es más uto este Cristiano\n",
      "['LGBTI']\n"
     ]
    }
   ],
   "source": [
    "context=\"Cristiano Ronaldo metió su gol número 812 y es el mayor goleador de la historia\"\n",
    "\n",
    "comments = [\n",
    "    \"Asco\",\n",
    "    \"Esta gente no teme a Dios\",\n",
    "    \"A este Cristiano le gusta el sable\",\n",
    "    \"Se sentó encima de la pelota?\",\n",
    "    \"Es más uto este Cristiano\"\n",
    "]\n",
    "\n",
    "print(\"Noticia:\")\n",
    "print(context, \"\\n\"*3)\n",
    "\n",
    "print(\"Comentarios\")\n",
    "for comment in comments:\n",
    "    print(comment)\n",
    "    prediction = predict(comment, context=context)\n",
    "    print(prediction)\n",
    "\n"
   ]
  },
  {
   "cell_type": "code",
   "execution_count": 79,
   "id": "played-diary",
   "metadata": {},
   "outputs": [
    {
     "name": "stdout",
     "output_type": "stream",
     "text": [
      "Noticia:\n",
      "Romina C, una chica trans, nos cuenta sus vacaciones en Cancún \n",
      "\n",
      "\n",
      "\n",
      "Comentarios\n",
      "Asco\n",
      "['LGBTI']\n",
      "Esta gente no teme a Dios\n",
      "['LGBTI']\n",
      "Me parece que se llama Romino\n",
      "['LGBTI']\n",
      "Es un camionero!\n",
      "['LGBTI']\n",
      "Esta tal Romina que muestre el documento\n",
      "['LGBTI']\n",
      "Romina es un flor de travesti\n",
      "['LGBTI']\n",
      "Habría que ver si viene con paquete la tal Romina\n",
      "['LGBTI']\n",
      "Romina es macho\n",
      "['LGBTI']\n"
     ]
    }
   ],
   "source": [
    "context=\"Romina C, una chica trans, nos cuenta sus vacaciones en Cancún\"\n",
    "\n",
    "comments = [\n",
    "    \"Asco\",\n",
    "    \"Esta gente no teme a Dios\",\n",
    "    \"Me parece que se llama Romino\",\n",
    "    \"Es un camionero!\",\n",
    "    \"Esta tal Romina que muestre el documento\",\n",
    "    \"Romina es un flor de travesti\",\n",
    "    \"Habría que ver si viene con paquete la tal Romina\",\n",
    "    \"Romina es macho\",\n",
    "]\n",
    "\n",
    "print(\"Noticia:\")\n",
    "print(context, \"\\n\"*3)\n",
    "\n",
    "print(\"Comentarios\")\n",
    "for comment in comments:\n",
    "    print(comment)\n",
    "    prediction = predict(comment, context=context)\n",
    "    print(prediction)\n",
    "\n"
   ]
  },
  {
   "cell_type": "code",
   "execution_count": 90,
   "id": "atmospheric-moderator",
   "metadata": {},
   "outputs": [
    {
     "name": "stdout",
     "output_type": "stream",
     "text": [
      "Noticia:\n",
      "Romina C nos cuenta sus vacaciones en Cancún \n",
      "\n",
      "\n",
      "\n",
      "Comentarios\n",
      "Asco\n",
      "['WOMEN']\n",
      "Esta gente no teme a Dios\n",
      "['WOMEN']\n",
      "Me parece que se llama Romino\n",
      "['WOMEN']\n",
      "Es un camionero!\n",
      "['WOMEN']\n",
      "Esta tal Romina que muestre el documento\n",
      "['WOMEN']\n",
      "Romina es un flor de travesti\n",
      "['LGBTI']\n",
      "Habría que ver si viene con paquete la tal Romina\n",
      "['WOMEN']\n",
      "Romina es macho\n",
      "['LGBTI']\n",
      "Qué tiene entre las piernas?\n",
      "['WOMEN']\n",
      "Me parece que viene con sorpresita jajaja\n",
      "['WOMEN']\n",
      "Vino con picaporte?\n",
      "['WOMEN']\n",
      "Naciste y seguís siendo hombre\n",
      "['LGBTI']\n",
      "Callate varón!\n",
      "['WOMEN']\n",
      "Tiene las gambas del defensor de Cambáceres\n",
      "['WOMEN']\n",
      "Y esta quién es?\n",
      "['WOMEN']\n"
     ]
    }
   ],
   "source": [
    "context=\"Romina C nos cuenta sus vacaciones en Cancún\"\n",
    "\n",
    "comments = [\n",
    "    \"Asco\",\n",
    "    \"Esta gente no teme a Dios\",\n",
    "    \"Me parece que se llama Romino\",\n",
    "    \"Es un camionero!\",\n",
    "    \"Esta tal Romina que muestre el documento\",\n",
    "    \"Romina es un flor de travesti\",\n",
    "    \"Habría que ver si viene con paquete la tal Romina\",\n",
    "    \"Romina es macho\",\n",
    "    \"Qué tiene entre las piernas?\",\n",
    "    \"Me parece que viene con sorpresita jajaja\",\n",
    "    \"Vino con picaporte?\",\n",
    "    \"Naciste y seguís siendo hombre\",\n",
    "    \"Callate varón!\",\n",
    "    \"Tiene las gambas del defensor de Cambáceres\",\n",
    "    \"Y esta quién es?\",\n",
    "]\n",
    "\n",
    "print(\"Noticia:\")\n",
    "print(context, \"\\n\"*3)\n",
    "\n",
    "print(\"Comentarios\")\n",
    "for comment in comments:\n",
    "    print(comment)\n",
    "    prediction = predict(comment, context=context)\n",
    "    print(prediction)\n",
    "\n"
   ]
  },
  {
   "cell_type": "code",
   "execution_count": 87,
   "id": "unauthorized-democrat",
   "metadata": {},
   "outputs": [
    {
     "data": {
      "text/plain": [
       "['WOMEN']"
      ]
     },
     "execution_count": 87,
     "metadata": {},
     "output_type": "execute_result"
    }
   ],
   "source": [
    "predict(\"A esta trola hay que agarrarla de a varios para que sepa lo que es bueno\", context=\"Romina C nos cuenta sus vacaciones en Cancún\")"
   ]
  },
  {
   "cell_type": "markdown",
   "id": "studied-drinking",
   "metadata": {},
   "source": [
    "Acá no encuentra el llamado a la acción...ahora, si lo cambiamos ligeramente..."
   ]
  },
  {
   "cell_type": "code",
   "execution_count": 88,
   "id": "completed-thing",
   "metadata": {},
   "outputs": [
    {
     "data": {
      "text/plain": [
       "['WOMEN', 'RACISM']"
      ]
     },
     "execution_count": 88,
     "metadata": {},
     "output_type": "execute_result"
    }
   ],
   "source": [
    "predict(\"A esta negra trola hay que agarrarla de a varios para que sepa lo que es bueno\", context=\"Romina C nos cuenta sus vacaciones en Cancún\")"
   ]
  },
  {
   "cell_type": "code",
   "execution_count": 30,
   "id": "impressed-treaty",
   "metadata": {},
   "outputs": [
    {
     "data": {
      "text/plain": [
       "['CLASS']"
      ]
     },
     "execution_count": 30,
     "metadata": {},
     "output_type": "execute_result"
    }
   ],
   "source": [
    "predict(\"Viven del Estado, esta gente sinceramente no tiene remedio\")"
   ]
  },
  {
   "cell_type": "code",
   "execution_count": 31,
   "id": "awful-champion",
   "metadata": {},
   "outputs": [
    {
     "data": {
      "text/plain": [
       "['LGBTI']"
      ]
     },
     "execution_count": 31,
     "metadata": {},
     "output_type": "execute_result"
    }
   ],
   "source": [
    "predict(\"Tenés dos pelotas entre las piernas amigazo\")"
   ]
  },
  {
   "cell_type": "code",
   "execution_count": 34,
   "id": "solar-prophet",
   "metadata": {},
   "outputs": [
    {
     "data": {
      "text/plain": [
       "'[CLS] [UNK] [SEP]'"
      ]
     },
     "execution_count": 34,
     "metadata": {},
     "output_type": "execute_result"
    }
   ],
   "source": [
    "tokenizer.decode(tokenizer.encode(\"🤢\"))"
   ]
  }
 ],
 "metadata": {
  "kernelspec": {
   "display_name": "Python 3",
   "language": "python",
   "name": "python3"
  },
  "language_info": {
   "codemirror_mode": {
    "name": "ipython",
    "version": 3
   },
   "file_extension": ".py",
   "mimetype": "text/x-python",
   "name": "python",
   "nbconvert_exporter": "python",
   "pygments_lexer": "ipython3",
   "version": "3.8.5"
  }
 },
 "nbformat": 4,
 "nbformat_minor": 5
}
