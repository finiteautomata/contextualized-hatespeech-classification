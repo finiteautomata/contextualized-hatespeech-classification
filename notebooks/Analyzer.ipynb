{
 "cells": [
  {
   "cell_type": "markdown",
   "id": "assisted-sheet",
   "metadata": {},
   "source": [
    "# Hatespeech classification pipeline"
   ]
  },
  {
   "cell_type": "code",
   "execution_count": 58,
   "id": "natural-unknown",
   "metadata": {},
   "outputs": [],
   "source": [
    "import torch\n",
    "from hatedetection import BertForSequenceMultiClassification\n",
    "from hatedetection.preprocessing import preprocess_tweet\n",
    "from hatedetection.categories import extended_hate_categories\n",
    "from transformers import AutoTokenizer, AutoModelForSequenceClassification\n",
    "from torch.nn import functional as F\n",
    "\n",
    "class HateClassificationOutput:\n",
    "    \"\"\"\n",
    "    Dummy class for classification output\n",
    "    \"\"\"\n",
    "    def __init__(self, hateful, calls_to_action=None, categories=[]):\n",
    "        \"\"\"\n",
    "        Constructor\n",
    "        \"\"\"\n",
    "        self.hateful = hateful\n",
    "        self.calls_to_action = calls_to_action\n",
    "        self.categories = categories\n",
    "    \n",
    "    def __repr__(self):\n",
    "        ret = f\"{self.__class__.__name__}\"\n",
    "        \n",
    "        if not self.hateful:\n",
    "            ret += \"(hateful=False)\"\n",
    "            return ret\n",
    "        else:\n",
    "            ret += f\"(hateful=True, calls_to_action={self.calls_to_action}, categories={self.categories}\"\n",
    "            return ret\n",
    "    \n",
    "class HateSpeechAnalyzer:\n",
    "    \"\"\"\n",
    "    Wrapper to use HS models as black-box\n",
    "    \"\"\"\n",
    "    def __init__(self, base_model_name, category_model_name, use_context=False):\n",
    "        \"\"\"\n",
    "        Constructor for HateSpeechAnalyzer class\n",
    "        \"\"\"\n",
    "        self.tokenizer = AutoTokenizer.from_pretrained(base_model_name)\n",
    "        self.base_model = AutoModelForSequenceClassification.from_pretrained(\n",
    "            base_model_name, num_labels=2,\n",
    "        )\n",
    "        \n",
    "\n",
    "        self.category_model = BertForSequenceMultiClassification.from_pretrained(\n",
    "            category_model_name, num_labels=len(extended_hate_categories)\n",
    "        )\n",
    "\n",
    "        max_length = 256 if use_context else 128\n",
    "        \n",
    "        self.tokenizer.model_max_length = max_length\n",
    "        \n",
    "\n",
    "    def predict(self, sentence, context=None):\n",
    "        \"\"\"\n",
    "        \n",
    "        \"\"\"\n",
    "        device = self.base_model.device\n",
    "\n",
    "        args = []\n",
    "\n",
    "\n",
    "        # If context, prepend it\n",
    "        if context:\n",
    "            args.append(context)\n",
    "        args.append(preprocess_tweet(sentence))\n",
    "\n",
    "        idx = self.tokenizer.encode(*args)\n",
    "        # Reshape to be (1, L) and send to model d\n",
    "        idx = torch.LongTensor(idx).view(1, -1).to(device)\n",
    "        \n",
    "        outs = self.base_model(idx)\n",
    "        hateful = bool(outs.logits.argmax().item())\n",
    "        \n",
    "        if hateful:\n",
    "            \"\"\"\n",
    "            Look for categories\n",
    "            \"\"\"\n",
    "            category_output = self.category_model(idx)\n",
    "            category_output = category_output.logits.detach().cpu().numpy()[0]\n",
    "\n",
    "            # If logit of cat is > 0 this means sigmoid(logit) > 0.5.\n",
    "            categories = [cat for cat, out in list(zip(extended_hate_categories, category_output > 0)) if out]\n",
    "            \n",
    "            calls_to_action = \"CALLS\" in categories\n",
    "            if calls_to_action:\n",
    "                categories.remove(\"CALLS\")\n",
    "            \n",
    "            return HateClassificationOutput(hateful=hateful, calls_to_action=calls_to_action, categories=categories)\n",
    "        \n",
    "        return HateClassificationOutput(hateful=hateful)\n",
    "    "
   ]
  },
  {
   "cell_type": "code",
   "execution_count": 59,
   "id": "native-tractor",
   "metadata": {},
   "outputs": [],
   "source": [
    "analyzer = HateSpeechAnalyzer(\"../models/bert-non-contextualized-hate-speech-es/\", \"../models/bert-non-contextualized-hate-category-es/\")"
   ]
  },
  {
   "cell_type": "code",
   "execution_count": 61,
   "id": "velvet-courtesy",
   "metadata": {},
   "outputs": [
    {
     "data": {
      "text/plain": [
       "HateClassificationOutput(hateful=True, calls_to_action=True, categories=['RACISM']"
      ]
     },
     "execution_count": 61,
     "metadata": {},
     "output_type": "execute_result"
    }
   ],
   "source": [
    "analyzer.predict(\"Amarillos roñosos de mierda, mátenlos\")"
   ]
  },
  {
   "cell_type": "code",
   "execution_count": 62,
   "id": "overall-painting",
   "metadata": {},
   "outputs": [
    {
     "data": {
      "text/plain": [
       "HateClassificationOutput(hateful=True, calls_to_action=True, categories=['RACISM']"
      ]
     },
     "execution_count": 62,
     "metadata": {},
     "output_type": "execute_result"
    }
   ],
   "source": [
    "analyzer.predict(\"Judíos roñosos de mierda, mátenlos\")"
   ]
  },
  {
   "cell_type": "code",
   "execution_count": 63,
   "id": "coated-wyoming",
   "metadata": {},
   "outputs": [
    {
     "data": {
      "text/plain": [
       "HateClassificationOutput(hateful=True, calls_to_action=True, categories=['RACISM']"
      ]
     },
     "execution_count": 63,
     "metadata": {},
     "output_type": "execute_result"
    }
   ],
   "source": [
    "analyzer.predict(\"Rusos de mierda, mátenlos\")"
   ]
  },
  {
   "cell_type": "code",
   "execution_count": 67,
   "id": "convinced-penetration",
   "metadata": {},
   "outputs": [
    {
     "data": {
      "text/plain": [
       "HateClassificationOutput(hateful=True, calls_to_action=False, categories=['POLITICS']"
      ]
     },
     "execution_count": 67,
     "metadata": {},
     "output_type": "execute_result"
    }
   ],
   "source": [
    "analyzer.predict(\"Hay que matar a todos las kukas\")"
   ]
  },
  {
   "cell_type": "code",
   "execution_count": 68,
   "id": "worth-merchandise",
   "metadata": {},
   "outputs": [
    {
     "data": {
      "text/plain": [
       "HateClassificationOutput(hateful=True, calls_to_action=True, categories=['POLITICS']"
      ]
     },
     "execution_count": 68,
     "metadata": {},
     "output_type": "execute_result"
    }
   ],
   "source": [
    "analyzer.predict(\"Hay que matar a las cucarachas\")"
   ]
  },
  {
   "cell_type": "code",
   "execution_count": 71,
   "id": "republican-adoption",
   "metadata": {},
   "outputs": [
    {
     "data": {
      "text/plain": [
       "HateClassificationOutput(hateful=True, calls_to_action=True, categories=['WOMEN', 'CRIMINAL']"
      ]
     },
     "execution_count": 71,
     "metadata": {},
     "output_type": "execute_result"
    }
   ],
   "source": [
    "analyzer.predict(\"Maten a las feministas\")"
   ]
  },
  {
   "cell_type": "code",
   "execution_count": 75,
   "id": "quiet-choir",
   "metadata": {},
   "outputs": [
    {
     "data": {
      "text/plain": [
       "HateClassificationOutput(hateful=True, calls_to_action=True, categories=['RACISM', 'CRIMINAL']"
      ]
     },
     "execution_count": 75,
     "metadata": {},
     "output_type": "execute_result"
    }
   ],
   "source": [
    "analyzer.predict(\"Un par de balazos a esos negros\")"
   ]
  },
  {
   "cell_type": "code",
   "execution_count": 76,
   "id": "formal-london",
   "metadata": {},
   "outputs": [
    {
     "data": {
      "text/plain": [
       "HateClassificationOutput(hateful=True, calls_to_action=False, categories=['CLASS']"
      ]
     },
     "execution_count": 76,
     "metadata": {},
     "output_type": "execute_result"
    }
   ],
   "source": [
    "analyzer.predict(\"Una pala para esos vagos\")"
   ]
  },
  {
   "cell_type": "markdown",
   "id": "trained-saint",
   "metadata": {},
   "source": [
    "# Contextualizado"
   ]
  },
  {
   "cell_type": "code",
   "execution_count": 65,
   "id": "charming-punishment",
   "metadata": {},
   "outputs": [],
   "source": [
    "contextualized_analyzer = HateSpeechAnalyzer(\n",
    "    \"../models/bert-contextualized-hate-speech-es/\", \"../models/bert-contextualized-hate-category-es/\", use_context=True\n",
    ")"
   ]
  },
  {
   "cell_type": "code",
   "execution_count": 84,
   "id": "orange-aviation",
   "metadata": {},
   "outputs": [
    {
     "name": "stdout",
     "output_type": "stream",
     "text": [
      "Contexto: Motín de presos en la cárcel de Devoto \n",
      "\n",
      "\n",
      "Comentarios: \n",
      "\n",
      "0   -- Negro chorro de mierda\n",
      "HateClassificationOutput(hateful=True, calls_to_action=False, categories=['RACISM', 'CRIMINAL']\n",
      "Discriminatorio contra RACISM - CRIMINAL\n",
      "1   -- Este país está lleno de vagos\n",
      "HateClassificationOutput(hateful=False)\n",
      "No discriminatorio\n",
      "2   -- Cuarenta ladrillos y esto se arregla...\n",
      "HateClassificationOutput(hateful=False)\n",
      "No discriminatorio\n",
      "3   -- Bala\n",
      "HateClassificationOutput(hateful=True, calls_to_action=True, categories=['CRIMINAL']\n",
      "Discriminatorio y llama a la acción contra CRIMINAL\n",
      "4   -- Videla volvé!\n",
      "HateClassificationOutput(hateful=False)\n",
      "No discriminatorio\n",
      "5   -- Ahhhn y donde estan las feministas de mierda eh?\n",
      "HateClassificationOutput(hateful=False)\n",
      "No discriminatorio\n",
      "6   -- Y qué van a decir los chinos sobre este desastre?\n",
      "HateClassificationOutput(hateful=False)\n",
      "No discriminatorio\n"
     ]
    }
   ],
   "source": [
    "def show_context_and_comments(analyzer, context, comments):\n",
    "    print(f\"Contexto: {context}\", \"\\n\"*2)\n",
    "    print(\"Comentarios:\", \"\\n\")\n",
    "    \n",
    "    for i, comment in enumerate(comments):\n",
    "        print(f\"{i:<3} -- {comment}\")\n",
    "        prediction = analyzer.predict(comment, context=context)\n",
    "        if prediction.hateful:\n",
    "            rep = \"Discriminatorio\"\n",
    "            \n",
    "            if prediction.calls_to_action:\n",
    "                rep+= \" y llama a la acción\"\n",
    "                \n",
    "            rep += \" contra \" + ' - '.join(prediction.categories)\n",
    "            \n",
    "            print(rep)\n",
    "        else:\n",
    "            print(\"No discriminatorio\")\n",
    "\n",
    "context = \"Motín de presos en la cárcel de Devoto\"\n",
    "\n",
    "comments = [\n",
    "    \"Negro chorro de mierda\",\n",
    "    \"Este país está lleno de vagos\",\n",
    "    \"Cuarenta ladrillos y esto se arregla...\",\n",
    "    \"Bala\",\n",
    "    \"Videla volvé!\",\n",
    "    \"Ahhhn y donde estan las feministas de mierda eh?\",\n",
    "    \"Y qué van a decir los chinos sobre este desastre?\",\n",
    "]\n",
    "\n",
    "show_context_and_comments(contextualized_analyzer, context, comments)"
   ]
  },
  {
   "cell_type": "code",
   "execution_count": null,
   "id": "found-milan",
   "metadata": {},
   "outputs": [],
   "source": []
  }
 ],
 "metadata": {
  "kernelspec": {
   "display_name": "Python 3",
   "language": "python",
   "name": "python3"
  },
  "language_info": {
   "codemirror_mode": {
    "name": "ipython",
    "version": 3
   },
   "file_extension": ".py",
   "mimetype": "text/x-python",
   "name": "python",
   "nbconvert_exporter": "python",
   "pygments_lexer": "ipython3",
   "version": "3.8.5"
  }
 },
 "nbformat": 4,
 "nbformat_minor": 5
}
