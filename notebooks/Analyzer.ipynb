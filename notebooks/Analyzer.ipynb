{
 "cells": [
  {
   "cell_type": "markdown",
   "metadata": {},
   "source": [
    "# Hatespeech classification pipeline"
   ]
  },
  {
   "cell_type": "code",
   "execution_count": 2,
   "metadata": {},
   "outputs": [
    {
     "name": "stdout",
     "output_type": "stream",
     "text": [
      "The autoreload extension is already loaded. To reload it, use:\n",
      "  %reload_ext autoreload\n"
     ]
    }
   ],
   "source": [
    "%load_ext autoreload\n",
    "%autoreload 2\n",
    "\n",
    "from hatedetection import HateSpeechAnalyzer\n",
    "\n",
    "analyzer = HateSpeechAnalyzer(\"finiteautomata/beto-fine-grained-hatespeech-news\", use_context=True)"
   ]
  },
  {
   "cell_type": "code",
   "execution_count": 3,
   "metadata": {},
   "outputs": [
    {
     "data": {
      "text/plain": [
       "HateClassificationOutput(hateful=True, calls_to_action=True, categories=['RACISM']"
      ]
     },
     "execution_count": 3,
     "metadata": {},
     "output_type": "execute_result"
    }
   ],
   "source": [
    "analyzer.predict(\"Amarillos roñosos de mierda, mátenlos\", context=\"China reabre sus puertas\")"
   ]
  },
  {
   "cell_type": "code",
   "execution_count": 4,
   "metadata": {},
   "outputs": [
    {
     "data": {
      "text/plain": [
       "HateClassificationOutput(hateful=True, calls_to_action=True, categories=['RACISM', 'APPEARANCE']"
      ]
     },
     "execution_count": 4,
     "metadata": {},
     "output_type": "execute_result"
    }
   ],
   "source": [
    "analyzer.predict(\"Judíos roñosos de mierda, mátenlos\")"
   ]
  },
  {
   "cell_type": "code",
   "execution_count": 5,
   "metadata": {},
   "outputs": [
    {
     "data": {
      "text/plain": [
       "HateClassificationOutput(hateful=True, calls_to_action=True, categories=['RACISM', 'CRIMINAL']"
      ]
     },
     "execution_count": 5,
     "metadata": {},
     "output_type": "execute_result"
    }
   ],
   "source": [
    "analyzer.predict(\"Rusos de mierda, mátenlos\")"
   ]
  },
  {
   "cell_type": "code",
   "execution_count": 6,
   "metadata": {},
   "outputs": [
    {
     "data": {
      "text/plain": [
       "HateClassificationOutput(hateful=True, calls_to_action=True, categories=['POLITICS']"
      ]
     },
     "execution_count": 6,
     "metadata": {},
     "output_type": "execute_result"
    }
   ],
   "source": [
    "analyzer.predict(\"Hay que matar a todos las kukas\")"
   ]
  },
  {
   "cell_type": "code",
   "execution_count": 7,
   "metadata": {},
   "outputs": [
    {
     "data": {
      "text/plain": [
       "HateClassificationOutput(hateful=True, calls_to_action=True, categories=['WOMEN', 'POLITICS', 'CRIMINAL']"
      ]
     },
     "execution_count": 7,
     "metadata": {},
     "output_type": "execute_result"
    }
   ],
   "source": [
    "analyzer.predict(\"Hay que matar a las cucarachas\")"
   ]
  },
  {
   "cell_type": "code",
   "execution_count": 8,
   "metadata": {},
   "outputs": [
    {
     "data": {
      "text/plain": [
       "HateClassificationOutput(hateful=True, calls_to_action=False, categories=['WOMEN']"
      ]
     },
     "execution_count": 8,
     "metadata": {},
     "output_type": "execute_result"
    }
   ],
   "source": [
    "analyzer.predict(\"Maten a las feministas\")"
   ]
  },
  {
   "cell_type": "code",
   "execution_count": 9,
   "metadata": {},
   "outputs": [
    {
     "data": {
      "text/plain": [
       "HateClassificationOutput(hateful=True, calls_to_action=True, categories=['RACISM', 'CRIMINAL']"
      ]
     },
     "execution_count": 9,
     "metadata": {},
     "output_type": "execute_result"
    }
   ],
   "source": [
    "analyzer.predict(\"Un par de balazos a esos negros\")"
   ]
  },
  {
   "cell_type": "code",
   "execution_count": 10,
   "metadata": {},
   "outputs": [
    {
     "data": {
      "text/plain": [
       "HateClassificationOutput(hateful=True, calls_to_action=True, categories=['CLASS', 'POLITICS', 'CRIMINAL']"
      ]
     },
     "execution_count": 10,
     "metadata": {},
     "output_type": "execute_result"
    }
   ],
   "source": [
    "analyzer.predict(\"Una pala para esos vagos\")"
   ]
  },
  {
   "cell_type": "code",
   "execution_count": 11,
   "metadata": {},
   "outputs": [
    {
     "data": {
      "text/plain": [
       "HateClassificationOutput(hateful=True, calls_to_action=False, categories=['CRIMINAL']"
      ]
     },
     "execution_count": 11,
     "metadata": {},
     "output_type": "execute_result"
    }
   ],
   "source": [
    "analyzer.predict(\"Mucha bala\")"
   ]
  },
  {
   "cell_type": "code",
   "execution_count": 12,
   "metadata": {},
   "outputs": [],
   "source": [
    "def show_context_and_comments(analyzer, context, comments):\n",
    "    print(f\"Contexto: {context}\", \"\\n\"*2)\n",
    "    print(\"Comentarios:\", \"\\n\")\n",
    "    \n",
    "    for i, comment in enumerate(comments):\n",
    "        print(f\"{i:<3} -- {comment}\")\n",
    "        prediction = analyzer.predict(comment, context=context)\n",
    "        if prediction.hateful:\n",
    "            rep = \"Discriminatorio\"\n",
    "            \n",
    "            if prediction.calls_to_action:\n",
    "                rep+= \" y llama a la acción\"\n",
    "                \n",
    "            rep += \" contra \" + ' - '.join(prediction.categories)\n",
    "            \n",
    "            print(rep)\n",
    "        else:\n",
    "            print(\"No discriminatorio\")\n"
   ]
  },
  {
   "cell_type": "code",
   "execution_count": 13,
   "metadata": {},
   "outputs": [
    {
     "name": "stdout",
     "output_type": "stream",
     "text": [
      "Contexto: Motín de presos en la cárcel de Devoto \n",
      "\n",
      "\n",
      "Comentarios: \n",
      "\n",
      "0   -- Negros chorros de mierda\n",
      "Discriminatorio contra RACISM - CRIMINAL\n",
      "1   -- Este país está lleno de vagos\n",
      "Discriminatorio contra CLASS - CRIMINAL\n",
      "2   -- Cuarenta ladrillos y esto se arregla...\n",
      "Discriminatorio contra CRIMINAL\n",
      "3   -- Bala\n",
      "Discriminatorio y llama a la acción contra CRIMINAL\n",
      "4   -- Tres cohetes y unos cuantos menos\n",
      "Discriminatorio y llama a la acción contra CRIMINAL\n",
      "5   -- Videla volvé!\n",
      "Discriminatorio y llama a la acción contra CRIMINAL\n",
      "6   -- Ahhhn y donde estan las feminazis de mierda eh?\n",
      "Discriminatorio contra WOMEN - CRIMINAL\n",
      "7   -- Y qué van a decir los chinos sobre este desastre?\n",
      "Discriminatorio contra RACISM\n",
      "8   -- Les parece bien esto?\n",
      "No discriminatorio\n"
     ]
    }
   ],
   "source": [
    "show_context_and_comments(analyzer, \n",
    "    \"Motín de presos en la cárcel de Devoto\", \n",
    "    [\n",
    "        \"Negros chorros de mierda\",\n",
    "        \"Este país está lleno de vagos\",\n",
    "        \"Cuarenta ladrillos y esto se arregla...\",\n",
    "        \"Bala\",\n",
    "        \"Tres cohetes y unos cuantos menos\",\n",
    "        \"Videla volvé!\",\n",
    "        \"Ahhhn y donde estan las feminazis de mierda eh?\",\n",
    "        \"Y qué van a decir los chinos sobre este desastre?\",\n",
    "        \"Les parece bien esto?\",\n",
    "])"
   ]
  },
  {
   "cell_type": "code",
   "execution_count": 14,
   "metadata": {},
   "outputs": [
    {
     "name": "stdout",
     "output_type": "stream",
     "text": [
      "Contexto: Movilización de organizaciones sociales y piqueteros \n",
      "\n",
      "\n",
      "Comentarios: \n",
      "\n",
      "0   -- Negros de mierda\n",
      "Discriminatorio contra RACISM - CLASS\n",
      "1   -- Este país está lleno de vagos\n",
      "Discriminatorio contra CLASS\n",
      "2   -- MATENLOS\n",
      "Discriminatorio y llama a la acción contra CLASS - POLITICS\n",
      "3   -- Bala\n",
      "Discriminatorio y llama a la acción contra CLASS - POLITICS\n",
      "4   -- El comunismo ha pervertido definitivamente a este país\n",
      "Discriminatorio contra POLITICS\n",
      "5   -- Tirás una pala y salen todos corriendo\n",
      "Discriminatorio contra CLASS\n",
      "6   -- Laburar ni en pedo, no?\n",
      "Discriminatorio contra CLASS\n",
      "7   -- No quieren laburar ni por casualidad\n",
      "Discriminatorio contra CLASS\n",
      "8   -- Este país está lleno de choriplaneros\n",
      "Discriminatorio contra CLASS - POLITICS\n",
      "9   -- Ahhhn y donde estan las feminazis de mierda eh?\n",
      "Discriminatorio contra WOMEN - POLITICS\n",
      "10  -- Y qué van a decir los chinos sobre este desastre?\n",
      "No discriminatorio\n",
      "11  -- Nuevo orden mundial de Soros, el judaísmo y los chinos\n",
      "No discriminatorio\n",
      "12  -- Les parece bien esto?\n",
      "No discriminatorio\n"
     ]
    }
   ],
   "source": [
    "show_context_and_comments(analyzer, \n",
    "    \"Movilización de organizaciones sociales y piqueteros\", \n",
    "    [\n",
    "        \"Negros de mierda\",\n",
    "        \"Este país está lleno de vagos\",\n",
    "        \"MATENLOS\",\n",
    "        \"Bala\",\n",
    "        \"El comunismo ha pervertido definitivamente a este país\",\n",
    "        \"Tirás una pala y salen todos corriendo\",\n",
    "        \"Laburar ni en pedo, no?\",\n",
    "        \"No quieren laburar ni por casualidad\",\n",
    "        \"Este país está lleno de choriplaneros\",\n",
    "        \"Ahhhn y donde estan las feminazis de mierda eh?\",\n",
    "        \"Y qué van a decir los chinos sobre este desastre?\",\n",
    "        \"Nuevo orden mundial de Soros, el judaísmo y los chinos\",\n",
    "        \"Les parece bien esto?\",\n",
    "])"
   ]
  },
  {
   "cell_type": "code",
   "execution_count": 15,
   "metadata": {},
   "outputs": [
    {
     "name": "stdout",
     "output_type": "stream",
     "text": [
      "Contexto: Plaga de langostas asola a la provincia de Tierra del Fuego \n",
      "\n",
      "\n",
      "Comentarios: \n",
      "\n",
      "0   -- Qué asco!\n",
      "No discriminatorio\n",
      "1   -- Matenlas!\n",
      "Discriminatorio y llama a la acción contra RACISM\n",
      "2   -- Ahhhn y donde estan las feministas de mierda eh?\n",
      "Discriminatorio contra WOMEN\n",
      "3   -- Y qué van a decir los chinos sobre este desastre?\n",
      "Discriminatorio contra RACISM\n",
      "4   -- Cansado de este país\n",
      "No discriminatorio\n",
      "5   -- Y los peronchos hacen algo?\n",
      "Discriminatorio contra POLITICS\n"
     ]
    }
   ],
   "source": [
    "context = \"Plaga de langostas asola a la provincia de Tierra del Fuego\"\n",
    "\n",
    "comments = [\n",
    "    \"Qué asco!\",\n",
    "    \"Matenlas!\",\n",
    "    \"Ahhhn y donde estan las feministas de mierda eh?\",\n",
    "    \"Y qué van a decir los chinos sobre este desastre?\",\n",
    "    \"Cansado de este país\",\n",
    "    \"Y los peronchos hacen algo?\",\n",
    "]\n",
    "\n",
    "show_context_and_comments(analyzer, context, comments)"
   ]
  },
  {
   "cell_type": "code",
   "execution_count": 16,
   "metadata": {},
   "outputs": [
    {
     "name": "stdout",
     "output_type": "stream",
     "text": [
      "Contexto: Romina C, una chica trans, nos cuenta sus vacaciones en Cancún \n",
      "\n",
      "\n",
      "Comentarios: \n",
      "\n",
      "0   -- Asco\n",
      "Discriminatorio contra WOMEN - LGBTI\n",
      "1   -- Esta gente no teme a Dios\n",
      "Discriminatorio contra WOMEN\n",
      "2   -- Me parece que se llama Romino\n",
      "No discriminatorio\n",
      "3   -- Es un camionero!\n",
      "No discriminatorio\n",
      "4   -- Esta tal Romina que muestre el documento\n",
      "Discriminatorio contra WOMEN\n",
      "5   -- Romina es un flor de travesti\n",
      "Discriminatorio contra WOMEN - LGBTI\n",
      "6   -- Habría que ver si viene con paquete la tal Romina\n",
      "Discriminatorio contra WOMEN\n",
      "7   -- Romina es macho\n",
      "Discriminatorio contra WOMEN\n"
     ]
    }
   ],
   "source": [
    "show_context_and_comments(\n",
    "    analyzer,\n",
    "    \"Romina C, una chica trans, nos cuenta sus vacaciones en Cancún\",\n",
    "    [\n",
    "        \"Asco\",\n",
    "        \"Esta gente no teme a Dios\",\n",
    "        \"Me parece que se llama Romino\",\n",
    "        \"Es un camionero!\",\n",
    "        \"Esta tal Romina que muestre el documento\",\n",
    "        \"Romina es un flor de travesti\",\n",
    "        \"Habría que ver si viene con paquete la tal Romina\",\n",
    "        \"Romina es macho\",\n",
    "    ]\n",
    ")"
   ]
  },
  {
   "cell_type": "code",
   "execution_count": 17,
   "metadata": {},
   "outputs": [
    {
     "name": "stdout",
     "output_type": "stream",
     "text": [
      "Contexto: Florencia de la V presenta su nuevo novio en sociedad \n",
      "\n",
      "\n",
      "Comentarios: \n",
      "\n",
      "0   -- Asco\n",
      "Discriminatorio contra WOMEN\n",
      "1   -- Esta gente no teme a Dios\n",
      "Discriminatorio contra WOMEN\n",
      "2   -- Me parece que se llama Romino\n",
      "No discriminatorio\n",
      "3   -- Es un camionero!\n",
      "No discriminatorio\n",
      "4   -- Esta tal Romina que muestre el documento\n",
      "No discriminatorio\n",
      "5   -- Romina es un flor de travesti\n",
      "Discriminatorio contra WOMEN - LGBTI\n",
      "6   -- Habría que ver si viene con paquete la tal Romina\n",
      "No discriminatorio\n",
      "7   -- Florcita tiene algo entre las piernas\n",
      "Discriminatorio contra WOMEN\n",
      "8   -- Flor es un macho\n",
      "Discriminatorio contra LGBTI\n",
      "9   -- Naciste hombre, Carlos\n",
      "Discriminatorio contra LGBTI\n",
      "10  -- Viene con dos pelotas entre las piernas eh!\n",
      "Discriminatorio contra WOMEN\n",
      "11  -- Florencio. Florencio. Mostrá tu DNI para que sepamos tu nombre\n",
      "No discriminatorio\n"
     ]
    }
   ],
   "source": [
    "show_context_and_comments(\n",
    "    analyzer,\n",
    "    \"Florencia de la V presenta su nuevo novio en sociedad\",\n",
    "    [\n",
    "        \"Asco\",\n",
    "        \"Esta gente no teme a Dios\",\n",
    "        \"Me parece que se llama Romino\",\n",
    "        \"Es un camionero!\",\n",
    "        \"Esta tal Romina que muestre el documento\",\n",
    "        \"Romina es un flor de travesti\",\n",
    "        \"Habría que ver si viene con paquete la tal Romina\",\n",
    "        \"Florcita tiene algo entre las piernas\",\n",
    "        \"Flor es un macho\",\n",
    "        \"Naciste hombre, Carlos\",\n",
    "        \"Viene con dos pelotas entre las piernas eh!\",\n",
    "        \"Florencio. Florencio. Mostrá tu DNI para que sepamos tu nombre\",\n",
    "    ]\n",
    ")"
   ]
  },
  {
   "cell_type": "code",
   "execution_count": 18,
   "metadata": {},
   "outputs": [
    {
     "name": "stdout",
     "output_type": "stream",
     "text": [
      "Contexto: Liverpool y Tottenham empataron 0 a 0 en la final de la Champions League \n",
      "\n",
      "\n",
      "Comentarios: \n",
      "\n",
      "0   -- Asco\n",
      "No discriminatorio\n",
      "1   -- Esta gente no teme a Dios\n",
      "No discriminatorio\n",
      "2   -- Dos degenerados\n",
      "No discriminatorio\n",
      "3   -- Qué hijos de puta\n",
      "No discriminatorio\n",
      "4   -- Lamela jugó?\n",
      "No discriminatorio\n"
     ]
    }
   ],
   "source": [
    "show_context_and_comments(\n",
    "    analyzer,\n",
    "    \"Liverpool y Tottenham empataron 0 a 0 en la final de la Champions League\",\n",
    "    [\n",
    "        \"Asco\",\n",
    "        \"Esta gente no teme a Dios\",\n",
    "        \"Dos degenerados\",\n",
    "        \"Qué hijos de puta\",\n",
    "        \"Lamela jugó?\",\n",
    "        \n",
    "    ]\n",
    ")"
   ]
  },
  {
   "cell_type": "code",
   "execution_count": 19,
   "metadata": {},
   "outputs": [
    {
     "name": "stdout",
     "output_type": "stream",
     "text": [
      "Contexto: Roberto y Juan Pérez se casan la semana que viene \n",
      "\n",
      "\n",
      "Comentarios: \n",
      "\n",
      "0   -- Asco\n",
      "No discriminatorio\n",
      "1   -- Esta gente no teme a Dios\n",
      "No discriminatorio\n",
      "2   -- Dos degenerados\n",
      "No discriminatorio\n",
      "3   -- Qué hijos de puta\n",
      "No discriminatorio\n",
      "4   -- Inmundos\n",
      "No discriminatorio\n"
     ]
    }
   ],
   "source": [
    "show_context_and_comments(\n",
    "    analyzer,\n",
    "    \"Roberto y Juan Pérez se casan la semana que viene\",\n",
    "    [\n",
    "        \"Asco\",\n",
    "        \"Esta gente no teme a Dios\",\n",
    "        \"Dos degenerados\",\n",
    "        \"Qué hijos de puta\",\n",
    "        \"Inmundos\",\n",
    "    ]\n",
    ")"
   ]
  }
 ],
 "metadata": {
  "interpreter": {
   "hash": "3af164d50710d9f221a3ae6c9ac2b1bef73a4fcc4dd97b6430472a2215de3743"
  },
  "kernelspec": {
   "display_name": "Python 3.8.5 64-bit ('hatespeech-classification-n4GdOxTz': pipenv)",
   "name": "python3"
  },
  "language_info": {
   "codemirror_mode": {
    "name": "ipython",
    "version": 3
   },
   "file_extension": ".py",
   "mimetype": "text/x-python",
   "name": "python",
   "nbconvert_exporter": "python",
   "pygments_lexer": "ipython3",
   "version": "3.8.5"
  }
 },
 "nbformat": 4,
 "nbformat_minor": 5
}