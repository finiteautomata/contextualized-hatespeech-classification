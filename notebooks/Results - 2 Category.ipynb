{
 "cells": [
  {
   "cell_type": "markdown",
   "id": "broad-movie",
   "metadata": {},
   "source": [
    "## Contextualized model\n",
    "\n",
    "Let's check where the context really helps"
   ]
  },
  {
   "cell_type": "code",
   "execution_count": 1,
   "id": "detected-nature",
   "metadata": {},
   "outputs": [],
   "source": [
    "import os\n",
    "os.environ[\"CUDA_VISIBLE_DEVICES\"] = \"1\""
   ]
  },
  {
   "cell_type": "code",
   "execution_count": 1,
   "id": "seven-cricket",
   "metadata": {},
   "outputs": [
    {
     "data": {
      "application/vnd.jupyter.widget-view+json": {
       "model_id": "506cbaed464347d28f9ce1cfcd206961",
       "version_major": 2,
       "version_minor": 0
      },
      "text/plain": [
       "HBox(children=(FloatProgress(value=0.0, max=37.0), HTML(value='')))"
      ]
     },
     "metadata": {},
     "output_type": "display_data"
    },
    {
     "name": "stdout",
     "output_type": "stream",
     "text": [
      "\n"
     ]
    },
    {
     "data": {
      "application/vnd.jupyter.widget-view+json": {
       "model_id": "5942aed16dad47fba2e02451581efd45",
       "version_major": 2,
       "version_minor": 0
      },
      "text/plain": [
       "HBox(children=(FloatProgress(value=0.0, max=10.0), HTML(value='')))"
      ]
     },
     "metadata": {},
     "output_type": "display_data"
    },
    {
     "name": "stdout",
     "output_type": "stream",
     "text": [
      "\n"
     ]
    },
    {
     "data": {
      "application/vnd.jupyter.widget-view+json": {
       "model_id": "1e37faf416244dd5bea4dea5c1e63824",
       "version_major": 2,
       "version_minor": 0
      },
      "text/plain": [
       "HBox(children=(FloatProgress(value=0.0, max=12.0), HTML(value='')))"
      ]
     },
     "metadata": {},
     "output_type": "display_data"
    },
    {
     "name": "stdout",
     "output_type": "stream",
     "text": [
      "\n"
     ]
    }
   ],
   "source": [
    "%load_ext autoreload\n",
    "%autoreload 2\n",
    "\n",
    "from hatedetection import load_datasets\n",
    "\n",
    "train_dataset, dev_dataset, test_dataset = load_datasets(add_body=True)\n",
    "\n",
    "\n",
    "train_dataset = train_dataset.filter(lambda x: x[\"HATEFUL\"] > 0)\n",
    "dev_dataset = dev_dataset.filter(lambda x: x[\"HATEFUL\"] > 0)\n",
    "test_dataset = test_dataset.filter(lambda x: x[\"HATEFUL\"] > 0)"
   ]
  },
  {
   "cell_type": "code",
   "execution_count": 2,
   "id": "accompanied-desktop",
   "metadata": {},
   "outputs": [],
   "source": [
    "import torch\n",
    "from hatedetection.model import BertForSequenceMultiClassification\n",
    "from hatedetection import extended_hate_categories\n",
    "from transformers import AutoModelForSequenceClassification, AutoTokenizer\n",
    "\n",
    "no_context_model_name = \"../models/bert-non-contextualized-hate-category-es/\"\n",
    "context_model_name = \"../models/bert-contextualized-hate-category-es/\"\n",
    "full_context_model_name = \"../models/bert-title+body-hate-category-es/\"\n",
    "\n",
    "\n",
    "no_context_model = BertForSequenceMultiClassification.from_pretrained(no_context_model_name, num_labels=len(extended_hate_categories))\n",
    "context_model = BertForSequenceMultiClassification.from_pretrained(context_model_name, num_labels=len(extended_hate_categories))\n",
    "full_context_model = BertForSequenceMultiClassification.from_pretrained(full_context_model_name, num_labels=len(extended_hate_categories))\n",
    "\n",
    "context_model.eval()\n",
    "no_context_model.eval()\n",
    "full_context_model.eval()\n",
    "\n",
    "\n",
    "device = \"cuda\" if torch.cuda.is_available() else \"cpu\"\n",
    "\n",
    "context_model = context_model.to(device)\n",
    "no_context_model = no_context_model.to(device)\n",
    "full_context_model = full_context_model.to(device)\n",
    "# Tienen mismo tokenizer así que todo bien\n",
    "\n",
    "no_context_tokenizer = AutoTokenizer.from_pretrained(no_context_model_name)\n",
    "context_tokenizer = AutoTokenizer.from_pretrained(context_model_name)\n",
    "full_context_tokenizer = AutoTokenizer.from_pretrained(full_context_model_name)\n",
    "\n",
    "no_context_tokenizer.model_max_length = 128\n",
    "context_tokenizer.model_max_length = 256"
   ]
  },
  {
   "cell_type": "code",
   "execution_count": 3,
   "id": "indie-skirt",
   "metadata": {},
   "outputs": [
    {
     "data": {
      "application/vnd.jupyter.widget-view+json": {
       "model_id": "97a02d6ae24543b5ade258e8437aeebd",
       "version_major": 2,
       "version_minor": 0
      },
      "text/plain": [
       "HBox(children=(FloatProgress(value=0.0, max=57.0), HTML(value='')))"
      ]
     },
     "metadata": {},
     "output_type": "display_data"
    },
    {
     "name": "stdout",
     "output_type": "stream",
     "text": [
      "\n"
     ]
    },
    {
     "data": {
      "application/vnd.jupyter.widget-view+json": {
       "model_id": "a674927971434b3f97e909e28c12d31e",
       "version_major": 2,
       "version_minor": 0
      },
      "text/plain": [
       "HBox(children=(FloatProgress(value=0.0, max=57.0), HTML(value='')))"
      ]
     },
     "metadata": {},
     "output_type": "display_data"
    },
    {
     "name": "stdout",
     "output_type": "stream",
     "text": [
      "\n"
     ]
    },
    {
     "data": {
      "application/vnd.jupyter.widget-view+json": {
       "model_id": "93390880a6654b59984c2026444ba9eb",
       "version_major": 2,
       "version_minor": 0
      },
      "text/plain": [
       "HBox(children=(FloatProgress(value=0.0, max=225.0), HTML(value='')))"
      ]
     },
     "metadata": {},
     "output_type": "display_data"
    },
    {
     "name": "stdout",
     "output_type": "stream",
     "text": [
      "\n"
     ]
    }
   ],
   "source": [
    "from hatedetection.training import tokenize\n",
    "\n",
    "batch_size = 32\n",
    "eval_batch_size = 32\n",
    "\n",
    "dataset = test_dataset\n",
    "\n",
    "\n",
    "no_context_dataset = dataset.map(\n",
    "    lambda x: tokenize(no_context_tokenizer, x, context='none'), batched=True, batch_size=eval_batch_size)\n",
    "context_dataset = dataset.map(\n",
    "    lambda x: tokenize(context_tokenizer, x, context='title'), batched=True, batch_size=eval_batch_size)\n",
    "full_context_dataset = dataset.map(\n",
    "    lambda x: tokenize(full_context_tokenizer, x, context='title+body'), batched=True, batch_size=8)\n"
   ]
  },
  {
   "cell_type": "code",
   "execution_count": 4,
   "id": "thousand-angle",
   "metadata": {},
   "outputs": [
    {
     "data": {
      "text/plain": [
       "'[CLS] [ USER ] Faltó que se enganchó al hijo de sofovich para seguir adelante [ EMOJI ] cara con mano sobre la boca [ EMOJI ] [SEP] Mora Godoy cierra su escuela de tango y remata su vestuario para \" poder seguir adelante \" - Puede marcar con justeza la fecha de inicio de la crisis : hace 10 meses que no brinda clases. En cambio, no logra avizorar el día que concluirá : \" No sabemos cuándo empezamos, cuando volvemos a trabajar. ¿ Ideas? ¡ ( Tenemos ) miles! Podemos hacer un show gratis al aire libre \". Es por eso que, ante la falta de un horizonte, Mora Godoy decidió cerrar su escuela de danzas y rematar gran parte del vestuario para poder continuar adelante. \" Hace 20 años que estoy acá, pero llevo diez meses sin trabajar - le explicó la artista a Guillermo Andino en el programa Informados de todo, por América -. Este es mi lugar de ensayo, de creación. Y es muy duro. Para poder seguir adelante me tengo que desprender del lugar y rematar gran parte del vestuario. Que muchos bailarines y bailarines lo van a aprovechar porque el precio es muy bajo \". Por caso, trajes, vestidos y zapatos se ofrecen a 500 pesos ; también se pondrán en oferta distintos objetos de la Escuela Mora Godoy Tango, ubicada en Barrio Norte. El inicio de la cuarentena obligatoria decretada para evitar la propagación del coronavirus puso en riesgo la actividad del espectáculo. Pero a diferencia de otros rubros, según Godoy la asistencia no llegó. \" No entramos en el ATP, en el IFEm ni en los subsidios. Miles de millones ( de pesos ) se destinaron al turismo. Nosotros también somos turismo, porque vienen turistas. Los que más necesitamos no fuimos escuchados. Yo me voy a correr : hay chicos que están en una situación desesperante \", alertó, y sostuvo que, por el contrario, a \" empresarios que han tenido ingresos en dólares el año pasado, les han dudado subsidios \". Si bien respaldó la gestión de Alberto Fernández ( \" Voté y apoyo absolutamente al Gobierno \", aclaró ), habló de \" funcionarios que funcionan bien, y otros que no tienen sensibilidad y que no están escuchando a los que más necesitan \". \" No tuvimos ningún tipo de respuesta - lamentó -. He intentado en distintos ministerios y hay poco escucha \". En ese sentido, señaló una excepción en el ministro del Interior, Eduardo Wado de Pedro, [SEP]'"
      ]
     },
     "execution_count": 4,
     "metadata": {},
     "output_type": "execute_result"
    }
   ],
   "source": [
    "full_context_tokenizer.decode(full_context_dataset[0][\"input_ids\"])"
   ]
  },
  {
   "cell_type": "code",
   "execution_count": 5,
   "id": "swiss-spending",
   "metadata": {},
   "outputs": [
    {
     "data": {
      "application/vnd.jupyter.widget-view+json": {
       "model_id": "073abc51c2e84608b789258eecfa8d9a",
       "version_major": 2,
       "version_minor": 0
      },
      "text/plain": [
       "HBox(children=(FloatProgress(value=0.0, max=1797.0), HTML(value='')))"
      ]
     },
     "metadata": {},
     "output_type": "display_data"
    },
    {
     "name": "stdout",
     "output_type": "stream",
     "text": [
      "\n"
     ]
    },
    {
     "data": {
      "application/vnd.jupyter.widget-view+json": {
       "model_id": "811a5af0c27f4619bbe21170961b9655",
       "version_major": 2,
       "version_minor": 0
      },
      "text/plain": [
       "HBox(children=(FloatProgress(value=0.0, max=1797.0), HTML(value='')))"
      ]
     },
     "metadata": {},
     "output_type": "display_data"
    },
    {
     "name": "stdout",
     "output_type": "stream",
     "text": [
      "\n"
     ]
    },
    {
     "data": {
      "application/vnd.jupyter.widget-view+json": {
       "model_id": "a8aa83ae08834a1598bfeacd22a8721a",
       "version_major": 2,
       "version_minor": 0
      },
      "text/plain": [
       "HBox(children=(FloatProgress(value=0.0, max=1797.0), HTML(value='')))"
      ]
     },
     "metadata": {},
     "output_type": "display_data"
    },
    {
     "name": "stdout",
     "output_type": "stream",
     "text": [
      "\n"
     ]
    }
   ],
   "source": [
    "\n",
    "def format_dataset(dataset):\n",
    "    def get_category_labels(examples):\n",
    "        return {'labels': torch.Tensor([examples[cat] for cat in extended_hate_categories])}\n",
    "    dataset = dataset.map(get_category_labels)\n",
    "    dataset.set_format(type='torch', columns=['input_ids', 'token_type_ids', 'attention_mask', 'labels'])\n",
    "    return dataset\n",
    "\n",
    "no_context_dataset = format_dataset(no_context_dataset)\n",
    "context_dataset = format_dataset(context_dataset)\n",
    "full_context_dataset = format_dataset(full_context_dataset)\n"
   ]
  },
  {
   "cell_type": "code",
   "execution_count": 6,
   "id": "humanitarian-manual",
   "metadata": {},
   "outputs": [
    {
     "data": {
      "text/plain": [
       "(torch.Size([1797, 512]), torch.Size([1797, 256]), torch.Size([1797, 128]))"
      ]
     },
     "execution_count": 6,
     "metadata": {},
     "output_type": "execute_result"
    }
   ],
   "source": [
    "full_context_dataset[\"input_ids\"].shape, context_dataset[\"input_ids\"].shape, no_context_dataset[\"input_ids\"].shape"
   ]
  },
  {
   "cell_type": "markdown",
   "id": "aging-appointment",
   "metadata": {},
   "source": [
    "Sanity check"
   ]
  },
  {
   "cell_type": "code",
   "execution_count": 7,
   "id": "domestic-cabin",
   "metadata": {},
   "outputs": [
    {
     "data": {
      "text/plain": [
       "'[CLS] [USER] Faltó que se enganchó al hijo de sofovich para seguir adelante [EMOJI] cara con mano sobre la boca [EMOJI] [SEP] [PAD] [PAD] [PAD] [PAD] [PAD] [PAD] [PAD] [PAD] [PAD] [PAD] [PAD] [PAD] [PAD] [PAD] [PAD] [PAD] [PAD] [PAD] [PAD] [PAD] [PAD] [PAD] [PAD] [PAD] [PAD] [PAD] [PAD] [PAD] [PAD] [PAD] [PAD] [PAD] [PAD] [PAD] [PAD] [PAD] [PAD] [PAD] [PAD] [PAD] [PAD] [PAD] [PAD] [PAD] [PAD] [PAD] [PAD] [PAD] [PAD] [PAD] [PAD] [PAD] [PAD] [PAD] [PAD] [PAD] [PAD] [PAD] [PAD] [PAD] [PAD] [PAD] [PAD] [PAD] [PAD] [PAD] [PAD] [PAD] [PAD] [PAD] [PAD] [PAD] [PAD] [PAD] [PAD] [PAD] [PAD] [PAD] [PAD] [PAD] [PAD] [PAD] [PAD] [PAD] [PAD] [PAD] [PAD] [PAD] [PAD] [PAD] [PAD] [PAD] [PAD] [PAD] [PAD] [PAD] [PAD] [PAD] [PAD] [PAD] [PAD] [PAD]'"
      ]
     },
     "execution_count": 7,
     "metadata": {},
     "output_type": "execute_result"
    }
   ],
   "source": [
    "no_context_tokenizer.decode(no_context_dataset[0][\"input_ids\"])"
   ]
  },
  {
   "cell_type": "code",
   "execution_count": 8,
   "id": "photographic-budget",
   "metadata": {},
   "outputs": [
    {
     "data": {
      "text/plain": [
       "'[CLS] [ USER ] Faltó que se enganchó al hijo de sofovich para seguir adelante [ EMOJI ] cara con mano sobre la boca [ EMOJI ] [SEP] Mora Godoy cierra su escuela de tango y remata su vestuario para \" poder seguir adelante \" [SEP] [PAD] [PAD] [PAD] [PAD] [PAD] [PAD] [PAD] [PAD] [PAD] [PAD] [PAD] [PAD] [PAD] [PAD] [PAD] [PAD] [PAD] [PAD] [PAD] [PAD] [PAD] [PAD] [PAD] [PAD] [PAD] [PAD] [PAD] [PAD] [PAD] [PAD] [PAD] [PAD] [PAD] [PAD] [PAD] [PAD] [PAD] [PAD] [PAD] [PAD] [PAD] [PAD] [PAD] [PAD] [PAD] [PAD] [PAD] [PAD] [PAD] [PAD] [PAD] [PAD] [PAD] [PAD] [PAD] [PAD] [PAD] [PAD] [PAD] [PAD] [PAD] [PAD] [PAD] [PAD] [PAD] [PAD] [PAD] [PAD] [PAD] [PAD] [PAD] [PAD] [PAD] [PAD] [PAD] [PAD] [PAD] [PAD] [PAD] [PAD] [PAD] [PAD] [PAD] [PAD] [PAD] [PAD] [PAD] [PAD] [PAD] [PAD] [PAD] [PAD] [PAD] [PAD] [PAD] [PAD] [PAD] [PAD] [PAD] [PAD] [PAD] [PAD] [PAD] [PAD] [PAD] [PAD] [PAD] [PAD] [PAD] [PAD] [PAD] [PAD] [PAD] [PAD] [PAD] [PAD] [PAD] [PAD] [PAD] [PAD] [PAD] [PAD] [PAD] [PAD] [PAD] [PAD] [PAD] [PAD] [PAD] [PAD] [PAD] [PAD] [PAD] [PAD] [PAD] [PAD] [PAD] [PAD] [PAD] [PAD] [PAD] [PAD] [PAD] [PAD] [PAD] [PAD] [PAD] [PAD] [PAD] [PAD] [PAD] [PAD] [PAD] [PAD] [PAD] [PAD] [PAD] [PAD] [PAD] [PAD] [PAD] [PAD] [PAD] [PAD] [PAD] [PAD] [PAD] [PAD] [PAD] [PAD] [PAD] [PAD] [PAD] [PAD] [PAD] [PAD] [PAD] [PAD] [PAD] [PAD] [PAD] [PAD] [PAD] [PAD] [PAD] [PAD] [PAD] [PAD] [PAD] [PAD] [PAD] [PAD] [PAD] [PAD] [PAD] [PAD] [PAD]'"
      ]
     },
     "execution_count": 8,
     "metadata": {},
     "output_type": "execute_result"
    }
   ],
   "source": [
    "context_tokenizer.decode(context_dataset[0][\"input_ids\"])"
   ]
  },
  {
   "cell_type": "markdown",
   "id": "searching-demand",
   "metadata": {},
   "source": [
    "Bien, primero contexto"
   ]
  },
  {
   "cell_type": "markdown",
   "id": "green-booth",
   "metadata": {},
   "source": [
    "Lo cargamos sólo para evaluar 🤗"
   ]
  },
  {
   "cell_type": "code",
   "execution_count": 9,
   "id": "lined-description",
   "metadata": {},
   "outputs": [],
   "source": [
    "from hatedetection.metrics import compute_category_metrics\n",
    "from transformers import Trainer, TrainingArguments\n",
    "\n",
    "eval_batch_size = 32\n",
    "\n",
    "training_args = TrainingArguments(\n",
    "    output_dir=\".\",\n",
    "    per_device_train_batch_size=batch_size,\n",
    "    per_device_eval_batch_size=eval_batch_size,\n",
    ")\n",
    "\n",
    "\n",
    "\n",
    "no_context_trainer = Trainer(\n",
    "    model=no_context_model,\n",
    "    args=training_args,\n",
    "    compute_metrics=compute_category_metrics,\n",
    ")\n",
    "\n",
    "context_trainer = Trainer(\n",
    "    model=context_model,\n",
    "    args=training_args,\n",
    "    compute_metrics=compute_category_metrics,\n",
    ")\n",
    "\n",
    "\n",
    "full_context_trainer = Trainer(\n",
    "    model=full_context_model,\n",
    "    args=TrainingArguments(\n",
    "        output_dir=\".\",\n",
    "        per_device_eval_batch_size=32,\n",
    "    ),\n",
    "    compute_metrics=compute_category_metrics,\n",
    ")\n"
   ]
  },
  {
   "cell_type": "markdown",
   "id": "exotic-joining",
   "metadata": {},
   "source": [
    "## Resultados"
   ]
  },
  {
   "cell_type": "code",
   "execution_count": 10,
   "id": "original-shade",
   "metadata": {},
   "outputs": [
    {
     "data": {
      "text/html": [
       "\n",
       "    <div>\n",
       "        <style>\n",
       "            /* Turns off some styling */\n",
       "            progress {\n",
       "                /* gets rid of default border in Firefox and Opera. */\n",
       "                border: none;\n",
       "                /* Needs to be in here for Safari polyfill so background images work as expected. */\n",
       "                background-size: auto;\n",
       "            }\n",
       "        </style>\n",
       "      \n",
       "      <progress value='57' max='57' style='width:300px; height:20px; vertical-align: middle;'></progress>\n",
       "      [57/57 00:29]\n",
       "    </div>\n",
       "    "
      ],
      "text/plain": [
       "<IPython.core.display.HTML object>"
      ]
     },
     "metadata": {},
     "output_type": "display_data"
    },
    {
     "data": {
      "text/html": [
       "\n",
       "    <div>\n",
       "        <style>\n",
       "            /* Turns off some styling */\n",
       "            progress {\n",
       "                /* gets rid of default border in Firefox and Opera. */\n",
       "                border: none;\n",
       "                /* Needs to be in here for Safari polyfill so background images work as expected. */\n",
       "                background-size: auto;\n",
       "            }\n",
       "        </style>\n",
       "      \n",
       "      <progress value='57' max='57' style='width:300px; height:20px; vertical-align: middle;'></progress>\n",
       "      [57/57 00:12]\n",
       "    </div>\n",
       "    "
      ],
      "text/plain": [
       "<IPython.core.display.HTML object>"
      ]
     },
     "metadata": {},
     "output_type": "display_data"
    },
    {
     "data": {
      "text/html": [
       "\n",
       "    <div>\n",
       "        <style>\n",
       "            /* Turns off some styling */\n",
       "            progress {\n",
       "                /* gets rid of default border in Firefox and Opera. */\n",
       "                border: none;\n",
       "                /* Needs to be in here for Safari polyfill so background images work as expected. */\n",
       "                background-size: auto;\n",
       "            }\n",
       "        </style>\n",
       "      \n",
       "      <progress value='57' max='57' style='width:300px; height:20px; vertical-align: middle;'></progress>\n",
       "      [57/57 00:06]\n",
       "    </div>\n",
       "    "
      ],
      "text/plain": [
       "<IPython.core.display.HTML object>"
      ]
     },
     "metadata": {},
     "output_type": "display_data"
    }
   ],
   "source": [
    "import pandas as pd\n",
    "pd.options.display.max_columns = 40\n",
    "pd.set_option('display.float_format', lambda x: '%.5f' % x)\n",
    "\n",
    "\n",
    "df_full_context_results = pd.DataFrame([full_context_trainer.evaluate(full_context_dataset)])\n",
    "df_context_results = pd.DataFrame([context_trainer.evaluate(context_dataset)])\n",
    "df_no_context_results = pd.DataFrame([no_context_trainer.evaluate(no_context_dataset)])\n"
   ]
  },
  {
   "cell_type": "code",
   "execution_count": 14,
   "id": "arctic-complex",
   "metadata": {},
   "outputs": [
    {
     "data": {
      "text/html": [
       "<div>\n",
       "<style scoped>\n",
       "    .dataframe tbody tr th:only-of-type {\n",
       "        vertical-align: middle;\n",
       "    }\n",
       "\n",
       "    .dataframe tbody tr th {\n",
       "        vertical-align: top;\n",
       "    }\n",
       "\n",
       "    .dataframe thead th {\n",
       "        text-align: right;\n",
       "    }\n",
       "</style>\n",
       "<table border=\"1\" class=\"dataframe\">\n",
       "  <thead>\n",
       "    <tr style=\"text-align: right;\">\n",
       "      <th></th>\n",
       "      <th>eval_loss</th>\n",
       "      <th>eval_calls_f1</th>\n",
       "      <th>eval_women_f1</th>\n",
       "      <th>eval_lgbti_f1</th>\n",
       "      <th>eval_racism_f1</th>\n",
       "      <th>eval_class_f1</th>\n",
       "      <th>eval_politics_f1</th>\n",
       "      <th>eval_disabled_f1</th>\n",
       "      <th>eval_appearance_f1</th>\n",
       "      <th>eval_criminal_f1</th>\n",
       "      <th>eval_mean_f1</th>\n",
       "      <th>eval_mean_precision</th>\n",
       "      <th>eval_mean_recall</th>\n",
       "      <th>eval_runtime</th>\n",
       "      <th>eval_samples_per_second</th>\n",
       "      <th>init_mem_cpu_alloc_delta</th>\n",
       "      <th>init_mem_gpu_alloc_delta</th>\n",
       "      <th>init_mem_cpu_peaked_delta</th>\n",
       "      <th>init_mem_gpu_peaked_delta</th>\n",
       "      <th>eval_mem_cpu_alloc_delta</th>\n",
       "      <th>eval_mem_gpu_alloc_delta</th>\n",
       "      <th>eval_mem_cpu_peaked_delta</th>\n",
       "      <th>eval_mem_gpu_peaked_delta</th>\n",
       "    </tr>\n",
       "    <tr>\n",
       "      <th>index</th>\n",
       "      <th></th>\n",
       "      <th></th>\n",
       "      <th></th>\n",
       "      <th></th>\n",
       "      <th></th>\n",
       "      <th></th>\n",
       "      <th></th>\n",
       "      <th></th>\n",
       "      <th></th>\n",
       "      <th></th>\n",
       "      <th></th>\n",
       "      <th></th>\n",
       "      <th></th>\n",
       "      <th></th>\n",
       "      <th></th>\n",
       "      <th></th>\n",
       "      <th></th>\n",
       "      <th></th>\n",
       "      <th></th>\n",
       "      <th></th>\n",
       "      <th></th>\n",
       "      <th></th>\n",
       "      <th></th>\n",
       "    </tr>\n",
       "  </thead>\n",
       "  <tbody>\n",
       "    <tr>\n",
       "      <th>No context</th>\n",
       "      <td>0.21134</td>\n",
       "      <td>0.78119</td>\n",
       "      <td>0.65497</td>\n",
       "      <td>0.57407</td>\n",
       "      <td>0.86674</td>\n",
       "      <td>0.59701</td>\n",
       "      <td>0.71193</td>\n",
       "      <td>0.78367</td>\n",
       "      <td>0.84522</td>\n",
       "      <td>0.74487</td>\n",
       "      <td>0.72885</td>\n",
       "      <td>0.78101</td>\n",
       "      <td>0.68699</td>\n",
       "      <td>6.36710</td>\n",
       "      <td>282.23200</td>\n",
       "      <td>52465</td>\n",
       "      <td>0</td>\n",
       "      <td>18258</td>\n",
       "      <td>0</td>\n",
       "      <td>246892</td>\n",
       "      <td>0</td>\n",
       "      <td>299056</td>\n",
       "      <td>138739200</td>\n",
       "    </tr>\n",
       "    <tr>\n",
       "      <th>Title</th>\n",
       "      <td>0.15317</td>\n",
       "      <td>0.79259</td>\n",
       "      <td>0.66667</td>\n",
       "      <td>0.81644</td>\n",
       "      <td>0.94227</td>\n",
       "      <td>0.72325</td>\n",
       "      <td>0.74157</td>\n",
       "      <td>0.72581</td>\n",
       "      <td>0.89037</td>\n",
       "      <td>0.90733</td>\n",
       "      <td>0.80070</td>\n",
       "      <td>0.84489</td>\n",
       "      <td>0.76362</td>\n",
       "      <td>12.89800</td>\n",
       "      <td>139.32400</td>\n",
       "      <td>43213</td>\n",
       "      <td>0</td>\n",
       "      <td>18258</td>\n",
       "      <td>0</td>\n",
       "      <td>252053</td>\n",
       "      <td>0</td>\n",
       "      <td>299888</td>\n",
       "      <td>377929216</td>\n",
       "    </tr>\n",
       "    <tr>\n",
       "      <th>Title and Body</th>\n",
       "      <td>0.16149</td>\n",
       "      <td>0.75915</td>\n",
       "      <td>0.70472</td>\n",
       "      <td>0.81319</td>\n",
       "      <td>0.93731</td>\n",
       "      <td>0.74820</td>\n",
       "      <td>0.75147</td>\n",
       "      <td>0.77206</td>\n",
       "      <td>0.88799</td>\n",
       "      <td>0.89510</td>\n",
       "      <td>0.80769</td>\n",
       "      <td>0.84901</td>\n",
       "      <td>0.77449</td>\n",
       "      <td>29.21040</td>\n",
       "      <td>61.51900</td>\n",
       "      <td>43460</td>\n",
       "      <td>0</td>\n",
       "      <td>18258</td>\n",
       "      <td>0</td>\n",
       "      <td>418372</td>\n",
       "      <td>0</td>\n",
       "      <td>284772</td>\n",
       "      <td>1158299136</td>\n",
       "    </tr>\n",
       "  </tbody>\n",
       "</table>\n",
       "</div>"
      ],
      "text/plain": [
       "                eval_loss  eval_calls_f1  eval_women_f1  eval_lgbti_f1  \\\n",
       "index                                                                    \n",
       "No context        0.21134        0.78119        0.65497        0.57407   \n",
       "Title             0.15317        0.79259        0.66667        0.81644   \n",
       "Title and Body    0.16149        0.75915        0.70472        0.81319   \n",
       "\n",
       "                eval_racism_f1  eval_class_f1  eval_politics_f1  \\\n",
       "index                                                             \n",
       "No context             0.86674        0.59701           0.71193   \n",
       "Title                  0.94227        0.72325           0.74157   \n",
       "Title and Body         0.93731        0.74820           0.75147   \n",
       "\n",
       "                eval_disabled_f1  eval_appearance_f1  eval_criminal_f1  \\\n",
       "index                                                                    \n",
       "No context               0.78367             0.84522           0.74487   \n",
       "Title                    0.72581             0.89037           0.90733   \n",
       "Title and Body           0.77206             0.88799           0.89510   \n",
       "\n",
       "                eval_mean_f1  eval_mean_precision  eval_mean_recall  \\\n",
       "index                                                                 \n",
       "No context           0.72885              0.78101           0.68699   \n",
       "Title                0.80070              0.84489           0.76362   \n",
       "Title and Body       0.80769              0.84901           0.77449   \n",
       "\n",
       "                eval_runtime  eval_samples_per_second  \\\n",
       "index                                                   \n",
       "No context           6.36710                282.23200   \n",
       "Title               12.89800                139.32400   \n",
       "Title and Body      29.21040                 61.51900   \n",
       "\n",
       "                init_mem_cpu_alloc_delta  init_mem_gpu_alloc_delta  \\\n",
       "index                                                                \n",
       "No context                         52465                         0   \n",
       "Title                              43213                         0   \n",
       "Title and Body                     43460                         0   \n",
       "\n",
       "                init_mem_cpu_peaked_delta  init_mem_gpu_peaked_delta  \\\n",
       "index                                                                  \n",
       "No context                          18258                          0   \n",
       "Title                               18258                          0   \n",
       "Title and Body                      18258                          0   \n",
       "\n",
       "                eval_mem_cpu_alloc_delta  eval_mem_gpu_alloc_delta  \\\n",
       "index                                                                \n",
       "No context                        246892                         0   \n",
       "Title                             252053                         0   \n",
       "Title and Body                    418372                         0   \n",
       "\n",
       "                eval_mem_cpu_peaked_delta  eval_mem_gpu_peaked_delta  \n",
       "index                                                                 \n",
       "No context                         299056                  138739200  \n",
       "Title                              299888                  377929216  \n",
       "Title and Body                     284772                 1158299136  "
      ]
     },
     "execution_count": 14,
     "metadata": {},
     "output_type": "execute_result"
    }
   ],
   "source": [
    "df_results = pd.concat([\n",
    "    df_no_context_results, \n",
    "    df_context_results, \n",
    "    df_full_context_results\n",
    "])\n",
    "df_results[\"index\"] = [\"No context\", \"Title\", \"Title and Body\"]\n",
    "df_results.set_index(\"index\")"
   ]
  }
 ],
 "metadata": {
  "kernelspec": {
   "display_name": "Python 3",
   "language": "python",
   "name": "python3"
  },
  "language_info": {
   "codemirror_mode": {
    "name": "ipython",
    "version": 3
   },
   "file_extension": ".py",
   "mimetype": "text/x-python",
   "name": "python",
   "nbconvert_exporter": "python",
   "pygments_lexer": "ipython3",
   "version": "3.8.5"
  }
 },
 "nbformat": 4,
 "nbformat_minor": 5
}
