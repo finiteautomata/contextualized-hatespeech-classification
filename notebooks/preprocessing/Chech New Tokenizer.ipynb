{
 "cells": [
  {
   "cell_type": "markdown",
   "id": "coated-craps",
   "metadata": {},
   "source": [
    "## New preprocessing and tokenization\n",
    "\n",
    "Let's check out the length of this"
   ]
  },
  {
   "cell_type": "code",
   "execution_count": null,
   "id": "adjusted-while",
   "metadata": {},
   "outputs": [],
   "source": [
    "%load_ext autoreload\n",
    "%autoreload 2\n",
    "\n",
    "from hatedetection import load_datasets\n",
    "\n",
    "train_dataset, dev_dataset, test_dataset = load_datasets()"
   ]
  },
  {
   "cell_type": "code",
   "execution_count": 2,
   "id": "chronic-showcase",
   "metadata": {},
   "outputs": [],
   "source": [
    "from transformers import AutoTokenizer\n",
    "tokenizer = AutoTokenizer.from_pretrained(\"../../models/beto-finetuned-context/\")"
   ]
  },
  {
   "cell_type": "code",
   "execution_count": 3,
   "id": "blind-bulgaria",
   "metadata": {},
   "outputs": [
    {
     "data": {
      "application/vnd.jupyter.widget-view+json": {
       "model_id": "b3cba4cb84034b6a8e49f36739a1f2a4",
       "version_major": 2,
       "version_minor": 0
      },
      "text/plain": [
       "HBox(children=(FloatProgress(value=0.0, max=570.0), HTML(value='')))"
      ]
     },
     "metadata": {},
     "output_type": "display_data"
    },
    {
     "name": "stderr",
     "output_type": "stream",
     "text": [
      "Token indices sequence length is longer than the specified maximum sequence length for this model (557 > 512). Running this sequence through the model will result in indexing errors\n"
     ]
    },
    {
     "name": "stdout",
     "output_type": "stream",
     "text": [
      "\n"
     ]
    }
   ],
   "source": [
    "def tokenize(batch):\n",
    "    return tokenizer(batch['context'], batch['text'], truncation=False)\n",
    "\n",
    "train_dataset = train_dataset.map(tokenize, batched=True, batch_size=64)"
   ]
  },
  {
   "cell_type": "code",
   "execution_count": 12,
   "id": "nonprofit-prison",
   "metadata": {},
   "outputs": [
    {
     "data": {
      "text/plain": [
       "(array([4.6100e+02, 6.1310e+03, 1.1312e+04, 8.3580e+03, 4.4670e+03,\n",
       "        2.4110e+03, 1.5750e+03, 1.0570e+03, 4.8700e+02, 9.9000e+01,\n",
       "        1.7000e+01, 1.3000e+01, 1.0000e+01, 6.0000e+00, 2.0000e+00,\n",
       "        4.0000e+00, 1.0000e+00, 2.0000e+00, 0.0000e+00, 0.0000e+00,\n",
       "        2.0000e+00, 1.0000e+00, 1.0000e+00, 2.0000e+00, 0.0000e+00,\n",
       "        0.0000e+00, 0.0000e+00, 0.0000e+00, 0.0000e+00, 0.0000e+00,\n",
       "        0.0000e+00, 0.0000e+00, 0.0000e+00, 0.0000e+00, 0.0000e+00,\n",
       "        0.0000e+00, 0.0000e+00, 0.0000e+00, 0.0000e+00, 0.0000e+00,\n",
       "        0.0000e+00, 0.0000e+00, 0.0000e+00, 0.0000e+00, 0.0000e+00,\n",
       "        0.0000e+00, 0.0000e+00, 0.0000e+00, 0.0000e+00, 1.0000e+00]),\n",
       " array([ 11.  ,  21.92,  32.84,  43.76,  54.68,  65.6 ,  76.52,  87.44,\n",
       "         98.36, 109.28, 120.2 , 131.12, 142.04, 152.96, 163.88, 174.8 ,\n",
       "        185.72, 196.64, 207.56, 218.48, 229.4 , 240.32, 251.24, 262.16,\n",
       "        273.08, 284.  , 294.92, 305.84, 316.76, 327.68, 338.6 , 349.52,\n",
       "        360.44, 371.36, 382.28, 393.2 , 404.12, 415.04, 425.96, 436.88,\n",
       "        447.8 , 458.72, 469.64, 480.56, 491.48, 502.4 , 513.32, 524.24,\n",
       "        535.16, 546.08, 557.  ]),\n",
       " <BarContainer object of 50 artists>)"
      ]
     },
     "execution_count": 12,
     "metadata": {},
     "output_type": "execute_result"
    },
    {
     "data": {
      "image/png": "[encoded data removed]",
      "text/plain": [
       "<Figure size 432x288 with 1 Axes>"
      ]
     },
     "metadata": {
      "needs_background": "light"
     },
     "output_type": "display_data"
    }
   ],
   "source": [
    "import numpy as np\n",
    "from matplotlib import pyplot as plt\n",
    "\n",
    "lens = np.array([sum(l) for l in train_dataset[\"attention_mask\"]])\n",
    "plt.hist(lens, bins=50)"
   ]
  },
  {
   "cell_type": "code",
   "execution_count": 38,
   "id": "durable-excitement",
   "metadata": {},
   "outputs": [
    {
     "name": "stdout",
     "output_type": "stream",
     "text": [
      "[CLS] coronavirus en ar gent ina : ginés gonzález garcía confirmó que llegarán médicos cu bano s al país [SEP] [USER] [EMOJI] cara resoplando [EMOJI] sos un desastre j. j. j [SEP]\n",
      "[CLS] su estado de salud, literatura y feminismo : 19 definicion es de florencia kirchner [SEP] [USER] pobrecita, con 4p alos verdes, está triste?? [EMOJI] mano con señal de victoria tono de piel claro medio [EMOJI] [EMOJI] mano con señal de victoria tono de piel claro medio [EMOJI] [EMOJI] mano con señal de victoria tono de piel claro medio [EMOJI] [SEP]\n"
     ]
    }
   ],
   "source": [
    "emoji_idx = tokenizer.get_vocab()[\"[EMOJI]\"]\n",
    "\n",
    "for ex in train_dataset.select(range(30)):\n",
    "    if emoji_idx in ex[\"input_ids\"]:\n",
    "        dec = tokenizer.decode(ex[\"input_ids\"])\n",
    "        print(dec)"
   ]
  },
  {
   "cell_type": "code",
   "execution_count": null,
   "id": "preliminary-economy",
   "metadata": {},
   "outputs": [],
   "source": []
  }
 ],
 "metadata": {
  "kernelspec": {
   "display_name": "Python 3",
   "language": "python",
   "name": "python3"
  },
  "language_info": {
   "codemirror_mode": {
    "name": "ipython",
    "version": 3
   },
   "file_extension": ".py",
   "mimetype": "text/x-python",
   "name": "python",
   "nbconvert_exporter": "python",
   "pygments_lexer": "ipython3",
   "version": "3.8.5"
  }
 },
 "nbformat": 4,
 "nbformat_minor": 5
}
