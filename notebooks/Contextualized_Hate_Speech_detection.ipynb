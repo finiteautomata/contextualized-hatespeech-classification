{
  "cells": [
    {
      "cell_type": "markdown",
      "metadata": {
        "id": "view-in-github",
        "colab_type": "text"
      },
      "source": [
        "<a href=\"https://colab.research.google.com/github/finiteautomata/hatespeech-classification/blob/main/notebooks/Contextualized_Hate_Speech_detection.ipynb\" target=\"_parent\"><img src=\"https://colab.research.google.com/assets/colab-badge.svg\" alt=\"Open In Colab\"/></a>"
      ]
    },
    {
      "cell_type": "markdown",
      "source": [
        "## Detección contextualizada de discurso de odio\n",
        "\n",
        "En esta notebook, vamos a usar el dataset de discurso de odio contextualizado para entrenar un clasificador estado del arte basado en BERT\n",
        "\n",
        "\n",
        "En primer lugar, instalamos dependencias. Más que nada, vamos a usar [huggingface/transformers](https://huggingface.co/transformers), librería del estado del arte para NLP."
      ],
      "metadata": {
        "id": "ngwb9x20jl2P"
      }
    },
    {
      "cell_type": "code",
      "execution_count": 1,
      "metadata": {
        "colab": {
          "base_uri": "https://localhost:8080/",
          "height": 1000
        },
        "id": "vFUaaj0rSvCa",
        "outputId": "46fbd31d-f9c7-4b29-8787-ed84bb60e68e"
      },
      "outputs": [
        {
          "output_type": "stream",
          "name": "stdout",
          "text": [
            "Looking in indexes: https://pypi.org/simple, https://us-python.pkg.dev/colab-wheels/public/simple/\n",
            "Collecting transformers\n",
            "  Downloading transformers-4.24.0-py3-none-any.whl (5.5 MB)\n",
            "\u001b[K     |████████████████████████████████| 5.5 MB 13.9 MB/s \n",
            "\u001b[?25hCollecting datasets\n",
            "  Downloading datasets-2.7.1-py3-none-any.whl (451 kB)\n",
            "\u001b[K     |████████████████████████████████| 451 kB 80.1 MB/s \n",
            "\u001b[?25hCollecting huggingface_hub\n",
            "  Downloading huggingface_hub-0.11.1-py3-none-any.whl (182 kB)\n",
            "\u001b[K     |████████████████████████████████| 182 kB 68.5 MB/s \n",
            "\u001b[?25hCollecting ipdb\n",
            "  Downloading ipdb-0.13.9.tar.gz (16 kB)\n",
            "Collecting tokenizers!=0.11.3,<0.14,>=0.11.1\n",
            "  Downloading tokenizers-0.13.2-cp37-cp37m-manylinux_2_17_x86_64.manylinux2014_x86_64.whl (7.6 MB)\n",
            "\u001b[K     |████████████████████████████████| 7.6 MB 70.7 MB/s \n",
            "\u001b[?25hRequirement already satisfied: packaging>=20.0 in /usr/local/lib/python3.7/dist-packages (from transformers) (21.3)\n",
            "Requirement already satisfied: pyyaml>=5.1 in /usr/local/lib/python3.7/dist-packages (from transformers) (6.0)\n",
            "Requirement already satisfied: filelock in /usr/local/lib/python3.7/dist-packages (from transformers) (3.8.0)\n",
            "Requirement already satisfied: numpy>=1.17 in /usr/local/lib/python3.7/dist-packages (from transformers) (1.21.6)\n",
            "Requirement already satisfied: regex!=2019.12.17 in /usr/local/lib/python3.7/dist-packages (from transformers) (2022.6.2)\n",
            "Requirement already satisfied: importlib-metadata in /usr/local/lib/python3.7/dist-packages (from transformers) (4.13.0)\n",
            "Requirement already satisfied: tqdm>=4.27 in /usr/local/lib/python3.7/dist-packages (from transformers) (4.64.1)\n",
            "Requirement already satisfied: requests in /usr/local/lib/python3.7/dist-packages (from transformers) (2.23.0)\n",
            "Requirement already satisfied: typing-extensions>=3.7.4.3 in /usr/local/lib/python3.7/dist-packages (from huggingface_hub) (4.1.1)\n",
            "Requirement already satisfied: pyparsing!=3.0.5,>=2.0.2 in /usr/local/lib/python3.7/dist-packages (from packaging>=20.0->transformers) (3.0.9)\n",
            "Requirement already satisfied: fsspec[http]>=2021.11.1 in /usr/local/lib/python3.7/dist-packages (from datasets) (2022.11.0)\n",
            "Requirement already satisfied: aiohttp in /usr/local/lib/python3.7/dist-packages (from datasets) (3.8.3)\n",
            "Requirement already satisfied: pyarrow>=6.0.0 in /usr/local/lib/python3.7/dist-packages (from datasets) (9.0.0)\n",
            "Requirement already satisfied: dill<0.3.7 in /usr/local/lib/python3.7/dist-packages (from datasets) (0.3.6)\n",
            "Collecting responses<0.19\n",
            "  Downloading responses-0.18.0-py3-none-any.whl (38 kB)\n",
            "Requirement already satisfied: pandas in /usr/local/lib/python3.7/dist-packages (from datasets) (1.3.5)\n",
            "Collecting xxhash\n",
            "  Downloading xxhash-3.1.0-cp37-cp37m-manylinux_2_17_x86_64.manylinux2014_x86_64.whl (212 kB)\n",
            "\u001b[K     |████████████████████████████████| 212 kB 72.3 MB/s \n",
            "\u001b[?25hCollecting multiprocess\n",
            "  Downloading multiprocess-0.70.14-py37-none-any.whl (115 kB)\n",
            "\u001b[K     |████████████████████████████████| 115 kB 90.3 MB/s \n",
            "\u001b[?25hRequirement already satisfied: yarl<2.0,>=1.0 in /usr/local/lib/python3.7/dist-packages (from aiohttp->datasets) (1.8.1)\n",
            "Requirement already satisfied: aiosignal>=1.1.2 in /usr/local/lib/python3.7/dist-packages (from aiohttp->datasets) (1.3.1)\n",
            "Requirement already satisfied: multidict<7.0,>=4.5 in /usr/local/lib/python3.7/dist-packages (from aiohttp->datasets) (6.0.2)\n",
            "Requirement already satisfied: attrs>=17.3.0 in /usr/local/lib/python3.7/dist-packages (from aiohttp->datasets) (22.1.0)\n",
            "Requirement already satisfied: charset-normalizer<3.0,>=2.0 in /usr/local/lib/python3.7/dist-packages (from aiohttp->datasets) (2.1.1)\n",
            "Requirement already satisfied: asynctest==0.13.0 in /usr/local/lib/python3.7/dist-packages (from aiohttp->datasets) (0.13.0)\n",
            "Requirement already satisfied: async-timeout<5.0,>=4.0.0a3 in /usr/local/lib/python3.7/dist-packages (from aiohttp->datasets) (4.0.2)\n",
            "Requirement already satisfied: frozenlist>=1.1.1 in /usr/local/lib/python3.7/dist-packages (from aiohttp->datasets) (1.3.3)\n",
            "Requirement already satisfied: chardet<4,>=3.0.2 in /usr/local/lib/python3.7/dist-packages (from requests->transformers) (3.0.4)\n",
            "Requirement already satisfied: idna<3,>=2.5 in /usr/local/lib/python3.7/dist-packages (from requests->transformers) (2.10)\n",
            "Requirement already satisfied: urllib3!=1.25.0,!=1.25.1,<1.26,>=1.21.1 in /usr/local/lib/python3.7/dist-packages (from requests->transformers) (1.24.3)\n",
            "Requirement already satisfied: certifi>=2017.4.17 in /usr/local/lib/python3.7/dist-packages (from requests->transformers) (2022.9.24)\n",
            "Collecting urllib3!=1.25.0,!=1.25.1,<1.26,>=1.21.1\n",
            "  Downloading urllib3-1.25.11-py2.py3-none-any.whl (127 kB)\n",
            "\u001b[K     |████████████████████████████████| 127 kB 84.8 MB/s \n",
            "\u001b[?25hRequirement already satisfied: setuptools in /usr/local/lib/python3.7/dist-packages (from ipdb) (57.4.0)\n",
            "Collecting ipython>=7.17.0\n",
            "  Downloading ipython-7.34.0-py3-none-any.whl (793 kB)\n",
            "\u001b[K     |████████████████████████████████| 793 kB 70.5 MB/s \n",
            "\u001b[?25hRequirement already satisfied: toml>=0.10.2 in /usr/local/lib/python3.7/dist-packages (from ipdb) (0.10.2)\n",
            "Requirement already satisfied: decorator in /usr/local/lib/python3.7/dist-packages (from ipdb) (4.4.2)\n",
            "Requirement already satisfied: pygments in /usr/local/lib/python3.7/dist-packages (from ipython>=7.17.0->ipdb) (2.6.1)\n",
            "Collecting matplotlib-inline\n",
            "  Downloading matplotlib_inline-0.1.6-py3-none-any.whl (9.4 kB)\n",
            "Requirement already satisfied: backcall in /usr/local/lib/python3.7/dist-packages (from ipython>=7.17.0->ipdb) (0.2.0)\n",
            "Requirement already satisfied: pexpect>4.3 in /usr/local/lib/python3.7/dist-packages (from ipython>=7.17.0->ipdb) (4.8.0)\n",
            "Requirement already satisfied: pickleshare in /usr/local/lib/python3.7/dist-packages (from ipython>=7.17.0->ipdb) (0.7.5)\n",
            "Collecting jedi>=0.16\n",
            "  Downloading jedi-0.18.2-py2.py3-none-any.whl (1.6 MB)\n",
            "\u001b[K     |████████████████████████████████| 1.6 MB 75.3 MB/s \n",
            "\u001b[?25hRequirement already satisfied: prompt-toolkit!=3.0.0,!=3.0.1,<3.1.0,>=2.0.0 in /usr/local/lib/python3.7/dist-packages (from ipython>=7.17.0->ipdb) (2.0.10)\n",
            "Requirement already satisfied: traitlets>=4.2 in /usr/local/lib/python3.7/dist-packages (from ipython>=7.17.0->ipdb) (5.1.1)\n",
            "Requirement already satisfied: parso<0.9.0,>=0.8.0 in /usr/local/lib/python3.7/dist-packages (from jedi>=0.16->ipython>=7.17.0->ipdb) (0.8.3)\n",
            "Requirement already satisfied: ptyprocess>=0.5 in /usr/local/lib/python3.7/dist-packages (from pexpect>4.3->ipython>=7.17.0->ipdb) (0.7.0)\n",
            "Requirement already satisfied: six>=1.9.0 in /usr/local/lib/python3.7/dist-packages (from prompt-toolkit!=3.0.0,!=3.0.1,<3.1.0,>=2.0.0->ipython>=7.17.0->ipdb) (1.15.0)\n",
            "Requirement already satisfied: wcwidth in /usr/local/lib/python3.7/dist-packages (from prompt-toolkit!=3.0.0,!=3.0.1,<3.1.0,>=2.0.0->ipython>=7.17.0->ipdb) (0.2.5)\n",
            "Requirement already satisfied: zipp>=0.5 in /usr/local/lib/python3.7/dist-packages (from importlib-metadata->transformers) (3.10.0)\n",
            "Requirement already satisfied: pytz>=2017.3 in /usr/local/lib/python3.7/dist-packages (from pandas->datasets) (2022.6)\n",
            "Requirement already satisfied: python-dateutil>=2.7.3 in /usr/local/lib/python3.7/dist-packages (from pandas->datasets) (2.8.2)\n",
            "Building wheels for collected packages: ipdb\n",
            "  Building wheel for ipdb (setup.py) ... \u001b[?25l\u001b[?25hdone\n",
            "  Created wheel for ipdb: filename=ipdb-0.13.9-py3-none-any.whl size=11649 sha256=10c0495049d7ca9e9d4d0ec26bf51b1c6689ac6875a8512158d1bd115abf00b0\n",
            "  Stored in directory: /root/.cache/pip/wheels/65/cd/cc/aaf92acae337a28fdd2aa4d632196a59745c8c39f76eaeed01\n",
            "Successfully built ipdb\n",
            "Installing collected packages: urllib3, matplotlib-inline, jedi, xxhash, tokenizers, responses, multiprocess, ipython, huggingface-hub, transformers, ipdb, datasets\n",
            "  Attempting uninstall: urllib3\n",
            "    Found existing installation: urllib3 1.24.3\n",
            "    Uninstalling urllib3-1.24.3:\n",
            "      Successfully uninstalled urllib3-1.24.3\n",
            "  Attempting uninstall: ipython\n",
            "    Found existing installation: ipython 7.9.0\n",
            "    Uninstalling ipython-7.9.0:\n",
            "      Successfully uninstalled ipython-7.9.0\n",
            "\u001b[31mERROR: pip's dependency resolver does not currently take into account all the packages that are installed. This behaviour is the source of the following dependency conflicts.\n",
            "google-colab 1.0.0 requires ipython~=7.9.0, but you have ipython 7.34.0 which is incompatible.\u001b[0m\n",
            "Successfully installed datasets-2.7.1 huggingface-hub-0.11.1 ipdb-0.13.9 ipython-7.34.0 jedi-0.18.2 matplotlib-inline-0.1.6 multiprocess-0.70.14 responses-0.18.0 tokenizers-0.13.2 transformers-4.24.0 urllib3-1.25.11 xxhash-3.1.0\n"
          ]
        },
        {
          "output_type": "display_data",
          "data": {
            "application/vnd.colab-display-data+json": {
              "pip_warning": {
                "packages": [
                  "IPython"
                ]
              }
            }
          },
          "metadata": {}
        }
      ],
      "source": [
        "!pip install transformers datasets huggingface_hub ipdb"
      ]
    },
    {
      "cell_type": "markdown",
      "source": [
        "Nos logueamos en huggingface. Esto es necesario ya que el dataset es privado por ahora :-)\n",
        "\n",
        "Van a tener que generar un token en la página correspondiente"
      ],
      "metadata": {
        "id": "Uc1uNsbWj5hD"
      }
    },
    {
      "cell_type": "code",
      "execution_count": 2,
      "metadata": {
        "colab": {
          "base_uri": "https://localhost:8080/",
          "height": 303,
          "referenced_widgets": [
            "f7854c348a1844e4a4f435aa451fd026",
            "c6489d447881481994343bcac4b6c77b",
            "f0b92a403a334166b4df728576bd7a8e",
            "092d6edd95d04870aef424f4b6bc8c03",
            "bf75296ac9574e6e9717d0e6204fb3a9",
            "03cc645ff22542ddacfcb1452914114d",
            "65a4ff8c7b8a467ba7508350355e8942",
            "dd371afa661141fa91e4d95c77d94fa2",
            "dea9a0f91e6846af90a294f5fd82551e",
            "364a71d8e611429cb26de0c1ed085d19",
            "cb1102e94f474c3f8b3612a5f2775023",
            "54b1b18e0d074cd5aeaa16750423f102",
            "b1e035a2b0f64ceeb91cb7d7887b5e53",
            "dd44fc83b2764cffb26b01f4a5b4cf11",
            "3dfd4155ff834f399004966bf0d5c6da",
            "33192b06faa3415fb446baa0dde4ae46",
            "3d0e755c80ad44aeb4a216ba111b37b7"
          ]
        },
        "id": "sNYPvanSSzs-",
        "outputId": "ac69aee3-7ecd-4a53-e253-bbbfb593e311"
      },
      "outputs": [
        {
          "output_type": "stream",
          "name": "stdout",
          "text": [
            "Token is valid.\n",
            "Your token has been saved in your configured git credential helpers (store).\n",
            "Your token has been saved to /root/.huggingface/token\n",
            "Login successful\n"
          ]
        }
      ],
      "source": [
        "from huggingface_hub import notebook_login\n",
        "\n",
        "notebook_login()"
      ]
    },
    {
      "cell_type": "markdown",
      "source": [
        "Cargamos el dataset"
      ],
      "metadata": {
        "id": "OatftlKAj_y7"
      }
    },
    {
      "cell_type": "code",
      "execution_count": 1,
      "metadata": {
        "colab": {
          "base_uri": "https://localhost:8080/",
          "height": 104,
          "referenced_widgets": [
            "fa616f075a3f4399897ba0648ec382fa",
            "b83a31c6e71e4e2897747272a27aa4f7",
            "b2fa9dd8e8b34c358ededd78f21be7c7",
            "c50e3ca132cd4a10923483ee7d5dc363",
            "5207f798329c4a79a2b54205aac83571",
            "7596a03a806c425db0095fc9a341d49f",
            "41a0adb0cab245598a2f3d1af89e79d9",
            "4530a1256a3b4d04833c34ee44cc6e87",
            "fd7c57bac40a469caf884dfc43d3bb92",
            "f9aa9d9666a840089de3c7bac202172c",
            "2b832be4261048d286d1866fff22b6a7"
          ]
        },
        "id": "sch8qBGSS2Wr",
        "outputId": "bb2646ea-bf48-43e2-bffe-e1e6d3f591f5"
      },
      "outputs": [
        {
          "output_type": "stream",
          "name": "stderr",
          "text": [
            "WARNING:datasets.builder:Using custom data configuration piubamas--contextualized_hate_speech-6970a0eb345a0ebc\n",
            "WARNING:datasets.builder:Found cached dataset parquet (/root/.cache/huggingface/datasets/piubamas___parquet/piubamas--contextualized_hate_speech-6970a0eb345a0ebc/0.0.0/2a3b91fbd88a2c90d1dbbb32b460cf621d31bd5b05b934492fdef7d8d6f236ec)\n"
          ]
        },
        {
          "output_type": "display_data",
          "data": {
            "text/plain": [
              "  0%|          | 0/3 [00:00<?, ?it/s]"
            ],
            "application/vnd.jupyter.widget-view+json": {
              "version_major": 2,
              "version_minor": 0,
              "model_id": "fa616f075a3f4399897ba0648ec382fa"
            }
          },
          "metadata": {}
        }
      ],
      "source": [
        "from datasets import load_dataset\n",
        "\n",
        "ds = load_dataset(\"piubamas/contextualized_hate_speech\")"
      ]
    },
    {
      "cell_type": "markdown",
      "source": [
        "Veamos qué tiene"
      ],
      "metadata": {
        "id": "GcLYUXkrkBzT"
      }
    },
    {
      "cell_type": "code",
      "source": [
        "ds"
      ],
      "metadata": {
        "colab": {
          "base_uri": "https://localhost:8080/"
        },
        "id": "AwGhUrTrkBHr",
        "outputId": "eb62156d-df35-43d4-f025-53f86c6cd029"
      },
      "execution_count": 2,
      "outputs": [
        {
          "output_type": "execute_result",
          "data": {
            "text/plain": [
              "DatasetDict({\n",
              "    test: Dataset({\n",
              "        features: ['id', 'title', 'text', 'context_tweet', 'HATEFUL', 'body', 'CALLS', 'WOMEN', 'LGBTI', 'RACISM', 'CLASS', 'POLITICS', 'DISABLED', 'APPEARANCE', 'CRIMINAL'],\n",
              "        num_rows: 11343\n",
              "    })\n",
              "    dev: Dataset({\n",
              "        features: ['id', 'title', 'text', 'context_tweet', 'HATEFUL', 'body', 'CALLS', 'WOMEN', 'LGBTI', 'RACISM', 'CLASS', 'POLITICS', 'DISABLED', 'APPEARANCE', 'CRIMINAL'],\n",
              "        num_rows: 9106\n",
              "    })\n",
              "    train: Dataset({\n",
              "        features: ['id', 'title', 'text', 'context_tweet', 'HATEFUL', 'body', 'CALLS', 'WOMEN', 'LGBTI', 'RACISM', 'CLASS', 'POLITICS', 'DISABLED', 'APPEARANCE', 'CRIMINAL'],\n",
              "        num_rows: 36420\n",
              "    })\n",
              "})"
            ]
          },
          "metadata": {},
          "execution_count": 2
        }
      ]
    },
    {
      "cell_type": "markdown",
      "source": [
        "El dataset ya está partido en 3 splits (train, test, dev) y tiene las columnas \n",
        "['id', 'title', 'text', 'context_tweet', 'HATEFUL', 'body', 'CALLS', 'WOMEN', 'LGBTI', 'RACISM', 'CLASS', 'POLITICS', 'DISABLED', 'APPEARANCE', 'CRIMINAL']"
      ],
      "metadata": {
        "id": "rYeYimRYkgDX"
      }
    },
    {
      "cell_type": "markdown",
      "source": [
        "¿Y algún ejemplo?"
      ],
      "metadata": {
        "id": "5QJydodXkDk7"
      }
    },
    {
      "cell_type": "code",
      "source": [
        "ds[\"train\"][0]"
      ],
      "metadata": {
        "colab": {
          "base_uri": "https://localhost:8080/"
        },
        "id": "NCiemJc3kE7q",
        "outputId": "242dcf7b-c7d3-46db-98ef-45fa654ece96"
      },
      "execution_count": 4,
      "outputs": [
        {
          "output_type": "execute_result",
          "data": {
            "text/plain": [
              "{'id': 343726,\n",
              " 'title': 'Video: salió de la cárcel por el coronavirus y murió de un tiro el mismo día al festejar su libertad',\n",
              " 'text': '@usuario Uno menos',\n",
              " 'context_tweet': 'Video: salió de la cárcel por el coronavirus y murió de un tiro el mismo día al festejar su libertad https://t.co/UrJGRAdEvD',\n",
              " 'HATEFUL': 1,\n",
              " 'body': 'Un hombre de 46 años, que cumplía una condena en prisión y fue puesto en libertad por el coronavirus, murió el mismo día que dejó la cárcel baleado por un primo, durante los \"festejos\" por dejar la prisión.\\n\\nSari Salem Wardat, de 46 años, recibió un disparo desde atrás en un aparente accidente mientras caminaba hacia miembros de la familia y vecinos que se habían reunido para darle la bienvenida a su casa, en Jordania.\\n\\nUn video que circuló en las redes sociales \\u200bmuestra a Sari llegando a su casa en un auto azul rodeado de tiros de \"celebración\". El primo se acerca de inmediato a Sari, que sostiene una pistola y la apunta hacia el cielo.\\n\\nEl detenido liberado, al lado de la puerta del acompañante, mira a su primo quien \"festeja\" la liberación.\\n\\nMirá también Mirá también El increíble video de unos monos que se tiran a la pileta como Charly García\\n\\nEl arma parece trabarse dos veces antes de que el primo dispare siete tiros al aire mientras Sari camina hacia las personas reunidas en la calle. Luego, el arma se traba una vez más y allí el preso liberado recibe un tiro accidental en la cabeza.\\n\\nSari había estado cumpliendo una condena de ocho meses de prisión por portar un arma sin licencia y resistir el arresto, pero también se cree que era un traficante de drogas y un contrabandista. Fue puesto en libertad dos semanas antes del final de su condena como parte de las medidas gubernamentales de Jordania para prevenir la propagación del coronavirus.',\n",
              " 'CALLS': 0,\n",
              " 'WOMEN': 0,\n",
              " 'LGBTI': 0,\n",
              " 'RACISM': 0,\n",
              " 'CLASS': 0,\n",
              " 'POLITICS': 0,\n",
              " 'DISABLED': 0,\n",
              " 'APPEARANCE': 0,\n",
              " 'CRIMINAL': 1}"
            ]
          },
          "metadata": {},
          "execution_count": 4
        }
      ]
    },
    {
      "cell_type": "code",
      "source": [
        "ds[\"train\"][1041]"
      ],
      "metadata": {
        "colab": {
          "base_uri": "https://localhost:8080/"
        },
        "id": "cTJwn1u8ktfh",
        "outputId": "54cf3fff-3fe9-4515-bd79-c913fb2fa6e0"
      },
      "execution_count": 19,
      "outputs": [
        {
          "output_type": "execute_result",
          "data": {
            "text/plain": [
              "{'id': 361500,\n",
              " 'title': 'Eduardo Costantini y Elina Fernández mostraron la intimidad de su luna de miel: \"Ella no me deja tomar una copa de vino\"',\n",
              " 'text': '@usuario Llegar a viejo y ser tan pelotudo. Garchate cuánta trola quieras. Pero hacerte el novio con una no da',\n",
              " 'context_tweet': 'Eduardo Costantini y Elina Fernández mostraron la intimidad de su luna de miel: “Ella no me deja tomar una copa de vino” https://t.co/NvBhExZEnk',\n",
              " 'HATEFUL': 1,\n",
              " 'body': 'Eduardo Costantini y Elina fernandez, de luna de miel en Bariloche (Fotos: Instagram)\\n\\nEs una escena por demás cotidiana, de una pareja cualquiera que disfruta de su primer viaje como recién casados. Y ella, pese al desconcierto inicial de él, decide compartirlo con sus seguidores en las redes sociales. Pero todo esto adquiere otra dimensión cuando se revela que los protagonistas son Eduardo Costantini y Elina Fernández, cuya relación sentimental fue puesta en duda -de un modo escandaloso- por Ananá Ferreira, quien habló de un \"plan maestro\" de la modelo para seducir al empresario.\\n\\nY así es como, cuando todavía resuena el eco de la polémica mediática, Elina hizo un live en Instagram reflejando el desayuno con el dueño del Malba, en el hotel de Bariloche donde se hospedan. Desde su mesa, se observa el lago Moreno. \"La estoy pasando muy bien. Estoy muy feliz\", dice Costantini. \"¿Estás muy feliz?\", insiste su señora. \"Sí, muy feliz. ¿Vos?\". \"Muy feliz\".\\n\\nAnte una consulta de Elina, buscando prolongar el diálogo (\"¿Qué más querés contarnos?\"), Eduardo parece estar un poco desconcertado: \"Nada. Estamos conversando, baby, para este video entre nosotros. ¿Qué estarás haciendo...?\", se pregunta el empresario. \"¡Estás en vivo! ¡En vivo desde Instagram!\", le anuncia su esposa. \"Ay, Dios...\", se lamenta Costantini, aunque de inmediato acepta exponer la escena con los seguidores en las redes sociales.\\n\\n\\n\\nLos dos se pierden entonces hablando del Ironman 70.3, el exigente desafío que por tercera vez consecutiva se realiza en suelo barilochense. Dan precisiones sobre la temperatura del lago, por caso. También cuentan que en esas mismas aguas divisaron un pato y un cisne. Y Eduardo le recuerda que, luego del desayuno, vendrá la exigencia: \"Hoy vamos a hacer una caminata de dos horas. ¿Estás preparada? ¿Seguro?\". \"Siempre estoy preparada\", aclara, y ríen los dos. \"¡Qué lindo que estás!\", lo piropea Elina.\\n\\nLo que sigue en el diálogo puede ser interpretado como un mensaje solapado para Anamá Ferreira y todos los que pusieron en tela de juicio su unión. \"¿Qué sentís (al) estar casado conmigo?\", indaga ella. \"Muy feliz\", confiesa él, accediendo a mostrar sus anillos. Y hace un chiste: \"Les quiero contar que Elina no me quiere dar un vasito de vino\", sonríe. \"Yo no estoy tomando vino\", aclara su esposa.\\n\\nAmor eterno: Eduardo Costantini, Elina Fernandez y el anillo de rubí que selló la relación\\n\\n\"¿Una reflexión para la vida, mi amor, para la gente buena y para la gente mala? -lo invita Fernández-. Hay que ser feliz\". \"Soy una agradecido de la vida, sobre todo en estos tiempos, con la amenaza del coronavirus. Tenemos que estar preparados. Y por eso cada día más tenemos que valorar la vida\". \"A los que no pueden disfrutar de la vida -retoma la modelo-, que ven por los demás, ¿cuál es tu consejo? Para mí, el consejo es que deben sanarse y ser felices, porque la vida es corta\". \"Mi consejo es encontrarse a uno mismo; cuando estás bien con vos, está bien con los demás\". Y luego, se despiden.\\n\\nEl sábado 22 de febrero Costantini (73) y Elina (30) dieron el sí en una exclusiva fiesta en el Alvear, luego de un noviazgo de nueve meses que se inició al haberse conocido en el museo del acaudalado empresario (su fortuna se estima en 1.200 millones de dólares). Pero ese encuentro no habría sido fortuito: según Anamá, se trató de un \"plan maestro\" -al que comparó con el célebre robo al Banco Río- pergeñado por Fernández.\\n\\nLos audios de Anamá Ferreira sobre el matrimonio de Costantini\\n\\n\\n\\n\"Ella iba casi todos los días a tomar algo al Malba. Había hecho todo un research (búsqueda), y había visto que él estaba soltero. No es que el tipo la vio un día en el Malba y se enamoró. La vio ahí, frecuentemente, en el Malba: miradita, miradita, miradita...\", se la escucha decir a Ferreira en sendos mensajes de audio que envió a sus amigas, y se terminaron filtrando. De todos modos, antes que repudiar su accionar, lo enaltece. \"Yo estoy acá. ¡Yo quiero alguien que me lleve en business a algún lado!\", lamenta la conductora brasileña entre risas. Pocas horas después de que sus palabras se hicieran públicas, acercó sus disculpas.\\n\\nSEGUÍ LEYENDO',\n",
              " 'CALLS': 0,\n",
              " 'WOMEN': 1,\n",
              " 'LGBTI': 0,\n",
              " 'RACISM': 0,\n",
              " 'CLASS': 0,\n",
              " 'POLITICS': 0,\n",
              " 'DISABLED': 0,\n",
              " 'APPEARANCE': 1,\n",
              " 'CRIMINAL': 0}"
            ]
          },
          "metadata": {},
          "execution_count": 19
        }
      ]
    },
    {
      "cell_type": "markdown",
      "source": [
        "## Modelo de clasificación\n",
        "\n",
        "Vamos a intentar predecir con un clasificador qué características son atacadas en un tweet. Es decir, nuestro algoritmo va a tomar como entrada un contexto (e.g. \"China prohibió el consumo de carne de perro\"), y un texto (\"Son unos salvajes y se merecen el COVID\") e intentará predecir las características atacadas (en este caso, RACISMO)"
      ],
      "metadata": {
        "id": "WdnI0-YxkGn8"
      }
    },
    {
      "cell_type": "markdown",
      "source": [
        "![Screenshot from 2022-11-30 09-49-28.png](data:image/png;base64,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)"
      ],
      "metadata": {
        "id": "yEC1se7KldZo"
      }
    },
    {
      "cell_type": "markdown",
      "source": [
        "Vamos a cargar un modelo \"BETO\" (Bert en Español) para clasificación múltiple (predecir 9 características al mismo tiempo)\n",
        "\n",
        "También cargamos un tokenizador, que es lo que convierte nuestro texto en \"tokens\" (podemos pensarlo como pedacitos de palabras/morfemas)"
      ],
      "metadata": {
        "id": "gJHvo_utlhcu"
      }
    },
    {
      "cell_type": "code",
      "execution_count": 36,
      "metadata": {
        "colab": {
          "base_uri": "https://localhost:8080/"
        },
        "id": "hzXsLnIQTdqH",
        "outputId": "6957a1cd-f3d0-4690-da5a-e127414b9096"
      },
      "outputs": [
        {
          "output_type": "stream",
          "name": "stderr",
          "text": [
            "loading configuration file config.json from cache at /root/.cache/huggingface/hub/models--dccuchile--bert-base-spanish-wwm-cased/snapshots/56a7647b957a4230fc3f80dafbe80f2ba9b0de73/config.json\n",
            "Model config BertConfig {\n",
            "  \"_name_or_path\": \"dccuchile/bert-base-spanish-wwm-cased\",\n",
            "  \"architectures\": [\n",
            "    \"BertForMaskedLM\"\n",
            "  ],\n",
            "  \"attention_probs_dropout_prob\": 0.1,\n",
            "  \"classifier_dropout\": null,\n",
            "  \"gradient_checkpointing\": false,\n",
            "  \"hidden_act\": \"gelu\",\n",
            "  \"hidden_dropout_prob\": 0.1,\n",
            "  \"hidden_size\": 768,\n",
            "  \"id2label\": {\n",
            "    \"0\": \"LABEL_0\",\n",
            "    \"1\": \"LABEL_1\",\n",
            "    \"2\": \"LABEL_2\",\n",
            "    \"3\": \"LABEL_3\",\n",
            "    \"4\": \"LABEL_4\",\n",
            "    \"5\": \"LABEL_5\",\n",
            "    \"6\": \"LABEL_6\",\n",
            "    \"7\": \"LABEL_7\",\n",
            "    \"8\": \"LABEL_8\"\n",
            "  },\n",
            "  \"initializer_range\": 0.02,\n",
            "  \"intermediate_size\": 3072,\n",
            "  \"label2id\": {\n",
            "    \"LABEL_0\": 0,\n",
            "    \"LABEL_1\": 1,\n",
            "    \"LABEL_2\": 2,\n",
            "    \"LABEL_3\": 3,\n",
            "    \"LABEL_4\": 4,\n",
            "    \"LABEL_5\": 5,\n",
            "    \"LABEL_6\": 6,\n",
            "    \"LABEL_7\": 7,\n",
            "    \"LABEL_8\": 8\n",
            "  },\n",
            "  \"layer_norm_eps\": 1e-12,\n",
            "  \"max_position_embeddings\": 512,\n",
            "  \"model_type\": \"bert\",\n",
            "  \"num_attention_heads\": 12,\n",
            "  \"num_hidden_layers\": 12,\n",
            "  \"output_past\": true,\n",
            "  \"pad_token_id\": 1,\n",
            "  \"position_embedding_type\": \"absolute\",\n",
            "  \"problem_type\": \"multi_label_classification\",\n",
            "  \"transformers_version\": \"4.24.0\",\n",
            "  \"type_vocab_size\": 2,\n",
            "  \"use_cache\": true,\n",
            "  \"vocab_size\": 31002\n",
            "}\n",
            "\n",
            "loading weights file pytorch_model.bin from cache at /root/.cache/huggingface/hub/models--dccuchile--bert-base-spanish-wwm-cased/snapshots/56a7647b957a4230fc3f80dafbe80f2ba9b0de73/pytorch_model.bin\n",
            "Some weights of the model checkpoint at dccuchile/bert-base-spanish-wwm-cased were not used when initializing BertForSequenceClassification: ['cls.predictions.decoder.bias', 'cls.predictions.transform.dense.weight', 'cls.predictions.decoder.weight', 'cls.predictions.transform.dense.bias', 'cls.predictions.transform.LayerNorm.bias', 'cls.predictions.bias', 'cls.predictions.transform.LayerNorm.weight']\n",
            "- This IS expected if you are initializing BertForSequenceClassification from the checkpoint of a model trained on another task or with another architecture (e.g. initializing a BertForSequenceClassification model from a BertForPreTraining model).\n",
            "- This IS NOT expected if you are initializing BertForSequenceClassification from the checkpoint of a model that you expect to be exactly identical (initializing a BertForSequenceClassification model from a BertForSequenceClassification model).\n",
            "Some weights of BertForSequenceClassification were not initialized from the model checkpoint at dccuchile/bert-base-spanish-wwm-cased and are newly initialized: ['classifier.weight', 'bert.pooler.dense.bias', 'bert.pooler.dense.weight', 'classifier.bias']\n",
            "You should probably TRAIN this model on a down-stream task to be able to use it for predictions and inference.\n",
            "loading configuration file config.json from cache at /root/.cache/huggingface/hub/models--dccuchile--bert-base-spanish-wwm-cased/snapshots/56a7647b957a4230fc3f80dafbe80f2ba9b0de73/config.json\n",
            "Model config BertConfig {\n",
            "  \"_name_or_path\": \"dccuchile/bert-base-spanish-wwm-cased\",\n",
            "  \"architectures\": [\n",
            "    \"BertForMaskedLM\"\n",
            "  ],\n",
            "  \"attention_probs_dropout_prob\": 0.1,\n",
            "  \"classifier_dropout\": null,\n",
            "  \"gradient_checkpointing\": false,\n",
            "  \"hidden_act\": \"gelu\",\n",
            "  \"hidden_dropout_prob\": 0.1,\n",
            "  \"hidden_size\": 768,\n",
            "  \"initializer_range\": 0.02,\n",
            "  \"intermediate_size\": 3072,\n",
            "  \"layer_norm_eps\": 1e-12,\n",
            "  \"max_position_embeddings\": 512,\n",
            "  \"model_type\": \"bert\",\n",
            "  \"num_attention_heads\": 12,\n",
            "  \"num_hidden_layers\": 12,\n",
            "  \"output_past\": true,\n",
            "  \"pad_token_id\": 1,\n",
            "  \"position_embedding_type\": \"absolute\",\n",
            "  \"transformers_version\": \"4.24.0\",\n",
            "  \"type_vocab_size\": 2,\n",
            "  \"use_cache\": true,\n",
            "  \"vocab_size\": 31002\n",
            "}\n",
            "\n",
            "loading file vocab.txt from cache at /root/.cache/huggingface/hub/models--dccuchile--bert-base-spanish-wwm-cased/snapshots/56a7647b957a4230fc3f80dafbe80f2ba9b0de73/vocab.txt\n",
            "loading file tokenizer.json from cache at /root/.cache/huggingface/hub/models--dccuchile--bert-base-spanish-wwm-cased/snapshots/56a7647b957a4230fc3f80dafbe80f2ba9b0de73/tokenizer.json\n",
            "loading file added_tokens.json from cache at None\n",
            "loading file special_tokens_map.json from cache at /root/.cache/huggingface/hub/models--dccuchile--bert-base-spanish-wwm-cased/snapshots/56a7647b957a4230fc3f80dafbe80f2ba9b0de73/special_tokens_map.json\n",
            "loading file tokenizer_config.json from cache at /root/.cache/huggingface/hub/models--dccuchile--bert-base-spanish-wwm-cased/snapshots/56a7647b957a4230fc3f80dafbe80f2ba9b0de73/tokenizer_config.json\n",
            "loading configuration file config.json from cache at /root/.cache/huggingface/hub/models--dccuchile--bert-base-spanish-wwm-cased/snapshots/56a7647b957a4230fc3f80dafbe80f2ba9b0de73/config.json\n",
            "Model config BertConfig {\n",
            "  \"_name_or_path\": \"dccuchile/bert-base-spanish-wwm-cased\",\n",
            "  \"architectures\": [\n",
            "    \"BertForMaskedLM\"\n",
            "  ],\n",
            "  \"attention_probs_dropout_prob\": 0.1,\n",
            "  \"classifier_dropout\": null,\n",
            "  \"gradient_checkpointing\": false,\n",
            "  \"hidden_act\": \"gelu\",\n",
            "  \"hidden_dropout_prob\": 0.1,\n",
            "  \"hidden_size\": 768,\n",
            "  \"initializer_range\": 0.02,\n",
            "  \"intermediate_size\": 3072,\n",
            "  \"layer_norm_eps\": 1e-12,\n",
            "  \"max_position_embeddings\": 512,\n",
            "  \"model_type\": \"bert\",\n",
            "  \"num_attention_heads\": 12,\n",
            "  \"num_hidden_layers\": 12,\n",
            "  \"output_past\": true,\n",
            "  \"pad_token_id\": 1,\n",
            "  \"position_embedding_type\": \"absolute\",\n",
            "  \"transformers_version\": \"4.24.0\",\n",
            "  \"type_vocab_size\": 2,\n",
            "  \"use_cache\": true,\n",
            "  \"vocab_size\": 31002\n",
            "}\n",
            "\n"
          ]
        }
      ],
      "source": [
        "from transformers import AutoModelForSequenceClassification, AutoTokenizer\n",
        "\n",
        "model_name = \"dccuchile/bert-base-spanish-wwm-cased\"\n",
        "\n",
        "model = AutoModelForSequenceClassification.from_pretrained(\n",
        "    model_name,\n",
        "    num_labels=9, #9 labels: Calls + características\n",
        "    problem_type=\"multi_label_classification\")\n",
        "\n",
        "model.config.id2label = dict(zip([str(k) for k in range(10)], id2label))\n",
        "model.config.label2id = {v:int(k) for k, v in model.config.id2label.items()}\n",
        "\n",
        "tokenizer = AutoTokenizer.from_pretrained(model_name)"
      ]
    },
    {
      "cell_type": "markdown",
      "source": [
        "Tokenizamos el texto. Acá convertimos contexto y texto en un único string, separado por un caracter especial llamado `[SEP]`"
      ],
      "metadata": {
        "id": "whPcCSb-lu1B"
      }
    },
    {
      "cell_type": "code",
      "execution_count": 37,
      "metadata": {
        "colab": {
          "base_uri": "https://localhost:8080/",
          "height": 104,
          "referenced_widgets": [
            "3aab91f1ec3749a1bbd5a13a762d877e",
            "d6f8db9b35ae4beb8efd0b85462b2b7d",
            "eb6245ec759a483fb59788c2982de4bb",
            "66b265ba14944c1398273375c1515865",
            "f7067d6c39924e65ad860e10c3f86fb5",
            "af0c9320f34a44bb9fa3d9e808847779",
            "332b33ccef554cc392c0c6d624f306db",
            "4245637b9bb940f2abf351fa77397cda",
            "0d453d49d65a447cb5b21027aecd031b",
            "5ad53742a5454a3d931b193c06506777",
            "7dd5f697d3004373b8614476f49d851c"
          ]
        },
        "id": "PbYXGk5bU8m1",
        "outputId": "5e35acc1-3126-433c-f366-815edd137e71"
      },
      "outputs": [
        {
          "output_type": "stream",
          "name": "stderr",
          "text": [
            "WARNING:datasets.arrow_dataset:Loading cached processed dataset at /root/.cache/huggingface/datasets/piubamas___parquet/piubamas--contextualized_hate_speech-6970a0eb345a0ebc/0.0.0/2a3b91fbd88a2c90d1dbbb32b460cf621d31bd5b05b934492fdef7d8d6f236ec/cache-5366112e39123670.arrow\n",
            "WARNING:datasets.arrow_dataset:Loading cached processed dataset at /root/.cache/huggingface/datasets/piubamas___parquet/piubamas--contextualized_hate_speech-6970a0eb345a0ebc/0.0.0/2a3b91fbd88a2c90d1dbbb32b460cf621d31bd5b05b934492fdef7d8d6f236ec/cache-2071c806c8186449.arrow\n"
          ]
        },
        {
          "output_type": "display_data",
          "data": {
            "text/plain": [
              "  0%|          | 0/36420 [00:00<?, ?ex/s]"
            ],
            "application/vnd.jupyter.widget-view+json": {
              "version_major": 2,
              "version_minor": 0,
              "model_id": "3aab91f1ec3749a1bbd5a13a762d877e"
            }
          },
          "metadata": {}
        }
      ],
      "source": [
        "tokenizer.model_max_length = 256\n",
        "\n",
        "def tokenize(ex):\n",
        "    return tokenizer(ex[\"text\"], ex[\"context_tweet\"], truncation=\"longest_first\")\n",
        "\n",
        "tokenized_ds = ds.map(tokenize)"
      ]
    },
    {
      "cell_type": "code",
      "source": [
        "tokenized_ds"
      ],
      "metadata": {
        "colab": {
          "base_uri": "https://localhost:8080/"
        },
        "id": "tF7t2DYbl3QZ",
        "outputId": "9b750d36-8ac5-4b67-ab0e-b1b912f18ea1"
      },
      "execution_count": 38,
      "outputs": [
        {
          "output_type": "execute_result",
          "data": {
            "text/plain": [
              "DatasetDict({\n",
              "    test: Dataset({\n",
              "        features: ['id', 'title', 'text', 'context_tweet', 'HATEFUL', 'body', 'CALLS', 'WOMEN', 'LGBTI', 'RACISM', 'CLASS', 'POLITICS', 'DISABLED', 'APPEARANCE', 'CRIMINAL', 'input_ids', 'token_type_ids', 'attention_mask'],\n",
              "        num_rows: 11343\n",
              "    })\n",
              "    dev: Dataset({\n",
              "        features: ['id', 'title', 'text', 'context_tweet', 'HATEFUL', 'body', 'CALLS', 'WOMEN', 'LGBTI', 'RACISM', 'CLASS', 'POLITICS', 'DISABLED', 'APPEARANCE', 'CRIMINAL', 'input_ids', 'token_type_ids', 'attention_mask'],\n",
              "        num_rows: 9106\n",
              "    })\n",
              "    train: Dataset({\n",
              "        features: ['id', 'title', 'text', 'context_tweet', 'HATEFUL', 'body', 'CALLS', 'WOMEN', 'LGBTI', 'RACISM', 'CLASS', 'POLITICS', 'DISABLED', 'APPEARANCE', 'CRIMINAL', 'input_ids', 'token_type_ids', 'attention_mask'],\n",
              "        num_rows: 36420\n",
              "    })\n",
              "})"
            ]
          },
          "metadata": {},
          "execution_count": 38
        }
      ]
    },
    {
      "cell_type": "markdown",
      "source": [
        "Ahora tenemos `input_ids` y otros que son secuencias de números (correspondientes a los tokens) que vamos a meter en nuestro clasificador.\n",
        "\n",
        "Próximo paso: decimos qué etiquetas queremos predecir. Para eso, creamos una nueva columna llamada `labels`, que va a contener en nuestro caso las características a predecir"
      ],
      "metadata": {
        "id": "O0rjT1u3l3_B"
      }
    },
    {
      "cell_type": "code",
      "execution_count": 39,
      "metadata": {
        "colab": {
          "base_uri": "https://localhost:8080/",
          "height": 104,
          "referenced_widgets": [
            "3e3450e73a2346bda99704aae552a2a3",
            "d939da9625e7474a9f2eaa81f6645d19",
            "d64bf5775e904fbd9fa3440d61baee60",
            "b152fecbf59544d8b0498be73703e7f8",
            "8286507536c24498bf98fc39553de3c6",
            "f61fbefe572f48658c389a2545016774",
            "0ddb724820d64cd4b1e3402d16a6e552",
            "2402946a11a847d29ae4864c6da6dff5",
            "c7b88c1e4e0c4bd9886efffdc5549f92",
            "974af46e30204073b21a1c6667d19f94",
            "6f9d676c3bf848efaf331973be2fc981"
          ]
        },
        "id": "sI-YW1W3Z2SZ",
        "outputId": "ab91ef17-796b-40fe-d172-955521cdec76"
      },
      "outputs": [
        {
          "output_type": "stream",
          "name": "stderr",
          "text": [
            "WARNING:datasets.arrow_dataset:Loading cached processed dataset at /root/.cache/huggingface/datasets/piubamas___parquet/piubamas--contextualized_hate_speech-6970a0eb345a0ebc/0.0.0/2a3b91fbd88a2c90d1dbbb32b460cf621d31bd5b05b934492fdef7d8d6f236ec/cache-e8b1bb33cbbf3be3.arrow\n",
            "WARNING:datasets.arrow_dataset:Loading cached processed dataset at /root/.cache/huggingface/datasets/piubamas___parquet/piubamas--contextualized_hate_speech-6970a0eb345a0ebc/0.0.0/2a3b91fbd88a2c90d1dbbb32b460cf621d31bd5b05b934492fdef7d8d6f236ec/cache-137d708bb4e5bda6.arrow\n"
          ]
        },
        {
          "output_type": "display_data",
          "data": {
            "text/plain": [
              "  0%|          | 0/36420 [00:00<?, ?ex/s]"
            ],
            "application/vnd.jupyter.widget-view+json": {
              "version_major": 2,
              "version_minor": 0,
              "model_id": "3e3450e73a2346bda99704aae552a2a3"
            }
          },
          "metadata": {}
        }
      ],
      "source": [
        "from pandas.core.arrays.sparse import dtype\n",
        "import torch\n",
        "\n",
        "id2label = ['CALLS', 'WOMEN', 'LGBTI', 'RACISM', 'CLASS', 'POLITICS', 'DISABLED', 'APPEARANCE', 'CRIMINAL']\n",
        "\n",
        "label2id = {v:k for k, v in enumerate(id2label)}\n",
        "\n",
        "def set_labels(example):\n",
        "    return {\"labels\": torch.Tensor([float(example[cat]) for cat in id2label])}\n",
        "\n",
        "formatted_ds = tokenized_ds.map(set_labels)\n",
        "formatted_ds.set_format(type='torch', columns=['input_ids', 'token_type_ids', 'attention_mask', \"labels\"])"
      ]
    },
    {
      "cell_type": "markdown",
      "source": [
        "Y listo! Ahora entrenamos."
      ],
      "metadata": {
        "id": "lfOa1Te9mR6o"
      }
    },
    {
      "cell_type": "code",
      "execution_count": 42,
      "metadata": {
        "colab": {
          "base_uri": "https://localhost:8080/",
          "height": 953
        },
        "id": "D3Np5gd4Xe--",
        "outputId": "5f3f2d17-69cb-438f-d728-588218fff56b"
      },
      "outputs": [
        {
          "output_type": "stream",
          "name": "stderr",
          "text": [
            "PyTorch: setting up devices\n",
            "The default value for the training argument `--report_to` will change in v5 (from all installed integrations to none). In v5, you will need to use `--report_to all` to get the same behavior as now. You should start updating your code and make this info disappear :-).\n",
            "The following columns in the training set don't have a corresponding argument in `BertForSequenceClassification.forward` and have been ignored: APPEARANCE, title, HATEFUL, POLITICS, DISABLED, text, WOMEN, id, body, CLASS, context_tweet, LGBTI, CRIMINAL, RACISM, CALLS. If APPEARANCE, title, HATEFUL, POLITICS, DISABLED, text, WOMEN, id, body, CLASS, context_tweet, LGBTI, CRIMINAL, RACISM, CALLS are not expected by `BertForSequenceClassification.forward`,  you can safely ignore this message.\n",
            "/usr/local/lib/python3.7/dist-packages/transformers/optimization.py:310: FutureWarning: This implementation of AdamW is deprecated and will be removed in a future version. Use the PyTorch implementation torch.optim.AdamW instead, or set `no_deprecation_warning=True` to disable this warning\n",
            "  FutureWarning,\n",
            "***** Running training *****\n",
            "  Num examples = 36420\n",
            "  Num Epochs = 3\n",
            "  Instantaneous batch size per device = 32\n",
            "  Total train batch size (w. parallel, distributed & accumulation) = 32\n",
            "  Gradient Accumulation steps = 1\n",
            "  Total optimization steps = 3417\n",
            "  Number of trainable parameters = 109857801\n",
            "You're using a BertTokenizerFast tokenizer. Please note that with a fast tokenizer, using the `__call__` method is faster than using a method to encode the text followed by a call to the `pad` method to get a padded encoding.\n"
          ]
        },
        {
          "output_type": "display_data",
          "data": {
            "text/plain": [
              "<IPython.core.display.HTML object>"
            ],
            "text/html": [
              "\n",
              "    <div>\n",
              "      \n",
              "      <progress value='3417' max='3417' style='width:300px; height:20px; vertical-align: middle;'></progress>\n",
              "      [3417/3417 08:40, Epoch 3/3]\n",
              "    </div>\n",
              "    <table border=\"1\" class=\"dataframe\">\n",
              "  <thead>\n",
              " <tr style=\"text-align: left;\">\n",
              "      <th>Epoch</th>\n",
              "      <th>Training Loss</th>\n",
              "      <th>Validation Loss</th>\n",
              "      <th>Macro f1</th>\n",
              "      <th>Macro precision</th>\n",
              "      <th>Macro recall</th>\n",
              "      <th>Calls F1</th>\n",
              "      <th>Women F1</th>\n",
              "      <th>Lgbti F1</th>\n",
              "      <th>Racism F1</th>\n",
              "      <th>Class F1</th>\n",
              "      <th>Politics F1</th>\n",
              "      <th>Disabled F1</th>\n",
              "      <th>Appearance F1</th>\n",
              "      <th>Criminal F1</th>\n",
              "    </tr>\n",
              "  </thead>\n",
              "  <tbody>\n",
              "    <tr>\n",
              "      <td>1</td>\n",
              "      <td>0.068500</td>\n",
              "      <td>0.058121</td>\n",
              "      <td>0.535785</td>\n",
              "      <td>0.654929</td>\n",
              "      <td>0.470845</td>\n",
              "      <td>0.596059</td>\n",
              "      <td>0.325581</td>\n",
              "      <td>0.544747</td>\n",
              "      <td>0.647520</td>\n",
              "      <td>0.398268</td>\n",
              "      <td>0.604278</td>\n",
              "      <td>0.321168</td>\n",
              "      <td>0.655502</td>\n",
              "      <td>0.728938</td>\n",
              "    </tr>\n",
              "    <tr>\n",
              "      <td>2</td>\n",
              "      <td>0.043700</td>\n",
              "      <td>0.048577</td>\n",
              "      <td>0.577243</td>\n",
              "      <td>0.794400</td>\n",
              "      <td>0.472061</td>\n",
              "      <td>0.677346</td>\n",
              "      <td>0.438095</td>\n",
              "      <td>0.474747</td>\n",
              "      <td>0.619195</td>\n",
              "      <td>0.369942</td>\n",
              "      <td>0.598802</td>\n",
              "      <td>0.507692</td>\n",
              "      <td>0.710921</td>\n",
              "      <td>0.798450</td>\n",
              "    </tr>\n",
              "    <tr>\n",
              "      <td>3</td>\n",
              "      <td>0.024600</td>\n",
              "      <td>0.046391</td>\n",
              "      <td>0.644691</td>\n",
              "      <td>0.729996</td>\n",
              "      <td>0.582566</td>\n",
              "      <td>0.714588</td>\n",
              "      <td>0.508197</td>\n",
              "      <td>0.578723</td>\n",
              "      <td>0.693824</td>\n",
              "      <td>0.478469</td>\n",
              "      <td>0.675192</td>\n",
              "      <td>0.588235</td>\n",
              "      <td>0.767347</td>\n",
              "      <td>0.797642</td>\n",
              "    </tr>\n",
              "  </tbody>\n",
              "</table><p>"
            ]
          },
          "metadata": {}
        },
        {
          "output_type": "stream",
          "name": "stderr",
          "text": [
            "The following columns in the evaluation set don't have a corresponding argument in `BertForSequenceClassification.forward` and have been ignored: APPEARANCE, title, HATEFUL, POLITICS, DISABLED, text, WOMEN, id, body, CLASS, context_tweet, LGBTI, CRIMINAL, RACISM, CALLS. If APPEARANCE, title, HATEFUL, POLITICS, DISABLED, text, WOMEN, id, body, CLASS, context_tweet, LGBTI, CRIMINAL, RACISM, CALLS are not expected by `BertForSequenceClassification.forward`,  you can safely ignore this message.\n",
            "***** Running Evaluation *****\n",
            "  Num examples = 9106\n",
            "  Batch size = 32\n",
            "Saving model checkpoint to hs_clf/checkpoint-1139\n",
            "Configuration saved in hs_clf/checkpoint-1139/config.json\n",
            "Model weights saved in hs_clf/checkpoint-1139/pytorch_model.bin\n",
            "The following columns in the evaluation set don't have a corresponding argument in `BertForSequenceClassification.forward` and have been ignored: APPEARANCE, title, HATEFUL, POLITICS, DISABLED, text, WOMEN, id, body, CLASS, context_tweet, LGBTI, CRIMINAL, RACISM, CALLS. If APPEARANCE, title, HATEFUL, POLITICS, DISABLED, text, WOMEN, id, body, CLASS, context_tweet, LGBTI, CRIMINAL, RACISM, CALLS are not expected by `BertForSequenceClassification.forward`,  you can safely ignore this message.\n",
            "***** Running Evaluation *****\n",
            "  Num examples = 9106\n",
            "  Batch size = 32\n",
            "Saving model checkpoint to hs_clf/checkpoint-2278\n",
            "Configuration saved in hs_clf/checkpoint-2278/config.json\n",
            "Model weights saved in hs_clf/checkpoint-2278/pytorch_model.bin\n",
            "The following columns in the evaluation set don't have a corresponding argument in `BertForSequenceClassification.forward` and have been ignored: APPEARANCE, title, HATEFUL, POLITICS, DISABLED, text, WOMEN, id, body, CLASS, context_tweet, LGBTI, CRIMINAL, RACISM, CALLS. If APPEARANCE, title, HATEFUL, POLITICS, DISABLED, text, WOMEN, id, body, CLASS, context_tweet, LGBTI, CRIMINAL, RACISM, CALLS are not expected by `BertForSequenceClassification.forward`,  you can safely ignore this message.\n",
            "***** Running Evaluation *****\n",
            "  Num examples = 9106\n",
            "  Batch size = 32\n",
            "Saving model checkpoint to hs_clf/checkpoint-3417\n",
            "Configuration saved in hs_clf/checkpoint-3417/config.json\n",
            "Model weights saved in hs_clf/checkpoint-3417/pytorch_model.bin\n",
            "\n",
            "\n",
            "Training completed. Do not forget to share your model on huggingface.co/models =)\n",
            "\n",
            "\n",
            "Loading best model from hs_clf/checkpoint-3417 (score: 0.6446907959701395).\n"
          ]
        },
        {
          "output_type": "execute_result",
          "data": {
            "text/plain": [
              "TrainOutput(global_step=3417, training_loss=0.05937679392362778, metrics={'train_runtime': 520.4476, 'train_samples_per_second': 209.935, 'train_steps_per_second': 6.566, 'total_flos': 4208709387541824.0, 'train_loss': 0.05937679392362778, 'epoch': 3.0})"
            ]
          },
          "metadata": {},
          "execution_count": 42
        }
      ],
      "source": [
        "from transformers import Trainer, TrainingArguments, DataCollatorWithPadding\n",
        "from sklearn.metrics import precision_recall_fscore_support\n",
        "\n",
        "def compute_metrics(pred, **kwargs):\n",
        "    \"\"\"\n",
        "    Esta función calcula las métricas f1 para cada característica\n",
        "    \"\"\"\n",
        "    preds = (pred.predictions > 0)\n",
        "    labels = pred.label_ids\n",
        "    precision, recall, f1, _ = precision_recall_fscore_support(labels, preds)\n",
        "    \n",
        "    ret = {}\n",
        "\n",
        "    ret[\"Macro F1\"] = f1.mean()\n",
        "    ret[\"Macro Precision\"] = precision.mean()\n",
        "    ret[\"Macro Recall\"] = recall.mean()\n",
        "\n",
        "    for i, label in enumerate(id2label):\n",
        "        ret[label+\"_f1\"] = f1[i]\n",
        "    return ret\n",
        "\n",
        "\n",
        "# Este \"recolector\" de datos hace que los distintos lotes que \n",
        "# procesa BERT tengan todos el mismo largo. Para eso, rellena\n",
        "# con `padding`.\n",
        "data_collator = DataCollatorWithPadding(tokenizer, padding=\"longest\") \n",
        "\n",
        "# Argumentos varios de entrenamiento\n",
        "# - Tamaño de lote\n",
        "# - Cada cuánto evaluamos los resultados\n",
        "# - Si elegimos el mejor resultado al final de cada evaluación\n",
        "# - otros\n",
        "train_args = TrainingArguments(\n",
        "    output_dir=\"hs_clf\",\n",
        "    per_device_train_batch_size=32,\n",
        "    per_device_eval_batch_size=32,\n",
        "    evaluation_strategy=\"epoch\",\n",
        "    learning_rate=4e-5,\n",
        "    group_by_length=True,\n",
        "    save_strategy=\"epoch\",\n",
        "    weight_decay=0.01,\n",
        "    warmup_ratio=0.1,\n",
        "    load_best_model_at_end=True,\n",
        "    metric_for_best_model=\"eval_Macro F1\",\n",
        ")\n",
        "\n",
        "trainer = Trainer(\n",
        "    model=model,\n",
        "    args=train_args,\n",
        "    data_collator=data_collator,\n",
        "    train_dataset=formatted_ds[\"train\"],\n",
        "    eval_dataset=formatted_ds[\"dev\"],\n",
        "    compute_metrics=compute_metrics,\n",
        ")\n",
        "\n",
        "trainer.train()"
      ]
    },
    {
      "cell_type": "code",
      "source": [
        "trainer.evaluate(formatted_ds[\"test\"])"
      ],
      "metadata": {
        "colab": {
          "base_uri": "https://localhost:8080/",
          "height": 422
        },
        "id": "DU0SlXJsh8bn",
        "outputId": "97463fbd-22f1-4a53-832a-903b42a09db7"
      },
      "execution_count": 43,
      "outputs": [
        {
          "output_type": "stream",
          "name": "stderr",
          "text": [
            "The following columns in the evaluation set don't have a corresponding argument in `BertForSequenceClassification.forward` and have been ignored: APPEARANCE, title, HATEFUL, POLITICS, DISABLED, text, WOMEN, id, body, CLASS, context_tweet, LGBTI, CRIMINAL, RACISM, CALLS. If APPEARANCE, title, HATEFUL, POLITICS, DISABLED, text, WOMEN, id, body, CLASS, context_tweet, LGBTI, CRIMINAL, RACISM, CALLS are not expected by `BertForSequenceClassification.forward`,  you can safely ignore this message.\n",
            "***** Running Evaluation *****\n",
            "  Num examples = 11343\n",
            "  Batch size = 32\n"
          ]
        },
        {
          "output_type": "display_data",
          "data": {
            "text/plain": [
              "<IPython.core.display.HTML object>"
            ],
            "text/html": [
              "\n",
              "    <div>\n",
              "      \n",
              "      <progress value='355' max='355' style='width:300px; height:20px; vertical-align: middle;'></progress>\n",
              "      [355/355 00:22]\n",
              "    </div>\n",
              "    "
            ]
          },
          "metadata": {}
        },
        {
          "output_type": "execute_result",
          "data": {
            "text/plain": [
              "{'eval_loss': 0.058303531259298325,\n",
              " 'eval_Macro F1': 0.5539158035789873,\n",
              " 'eval_Macro Precision': 0.6738579325155638,\n",
              " 'eval_Macro Recall': 0.47588682263614346,\n",
              " 'eval_CALLS_f1': 0.6653771760154739,\n",
              " 'eval_WOMEN_f1': 0.3705463182897862,\n",
              " 'eval_LGBTI_f1': 0.42,\n",
              " 'eval_RACISM_f1': 0.6774566473988439,\n",
              " 'eval_CLASS_f1': 0.3755458515283843,\n",
              " 'eval_POLITICS_f1': 0.602910602910603,\n",
              " 'eval_DISABLED_f1': 0.5087719298245613,\n",
              " 'eval_APPEARANCE_f1': 0.723529411764706,\n",
              " 'eval_CRIMINAL_f1': 0.6411042944785276,\n",
              " 'eval_runtime': 22.1824,\n",
              " 'eval_samples_per_second': 511.351,\n",
              " 'eval_steps_per_second': 16.004,\n",
              " 'epoch': 3.0}"
            ]
          },
          "metadata": {},
          "execution_count": 43
        }
      ]
    },
    {
      "cell_type": "markdown",
      "source": [
        "## Ejemplos"
      ],
      "metadata": {
        "id": "diqiYIpOsyC1"
      }
    },
    {
      "cell_type": "code",
      "source": [
        "tokenizer.encode_plus(\"Putos\", \"de mierda\")"
      ],
      "metadata": {
        "colab": {
          "base_uri": "https://localhost:8080/"
        },
        "id": "94ARRrZHzVU1",
        "outputId": "2cfb6f19-a8c2-4a79-a409-43728cb1c22a"
      },
      "execution_count": 77,
      "outputs": [
        {
          "output_type": "execute_result",
          "data": {
            "text/plain": [
              "{'input_ids': [4, 4446, 1158, 5, 1008, 3383, 5], 'token_type_ids': [0, 0, 0, 0, 1, 1, 1], 'attention_mask': [1, 1, 1, 1, 1, 1, 1]}"
            ]
          },
          "metadata": {},
          "execution_count": 77
        }
      ]
    },
    {
      "cell_type": "code",
      "source": [
        "def predict(*args):\n",
        "    encoding = tokenizer.encode_plus(*args)\n",
        "\n",
        "    inputs = {\n",
        "        k:torch.LongTensor(encoding[k]).reshape(1, -1).to(\"cuda\") for k in {\"input_ids\", \"attention_mask\", \"token_type_ids\"}\n",
        "    }\n",
        "\n",
        "    output = model.forward(\n",
        "        **inputs\n",
        "    )\n",
        "\n",
        "    chars = list(zip(label2id, list(output.logits[0].detach().cpu().numpy() > 0)))\n",
        "\n",
        "    return [char for char, pred in chars if pred]"
      ],
      "metadata": {
        "id": "IfKA_9qFw3On"
      },
      "execution_count": 78,
      "outputs": []
    },
    {
      "cell_type": "code",
      "source": [
        "\n",
        "predict(\"Hay que matarlos a todos\", \"La selección alemana se niega a cantar el himno en Qatar\")"
      ],
      "metadata": {
        "colab": {
          "base_uri": "https://localhost:8080/"
        },
        "id": "amiJSzxwy-O3",
        "outputId": "4f90cd9a-ba27-4fc1-ddbf-30e862086a43"
      },
      "execution_count": 79,
      "outputs": [
        {
          "output_type": "execute_result",
          "data": {
            "text/plain": [
              "['CALLS', 'RACISM']"
            ]
          },
          "metadata": {},
          "execution_count": 79
        }
      ]
    },
    {
      "cell_type": "code",
      "source": [
        "\n",
        "predict(\"Hay que matarlos a todos\", \"Invasión de zarigüeyas en Cañuelas\")"
      ],
      "metadata": {
        "colab": {
          "base_uri": "https://localhost:8080/"
        },
        "id": "qcdjmGj-zjSu",
        "outputId": "2be1ea80-4fbf-40cf-89a9-964ebff96154"
      },
      "execution_count": 80,
      "outputs": [
        {
          "output_type": "execute_result",
          "data": {
            "text/plain": [
              "['CALLS']"
            ]
          },
          "metadata": {},
          "execution_count": 80
        }
      ]
    },
    {
      "cell_type": "code",
      "source": [
        "predict(\"Hay que matarlos a todos\", \"Fuga de presos en Devoto: hay cinco heridos entre los guardiacárceles\")"
      ],
      "metadata": {
        "colab": {
          "base_uri": "https://localhost:8080/"
        },
        "id": "Sx3pNFf2znGK",
        "outputId": "bd7ed647-b66c-4a84-94e3-2af3dedebf1f"
      },
      "execution_count": 81,
      "outputs": [
        {
          "output_type": "execute_result",
          "data": {
            "text/plain": [
              "['CALLS', 'CRIMINAL']"
            ]
          },
          "metadata": {},
          "execution_count": 81
        }
      ]
    },
    {
      "cell_type": "code",
      "source": [],
      "metadata": {
        "id": "1hPG7KrRzrvB"
      },
      "execution_count": null,
      "outputs": []
    }
  ],
  "metadata": {
    "accelerator": "GPU",
    "colab": {
      "provenance": [],
      "authorship_tag": "ABX9TyM5eW5gkjYQfJ+WIZ2c36Gt",
      "include_colab_link": true
    },
    "gpuClass": "premium",
    "kernelspec": {
      "display_name": "Python 3",
      "name": "python3"
    },
    "language_info": {
      "name": "python"
    },
    "widgets": {
      "application/vnd.jupyter.widget-state+json": {
        "f7854c348a1844e4a4f435aa451fd026": {
          "model_module": "@jupyter-widgets/controls",
          "model_name": "VBoxModel",
          "model_module_version": "1.5.0",
          "state": {
            "_dom_classes": [],
            "_model_module": "@jupyter-widgets/controls",
            "_model_module_version": "1.5.0",
            "_model_name": "VBoxModel",
            "_view_count": null,
            "_view_module": "@jupyter-widgets/controls",
            "_view_module_version": "1.5.0",
            "_view_name": "VBoxView",
            "box_style": "",
            "children": [
              "IPY_MODEL_c6489d447881481994343bcac4b6c77b",
              "IPY_MODEL_f0b92a403a334166b4df728576bd7a8e",
              "IPY_MODEL_092d6edd95d04870aef424f4b6bc8c03",
              "IPY_MODEL_bf75296ac9574e6e9717d0e6204fb3a9",
              "IPY_MODEL_03cc645ff22542ddacfcb1452914114d"
            ],
            "layout": "IPY_MODEL_65a4ff8c7b8a467ba7508350355e8942"
          }
        },
        "c6489d447881481994343bcac4b6c77b": {
          "model_module": "@jupyter-widgets/controls",
          "model_name": "HTMLModel",
          "model_module_version": "1.5.0",
          "state": {
            "_dom_classes": [],
            "_model_module": "@jupyter-widgets/controls",
            "_model_module_version": "1.5.0",
            "_model_name": "HTMLModel",
            "_view_count": null,
            "_view_module": "@jupyter-widgets/controls",
            "_view_module_version": "1.5.0",
            "_view_name": "HTMLView",
            "description": "",
            "description_tooltip": null,
            "layout": "IPY_MODEL_dd371afa661141fa91e4d95c77d94fa2",
            "placeholder": "​",
            "style": "IPY_MODEL_dea9a0f91e6846af90a294f5fd82551e",
            "value": "<center> <img\nsrc=https://huggingface.co/front/assets/huggingface_logo-noborder.svg\nalt='Hugging Face'> <br> Copy a token from <a\nhref=\"https://huggingface.co/settings/tokens\" target=\"_blank\">your Hugging Face\ntokens page</a> and paste it below. <br> Immediately click login after copying\nyour token or it might be stored in plain text in this notebook file. </center>"
          }
        },
        "f0b92a403a334166b4df728576bd7a8e": {
          "model_module": "@jupyter-widgets/controls",
          "model_name": "PasswordModel",
          "model_module_version": "1.5.0",
          "state": {
            "_dom_classes": [],
            "_model_module": "@jupyter-widgets/controls",
            "_model_module_version": "1.5.0",
            "_model_name": "PasswordModel",
            "_view_count": null,
            "_view_module": "@jupyter-widgets/controls",
            "_view_module_version": "1.5.0",
            "_view_name": "PasswordView",
            "continuous_update": true,
            "description": "Token:",
            "description_tooltip": null,
            "disabled": false,
            "layout": "IPY_MODEL_364a71d8e611429cb26de0c1ed085d19",
            "placeholder": "​",
            "style": "IPY_MODEL_cb1102e94f474c3f8b3612a5f2775023",
            "value": ""
          }
        },
        "092d6edd95d04870aef424f4b6bc8c03": {
          "model_module": "@jupyter-widgets/controls",
          "model_name": "CheckboxModel",
          "model_module_version": "1.5.0",
          "state": {
            "_dom_classes": [],
            "_model_module": "@jupyter-widgets/controls",
            "_model_module_version": "1.5.0",
            "_model_name": "CheckboxModel",
            "_view_count": null,
            "_view_module": "@jupyter-widgets/controls",
            "_view_module_version": "1.5.0",
            "_view_name": "CheckboxView",
            "description": "Add token as git credential?",
            "description_tooltip": null,
            "disabled": false,
            "indent": true,
            "layout": "IPY_MODEL_54b1b18e0d074cd5aeaa16750423f102",
            "style": "IPY_MODEL_b1e035a2b0f64ceeb91cb7d7887b5e53",
            "value": true
          }
        },
        "bf75296ac9574e6e9717d0e6204fb3a9": {
          "model_module": "@jupyter-widgets/controls",
          "model_name": "ButtonModel",
          "model_module_version": "1.5.0",
          "state": {
            "_dom_classes": [],
            "_model_module": "@jupyter-widgets/controls",
            "_model_module_version": "1.5.0",
            "_model_name": "ButtonModel",
            "_view_count": null,
            "_view_module": "@jupyter-widgets/controls",
            "_view_module_version": "1.5.0",
            "_view_name": "ButtonView",
            "button_style": "",
            "description": "Login",
            "disabled": false,
            "icon": "",
            "layout": "IPY_MODEL_dd44fc83b2764cffb26b01f4a5b4cf11",
            "style": "IPY_MODEL_3dfd4155ff834f399004966bf0d5c6da",
            "tooltip": ""
          }
        },
        "03cc645ff22542ddacfcb1452914114d": {
          "model_module": "@jupyter-widgets/controls",
          "model_name": "HTMLModel",
          "model_module_version": "1.5.0",
          "state": {
            "_dom_classes": [],
            "_model_module": "@jupyter-widgets/controls",
            "_model_module_version": "1.5.0",
            "_model_name": "HTMLModel",
            "_view_count": null,
            "_view_module": "@jupyter-widgets/controls",
            "_view_module_version": "1.5.0",
            "_view_name": "HTMLView",
            "description": "",
            "description_tooltip": null,
            "layout": "IPY_MODEL_33192b06faa3415fb446baa0dde4ae46",
            "placeholder": "​",
            "style": "IPY_MODEL_3d0e755c80ad44aeb4a216ba111b37b7",
            "value": "\n<b>Pro Tip:</b> If you don't already have one, you can create a dedicated\n'notebooks' token with 'write' access, that you can then easily reuse for all\nnotebooks. </center>"
          }
        },
        "65a4ff8c7b8a467ba7508350355e8942": {
          "model_module": "@jupyter-widgets/base",
          "model_name": "LayoutModel",
          "model_module_version": "1.2.0",
          "state": {
            "_model_module": "@jupyter-widgets/base",
            "_model_module_version": "1.2.0",
            "_model_name": "LayoutModel",
            "_view_count": null,
            "_view_module": "@jupyter-widgets/base",
            "_view_module_version": "1.2.0",
            "_view_name": "LayoutView",
            "align_content": null,
            "align_items": "center",
            "align_self": null,
            "border": null,
            "bottom": null,
            "display": "flex",
            "flex": null,
            "flex_flow": "column",
            "grid_area": null,
            "grid_auto_columns": null,
            "grid_auto_flow": null,
            "grid_auto_rows": null,
            "grid_column": null,
            "grid_gap": null,
            "grid_row": null,
            "grid_template_areas": null,
            "grid_template_columns": null,
            "grid_template_rows": null,
            "height": null,
            "justify_content": null,
            "justify_items": null,
            "left": null,
            "margin": null,
            "max_height": null,
            "max_width": null,
            "min_height": null,
            "min_width": null,
            "object_fit": null,
            "object_position": null,
            "order": null,
            "overflow": null,
            "overflow_x": null,
            "overflow_y": null,
            "padding": null,
            "right": null,
            "top": null,
            "visibility": null,
            "width": "50%"
          }
        },
        "dd371afa661141fa91e4d95c77d94fa2": {
          "model_module": "@jupyter-widgets/base",
          "model_name": "LayoutModel",
          "model_module_version": "1.2.0",
          "state": {
            "_model_module": "@jupyter-widgets/base",
            "_model_module_version": "1.2.0",
            "_model_name": "LayoutModel",
            "_view_count": null,
            "_view_module": "@jupyter-widgets/base",
            "_view_module_version": "1.2.0",
            "_view_name": "LayoutView",
            "align_content": null,
            "align_items": null,
            "align_self": null,
            "border": null,
            "bottom": null,
            "display": null,
            "flex": null,
            "flex_flow": null,
            "grid_area": null,
            "grid_auto_columns": null,
            "grid_auto_flow": null,
            "grid_auto_rows": null,
            "grid_column": null,
            "grid_gap": null,
            "grid_row": null,
            "grid_template_areas": null,
            "grid_template_columns": null,
            "grid_template_rows": null,
            "height": null,
            "justify_content": null,
            "justify_items": null,
            "left": null,
            "margin": null,
            "max_height": null,
            "max_width": null,
            "min_height": null,
            "min_width": null,
            "object_fit": null,
            "object_position": null,
            "order": null,
            "overflow": null,
            "overflow_x": null,
            "overflow_y": null,
            "padding": null,
            "right": null,
            "top": null,
            "visibility": null,
            "width": null
          }
        },
        "dea9a0f91e6846af90a294f5fd82551e": {
          "model_module": "@jupyter-widgets/controls",
          "model_name": "DescriptionStyleModel",
          "model_module_version": "1.5.0",
          "state": {
            "_model_module": "@jupyter-widgets/controls",
            "_model_module_version": "1.5.0",
            "_model_name": "DescriptionStyleModel",
            "_view_count": null,
            "_view_module": "@jupyter-widgets/base",
            "_view_module_version": "1.2.0",
            "_view_name": "StyleView",
            "description_width": ""
          }
        },
        "364a71d8e611429cb26de0c1ed085d19": {
          "model_module": "@jupyter-widgets/base",
          "model_name": "LayoutModel",
          "model_module_version": "1.2.0",
          "state": {
            "_model_module": "@jupyter-widgets/base",
            "_model_module_version": "1.2.0",
            "_model_name": "LayoutModel",
            "_view_count": null,
            "_view_module": "@jupyter-widgets/base",
            "_view_module_version": "1.2.0",
            "_view_name": "LayoutView",
            "align_content": null,
            "align_items": null,
            "align_self": null,
            "border": null,
            "bottom": null,
            "display": null,
            "flex": null,
            "flex_flow": null,
            "grid_area": null,
            "grid_auto_columns": null,
            "grid_auto_flow": null,
            "grid_auto_rows": null,
            "grid_column": null,
            "grid_gap": null,
            "grid_row": null,
            "grid_template_areas": null,
            "grid_template_columns": null,
            "grid_template_rows": null,
            "height": null,
            "justify_content": null,
            "justify_items": null,
            "left": null,
            "margin": null,
            "max_height": null,
            "max_width": null,
            "min_height": null,
            "min_width": null,
            "object_fit": null,
            "object_position": null,
            "order": null,
            "overflow": null,
            "overflow_x": null,
            "overflow_y": null,
            "padding": null,
            "right": null,
            "top": null,
            "visibility": null,
            "width": null
          }
        },
        "cb1102e94f474c3f8b3612a5f2775023": {
          "model_module": "@jupyter-widgets/controls",
          "model_name": "DescriptionStyleModel",
          "model_module_version": "1.5.0",
          "state": {
            "_model_module": "@jupyter-widgets/controls",
            "_model_module_version": "1.5.0",
            "_model_name": "DescriptionStyleModel",
            "_view_count": null,
            "_view_module": "@jupyter-widgets/base",
            "_view_module_version": "1.2.0",
            "_view_name": "StyleView",
            "description_width": ""
          }
        },
        "54b1b18e0d074cd5aeaa16750423f102": {
          "model_module": "@jupyter-widgets/base",
          "model_name": "LayoutModel",
          "model_module_version": "1.2.0",
          "state": {
            "_model_module": "@jupyter-widgets/base",
            "_model_module_version": "1.2.0",
            "_model_name": "LayoutModel",
            "_view_count": null,
            "_view_module": "@jupyter-widgets/base",
            "_view_module_version": "1.2.0",
            "_view_name": "LayoutView",
            "align_content": null,
            "align_items": null,
            "align_self": null,
            "border": null,
            "bottom": null,
            "display": null,
            "flex": null,
            "flex_flow": null,
            "grid_area": null,
            "grid_auto_columns": null,
            "grid_auto_flow": null,
            "grid_auto_rows": null,
            "grid_column": null,
            "grid_gap": null,
            "grid_row": null,
            "grid_template_areas": null,
            "grid_template_columns": null,
            "grid_template_rows": null,
            "height": null,
            "justify_content": null,
            "justify_items": null,
            "left": null,
            "margin": null,
            "max_height": null,
            "max_width": null,
            "min_height": null,
            "min_width": null,
            "object_fit": null,
            "object_position": null,
            "order": null,
            "overflow": null,
            "overflow_x": null,
            "overflow_y": null,
            "padding": null,
            "right": null,
            "top": null,
            "visibility": null,
            "width": null
          }
        },
        "b1e035a2b0f64ceeb91cb7d7887b5e53": {
          "model_module": "@jupyter-widgets/controls",
          "model_name": "DescriptionStyleModel",
          "model_module_version": "1.5.0",
          "state": {
            "_model_module": "@jupyter-widgets/controls",
            "_model_module_version": "1.5.0",
            "_model_name": "DescriptionStyleModel",
            "_view_count": null,
            "_view_module": "@jupyter-widgets/base",
            "_view_module_version": "1.2.0",
            "_view_name": "StyleView",
            "description_width": ""
          }
        },
        "dd44fc83b2764cffb26b01f4a5b4cf11": {
          "model_module": "@jupyter-widgets/base",
          "model_name": "LayoutModel",
          "model_module_version": "1.2.0",
          "state": {
            "_model_module": "@jupyter-widgets/base",
            "_model_module_version": "1.2.0",
            "_model_name": "LayoutModel",
            "_view_count": null,
            "_view_module": "@jupyter-widgets/base",
            "_view_module_version": "1.2.0",
            "_view_name": "LayoutView",
            "align_content": null,
            "align_items": null,
            "align_self": null,
            "border": null,
            "bottom": null,
            "display": null,
            "flex": null,
            "flex_flow": null,
            "grid_area": null,
            "grid_auto_columns": null,
            "grid_auto_flow": null,
            "grid_auto_rows": null,
            "grid_column": null,
            "grid_gap": null,
            "grid_row": null,
            "grid_template_areas": null,
            "grid_template_columns": null,
            "grid_template_rows": null,
            "height": null,
            "justify_content": null,
            "justify_items": null,
            "left": null,
            "margin": null,
            "max_height": null,
            "max_width": null,
            "min_height": null,
            "min_width": null,
            "object_fit": null,
            "object_position": null,
            "order": null,
            "overflow": null,
            "overflow_x": null,
            "overflow_y": null,
            "padding": null,
            "right": null,
            "top": null,
            "visibility": null,
            "width": null
          }
        },
        "3dfd4155ff834f399004966bf0d5c6da": {
          "model_module": "@jupyter-widgets/controls",
          "model_name": "ButtonStyleModel",
          "model_module_version": "1.5.0",
          "state": {
            "_model_module": "@jupyter-widgets/controls",
            "_model_module_version": "1.5.0",
            "_model_name": "ButtonStyleModel",
            "_view_count": null,
            "_view_module": "@jupyter-widgets/base",
            "_view_module_version": "1.2.0",
            "_view_name": "StyleView",
            "button_color": null,
            "font_weight": ""
          }
        },
        "33192b06faa3415fb446baa0dde4ae46": {
          "model_module": "@jupyter-widgets/base",
          "model_name": "LayoutModel",
          "model_module_version": "1.2.0",
          "state": {
            "_model_module": "@jupyter-widgets/base",
            "_model_module_version": "1.2.0",
            "_model_name": "LayoutModel",
            "_view_count": null,
            "_view_module": "@jupyter-widgets/base",
            "_view_module_version": "1.2.0",
            "_view_name": "LayoutView",
            "align_content": null,
            "align_items": null,
            "align_self": null,
            "border": null,
            "bottom": null,
            "display": null,
            "flex": null,
            "flex_flow": null,
            "grid_area": null,
            "grid_auto_columns": null,
            "grid_auto_flow": null,
            "grid_auto_rows": null,
            "grid_column": null,
            "grid_gap": null,
            "grid_row": null,
            "grid_template_areas": null,
            "grid_template_columns": null,
            "grid_template_rows": null,
            "height": null,
            "justify_content": null,
            "justify_items": null,
            "left": null,
            "margin": null,
            "max_height": null,
            "max_width": null,
            "min_height": null,
            "min_width": null,
            "object_fit": null,
            "object_position": null,
            "order": null,
            "overflow": null,
            "overflow_x": null,
            "overflow_y": null,
            "padding": null,
            "right": null,
            "top": null,
            "visibility": null,
            "width": null
          }
        },
        "3d0e755c80ad44aeb4a216ba111b37b7": {
          "model_module": "@jupyter-widgets/controls",
          "model_name": "DescriptionStyleModel",
          "model_module_version": "1.5.0",
          "state": {
            "_model_module": "@jupyter-widgets/controls",
            "_model_module_version": "1.5.0",
            "_model_name": "DescriptionStyleModel",
            "_view_count": null,
            "_view_module": "@jupyter-widgets/base",
            "_view_module_version": "1.2.0",
            "_view_name": "StyleView",
            "description_width": ""
          }
        },
        "fa616f075a3f4399897ba0648ec382fa": {
          "model_module": "@jupyter-widgets/controls",
          "model_name": "HBoxModel",
          "model_module_version": "1.5.0",
          "state": {
            "_dom_classes": [],
            "_model_module": "@jupyter-widgets/controls",
            "_model_module_version": "1.5.0",
            "_model_name": "HBoxModel",
            "_view_count": null,
            "_view_module": "@jupyter-widgets/controls",
            "_view_module_version": "1.5.0",
            "_view_name": "HBoxView",
            "box_style": "",
            "children": [
              "IPY_MODEL_b83a31c6e71e4e2897747272a27aa4f7",
              "IPY_MODEL_b2fa9dd8e8b34c358ededd78f21be7c7",
              "IPY_MODEL_c50e3ca132cd4a10923483ee7d5dc363"
            ],
            "layout": "IPY_MODEL_5207f798329c4a79a2b54205aac83571"
          }
        },
        "b83a31c6e71e4e2897747272a27aa4f7": {
          "model_module": "@jupyter-widgets/controls",
          "model_name": "HTMLModel",
          "model_module_version": "1.5.0",
          "state": {
            "_dom_classes": [],
            "_model_module": "@jupyter-widgets/controls",
            "_model_module_version": "1.5.0",
            "_model_name": "HTMLModel",
            "_view_count": null,
            "_view_module": "@jupyter-widgets/controls",
            "_view_module_version": "1.5.0",
            "_view_name": "HTMLView",
            "description": "",
            "description_tooltip": null,
            "layout": "IPY_MODEL_7596a03a806c425db0095fc9a341d49f",
            "placeholder": "​",
            "style": "IPY_MODEL_41a0adb0cab245598a2f3d1af89e79d9",
            "value": "100%"
          }
        },
        "b2fa9dd8e8b34c358ededd78f21be7c7": {
          "model_module": "@jupyter-widgets/controls",
          "model_name": "FloatProgressModel",
          "model_module_version": "1.5.0",
          "state": {
            "_dom_classes": [],
            "_model_module": "@jupyter-widgets/controls",
            "_model_module_version": "1.5.0",
            "_model_name": "FloatProgressModel",
            "_view_count": null,
            "_view_module": "@jupyter-widgets/controls",
            "_view_module_version": "1.5.0",
            "_view_name": "ProgressView",
            "bar_style": "success",
            "description": "",
            "description_tooltip": null,
            "layout": "IPY_MODEL_4530a1256a3b4d04833c34ee44cc6e87",
            "max": 3,
            "min": 0,
            "orientation": "horizontal",
            "style": "IPY_MODEL_fd7c57bac40a469caf884dfc43d3bb92",
            "value": 3
          }
        },
        "c50e3ca132cd4a10923483ee7d5dc363": {
          "model_module": "@jupyter-widgets/controls",
          "model_name": "HTMLModel",
          "model_module_version": "1.5.0",
          "state": {
            "_dom_classes": [],
            "_model_module": "@jupyter-widgets/controls",
            "_model_module_version": "1.5.0",
            "_model_name": "HTMLModel",
            "_view_count": null,
            "_view_module": "@jupyter-widgets/controls",
            "_view_module_version": "1.5.0",
            "_view_name": "HTMLView",
            "description": "",
            "description_tooltip": null,
            "layout": "IPY_MODEL_f9aa9d9666a840089de3c7bac202172c",
            "placeholder": "​",
            "style": "IPY_MODEL_2b832be4261048d286d1866fff22b6a7",
            "value": " 3/3 [00:00&lt;00:00, 88.64it/s]"
          }
        },
        "5207f798329c4a79a2b54205aac83571": {
          "model_module": "@jupyter-widgets/base",
          "model_name": "LayoutModel",
          "model_module_version": "1.2.0",
          "state": {
            "_model_module": "@jupyter-widgets/base",
            "_model_module_version": "1.2.0",
            "_model_name": "LayoutModel",
            "_view_count": null,
            "_view_module": "@jupyter-widgets/base",
            "_view_module_version": "1.2.0",
            "_view_name": "LayoutView",
            "align_content": null,
            "align_items": null,
            "align_self": null,
            "border": null,
            "bottom": null,
            "display": null,
            "flex": null,
            "flex_flow": null,
            "grid_area": null,
            "grid_auto_columns": null,
            "grid_auto_flow": null,
            "grid_auto_rows": null,
            "grid_column": null,
            "grid_gap": null,
            "grid_row": null,
            "grid_template_areas": null,
            "grid_template_columns": null,
            "grid_template_rows": null,
            "height": null,
            "justify_content": null,
            "justify_items": null,
            "left": null,
            "margin": null,
            "max_height": null,
            "max_width": null,
            "min_height": null,
            "min_width": null,
            "object_fit": null,
            "object_position": null,
            "order": null,
            "overflow": null,
            "overflow_x": null,
            "overflow_y": null,
            "padding": null,
            "right": null,
            "top": null,
            "visibility": null,
            "width": null
          }
        },
        "7596a03a806c425db0095fc9a341d49f": {
          "model_module": "@jupyter-widgets/base",
          "model_name": "LayoutModel",
          "model_module_version": "1.2.0",
          "state": {
            "_model_module": "@jupyter-widgets/base",
            "_model_module_version": "1.2.0",
            "_model_name": "LayoutModel",
            "_view_count": null,
            "_view_module": "@jupyter-widgets/base",
            "_view_module_version": "1.2.0",
            "_view_name": "LayoutView",
            "align_content": null,
            "align_items": null,
            "align_self": null,
            "border": null,
            "bottom": null,
            "display": null,
            "flex": null,
            "flex_flow": null,
            "grid_area": null,
            "grid_auto_columns": null,
            "grid_auto_flow": null,
            "grid_auto_rows": null,
            "grid_column": null,
            "grid_gap": null,
            "grid_row": null,
            "grid_template_areas": null,
            "grid_template_columns": null,
            "grid_template_rows": null,
            "height": null,
            "justify_content": null,
            "justify_items": null,
            "left": null,
            "margin": null,
            "max_height": null,
            "max_width": null,
            "min_height": null,
            "min_width": null,
            "object_fit": null,
            "object_position": null,
            "order": null,
            "overflow": null,
            "overflow_x": null,
            "overflow_y": null,
            "padding": null,
            "right": null,
            "top": null,
            "visibility": null,
            "width": null
          }
        },
        "41a0adb0cab245598a2f3d1af89e79d9": {
          "model_module": "@jupyter-widgets/controls",
          "model_name": "DescriptionStyleModel",
          "model_module_version": "1.5.0",
          "state": {
            "_model_module": "@jupyter-widgets/controls",
            "_model_module_version": "1.5.0",
            "_model_name": "DescriptionStyleModel",
            "_view_count": null,
            "_view_module": "@jupyter-widgets/base",
            "_view_module_version": "1.2.0",
            "_view_name": "StyleView",
            "description_width": ""
          }
        },
        "4530a1256a3b4d04833c34ee44cc6e87": {
          "model_module": "@jupyter-widgets/base",
          "model_name": "LayoutModel",
          "model_module_version": "1.2.0",
          "state": {
            "_model_module": "@jupyter-widgets/base",
            "_model_module_version": "1.2.0",
            "_model_name": "LayoutModel",
            "_view_count": null,
            "_view_module": "@jupyter-widgets/base",
            "_view_module_version": "1.2.0",
            "_view_name": "LayoutView",
            "align_content": null,
            "align_items": null,
            "align_self": null,
            "border": null,
            "bottom": null,
            "display": null,
            "flex": null,
            "flex_flow": null,
            "grid_area": null,
            "grid_auto_columns": null,
            "grid_auto_flow": null,
            "grid_auto_rows": null,
            "grid_column": null,
            "grid_gap": null,
            "grid_row": null,
            "grid_template_areas": null,
            "grid_template_columns": null,
            "grid_template_rows": null,
            "height": null,
            "justify_content": null,
            "justify_items": null,
            "left": null,
            "margin": null,
            "max_height": null,
            "max_width": null,
            "min_height": null,
            "min_width": null,
            "object_fit": null,
            "object_position": null,
            "order": null,
            "overflow": null,
            "overflow_x": null,
            "overflow_y": null,
            "padding": null,
            "right": null,
            "top": null,
            "visibility": null,
            "width": null
          }
        },
        "fd7c57bac40a469caf884dfc43d3bb92": {
          "model_module": "@jupyter-widgets/controls",
          "model_name": "ProgressStyleModel",
          "model_module_version": "1.5.0",
          "state": {
            "_model_module": "@jupyter-widgets/controls",
            "_model_module_version": "1.5.0",
            "_model_name": "ProgressStyleModel",
            "_view_count": null,
            "_view_module": "@jupyter-widgets/base",
            "_view_module_version": "1.2.0",
            "_view_name": "StyleView",
            "bar_color": null,
            "description_width": ""
          }
        },
        "f9aa9d9666a840089de3c7bac202172c": {
          "model_module": "@jupyter-widgets/base",
          "model_name": "LayoutModel",
          "model_module_version": "1.2.0",
          "state": {
            "_model_module": "@jupyter-widgets/base",
            "_model_module_version": "1.2.0",
            "_model_name": "LayoutModel",
            "_view_count": null,
            "_view_module": "@jupyter-widgets/base",
            "_view_module_version": "1.2.0",
            "_view_name": "LayoutView",
            "align_content": null,
            "align_items": null,
            "align_self": null,
            "border": null,
            "bottom": null,
            "display": null,
            "flex": null,
            "flex_flow": null,
            "grid_area": null,
            "grid_auto_columns": null,
            "grid_auto_flow": null,
            "grid_auto_rows": null,
            "grid_column": null,
            "grid_gap": null,
            "grid_row": null,
            "grid_template_areas": null,
            "grid_template_columns": null,
            "grid_template_rows": null,
            "height": null,
            "justify_content": null,
            "justify_items": null,
            "left": null,
            "margin": null,
            "max_height": null,
            "max_width": null,
            "min_height": null,
            "min_width": null,
            "object_fit": null,
            "object_position": null,
            "order": null,
            "overflow": null,
            "overflow_x": null,
            "overflow_y": null,
            "padding": null,
            "right": null,
            "top": null,
            "visibility": null,
            "width": null
          }
        },
        "2b832be4261048d286d1866fff22b6a7": {
          "model_module": "@jupyter-widgets/controls",
          "model_name": "DescriptionStyleModel",
          "model_module_version": "1.5.0",
          "state": {
            "_model_module": "@jupyter-widgets/controls",
            "_model_module_version": "1.5.0",
            "_model_name": "DescriptionStyleModel",
            "_view_count": null,
            "_view_module": "@jupyter-widgets/base",
            "_view_module_version": "1.2.0",
            "_view_name": "StyleView",
            "description_width": ""
          }
        },
        "3aab91f1ec3749a1bbd5a13a762d877e": {
          "model_module": "@jupyter-widgets/controls",
          "model_name": "HBoxModel",
          "model_module_version": "1.5.0",
          "state": {
            "_dom_classes": [],
            "_model_module": "@jupyter-widgets/controls",
            "_model_module_version": "1.5.0",
            "_model_name": "HBoxModel",
            "_view_count": null,
            "_view_module": "@jupyter-widgets/controls",
            "_view_module_version": "1.5.0",
            "_view_name": "HBoxView",
            "box_style": "",
            "children": [
              "IPY_MODEL_d6f8db9b35ae4beb8efd0b85462b2b7d",
              "IPY_MODEL_eb6245ec759a483fb59788c2982de4bb",
              "IPY_MODEL_66b265ba14944c1398273375c1515865"
            ],
            "layout": "IPY_MODEL_f7067d6c39924e65ad860e10c3f86fb5"
          }
        },
        "d6f8db9b35ae4beb8efd0b85462b2b7d": {
          "model_module": "@jupyter-widgets/controls",
          "model_name": "HTMLModel",
          "model_module_version": "1.5.0",
          "state": {
            "_dom_classes": [],
            "_model_module": "@jupyter-widgets/controls",
            "_model_module_version": "1.5.0",
            "_model_name": "HTMLModel",
            "_view_count": null,
            "_view_module": "@jupyter-widgets/controls",
            "_view_module_version": "1.5.0",
            "_view_name": "HTMLView",
            "description": "",
            "description_tooltip": null,
            "layout": "IPY_MODEL_af0c9320f34a44bb9fa3d9e808847779",
            "placeholder": "​",
            "style": "IPY_MODEL_332b33ccef554cc392c0c6d624f306db",
            "value": "100%"
          }
        },
        "eb6245ec759a483fb59788c2982de4bb": {
          "model_module": "@jupyter-widgets/controls",
          "model_name": "FloatProgressModel",
          "model_module_version": "1.5.0",
          "state": {
            "_dom_classes": [],
            "_model_module": "@jupyter-widgets/controls",
            "_model_module_version": "1.5.0",
            "_model_name": "FloatProgressModel",
            "_view_count": null,
            "_view_module": "@jupyter-widgets/controls",
            "_view_module_version": "1.5.0",
            "_view_name": "ProgressView",
            "bar_style": "success",
            "description": "",
            "description_tooltip": null,
            "layout": "IPY_MODEL_4245637b9bb940f2abf351fa77397cda",
            "max": 36420,
            "min": 0,
            "orientation": "horizontal",
            "style": "IPY_MODEL_0d453d49d65a447cb5b21027aecd031b",
            "value": 36420
          }
        },
        "66b265ba14944c1398273375c1515865": {
          "model_module": "@jupyter-widgets/controls",
          "model_name": "HTMLModel",
          "model_module_version": "1.5.0",
          "state": {
            "_dom_classes": [],
            "_model_module": "@jupyter-widgets/controls",
            "_model_module_version": "1.5.0",
            "_model_name": "HTMLModel",
            "_view_count": null,
            "_view_module": "@jupyter-widgets/controls",
            "_view_module_version": "1.5.0",
            "_view_name": "HTMLView",
            "description": "",
            "description_tooltip": null,
            "layout": "IPY_MODEL_5ad53742a5454a3d931b193c06506777",
            "placeholder": "​",
            "style": "IPY_MODEL_7dd5f697d3004373b8614476f49d851c",
            "value": " 36420/36420 [00:16&lt;00:00, 2222.65ex/s]"
          }
        },
        "f7067d6c39924e65ad860e10c3f86fb5": {
          "model_module": "@jupyter-widgets/base",
          "model_name": "LayoutModel",
          "model_module_version": "1.2.0",
          "state": {
            "_model_module": "@jupyter-widgets/base",
            "_model_module_version": "1.2.0",
            "_model_name": "LayoutModel",
            "_view_count": null,
            "_view_module": "@jupyter-widgets/base",
            "_view_module_version": "1.2.0",
            "_view_name": "LayoutView",
            "align_content": null,
            "align_items": null,
            "align_self": null,
            "border": null,
            "bottom": null,
            "display": null,
            "flex": null,
            "flex_flow": null,
            "grid_area": null,
            "grid_auto_columns": null,
            "grid_auto_flow": null,
            "grid_auto_rows": null,
            "grid_column": null,
            "grid_gap": null,
            "grid_row": null,
            "grid_template_areas": null,
            "grid_template_columns": null,
            "grid_template_rows": null,
            "height": null,
            "justify_content": null,
            "justify_items": null,
            "left": null,
            "margin": null,
            "max_height": null,
            "max_width": null,
            "min_height": null,
            "min_width": null,
            "object_fit": null,
            "object_position": null,
            "order": null,
            "overflow": null,
            "overflow_x": null,
            "overflow_y": null,
            "padding": null,
            "right": null,
            "top": null,
            "visibility": null,
            "width": null
          }
        },
        "af0c9320f34a44bb9fa3d9e808847779": {
          "model_module": "@jupyter-widgets/base",
          "model_name": "LayoutModel",
          "model_module_version": "1.2.0",
          "state": {
            "_model_module": "@jupyter-widgets/base",
            "_model_module_version": "1.2.0",
            "_model_name": "LayoutModel",
            "_view_count": null,
            "_view_module": "@jupyter-widgets/base",
            "_view_module_version": "1.2.0",
            "_view_name": "LayoutView",
            "align_content": null,
            "align_items": null,
            "align_self": null,
            "border": null,
            "bottom": null,
            "display": null,
            "flex": null,
            "flex_flow": null,
            "grid_area": null,
            "grid_auto_columns": null,
            "grid_auto_flow": null,
            "grid_auto_rows": null,
            "grid_column": null,
            "grid_gap": null,
            "grid_row": null,
            "grid_template_areas": null,
            "grid_template_columns": null,
            "grid_template_rows": null,
            "height": null,
            "justify_content": null,
            "justify_items": null,
            "left": null,
            "margin": null,
            "max_height": null,
            "max_width": null,
            "min_height": null,
            "min_width": null,
            "object_fit": null,
            "object_position": null,
            "order": null,
            "overflow": null,
            "overflow_x": null,
            "overflow_y": null,
            "padding": null,
            "right": null,
            "top": null,
            "visibility": null,
            "width": null
          }
        },
        "332b33ccef554cc392c0c6d624f306db": {
          "model_module": "@jupyter-widgets/controls",
          "model_name": "DescriptionStyleModel",
          "model_module_version": "1.5.0",
          "state": {
            "_model_module": "@jupyter-widgets/controls",
            "_model_module_version": "1.5.0",
            "_model_name": "DescriptionStyleModel",
            "_view_count": null,
            "_view_module": "@jupyter-widgets/base",
            "_view_module_version": "1.2.0",
            "_view_name": "StyleView",
            "description_width": ""
          }
        },
        "4245637b9bb940f2abf351fa77397cda": {
          "model_module": "@jupyter-widgets/base",
          "model_name": "LayoutModel",
          "model_module_version": "1.2.0",
          "state": {
            "_model_module": "@jupyter-widgets/base",
            "_model_module_version": "1.2.0",
            "_model_name": "LayoutModel",
            "_view_count": null,
            "_view_module": "@jupyter-widgets/base",
            "_view_module_version": "1.2.0",
            "_view_name": "LayoutView",
            "align_content": null,
            "align_items": null,
            "align_self": null,
            "border": null,
            "bottom": null,
            "display": null,
            "flex": null,
            "flex_flow": null,
            "grid_area": null,
            "grid_auto_columns": null,
            "grid_auto_flow": null,
            "grid_auto_rows": null,
            "grid_column": null,
            "grid_gap": null,
            "grid_row": null,
            "grid_template_areas": null,
            "grid_template_columns": null,
            "grid_template_rows": null,
            "height": null,
            "justify_content": null,
            "justify_items": null,
            "left": null,
            "margin": null,
            "max_height": null,
            "max_width": null,
            "min_height": null,
            "min_width": null,
            "object_fit": null,
            "object_position": null,
            "order": null,
            "overflow": null,
            "overflow_x": null,
            "overflow_y": null,
            "padding": null,
            "right": null,
            "top": null,
            "visibility": null,
            "width": null
          }
        },
        "0d453d49d65a447cb5b21027aecd031b": {
          "model_module": "@jupyter-widgets/controls",
          "model_name": "ProgressStyleModel",
          "model_module_version": "1.5.0",
          "state": {
            "_model_module": "@jupyter-widgets/controls",
            "_model_module_version": "1.5.0",
            "_model_name": "ProgressStyleModel",
            "_view_count": null,
            "_view_module": "@jupyter-widgets/base",
            "_view_module_version": "1.2.0",
            "_view_name": "StyleView",
            "bar_color": null,
            "description_width": ""
          }
        },
        "5ad53742a5454a3d931b193c06506777": {
          "model_module": "@jupyter-widgets/base",
          "model_name": "LayoutModel",
          "model_module_version": "1.2.0",
          "state": {
            "_model_module": "@jupyter-widgets/base",
            "_model_module_version": "1.2.0",
            "_model_name": "LayoutModel",
            "_view_count": null,
            "_view_module": "@jupyter-widgets/base",
            "_view_module_version": "1.2.0",
            "_view_name": "LayoutView",
            "align_content": null,
            "align_items": null,
            "align_self": null,
            "border": null,
            "bottom": null,
            "display": null,
            "flex": null,
            "flex_flow": null,
            "grid_area": null,
            "grid_auto_columns": null,
            "grid_auto_flow": null,
            "grid_auto_rows": null,
            "grid_column": null,
            "grid_gap": null,
            "grid_row": null,
            "grid_template_areas": null,
            "grid_template_columns": null,
            "grid_template_rows": null,
            "height": null,
            "justify_content": null,
            "justify_items": null,
            "left": null,
            "margin": null,
            "max_height": null,
            "max_width": null,
            "min_height": null,
            "min_width": null,
            "object_fit": null,
            "object_position": null,
            "order": null,
            "overflow": null,
            "overflow_x": null,
            "overflow_y": null,
            "padding": null,
            "right": null,
            "top": null,
            "visibility": null,
            "width": null
          }
        },
        "7dd5f697d3004373b8614476f49d851c": {
          "model_module": "@jupyter-widgets/controls",
          "model_name": "DescriptionStyleModel",
          "model_module_version": "1.5.0",
          "state": {
            "_model_module": "@jupyter-widgets/controls",
            "_model_module_version": "1.5.0",
            "_model_name": "DescriptionStyleModel",
            "_view_count": null,
            "_view_module": "@jupyter-widgets/base",
            "_view_module_version": "1.2.0",
            "_view_name": "StyleView",
            "description_width": ""
          }
        },
        "3e3450e73a2346bda99704aae552a2a3": {
          "model_module": "@jupyter-widgets/controls",
          "model_name": "HBoxModel",
          "model_module_version": "1.5.0",
          "state": {
            "_dom_classes": [],
            "_model_module": "@jupyter-widgets/controls",
            "_model_module_version": "1.5.0",
            "_model_name": "HBoxModel",
            "_view_count": null,
            "_view_module": "@jupyter-widgets/controls",
            "_view_module_version": "1.5.0",
            "_view_name": "HBoxView",
            "box_style": "",
            "children": [
              "IPY_MODEL_d939da9625e7474a9f2eaa81f6645d19",
              "IPY_MODEL_d64bf5775e904fbd9fa3440d61baee60",
              "IPY_MODEL_b152fecbf59544d8b0498be73703e7f8"
            ],
            "layout": "IPY_MODEL_8286507536c24498bf98fc39553de3c6"
          }
        },
        "d939da9625e7474a9f2eaa81f6645d19": {
          "model_module": "@jupyter-widgets/controls",
          "model_name": "HTMLModel",
          "model_module_version": "1.5.0",
          "state": {
            "_dom_classes": [],
            "_model_module": "@jupyter-widgets/controls",
            "_model_module_version": "1.5.0",
            "_model_name": "HTMLModel",
            "_view_count": null,
            "_view_module": "@jupyter-widgets/controls",
            "_view_module_version": "1.5.0",
            "_view_name": "HTMLView",
            "description": "",
            "description_tooltip": null,
            "layout": "IPY_MODEL_f61fbefe572f48658c389a2545016774",
            "placeholder": "​",
            "style": "IPY_MODEL_0ddb724820d64cd4b1e3402d16a6e552",
            "value": "100%"
          }
        },
        "d64bf5775e904fbd9fa3440d61baee60": {
          "model_module": "@jupyter-widgets/controls",
          "model_name": "FloatProgressModel",
          "model_module_version": "1.5.0",
          "state": {
            "_dom_classes": [],
            "_model_module": "@jupyter-widgets/controls",
            "_model_module_version": "1.5.0",
            "_model_name": "FloatProgressModel",
            "_view_count": null,
            "_view_module": "@jupyter-widgets/controls",
            "_view_module_version": "1.5.0",
            "_view_name": "ProgressView",
            "bar_style": "success",
            "description": "",
            "description_tooltip": null,
            "layout": "IPY_MODEL_2402946a11a847d29ae4864c6da6dff5",
            "max": 36420,
            "min": 0,
            "orientation": "horizontal",
            "style": "IPY_MODEL_c7b88c1e4e0c4bd9886efffdc5549f92",
            "value": 36420
          }
        },
        "b152fecbf59544d8b0498be73703e7f8": {
          "model_module": "@jupyter-widgets/controls",
          "model_name": "HTMLModel",
          "model_module_version": "1.5.0",
          "state": {
            "_dom_classes": [],
            "_model_module": "@jupyter-widgets/controls",
            "_model_module_version": "1.5.0",
            "_model_name": "HTMLModel",
            "_view_count": null,
            "_view_module": "@jupyter-widgets/controls",
            "_view_module_version": "1.5.0",
            "_view_name": "HTMLView",
            "description": "",
            "description_tooltip": null,
            "layout": "IPY_MODEL_974af46e30204073b21a1c6667d19f94",
            "placeholder": "​",
            "style": "IPY_MODEL_6f9d676c3bf848efaf331973be2fc981",
            "value": " 36420/36420 [00:12&lt;00:00, 2922.59ex/s]"
          }
        },
        "8286507536c24498bf98fc39553de3c6": {
          "model_module": "@jupyter-widgets/base",
          "model_name": "LayoutModel",
          "model_module_version": "1.2.0",
          "state": {
            "_model_module": "@jupyter-widgets/base",
            "_model_module_version": "1.2.0",
            "_model_name": "LayoutModel",
            "_view_count": null,
            "_view_module": "@jupyter-widgets/base",
            "_view_module_version": "1.2.0",
            "_view_name": "LayoutView",
            "align_content": null,
            "align_items": null,
            "align_self": null,
            "border": null,
            "bottom": null,
            "display": null,
            "flex": null,
            "flex_flow": null,
            "grid_area": null,
            "grid_auto_columns": null,
            "grid_auto_flow": null,
            "grid_auto_rows": null,
            "grid_column": null,
            "grid_gap": null,
            "grid_row": null,
            "grid_template_areas": null,
            "grid_template_columns": null,
            "grid_template_rows": null,
            "height": null,
            "justify_content": null,
            "justify_items": null,
            "left": null,
            "margin": null,
            "max_height": null,
            "max_width": null,
            "min_height": null,
            "min_width": null,
            "object_fit": null,
            "object_position": null,
            "order": null,
            "overflow": null,
            "overflow_x": null,
            "overflow_y": null,
            "padding": null,
            "right": null,
            "top": null,
            "visibility": null,
            "width": null
          }
        },
        "f61fbefe572f48658c389a2545016774": {
          "model_module": "@jupyter-widgets/base",
          "model_name": "LayoutModel",
          "model_module_version": "1.2.0",
          "state": {
            "_model_module": "@jupyter-widgets/base",
            "_model_module_version": "1.2.0",
            "_model_name": "LayoutModel",
            "_view_count": null,
            "_view_module": "@jupyter-widgets/base",
            "_view_module_version": "1.2.0",
            "_view_name": "LayoutView",
            "align_content": null,
            "align_items": null,
            "align_self": null,
            "border": null,
            "bottom": null,
            "display": null,
            "flex": null,
            "flex_flow": null,
            "grid_area": null,
            "grid_auto_columns": null,
            "grid_auto_flow": null,
            "grid_auto_rows": null,
            "grid_column": null,
            "grid_gap": null,
            "grid_row": null,
            "grid_template_areas": null,
            "grid_template_columns": null,
            "grid_template_rows": null,
            "height": null,
            "justify_content": null,
            "justify_items": null,
            "left": null,
            "margin": null,
            "max_height": null,
            "max_width": null,
            "min_height": null,
            "min_width": null,
            "object_fit": null,
            "object_position": null,
            "order": null,
            "overflow": null,
            "overflow_x": null,
            "overflow_y": null,
            "padding": null,
            "right": null,
            "top": null,
            "visibility": null,
            "width": null
          }
        },
        "0ddb724820d64cd4b1e3402d16a6e552": {
          "model_module": "@jupyter-widgets/controls",
          "model_name": "DescriptionStyleModel",
          "model_module_version": "1.5.0",
          "state": {
            "_model_module": "@jupyter-widgets/controls",
            "_model_module_version": "1.5.0",
            "_model_name": "DescriptionStyleModel",
            "_view_count": null,
            "_view_module": "@jupyter-widgets/base",
            "_view_module_version": "1.2.0",
            "_view_name": "StyleView",
            "description_width": ""
          }
        },
        "2402946a11a847d29ae4864c6da6dff5": {
          "model_module": "@jupyter-widgets/base",
          "model_name": "LayoutModel",
          "model_module_version": "1.2.0",
          "state": {
            "_model_module": "@jupyter-widgets/base",
            "_model_module_version": "1.2.0",
            "_model_name": "LayoutModel",
            "_view_count": null,
            "_view_module": "@jupyter-widgets/base",
            "_view_module_version": "1.2.0",
            "_view_name": "LayoutView",
            "align_content": null,
            "align_items": null,
            "align_self": null,
            "border": null,
            "bottom": null,
            "display": null,
            "flex": null,
            "flex_flow": null,
            "grid_area": null,
            "grid_auto_columns": null,
            "grid_auto_flow": null,
            "grid_auto_rows": null,
            "grid_column": null,
            "grid_gap": null,
            "grid_row": null,
            "grid_template_areas": null,
            "grid_template_columns": null,
            "grid_template_rows": null,
            "height": null,
            "justify_content": null,
            "justify_items": null,
            "left": null,
            "margin": null,
            "max_height": null,
            "max_width": null,
            "min_height": null,
            "min_width": null,
            "object_fit": null,
            "object_position": null,
            "order": null,
            "overflow": null,
            "overflow_x": null,
            "overflow_y": null,
            "padding": null,
            "right": null,
            "top": null,
            "visibility": null,
            "width": null
          }
        },
        "c7b88c1e4e0c4bd9886efffdc5549f92": {
          "model_module": "@jupyter-widgets/controls",
          "model_name": "ProgressStyleModel",
          "model_module_version": "1.5.0",
          "state": {
            "_model_module": "@jupyter-widgets/controls",
            "_model_module_version": "1.5.0",
            "_model_name": "ProgressStyleModel",
            "_view_count": null,
            "_view_module": "@jupyter-widgets/base",
            "_view_module_version": "1.2.0",
            "_view_name": "StyleView",
            "bar_color": null,
            "description_width": ""
          }
        },
        "974af46e30204073b21a1c6667d19f94": {
          "model_module": "@jupyter-widgets/base",
          "model_name": "LayoutModel",
          "model_module_version": "1.2.0",
          "state": {
            "_model_module": "@jupyter-widgets/base",
            "_model_module_version": "1.2.0",
            "_model_name": "LayoutModel",
            "_view_count": null,
            "_view_module": "@jupyter-widgets/base",
            "_view_module_version": "1.2.0",
            "_view_name": "LayoutView",
            "align_content": null,
            "align_items": null,
            "align_self": null,
            "border": null,
            "bottom": null,
            "display": null,
            "flex": null,
            "flex_flow": null,
            "grid_area": null,
            "grid_auto_columns": null,
            "grid_auto_flow": null,
            "grid_auto_rows": null,
            "grid_column": null,
            "grid_gap": null,
            "grid_row": null,
            "grid_template_areas": null,
            "grid_template_columns": null,
            "grid_template_rows": null,
            "height": null,
            "justify_content": null,
            "justify_items": null,
            "left": null,
            "margin": null,
            "max_height": null,
            "max_width": null,
            "min_height": null,
            "min_width": null,
            "object_fit": null,
            "object_position": null,
            "order": null,
            "overflow": null,
            "overflow_x": null,
            "overflow_y": null,
            "padding": null,
            "right": null,
            "top": null,
            "visibility": null,
            "width": null
          }
        },
        "6f9d676c3bf848efaf331973be2fc981": {
          "model_module": "@jupyter-widgets/controls",
          "model_name": "DescriptionStyleModel",
          "model_module_version": "1.5.0",
          "state": {
            "_model_module": "@jupyter-widgets/controls",
            "_model_module_version": "1.5.0",
            "_model_name": "DescriptionStyleModel",
            "_view_count": null,
            "_view_module": "@jupyter-widgets/base",
            "_view_module_version": "1.2.0",
            "_view_name": "StyleView",
            "description_width": ""
          }
        }
      }
    }
  },
  "nbformat": 4,
  "nbformat_minor": 0
}