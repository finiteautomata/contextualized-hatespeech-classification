{
 "cells": [
  {
   "cell_type": "markdown",
   "id": "certified-birth",
   "metadata": {},
   "source": [
    "## Non-contextualized model\n",
    "\n",
    "Let's train a model without using the news"
   ]
  },
  {
   "cell_type": "code",
   "execution_count": 1,
   "id": "level-indianapolis",
   "metadata": {},
   "outputs": [],
   "source": [
    "%load_ext autoreload\n",
    "%autoreload 2\n",
    "import os\n",
    "from hatedetection import load_datasets\n",
    "\n",
    "train_dataset, dev_dataset, test_dataset = load_datasets()\n",
    "\n",
    "#train_dataset = train_dataset.select(range(500))"
   ]
  },
  {
   "cell_type": "markdown",
   "id": "terminal-archives",
   "metadata": {},
   "source": [
    "Let's take just the comments"
   ]
  },
  {
   "cell_type": "markdown",
   "id": "wicked-finish",
   "metadata": {},
   "source": [
    "It seems that somehow it is evenly distributed..."
   ]
  },
  {
   "cell_type": "code",
   "execution_count": 2,
   "id": "fifth-cornwall",
   "metadata": {},
   "outputs": [],
   "source": [
    "import torch\n",
    "from transformers import BertForSequenceClassification, BertTokenizer\n",
    "\n",
    "model_name = '../models/bert-non-contextualized-hate-speech-es/'\n",
    "\n",
    "model = BertForSequenceClassification.from_pretrained(model_name, return_dict=True, num_labels=2)\n",
    "\n",
    "device = \"cuda\" if torch.cuda.is_available() else \"cpu\"\n",
    "model = model.to(device)\n",
    "\n",
    "model.eval();\n",
    "\n",
    "\n",
    "\n",
    "tokenizer = BertTokenizer.from_pretrained(model_name)\n",
    "tokenizer.model_max_length = 128"
   ]
  },
  {
   "cell_type": "code",
   "execution_count": 3,
   "id": "processed-billion",
   "metadata": {},
   "outputs": [
    {
     "data": {
      "application/vnd.jupyter.widget-view+json": {
       "model_id": "73dc6e5f31f6464e8dfbc153c469b365",
       "version_major": 2,
       "version_minor": 0
      },
      "text/plain": [
       "HBox(children=(FloatProgress(value=0.0, max=1139.0), HTML(value='')))"
      ]
     },
     "metadata": {},
     "output_type": "display_data"
    },
    {
     "name": "stdout",
     "output_type": "stream",
     "text": [
      "\n"
     ]
    },
    {
     "data": {
      "application/vnd.jupyter.widget-view+json": {
       "model_id": "c099f5d9b6c94eb38991744753e94d33",
       "version_major": 2,
       "version_minor": 0
      },
      "text/plain": [
       "HBox(children=(FloatProgress(value=0.0, max=570.0), HTML(value='')))"
      ]
     },
     "metadata": {},
     "output_type": "display_data"
    },
    {
     "name": "stdout",
     "output_type": "stream",
     "text": [
      "\n"
     ]
    },
    {
     "data": {
      "application/vnd.jupyter.widget-view+json": {
       "model_id": "37e0b23331ae491baa4430773cab3d4d",
       "version_major": 2,
       "version_minor": 0
      },
      "text/plain": [
       "HBox(children=(FloatProgress(value=0.0, max=709.0), HTML(value='')))"
      ]
     },
     "metadata": {},
     "output_type": "display_data"
    },
    {
     "name": "stdout",
     "output_type": "stream",
     "text": [
      "\n"
     ]
    }
   ],
   "source": [
    "def tokenize(batch, context=True, padding='max_length', truncation=True):\n",
    "    \"\"\"\n",
    "    Apply tokenization\n",
    "    \n",
    "    Arguments:\n",
    "    ---------\n",
    "    \n",
    "    use_context: boolean (default True)\n",
    "        Whether to add the context to the \n",
    "    \"\"\"\n",
    "    \n",
    "    if context:\n",
    "        args = [batch['context'], batch['text']]\n",
    "    else:\n",
    "        args = [batch['text']]\n",
    "        \n",
    "    return tokenizer(*args, padding='max_length', truncation=True)\n",
    "\n",
    "batch_size = 32\n",
    "eval_batch_size = 16\n",
    "\n",
    "my_tokenize = lambda x: tokenize(x, context=False)\n",
    "\n",
    "train_dataset = train_dataset.map(my_tokenize, batched=True, batch_size=batch_size)\n",
    "dev_dataset = dev_dataset.map(my_tokenize, batched=True, batch_size=eval_batch_size)\n",
    "test_dataset = test_dataset.map(my_tokenize, batched=True, batch_size=eval_batch_size)\n",
    "\n"
   ]
  },
  {
   "cell_type": "code",
   "execution_count": 4,
   "id": "historic-chain",
   "metadata": {},
   "outputs": [
    {
     "data": {
      "application/vnd.jupyter.widget-view+json": {
       "model_id": "11ca3e3e663542e0b63e61c9d52830ff",
       "version_major": 2,
       "version_minor": 0
      },
      "text/plain": [
       "HBox(children=(FloatProgress(value=0.0, max=36420.0), HTML(value='')))"
      ]
     },
     "metadata": {},
     "output_type": "display_data"
    },
    {
     "name": "stdout",
     "output_type": "stream",
     "text": [
      "The history saving thread hit an unexpected error (OperationalError('database is locked')).History will not be written to the database.\n",
      "\n"
     ]
    },
    {
     "data": {
      "application/vnd.jupyter.widget-view+json": {
       "model_id": "af4763397a1d4a51abb840ee553a0ed3",
       "version_major": 2,
       "version_minor": 0
      },
      "text/plain": [
       "HBox(children=(FloatProgress(value=0.0, max=9106.0), HTML(value='')))"
      ]
     },
     "metadata": {},
     "output_type": "display_data"
    },
    {
     "name": "stdout",
     "output_type": "stream",
     "text": [
      "\n"
     ]
    },
    {
     "data": {
      "application/vnd.jupyter.widget-view+json": {
       "model_id": "3df2ba840cce420b83339f6742402e10",
       "version_major": 2,
       "version_minor": 0
      },
      "text/plain": [
       "HBox(children=(FloatProgress(value=0.0, max=11343.0), HTML(value='')))"
      ]
     },
     "metadata": {},
     "output_type": "display_data"
    },
    {
     "name": "stdout",
     "output_type": "stream",
     "text": [
      "\n"
     ]
    }
   ],
   "source": [
    "\n",
    "def format_dataset(dataset):\n",
    "    dataset = dataset.map(lambda examples: {'labels': examples['HATEFUL']})\n",
    "    dataset.set_format(type='torch', columns=['input_ids', 'token_type_ids', 'attention_mask', 'labels'])\n",
    "    return dataset\n",
    "\n",
    "train_dataset = format_dataset(train_dataset)\n",
    "dev_dataset = format_dataset(dev_dataset)\n",
    "test_dataset = format_dataset(test_dataset)"
   ]
  },
  {
   "cell_type": "code",
   "execution_count": 5,
   "id": "northern-seminar",
   "metadata": {},
   "outputs": [],
   "source": [
    "from hatedetection.metrics import compute_hate_metrics\n",
    "from transformers import Trainer, TrainingArguments\n",
    "\n",
    "\n",
    "training_args = TrainingArguments(\n",
    "    output_dir='./results',\n",
    "    per_device_train_batch_size=batch_size,\n",
    "    per_device_eval_batch_size=eval_batch_size,\n",
    "    evaluation_strategy=\"epoch\",\n",
    "    do_eval=False,\n",
    "    weight_decay=0.01,\n",
    "    logging_dir='./logs',\n",
    "    load_best_model_at_end=True,\n",
    "    metric_for_best_model=\"f1\",\n",
    ")\n",
    "\n",
    "results = []\n",
    "\n",
    "trainer = Trainer(\n",
    "    model=model,\n",
    "    args=training_args,\n",
    "    compute_metrics=compute_hate_metrics,\n",
    "    train_dataset=train_dataset,\n",
    "    eval_dataset=dev_dataset,\n",
    ")\n"
   ]
  },
  {
   "cell_type": "code",
   "execution_count": 6,
   "id": "atmospheric-henry",
   "metadata": {},
   "outputs": [
    {
     "data": {
      "text/html": [
       "\n",
       "    <div>\n",
       "        <style>\n",
       "            /* Turns off some styling */\n",
       "            progress {\n",
       "                /* gets rid of default border in Firefox and Opera. */\n",
       "                border: none;\n",
       "                /* Needs to be in here for Safari polyfill so background images work as expected. */\n",
       "                background-size: auto;\n",
       "            }\n",
       "        </style>\n",
       "      \n",
       "      <progress value='570' max='570' style='width:300px; height:20px; vertical-align: middle;'></progress>\n",
       "      [570/570 01:08]\n",
       "    </div>\n",
       "    "
      ],
      "text/plain": [
       "<IPython.core.display.HTML object>"
      ]
     },
     "metadata": {},
     "output_type": "display_data"
    },
    {
     "data": {
      "text/html": [
       "<div>\n",
       "<style scoped>\n",
       "    .dataframe tbody tr th:only-of-type {\n",
       "        vertical-align: middle;\n",
       "    }\n",
       "\n",
       "    .dataframe tbody tr th {\n",
       "        vertical-align: top;\n",
       "    }\n",
       "\n",
       "    .dataframe thead th {\n",
       "        text-align: right;\n",
       "    }\n",
       "</style>\n",
       "<table border=\"1\" class=\"dataframe\">\n",
       "  <thead>\n",
       "    <tr style=\"text-align: right;\">\n",
       "      <th></th>\n",
       "      <th>0</th>\n",
       "    </tr>\n",
       "  </thead>\n",
       "  <tbody>\n",
       "    <tr>\n",
       "      <th>eval_loss</th>\n",
       "      <td>0.34481</td>\n",
       "    </tr>\n",
       "    <tr>\n",
       "      <th>eval_accuracy</th>\n",
       "      <td>0.89161</td>\n",
       "    </tr>\n",
       "    <tr>\n",
       "      <th>eval_f1</th>\n",
       "      <td>0.70742</td>\n",
       "    </tr>\n",
       "    <tr>\n",
       "      <th>eval_precision</th>\n",
       "      <td>0.89785</td>\n",
       "    </tr>\n",
       "    <tr>\n",
       "      <th>eval_recall</th>\n",
       "      <td>0.65809</td>\n",
       "    </tr>\n",
       "    <tr>\n",
       "      <th>eval_runtime</th>\n",
       "      <td>68.85160</td>\n",
       "    </tr>\n",
       "    <tr>\n",
       "      <th>eval_samples_per_second</th>\n",
       "      <td>132.25500</td>\n",
       "    </tr>\n",
       "    <tr>\n",
       "      <th>init_mem_cpu_alloc_delta</th>\n",
       "      <td>54803.00000</td>\n",
       "    </tr>\n",
       "    <tr>\n",
       "      <th>init_mem_gpu_alloc_delta</th>\n",
       "      <td>0.00000</td>\n",
       "    </tr>\n",
       "    <tr>\n",
       "      <th>init_mem_cpu_peaked_delta</th>\n",
       "      <td>18258.00000</td>\n",
       "    </tr>\n",
       "    <tr>\n",
       "      <th>init_mem_gpu_peaked_delta</th>\n",
       "      <td>0.00000</td>\n",
       "    </tr>\n",
       "    <tr>\n",
       "      <th>eval_mem_cpu_alloc_delta</th>\n",
       "      <td>455090.00000</td>\n",
       "    </tr>\n",
       "    <tr>\n",
       "      <th>eval_mem_gpu_alloc_delta</th>\n",
       "      <td>0.00000</td>\n",
       "    </tr>\n",
       "    <tr>\n",
       "      <th>eval_mem_cpu_peaked_delta</th>\n",
       "      <td>747656.00000</td>\n",
       "    </tr>\n",
       "    <tr>\n",
       "      <th>eval_mem_gpu_peaked_delta</th>\n",
       "      <td>69447680.00000</td>\n",
       "    </tr>\n",
       "  </tbody>\n",
       "</table>\n",
       "</div>"
      ],
      "text/plain": [
       "                                       0\n",
       "eval_loss                        0.34481\n",
       "eval_accuracy                    0.89161\n",
       "eval_f1                          0.70742\n",
       "eval_precision                   0.89785\n",
       "eval_recall                      0.65809\n",
       "eval_runtime                    68.85160\n",
       "eval_samples_per_second        132.25500\n",
       "init_mem_cpu_alloc_delta     54803.00000\n",
       "init_mem_gpu_alloc_delta         0.00000\n",
       "init_mem_cpu_peaked_delta    18258.00000\n",
       "init_mem_gpu_peaked_delta        0.00000\n",
       "eval_mem_cpu_alloc_delta    455090.00000\n",
       "eval_mem_gpu_alloc_delta         0.00000\n",
       "eval_mem_cpu_peaked_delta   747656.00000\n",
       "eval_mem_gpu_peaked_delta 69447680.00000"
      ]
     },
     "execution_count": 6,
     "metadata": {},
     "output_type": "execute_result"
    }
   ],
   "source": [
    "import pandas as pd\n",
    "pd.options.display.max_columns = 40\n",
    "pd.set_option('display.float_format', lambda x: '%.5f' % x)\n",
    "\n",
    "df_results = pd.DataFrame([trainer.evaluate(dev_dataset)])\n",
    "\n",
    "df_results.T"
   ]
  }
 ],
 "metadata": {
  "kernelspec": {
   "display_name": "Python 3",
   "language": "python",
   "name": "python3"
  },
  "language_info": {
   "codemirror_mode": {
    "name": "ipython",
    "version": 3
   },
   "file_extension": ".py",
   "mimetype": "text/x-python",
   "name": "python",
   "nbconvert_exporter": "python",
   "pygments_lexer": "ipython3",
   "version": "3.8.5"
  }
 },
 "nbformat": 4,
 "nbformat_minor": 5
}
