{
 "cells": [
  {
   "cell_type": "markdown",
   "id": "royal-fraud",
   "metadata": {},
   "source": [
    "# NLI Example\n",
    "\n",
    "Based on https://talman.io/nli/pytorch/demo/2020/12/11/natural-language-inference-with-pytorch-and-transformers.html"
   ]
  },
  {
   "cell_type": "code",
   "execution_count": 1,
   "id": "compliant-count",
   "metadata": {},
   "outputs": [],
   "source": [
    "!export CUDA_VISIBLE_DEVICES=\"\""
   ]
  },
  {
   "cell_type": "code",
   "execution_count": 2,
   "id": "practical-batch",
   "metadata": {},
   "outputs": [],
   "source": [
    "import torch\n",
    "from torch.utils.data import DataLoader\n",
    "from transformers import DistilBertTokenizerFast, DistilBertForSequenceClassification, AdamW, logging\n",
    "import datasets\n",
    "from tqdm import tqdm\n",
    "import numpy as np"
   ]
  },
  {
   "cell_type": "code",
   "execution_count": 3,
   "id": "secret-crown",
   "metadata": {},
   "outputs": [
    {
     "name": "stderr",
     "output_type": "stream",
     "text": [
      "Reusing dataset multi_nli (/home/jmperez/.cache/huggingface/datasets/multi_nli/plain_text/1.0.0/9969e1448f410fe7c6c688a84bfcb61312d0a3f2741d57341c26ef99f28a5451)\n"
     ]
    }
   ],
   "source": [
    "nli_data = datasets.load_dataset(\"multi_nli\")\n",
    "\n",
    "train_dataset = nli_data['train'].select(range(20000)) \n",
    "# limiting the training set size to 20,000 for demo purposes\n",
    "dev_dataset = nli_data['validation_matched']"
   ]
  },
  {
   "cell_type": "code",
   "execution_count": 4,
   "id": "sealed-window",
   "metadata": {},
   "outputs": [
    {
     "name": "stdout",
     "output_type": "stream",
     "text": [
      "================================================================================ \n",
      "\n",
      "Hypothesis:  Workers carve sculptures and paint scrolls with great enthusiasm.\n",
      "Premise   :  The individual artisans' shops are no longer here, but you can visit a silk-weaving factory, a ceramics plant, and the Foshan Folk Art Studio, where you can observe workers making Chinese lanterns, carving sculptures, painting scrolls, and cutting intricate designs in paper.\n",
      "Label     :  neutral\n",
      "================================================================================ \n",
      "\n",
      "Hypothesis:  Sir Ernest bent his head slightly, and continued.\n",
      "Premise   :  Really, Sir Ernest, protested the judge, \"these questions are not relevant.\" Sir Ernest bowed, and having shot his arrow proceeded. \n",
      "Label     :  entailment\n",
      "================================================================================ \n",
      "\n",
      "Hypothesis:  The house is very large and boasts over ten bedrooms, a huge kitchen, and a full sized olympic pool.\n",
      "Premise   :  The house is surprisingly small and simple, with one bedroom, a tiny kitchen, and a couple of social rooms.\n",
      "Label     :  contradiction\n",
      "================================================================================ \n",
      "\n",
      "Hypothesis:  Hiding things is just dirty, whereas there is glory in fiction\n",
      "Premise   :  Fiction has its glories, but concealment is merely squalid.\n",
      "Label     :  entailment\n",
      "================================================================================ \n",
      "\n",
      "Hypothesis:  It would take some time before high-risk people start paying a premium.\n",
      "Premise   :  um but i think in time come you're going to see that happening you're going to see um where the high risk people pay a premium but they have to find a way to prove it\n",
      "Label     :  neutral\n",
      "================================================================================ \n",
      "\n",
      "Hypothesis:  No children ever want to be entertained.\n",
      "Premise   :  Are there children who need to be entertained?\n",
      "Label     :  contradiction\n",
      "================================================================================ \n",
      "\n",
      "Hypothesis:  Wall Street is facing issues, that need to be addressed. \n",
      "Premise   :  Hopefully, Wall Street will take voluntary steps to address these issues before it is forced to act.\n",
      "Label     :  entailment\n",
      "================================================================================ \n",
      "\n",
      "Hypothesis:  The New York Giants and Raiders are my favorite teams in football.\n",
      "Premise   :  okay pro football i like two teams one the New York Giants and the second is the Raiders\n",
      "Label     :  entailment\n",
      "================================================================================ \n",
      "\n",
      "Hypothesis:  The doctors office was a terrible place and he wanted out.\n",
      "Premise   :  He'd stopped wondering and now accepted; he meant to get away from here at the first chance and he was somehow sure he could.\n",
      "Label     :  neutral\n",
      "================================================================================ \n",
      "\n",
      "Hypothesis:  i'm a taste person and all vegetables taste very nice unlike other types of food\n",
      "Premise   :  yeah it's strange because well it it's not strange because i use to be the same way and i'm even to this day  you know some vegetables really turn me off but when you read so much information that says this is a healthier way to go you know and this is what your body wants this is what your body really needs and when you think about what is what's the real reason your eating i know i know it's for taste because i'm boy am i a taste person but\n",
      "Label     :  contradiction\n",
      "================================================================================ \n",
      "\n",
      "Hypothesis:  in public places there are absolutely no place that does that\n",
      "Premise   :  in public places there is one state that does that by the way\n",
      "Label     :  contradiction\n",
      "================================================================================ \n",
      "\n",
      "Hypothesis:  Due to inflation and the production value, Las Vegas shows now cost more to see.\n",
      "Premise   :  Once, Las Vegas showrooms were filled with top entertainment headliners, comedians, production shows, and dancing girls that could be enjoyed at a very low price.\n",
      "Label     :  neutral\n",
      "================================================================================ \n",
      "\n",
      "Hypothesis:  It wouldn't cost them much money to just stick on those things.\n",
      "Premise   :  uh stick on those things and they can just all that's all they have to do i mean that wouldn't cost a great deal of money and uh\n",
      "Label     :  entailment\n",
      "================================================================================ \n",
      "\n",
      "Hypothesis:  In addition to bathing in streams, we've also gone to spas and saunas.\n",
      "Premise   :  we have gone on trips we've bathed in streams\n",
      "Label     :  neutral\n",
      "================================================================================ \n",
      "\n",
      "Hypothesis:  Philip II of Spain invaded Portugal.\n",
      "Premise   :  On the mainland, an invasion of even greater significance followed in 1580, when Philip II of Spain proclaimed himself king of Portugal and marched his armies across the border.\n",
      "Label     :  entailment\n"
     ]
    }
   ],
   "source": [
    "num = 0\n",
    "\n",
    "# Clearer if it is a dict\n",
    "label_name = {\n",
    "    0: \"entailment\",\n",
    "    1: \"neutral\", \n",
    "    2: \"contradiction\",\n",
    "}\n",
    "\n",
    "for num in range(170, 185):\n",
    "    print(\"=\"*80, \"\\n\")\n",
    "    print(\"Hypothesis: \", train_dataset[\"hypothesis\"][num])\n",
    "    print(\"Premise   : \", train_dataset[\"premise\"][num])\n",
    "    print(\"Label     : \", label_name[train_dataset[\"label\"][num]])"
   ]
  },
  {
   "cell_type": "code",
   "execution_count": 5,
   "id": "acting-stranger",
   "metadata": {},
   "outputs": [
    {
     "name": "stderr",
     "output_type": "stream",
     "text": [
      "Loading cached processed dataset at /home/jmperez/.cache/huggingface/datasets/multi_nli/plain_text/1.0.0/9969e1448f410fe7c6c688a84bfcb61312d0a3f2741d57341c26ef99f28a5451/cache-02a5acd1417d35e4.arrow\n",
      "Loading cached processed dataset at /home/jmperez/.cache/huggingface/datasets/multi_nli/plain_text/1.0.0/9969e1448f410fe7c6c688a84bfcb61312d0a3f2741d57341c26ef99f28a5451/cache-a38577b45d228e73.arrow\n"
     ]
    }
   ],
   "source": [
    "from transformers import AutoModelForSequenceClassification, AutoTokenizer\n",
    "\n",
    "model_name = 'bert-base-uncased'\n",
    "tokenizer = AutoTokenizer.from_pretrained(model_name)\n",
    "\n",
    "tokenizer.model_max_length = 256\n",
    "\n",
    "def tokenize(batch):\n",
    "    return tokenizer(batch['premise'], batch['hypothesis'], padding='max_length', truncation=True)\n",
    "\n",
    "batch_size = 32\n",
    "eval_batch_size = 8\n",
    "\n",
    "train_dataset = train_dataset.map(tokenize, batched=True, batch_size=batch_size)\n",
    "dev_dataset = dev_dataset.map(tokenize, batched=True, batch_size=eval_batch_size)\n",
    "\n"
   ]
  },
  {
   "cell_type": "markdown",
   "id": "expensive-bench",
   "metadata": {},
   "source": [
    "You can check the tokenizer has added a `[SEP]` token\n",
    "\n"
   ]
  },
  {
   "cell_type": "code",
   "execution_count": 6,
   "id": "inside-adapter",
   "metadata": {},
   "outputs": [],
   "source": [
    "lens = {sum(example[\"attention_mask\"]) for example in train_dataset}\n",
    "\n"
   ]
  },
  {
   "cell_type": "code",
   "execution_count": 7,
   "id": "figured-spirituality",
   "metadata": {},
   "outputs": [
    {
     "data": {
      "text/plain": [
       "256"
      ]
     },
     "execution_count": 7,
     "metadata": {},
     "output_type": "execute_result"
    }
   ],
   "source": [
    "max(lens)"
   ]
  },
  {
   "cell_type": "code",
   "execution_count": 8,
   "id": "legendary-fifth",
   "metadata": {},
   "outputs": [
    {
     "data": {
      "text/plain": [
       "1"
      ]
     },
     "execution_count": 8,
     "metadata": {},
     "output_type": "execute_result"
    }
   ],
   "source": [
    "len([l for l in lens if l >= 256])"
   ]
  },
  {
   "cell_type": "markdown",
   "id": "scientific-trade",
   "metadata": {},
   "source": [
    "Uso 256!"
   ]
  },
  {
   "cell_type": "code",
   "execution_count": 9,
   "id": "governmental-agent",
   "metadata": {},
   "outputs": [
    {
     "name": "stdout",
     "output_type": "stream",
     "text": [
      "dict_keys(['attention_mask', 'hypothesis', 'input_ids', 'label', 'premise', 'token_type_ids'])\n",
      "Premise    : Conceptually cream skimming has two basic dimensions - product and geography.\n",
      "Hypothesis : Product and geography are what make cream skimming work. \n"
     ]
    },
    {
     "data": {
      "text/plain": [
       "'[CLS] conceptually cream skimming has two basic dimensions - product and geography. [SEP] product and geography are what make cream skimming work. [SEP] [PAD] [PAD] [PAD] [PAD] [PAD] [PAD] [PAD] [PAD] [PAD] [PAD] [PAD] [PAD] [PAD] [PAD] [PAD] [PAD] [PAD] [PAD] [PAD] [PAD] [PAD] [PAD] [PAD] [PAD] [PAD] [PAD] [PAD] [PAD] [PAD] [PAD] [PAD] [PAD] [PAD] [PAD] [PAD] [PAD] [PAD] [PAD] [PAD] [PAD] [PAD] [PAD] [PAD] [PAD] [PAD] [PAD] [PAD] [PAD] [PAD] [PAD] [PAD] [PAD] [PAD] [PAD] [PAD] [PAD] [PAD] [PAD] [PAD] [PAD] [PAD] [PAD] [PAD] [PAD] [PAD] [PAD] [PAD] [PAD] [PAD] [PAD] [PAD] [PAD] [PAD] [PAD] [PAD] [PAD] [PAD] [PAD] [PAD] [PAD] [PAD] [PAD] [PAD] [PAD] [PAD] [PAD] [PAD] [PAD] [PAD] [PAD] [PAD] [PAD] [PAD] [PAD] [PAD] [PAD] [PAD] [PAD] [PAD] [PAD] [PAD] [PAD] [PAD] [PAD] [PAD] [PAD] [PAD] [PAD] [PAD] [PAD] [PAD] [PAD] [PAD] [PAD] [PAD] [PAD] [PAD] [PAD] [PAD] [PAD] [PAD] [PAD] [PAD] [PAD] [PAD] [PAD] [PAD] [PAD] [PAD] [PAD] [PAD] [PAD] [PAD] [PAD] [PAD] [PAD] [PAD] [PAD] [PAD] [PAD] [PAD] [PAD] [PAD] [PAD] [PAD] [PAD] [PAD] [PAD] [PAD] [PAD] [PAD] [PAD] [PAD] [PAD] [PAD] [PAD] [PAD] [PAD] [PAD] [PAD] [PAD] [PAD] [PAD] [PAD] [PAD] [PAD] [PAD] [PAD] [PAD] [PAD] [PAD] [PAD] [PAD] [PAD] [PAD] [PAD] [PAD] [PAD] [PAD] [PAD] [PAD] [PAD] [PAD] [PAD] [PAD] [PAD] [PAD] [PAD] [PAD] [PAD] [PAD] [PAD] [PAD] [PAD] [PAD] [PAD] [PAD] [PAD] [PAD] [PAD] [PAD] [PAD] [PAD] [PAD] [PAD] [PAD] [PAD] [PAD] [PAD] [PAD] [PAD] [PAD] [PAD] [PAD] [PAD] [PAD] [PAD] [PAD] [PAD] [PAD] [PAD] [PAD] [PAD] [PAD] [PAD] [PAD] [PAD] [PAD]'"
      ]
     },
     "execution_count": 9,
     "metadata": {},
     "output_type": "execute_result"
    }
   ],
   "source": [
    "example = train_dataset[0]\n",
    "\n",
    "print(example.keys())\n",
    "print(\"Premise    :\", example[\"premise\"])\n",
    "print(\"Hypothesis :\", example[\"hypothesis\"])\n",
    "\n",
    "tokenizer.decode(example[\"input_ids\"])"
   ]
  },
  {
   "cell_type": "code",
   "execution_count": 10,
   "id": "provincial-pressing",
   "metadata": {},
   "outputs": [
    {
     "data": {
      "application/vnd.jupyter.widget-view+json": {
       "model_id": "8138a3fd72f44b4bb80cea96fb1aa0b2",
       "version_major": 2,
       "version_minor": 0
      },
      "text/plain": [
       "HBox(children=(FloatProgress(value=0.0, description='Downloading', max=440473133.0, style=ProgressStyle(descri…"
      ]
     },
     "metadata": {},
     "output_type": "display_data"
    },
    {
     "name": "stdout",
     "output_type": "stream",
     "text": [
      "\n"
     ]
    },
    {
     "name": "stderr",
     "output_type": "stream",
     "text": [
      "Some weights of the model checkpoint at bert-base-uncased were not used when initializing BertForSequenceClassification: ['cls.predictions.bias', 'cls.predictions.transform.dense.weight', 'cls.predictions.transform.dense.bias', 'cls.predictions.decoder.weight', 'cls.seq_relationship.weight', 'cls.seq_relationship.bias', 'cls.predictions.transform.LayerNorm.weight', 'cls.predictions.transform.LayerNorm.bias']\n",
      "- This IS expected if you are initializing BertForSequenceClassification from the checkpoint of a model trained on another task or with another architecture (e.g. initializing a BertForSequenceClassification model from a BertForPreTraining model).\n",
      "- This IS NOT expected if you are initializing BertForSequenceClassification from the checkpoint of a model that you expect to be exactly identical (initializing a BertForSequenceClassification model from a BertForSequenceClassification model).\n",
      "Some weights of BertForSequenceClassification were not initialized from the model checkpoint at bert-base-uncased and are newly initialized: ['classifier.weight', 'classifier.bias']\n",
      "You should probably TRAIN this model on a down-stream task to be able to use it for predictions and inference.\n"
     ]
    }
   ],
   "source": [
    "device = torch.device('cuda') if torch.cuda.is_available() else torch.device('cpu')\n",
    "\n",
    "model = AutoModelForSequenceClassification.from_pretrained(model_name, num_labels=3)\n",
    "model.to(device)\n",
    "model.train()\n",
    "optim = AdamW(model.parameters(), lr=5e-5)"
   ]
  },
  {
   "cell_type": "code",
   "execution_count": 11,
   "id": "verbal-pantyhose",
   "metadata": {},
   "outputs": [],
   "source": [
    "from sklearn.metrics import precision_recall_fscore_support, accuracy_score\n",
    "\n",
    "def compute_metrics(pred):\n",
    "    \"\"\"\n",
    "    Compute metrics for Trainer\n",
    "    \"\"\"\n",
    "    labels = pred.label_ids\n",
    "    preds = pred.predictions.argmax(-1)\n",
    "    #_, _, f1, _ = precision_recall_fscore_support(labels, preds, average='macro')\n",
    "    precision, recall, f1, _ = precision_recall_fscore_support(labels, preds, average=\"macro\")\n",
    "    \n",
    "    acc = accuracy_score(labels, preds)\n",
    "    return {\n",
    "        'accuracy': acc,\n",
    "        'f1': f1,\n",
    "        #'macro f1': macro_f1,\n",
    "        'precision': precision,\n",
    "        'recall': recall\n",
    "    }"
   ]
  },
  {
   "cell_type": "code",
   "execution_count": 12,
   "id": "canadian-simpson",
   "metadata": {},
   "outputs": [
    {
     "data": {
      "text/html": [
       "\n",
       "    <div>\n",
       "        <style>\n",
       "            /* Turns off some styling */\n",
       "            progress {\n",
       "                /* gets rid of default border in Firefox and Opera. */\n",
       "                border: none;\n",
       "                /* Needs to be in here for Safari polyfill so background images work as expected. */\n",
       "                background-size: auto;\n",
       "            }\n",
       "        </style>\n",
       "      \n",
       "      <progress value='3125' max='3125' style='width:300px; height:20px; vertical-align: middle;'></progress>\n",
       "      [3125/3125 49:15, Epoch 5/5]\n",
       "    </div>\n",
       "    <table border=\"1\" class=\"dataframe\">\n",
       "  <thead>\n",
       "    <tr style=\"text-align: left;\">\n",
       "      <th>Epoch</th>\n",
       "      <th>Training Loss</th>\n",
       "      <th>Validation Loss</th>\n",
       "      <th>Accuracy</th>\n",
       "      <th>F1</th>\n",
       "      <th>Precision</th>\n",
       "      <th>Recall</th>\n",
       "      <th>Runtime</th>\n",
       "      <th>Samples Per Second</th>\n",
       "    </tr>\n",
       "  </thead>\n",
       "  <tbody>\n",
       "    <tr>\n",
       "      <td>1</td>\n",
       "      <td>0.851300</td>\n",
       "      <td>0.621105</td>\n",
       "      <td>0.745899</td>\n",
       "      <td>0.744487</td>\n",
       "      <td>0.745393</td>\n",
       "      <td>0.744387</td>\n",
       "      <td>84.745700</td>\n",
       "      <td>115.817000</td>\n",
       "    </tr>\n",
       "    <tr>\n",
       "      <td>2</td>\n",
       "      <td>0.510100</td>\n",
       "      <td>0.602508</td>\n",
       "      <td>0.764646</td>\n",
       "      <td>0.763833</td>\n",
       "      <td>0.764221</td>\n",
       "      <td>0.763898</td>\n",
       "      <td>84.377500</td>\n",
       "      <td>116.322000</td>\n",
       "    </tr>\n",
       "    <tr>\n",
       "      <td>3</td>\n",
       "      <td>0.322000</td>\n",
       "      <td>0.795992</td>\n",
       "      <td>0.764340</td>\n",
       "      <td>0.762898</td>\n",
       "      <td>0.763188</td>\n",
       "      <td>0.763042</td>\n",
       "      <td>84.169200</td>\n",
       "      <td>116.610000</td>\n",
       "    </tr>\n",
       "    <tr>\n",
       "      <td>4</td>\n",
       "      <td>0.088900</td>\n",
       "      <td>1.134876</td>\n",
       "      <td>0.761386</td>\n",
       "      <td>0.760541</td>\n",
       "      <td>0.761556</td>\n",
       "      <td>0.760934</td>\n",
       "      <td>83.093400</td>\n",
       "      <td>118.120000</td>\n",
       "    </tr>\n",
       "    <tr>\n",
       "      <td>5</td>\n",
       "      <td>0.040600</td>\n",
       "      <td>1.340910</td>\n",
       "      <td>0.761793</td>\n",
       "      <td>0.760963</td>\n",
       "      <td>0.761822</td>\n",
       "      <td>0.761356</td>\n",
       "      <td>83.312700</td>\n",
       "      <td>117.809000</td>\n",
       "    </tr>\n",
       "  </tbody>\n",
       "</table><p>"
      ],
      "text/plain": [
       "<IPython.core.display.HTML object>"
      ]
     },
     "metadata": {},
     "output_type": "display_data"
    },
    {
     "data": {
      "text/plain": [
       "TrainOutput(global_step=3125, training_loss=0.31832323486328123, metrics={'train_runtime': 2956.2523, 'train_samples_per_second': 1.057, 'total_flos': 16816826419200000, 'epoch': 5.0})"
      ]
     },
     "execution_count": 12,
     "metadata": {},
     "output_type": "execute_result"
    }
   ],
   "source": [
    "from transformers import Trainer, TrainingArguments\n",
    "epochs = 5\n",
    "\n",
    "total_steps = (epochs * len(train_dataset)) // batch_size\n",
    "warmup_steps = total_steps // 10\n",
    "training_args = TrainingArguments(\n",
    "    output_dir='./results',\n",
    "    num_train_epochs=epochs,\n",
    "    per_device_train_batch_size=batch_size,\n",
    "    per_device_eval_batch_size=eval_batch_size,\n",
    "    warmup_steps=warmup_steps,\n",
    "    evaluation_strategy=\"epoch\",\n",
    "    do_eval=True,\n",
    "    weight_decay=0.01,\n",
    "    logging_dir='./logs',\n",
    ")\n",
    "\n",
    "results = []\n",
    "\n",
    "trainer = Trainer(\n",
    "    model=model,\n",
    "    args=training_args,\n",
    "    compute_metrics=compute_metrics,\n",
    "    train_dataset=train_dataset,\n",
    "    eval_dataset=dev_dataset,\n",
    ")\n",
    "\n",
    "trainer.train()\n"
   ]
  },
  {
   "cell_type": "code",
   "execution_count": 13,
   "id": "brief-violation",
   "metadata": {},
   "outputs": [
    {
     "data": {
      "text/html": [
       "\n",
       "    <div>\n",
       "        <style>\n",
       "            /* Turns off some styling */\n",
       "            progress {\n",
       "                /* gets rid of default border in Firefox and Opera. */\n",
       "                border: none;\n",
       "                /* Needs to be in here for Safari polyfill so background images work as expected. */\n",
       "                background-size: auto;\n",
       "            }\n",
       "        </style>\n",
       "      \n",
       "      <progress value='1227' max='1227' style='width:300px; height:20px; vertical-align: middle;'></progress>\n",
       "      [1227/1227 01:24]\n",
       "    </div>\n",
       "    "
      ],
      "text/plain": [
       "<IPython.core.display.HTML object>"
      ]
     },
     "metadata": {},
     "output_type": "display_data"
    },
    {
     "data": {
      "text/plain": [
       "{'eval_loss': 1.3409099578857422,\n",
       " 'eval_accuracy': 0.7617931737137035,\n",
       " 'eval_f1': 0.7609629841162301,\n",
       " 'eval_precision': 0.7618218391035612,\n",
       " 'eval_recall': 0.7613561321275197,\n",
       " 'eval_runtime': 84.1848,\n",
       " 'eval_samples_per_second': 116.589,\n",
       " 'epoch': 5.0}"
      ]
     },
     "execution_count": 13,
     "metadata": {},
     "output_type": "execute_result"
    }
   ],
   "source": [
    "trainer.evaluate(dev_dataset)"
   ]
  }
 ],
 "metadata": {
  "kernelspec": {
   "display_name": "Python 3",
   "language": "python",
   "name": "python3"
  },
  "language_info": {
   "codemirror_mode": {
    "name": "ipython",
    "version": 3
   },
   "file_extension": ".py",
   "mimetype": "text/x-python",
   "name": "python",
   "nbconvert_exporter": "python",
   "pygments_lexer": "ipython3",
   "version": "3.8.5"
  }
 },
 "nbformat": 4,
 "nbformat_minor": 5
}
