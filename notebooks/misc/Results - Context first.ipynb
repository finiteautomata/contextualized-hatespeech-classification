{
 "cells": [
  {
   "cell_type": "markdown",
   "metadata": {},
   "source": [
    "## Contextualized model - Using context first\n",
    "\n",
    "Results when using context first - this is deprecated, now we use the context at the end of our input"
   ]
  },
  {
   "cell_type": "code",
   "execution_count": 1,
   "metadata": {},
   "outputs": [],
   "source": [
    "import os\n",
    "os.environ[\"CUDA_VISIBLE_DEVICES\"] = \"1\""
   ]
  },
  {
   "cell_type": "code",
   "execution_count": 1,
   "metadata": {},
   "outputs": [],
   "source": [
    "%load_ext autoreload\n",
    "%autoreload 2\n",
    "\n",
    "from hatedetection import load_datasets\n",
    "\n",
    "train_dataset, dev_dataset, test_dataset = load_datasets(add_body=True)\n"
   ]
  },
  {
   "cell_type": "code",
   "execution_count": 2,
   "metadata": {},
   "outputs": [],
   "source": [
    "import torch\n",
    "from transformers import AutoModelForSequenceClassification, AutoTokenizer\n",
    "\n",
    "context_model_name = \"../models/bert-contextualized-hate-speech-es/\"\n",
    "no_context_model_name = \"../models/bert-non-contextualized-hate-speech-es\"\n",
    "full_context_model_name = \"../models/bert-title-body-hate-speech-es/\"\n",
    "\n",
    "\n",
    "context_model = AutoModelForSequenceClassification.from_pretrained(context_model_name, return_dict=True, num_labels=2)\n",
    "no_context_model = AutoModelForSequenceClassification.from_pretrained(no_context_model_name, return_dict=True, num_labels=2)\n",
    "full_context_model = AutoModelForSequenceClassification.from_pretrained(no_context_model_name, return_dict=True, num_labels=2)\n",
    "\n",
    "context_model.eval()\n",
    "no_context_model.eval()\n",
    "full_context_model.eval()\n",
    "\n",
    "\n",
    "device = \"cuda\" if torch.cuda.is_available() else \"cpu\"\n",
    "\n",
    "context_model = context_model.to(device)\n",
    "no_context_model = no_context_model.to(device)\n",
    "full_context_model = full_context_model.to(device)\n",
    "# Tienen mismo tokenizer así que todo bien\n",
    "\n",
    "no_context_tokenizer = AutoTokenizer.from_pretrained(no_context_model_name)\n",
    "context_tokenizer = AutoTokenizer.from_pretrained(context_model_name)\n",
    "full_context_tokenizer = AutoTokenizer.from_pretrained(context_model_name)\n",
    "\n",
    "no_context_tokenizer.model_max_length = 128\n",
    "context_tokenizer.model_max_length = 256"
   ]
  },
  {
   "cell_type": "code",
   "execution_count": 9,
   "metadata": {},
   "outputs": [
    {
     "data": {
      "application/vnd.jupyter.widget-view+json": {
       "model_id": "2c86ff7550ca4faa9e033422da9424b5",
       "version_major": 2,
       "version_minor": 0
      },
      "text/plain": [
       "HBox(children=(FloatProgress(value=0.0, max=709.0), HTML(value='')))"
      ]
     },
     "metadata": {},
     "output_type": "display_data"
    },
    {
     "name": "stdout",
     "output_type": "stream",
     "text": [
      "\n"
     ]
    },
    {
     "data": {
      "application/vnd.jupyter.widget-view+json": {
       "model_id": "d23d1d89b22e4ea5bcfeae37e50e9b78",
       "version_major": 2,
       "version_minor": 0
      },
      "text/plain": [
       "HBox(children=(FloatProgress(value=0.0, max=709.0), HTML(value='')))"
      ]
     },
     "metadata": {},
     "output_type": "display_data"
    },
    {
     "name": "stdout",
     "output_type": "stream",
     "text": [
      "\n"
     ]
    },
    {
     "data": {
      "application/vnd.jupyter.widget-view+json": {
       "model_id": "d11aecee20f644d9ae145cb15f2503ba",
       "version_major": 2,
       "version_minor": 0
      },
      "text/plain": [
       "HBox(children=(FloatProgress(value=0.0, max=709.0), HTML(value='')))"
      ]
     },
     "metadata": {},
     "output_type": "display_data"
    },
    {
     "name": "stdout",
     "output_type": "stream",
     "text": [
      "\n"
     ]
    }
   ],
   "source": [
    "from hatedetection.training import tokenize\n",
    "\n",
    "batch_size = 32\n",
    "eval_batch_size = 16\n",
    "\n",
    "dataset = test_dataset\n",
    "\n",
    "\n",
    "opts = {\"context_first\": True}\n",
    "\n",
    "no_context_dataset = dataset.map(lambda x: tokenize(no_context_tokenizer, x, context='none'), batched=True, batch_size=eval_batch_size)\n",
    "context_dataset = dataset.map(lambda x: tokenize(context_tokenizer, x, context='title', **opts), batched=True, batch_size=eval_batch_size)\n",
    "full_context_dataset = dataset.map(lambda x: tokenize(full_context_tokenizer, x, context='title+body', **opts), batched=True, batch_size=eval_batch_size)\n"
   ]
  },
  {
   "cell_type": "code",
   "execution_count": 10,
   "metadata": {},
   "outputs": [
    {
     "data": {
      "application/vnd.jupyter.widget-view+json": {
       "model_id": "b7cc7c9dd940466887e419a7c994874a",
       "version_major": 2,
       "version_minor": 0
      },
      "text/plain": [
       "HBox(children=(FloatProgress(value=0.0, max=11343.0), HTML(value='')))"
      ]
     },
     "metadata": {},
     "output_type": "display_data"
    },
    {
     "name": "stdout",
     "output_type": "stream",
     "text": [
      "\n"
     ]
    },
    {
     "data": {
      "application/vnd.jupyter.widget-view+json": {
       "model_id": "e7811884be6a41b58faadd279ac5b280",
       "version_major": 2,
       "version_minor": 0
      },
      "text/plain": [
       "HBox(children=(FloatProgress(value=0.0, max=11343.0), HTML(value='')))"
      ]
     },
     "metadata": {},
     "output_type": "display_data"
    },
    {
     "name": "stdout",
     "output_type": "stream",
     "text": [
      "\n"
     ]
    },
    {
     "data": {
      "application/vnd.jupyter.widget-view+json": {
       "model_id": "be533e553e6a40699b07b26f490064ff",
       "version_major": 2,
       "version_minor": 0
      },
      "text/plain": [
       "HBox(children=(FloatProgress(value=0.0, max=11343.0), HTML(value='')))"
      ]
     },
     "metadata": {},
     "output_type": "display_data"
    },
    {
     "name": "stdout",
     "output_type": "stream",
     "text": [
      "\n"
     ]
    }
   ],
   "source": [
    "\n",
    "def format_dataset(dataset):\n",
    "    dataset = dataset.map(lambda examples: {'labels': examples['HATEFUL']})\n",
    "    dataset.set_format(type='torch', columns=['input_ids', 'token_type_ids', 'attention_mask', 'labels'])\n",
    "    return dataset\n",
    "\n",
    "no_context_dataset = format_dataset(no_context_dataset)\n",
    "context_dataset = format_dataset(context_dataset)\n",
    "full_context_dataset = format_dataset(full_context_dataset)\n"
   ]
  },
  {
   "cell_type": "markdown",
   "metadata": {},
   "source": [
    "Sanity check"
   ]
  },
  {
   "cell_type": "code",
   "execution_count": 11,
   "metadata": {},
   "outputs": [
    {
     "data": {
      "text/plain": [
       "'[CLS] mora godoy cierra su escuela de tango y remata su vestuario para \" poder seguir adelante \" [SEP] [USER] ojalá se funda y cague de hambre [SEP] [PAD] [PAD] [PAD] [PAD] [PAD] [PAD] [PAD] [PAD] [PAD] [PAD] [PAD] [PAD] [PAD] [PAD] [PAD] [PAD] [PAD] [PAD] [PAD] [PAD] [PAD] [PAD] [PAD] [PAD] [PAD] [PAD] [PAD] [PAD] [PAD] [PAD] [PAD] [PAD] [PAD] [PAD] [PAD] [PAD] [PAD] [PAD] [PAD] [PAD] [PAD] [PAD] [PAD] [PAD] [PAD] [PAD] [PAD] [PAD] [PAD] [PAD] [PAD] [PAD] [PAD] [PAD] [PAD] [PAD] [PAD] [PAD] [PAD] [PAD] [PAD] [PAD] [PAD] [PAD] [PAD] [PAD] [PAD] [PAD] [PAD] [PAD] [PAD] [PAD] [PAD] [PAD] [PAD] [PAD] [PAD] [PAD] [PAD] [PAD] [PAD] [PAD] [PAD] [PAD] [PAD] [PAD] [PAD] [PAD] [PAD] [PAD] [PAD] [PAD] [PAD] [PAD] [PAD] [PAD] [PAD] [PAD] [PAD] [PAD] [PAD] [PAD] [PAD] [PAD] [PAD] [PAD] [PAD] [PAD] [PAD] [PAD] [PAD] [PAD] [PAD] [PAD] [PAD] [PAD] [PAD] [PAD] [PAD] [PAD] [PAD] [PAD] [PAD] [PAD] [PAD] [PAD] [PAD] [PAD] [PAD] [PAD] [PAD] [PAD] [PAD] [PAD] [PAD] [PAD] [PAD] [PAD] [PAD] [PAD] [PAD] [PAD] [PAD] [PAD] [PAD] [PAD] [PAD] [PAD] [PAD] [PAD] [PAD] [PAD] [PAD] [PAD] [PAD] [PAD] [PAD] [PAD] [PAD] [PAD] [PAD] [PAD] [PAD] [PAD] [PAD] [PAD] [PAD] [PAD] [PAD] [PAD] [PAD] [PAD] [PAD] [PAD] [PAD] [PAD] [PAD] [PAD] [PAD] [PAD] [PAD] [PAD] [PAD] [PAD] [PAD] [PAD] [PAD] [PAD] [PAD] [PAD] [PAD] [PAD] [PAD] [PAD] [PAD] [PAD] [PAD] [PAD] [PAD] [PAD] [PAD] [PAD] [PAD] [PAD] [PAD] [PAD] [PAD] [PAD] [PAD] [PAD] [PAD] [PAD] [PAD] [PAD] [PAD] [PAD] [PAD] [PAD] [PAD] [PAD] [PAD] [PAD] [PAD] [PAD] [PAD]'"
      ]
     },
     "execution_count": 11,
     "metadata": {},
     "output_type": "execute_result"
    }
   ],
   "source": [
    "context_tokenizer.decode(context_dataset[0][\"input_ids\"])"
   ]
  },
  {
   "cell_type": "markdown",
   "metadata": {},
   "source": [
    "Bien, primero contexto"
   ]
  },
  {
   "cell_type": "markdown",
   "metadata": {},
   "source": [
    "Lo cargamos sólo para evaluar 🤗"
   ]
  },
  {
   "cell_type": "code",
   "execution_count": 12,
   "metadata": {},
   "outputs": [],
   "source": [
    "from hatedetection.metrics import compute_hate_metrics\n",
    "from transformers import Trainer, TrainingArguments\n",
    "\n",
    "eval_batch_size = 32\n",
    "\n",
    "training_args = TrainingArguments(\n",
    "    output_dir=\".\",\n",
    "    per_device_train_batch_size=batch_size,\n",
    "    per_device_eval_batch_size=eval_batch_size,\n",
    ")\n",
    "\n",
    "\n",
    "context_trainer = Trainer(\n",
    "    model=context_model,\n",
    "    args=training_args,\n",
    "    compute_metrics=compute_hate_metrics,\n",
    ")\n",
    "\n",
    "full_context_trainer = Trainer(\n",
    "    model=full_context_model,\n",
    "    args=training_args,\n",
    "    compute_metrics=compute_hate_metrics,\n",
    ")\n",
    "\n",
    "no_context_trainer = Trainer(\n",
    "    model=no_context_model,\n",
    "    args=training_args,\n",
    "    compute_metrics=compute_hate_metrics,\n",
    ")\n"
   ]
  },
  {
   "cell_type": "markdown",
   "metadata": {},
   "source": [
    "## Resultados"
   ]
  },
  {
   "cell_type": "code",
   "execution_count": 13,
   "metadata": {},
   "outputs": [
    {
     "data": {
      "text/html": [
       "\n",
       "    <div>\n",
       "        <style>\n",
       "            /* Turns off some styling */\n",
       "            progress {\n",
       "                /* gets rid of default border in Firefox and Opera. */\n",
       "                border: none;\n",
       "                /* Needs to be in here for Safari polyfill so background images work as expected. */\n",
       "                background-size: auto;\n",
       "            }\n",
       "        </style>\n",
       "      \n",
       "      <progress value='355' max='355' style='width:300px; height:20px; vertical-align: middle;'></progress>\n",
       "      [355/355 03:16]\n",
       "    </div>\n",
       "    "
      ],
      "text/plain": [
       "<IPython.core.display.HTML object>"
      ]
     },
     "metadata": {},
     "output_type": "display_data"
    },
    {
     "data": {
      "text/html": [
       "\n",
       "    <div>\n",
       "        <style>\n",
       "            /* Turns off some styling */\n",
       "            progress {\n",
       "                /* gets rid of default border in Firefox and Opera. */\n",
       "                border: none;\n",
       "                /* Needs to be in here for Safari polyfill so background images work as expected. */\n",
       "                background-size: auto;\n",
       "            }\n",
       "        </style>\n",
       "      \n",
       "      <progress value='355' max='355' style='width:300px; height:20px; vertical-align: middle;'></progress>\n",
       "      [355/355 01:29]\n",
       "    </div>\n",
       "    "
      ],
      "text/plain": [
       "<IPython.core.display.HTML object>"
      ]
     },
     "metadata": {},
     "output_type": "display_data"
    },
    {
     "data": {
      "text/html": [
       "\n",
       "    <div>\n",
       "        <style>\n",
       "            /* Turns off some styling */\n",
       "            progress {\n",
       "                /* gets rid of default border in Firefox and Opera. */\n",
       "                border: none;\n",
       "                /* Needs to be in here for Safari polyfill so background images work as expected. */\n",
       "                background-size: auto;\n",
       "            }\n",
       "        </style>\n",
       "      \n",
       "      <progress value='355' max='355' style='width:300px; height:20px; vertical-align: middle;'></progress>\n",
       "      [355/355 00:43]\n",
       "    </div>\n",
       "    "
      ],
      "text/plain": [
       "<IPython.core.display.HTML object>"
      ]
     },
     "metadata": {},
     "output_type": "display_data"
    }
   ],
   "source": [
    "import pandas as pd\n",
    "pd.options.display.max_columns = 40\n",
    "pd.set_option('display.float_format', lambda x: '%.5f' % x)\n",
    "\n",
    "\n",
    "df_full_context_results = pd.DataFrame([full_context_trainer.evaluate(full_context_dataset)])\n",
    "df_context_results = pd.DataFrame([context_trainer.evaluate(context_dataset)])\n",
    "df_no_context_results = pd.DataFrame([no_context_trainer.evaluate(no_context_dataset)])\n"
   ]
  },
  {
   "cell_type": "code",
   "execution_count": 14,
   "metadata": {},
   "outputs": [
    {
     "data": {
      "text/html": [
       "<div>\n",
       "<style scoped>\n",
       "    .dataframe tbody tr th:only-of-type {\n",
       "        vertical-align: middle;\n",
       "    }\n",
       "\n",
       "    .dataframe tbody tr th {\n",
       "        vertical-align: top;\n",
       "    }\n",
       "\n",
       "    .dataframe thead th {\n",
       "        text-align: right;\n",
       "    }\n",
       "</style>\n",
       "<table border=\"1\" class=\"dataframe\">\n",
       "  <thead>\n",
       "    <tr style=\"text-align: right;\">\n",
       "      <th></th>\n",
       "      <th>eval_loss</th>\n",
       "      <th>eval_accuracy</th>\n",
       "      <th>eval_f1</th>\n",
       "      <th>eval_macro_f1</th>\n",
       "      <th>eval_precision</th>\n",
       "      <th>eval_recall</th>\n",
       "      <th>eval_runtime</th>\n",
       "      <th>eval_samples_per_second</th>\n",
       "      <th>init_mem_cpu_alloc_delta</th>\n",
       "      <th>init_mem_gpu_alloc_delta</th>\n",
       "      <th>init_mem_cpu_peaked_delta</th>\n",
       "      <th>init_mem_gpu_peaked_delta</th>\n",
       "      <th>eval_mem_cpu_alloc_delta</th>\n",
       "      <th>eval_mem_gpu_alloc_delta</th>\n",
       "      <th>eval_mem_cpu_peaked_delta</th>\n",
       "      <th>eval_mem_gpu_peaked_delta</th>\n",
       "    </tr>\n",
       "    <tr>\n",
       "      <th>index</th>\n",
       "      <th></th>\n",
       "      <th></th>\n",
       "      <th></th>\n",
       "      <th></th>\n",
       "      <th></th>\n",
       "      <th></th>\n",
       "      <th></th>\n",
       "      <th></th>\n",
       "      <th></th>\n",
       "      <th></th>\n",
       "      <th></th>\n",
       "      <th></th>\n",
       "      <th></th>\n",
       "      <th></th>\n",
       "      <th></th>\n",
       "      <th></th>\n",
       "    </tr>\n",
       "  </thead>\n",
       "  <tbody>\n",
       "    <tr>\n",
       "      <th>No context</th>\n",
       "      <td>0.65833</td>\n",
       "      <td>0.88945</td>\n",
       "      <td>0.63525</td>\n",
       "      <td>0.78505</td>\n",
       "      <td>0.66545</td>\n",
       "      <td>0.60768</td>\n",
       "      <td>43.38140</td>\n",
       "      <td>261.47100</td>\n",
       "      <td>44406</td>\n",
       "      <td>0</td>\n",
       "      <td>18258</td>\n",
       "      <td>0</td>\n",
       "      <td>232663</td>\n",
       "      <td>0</td>\n",
       "      <td>813237</td>\n",
       "      <td>138756096</td>\n",
       "    </tr>\n",
       "    <tr>\n",
       "      <th>Title</th>\n",
       "      <td>0.76379</td>\n",
       "      <td>0.90585</td>\n",
       "      <td>0.66245</td>\n",
       "      <td>0.80387</td>\n",
       "      <td>0.76664</td>\n",
       "      <td>0.58319</td>\n",
       "      <td>89.47930</td>\n",
       "      <td>126.76700</td>\n",
       "      <td>44474</td>\n",
       "      <td>0</td>\n",
       "      <td>18258</td>\n",
       "      <td>0</td>\n",
       "      <td>234701</td>\n",
       "      <td>0</td>\n",
       "      <td>813973</td>\n",
       "      <td>377946112</td>\n",
       "    </tr>\n",
       "    <tr>\n",
       "      <th>Title and Body</th>\n",
       "      <td>0.86059</td>\n",
       "      <td>0.85938</td>\n",
       "      <td>0.25153</td>\n",
       "      <td>0.58696</td>\n",
       "      <td>0.80240</td>\n",
       "      <td>0.14914</td>\n",
       "      <td>196.87390</td>\n",
       "      <td>57.61600</td>\n",
       "      <td>44294</td>\n",
       "      <td>0</td>\n",
       "      <td>18258</td>\n",
       "      <td>0</td>\n",
       "      <td>249674</td>\n",
       "      <td>0</td>\n",
       "      <td>812953</td>\n",
       "      <td>1158316032</td>\n",
       "    </tr>\n",
       "  </tbody>\n",
       "</table>\n",
       "</div>"
      ],
      "text/plain": [
       "                eval_loss  eval_accuracy  eval_f1  eval_macro_f1  \\\n",
       "index                                                              \n",
       "No context        0.65833        0.88945  0.63525        0.78505   \n",
       "Title             0.76379        0.90585  0.66245        0.80387   \n",
       "Title and Body    0.86059        0.85938  0.25153        0.58696   \n",
       "\n",
       "                eval_precision  eval_recall  eval_runtime  \\\n",
       "index                                                       \n",
       "No context             0.66545      0.60768      43.38140   \n",
       "Title                  0.76664      0.58319      89.47930   \n",
       "Title and Body         0.80240      0.14914     196.87390   \n",
       "\n",
       "                eval_samples_per_second  init_mem_cpu_alloc_delta  \\\n",
       "index                                                               \n",
       "No context                    261.47100                     44406   \n",
       "Title                         126.76700                     44474   \n",
       "Title and Body                 57.61600                     44294   \n",
       "\n",
       "                init_mem_gpu_alloc_delta  init_mem_cpu_peaked_delta  \\\n",
       "index                                                                 \n",
       "No context                             0                      18258   \n",
       "Title                                  0                      18258   \n",
       "Title and Body                         0                      18258   \n",
       "\n",
       "                init_mem_gpu_peaked_delta  eval_mem_cpu_alloc_delta  \\\n",
       "index                                                                 \n",
       "No context                              0                    232663   \n",
       "Title                                   0                    234701   \n",
       "Title and Body                          0                    249674   \n",
       "\n",
       "                eval_mem_gpu_alloc_delta  eval_mem_cpu_peaked_delta  \\\n",
       "index                                                                 \n",
       "No context                             0                     813237   \n",
       "Title                                  0                     813973   \n",
       "Title and Body                         0                     812953   \n",
       "\n",
       "                eval_mem_gpu_peaked_delta  \n",
       "index                                      \n",
       "No context                      138756096  \n",
       "Title                           377946112  \n",
       "Title and Body                 1158316032  "
      ]
     },
     "execution_count": 14,
     "metadata": {},
     "output_type": "execute_result"
    }
   ],
   "source": [
    "df_results = pd.concat([df_no_context_results, df_context_results, df_full_context_results])\n",
    "df_results[\"index\"] = [\"No context\", \"Title\", \"Title and Body\"]\n",
    "df_results.set_index(\"index\")"
   ]
  },
  {
   "cell_type": "markdown",
   "metadata": {},
   "source": [
    "## Dev results"
   ]
  },
  {
   "cell_type": "code",
   "execution_count": 8,
   "metadata": {},
   "outputs": [
    {
     "data": {
      "text/html": [
       "<div>\n",
       "<style scoped>\n",
       "    .dataframe tbody tr th:only-of-type {\n",
       "        vertical-align: middle;\n",
       "    }\n",
       "\n",
       "    .dataframe tbody tr th {\n",
       "        vertical-align: top;\n",
       "    }\n",
       "\n",
       "    .dataframe thead th {\n",
       "        text-align: right;\n",
       "    }\n",
       "</style>\n",
       "<table border=\"1\" class=\"dataframe\">\n",
       "  <thead>\n",
       "    <tr style=\"text-align: right;\">\n",
       "      <th></th>\n",
       "      <th>eval_loss</th>\n",
       "      <th>eval_accuracy</th>\n",
       "      <th>eval_f1</th>\n",
       "      <th>eval_macro_f1</th>\n",
       "      <th>eval_precision</th>\n",
       "      <th>eval_recall</th>\n",
       "      <th>eval_runtime</th>\n",
       "      <th>eval_samples_per_second</th>\n",
       "      <th>init_mem_cpu_alloc_delta</th>\n",
       "      <th>init_mem_gpu_alloc_delta</th>\n",
       "      <th>init_mem_cpu_peaked_delta</th>\n",
       "      <th>init_mem_gpu_peaked_delta</th>\n",
       "      <th>eval_mem_cpu_alloc_delta</th>\n",
       "      <th>eval_mem_gpu_alloc_delta</th>\n",
       "      <th>eval_mem_cpu_peaked_delta</th>\n",
       "      <th>eval_mem_gpu_peaked_delta</th>\n",
       "    </tr>\n",
       "    <tr>\n",
       "      <th>index</th>\n",
       "      <th></th>\n",
       "      <th></th>\n",
       "      <th></th>\n",
       "      <th></th>\n",
       "      <th></th>\n",
       "      <th></th>\n",
       "      <th></th>\n",
       "      <th></th>\n",
       "      <th></th>\n",
       "      <th></th>\n",
       "      <th></th>\n",
       "      <th></th>\n",
       "      <th></th>\n",
       "      <th></th>\n",
       "      <th></th>\n",
       "      <th></th>\n",
       "    </tr>\n",
       "  </thead>\n",
       "  <tbody>\n",
       "    <tr>\n",
       "      <th>No context</th>\n",
       "      <td>0.55797</td>\n",
       "      <td>0.90655</td>\n",
       "      <td>0.67655</td>\n",
       "      <td>0.81097</td>\n",
       "      <td>0.71543</td>\n",
       "      <td>0.64167</td>\n",
       "      <td>35.27390</td>\n",
       "      <td>258.15100</td>\n",
       "      <td>43532</td>\n",
       "      <td>0</td>\n",
       "      <td>18258</td>\n",
       "      <td>0</td>\n",
       "      <td>196438</td>\n",
       "      <td>0</td>\n",
       "      <td>690153</td>\n",
       "      <td>138711040</td>\n",
       "    </tr>\n",
       "    <tr>\n",
       "      <th>Title</th>\n",
       "      <td>0.59812</td>\n",
       "      <td>0.92335</td>\n",
       "      <td>0.73174</td>\n",
       "      <td>0.84351</td>\n",
       "      <td>0.78354</td>\n",
       "      <td>0.68637</td>\n",
       "      <td>71.85510</td>\n",
       "      <td>126.72700</td>\n",
       "      <td>52658</td>\n",
       "      <td>0</td>\n",
       "      <td>18258</td>\n",
       "      <td>0</td>\n",
       "      <td>201723</td>\n",
       "      <td>0</td>\n",
       "      <td>689689</td>\n",
       "      <td>377901056</td>\n",
       "    </tr>\n",
       "    <tr>\n",
       "      <th>Title and Body</th>\n",
       "      <td>0.81184</td>\n",
       "      <td>0.86448</td>\n",
       "      <td>0.26722</td>\n",
       "      <td>0.59628</td>\n",
       "      <td>0.75758</td>\n",
       "      <td>0.16222</td>\n",
       "      <td>155.88470</td>\n",
       "      <td>58.41500</td>\n",
       "      <td>43397</td>\n",
       "      <td>0</td>\n",
       "      <td>18258</td>\n",
       "      <td>0</td>\n",
       "      <td>378836</td>\n",
       "      <td>0</td>\n",
       "      <td>674653</td>\n",
       "      <td>1158270976</td>\n",
       "    </tr>\n",
       "  </tbody>\n",
       "</table>\n",
       "</div>"
      ],
      "text/plain": [
       "                eval_loss  eval_accuracy  eval_f1  eval_macro_f1  \\\n",
       "index                                                              \n",
       "No context        0.55797        0.90655  0.67655        0.81097   \n",
       "Title             0.59812        0.92335  0.73174        0.84351   \n",
       "Title and Body    0.81184        0.86448  0.26722        0.59628   \n",
       "\n",
       "                eval_precision  eval_recall  eval_runtime  \\\n",
       "index                                                       \n",
       "No context             0.71543      0.64167      35.27390   \n",
       "Title                  0.78354      0.68637      71.85510   \n",
       "Title and Body         0.75758      0.16222     155.88470   \n",
       "\n",
       "                eval_samples_per_second  init_mem_cpu_alloc_delta  \\\n",
       "index                                                               \n",
       "No context                    258.15100                     43532   \n",
       "Title                         126.72700                     52658   \n",
       "Title and Body                 58.41500                     43397   \n",
       "\n",
       "                init_mem_gpu_alloc_delta  init_mem_cpu_peaked_delta  \\\n",
       "index                                                                 \n",
       "No context                             0                      18258   \n",
       "Title                                  0                      18258   \n",
       "Title and Body                         0                      18258   \n",
       "\n",
       "                init_mem_gpu_peaked_delta  eval_mem_cpu_alloc_delta  \\\n",
       "index                                                                 \n",
       "No context                              0                    196438   \n",
       "Title                                   0                    201723   \n",
       "Title and Body                          0                    378836   \n",
       "\n",
       "                eval_mem_gpu_alloc_delta  eval_mem_cpu_peaked_delta  \\\n",
       "index                                                                 \n",
       "No context                             0                     690153   \n",
       "Title                                  0                     689689   \n",
       "Title and Body                         0                     674653   \n",
       "\n",
       "                eval_mem_gpu_peaked_delta  \n",
       "index                                      \n",
       "No context                      138711040  \n",
       "Title                           377901056  \n",
       "Title and Body                 1158270976  "
      ]
     },
     "execution_count": 8,
     "metadata": {},
     "output_type": "execute_result"
    }
   ],
   "source": [
    "df_results = pd.concat([df_no_context_results, df_context_results, df_full_context_results])\n",
    "df_results[\"index\"] = [\"No context\", \"Title\", \"Title and Body\"]\n",
    "df_results.set_index(\"index\")"
   ]
  }
 ],
 "metadata": {
  "interpreter": {
   "hash": "3af164d50710d9f221a3ae6c9ac2b1bef73a4fcc4dd97b6430472a2215de3743"
  },
  "kernelspec": {
   "display_name": "Python 3.8.5 64-bit ('hatespeech-classification-n4GdOxTz': pipenv)",
   "name": "python3"
  },
  "language_info": {
   "name": "python",
   "version": ""
  }
 },
 "nbformat": 4,
 "nbformat_minor": 5
}