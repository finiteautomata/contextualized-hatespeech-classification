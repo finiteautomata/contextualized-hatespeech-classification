{
 "cells": [
  {
   "cell_type": "code",
   "execution_count": 1,
   "metadata": {},
   "outputs": [],
   "source": [
    "%load_ext autoreload\n",
    "%autoreload 2\n",
    "\n",
    "import os\n",
    "\n",
    "os.environ[\"CUDA_VISIBLE_DEVICES\"] = \"1\"\n",
    "from hatedetection import HateSpeechAnalyzer\n",
    "analyzer = HateSpeechAnalyzer.load_contextualized_model()"
   ]
  },
  {
   "cell_type": "code",
   "execution_count": 2,
   "metadata": {},
   "outputs": [
    {
     "data": {
      "application/vnd.jupyter.widget-view+json": {
       "model_id": "84f8f735141b4983aeb6e52c6ef672f3",
       "version_major": 2,
       "version_minor": 0
      },
      "text/plain": [
       "HBox(children=(FloatProgress(value=0.0, max=537200.0), HTML(value='')))"
      ]
     },
     "metadata": {},
     "output_type": "display_data"
    },
    {
     "name": "stdout",
     "output_type": "stream",
     "text": [
      "\n"
     ]
    }
   ],
   "source": [
    "\n",
    "import ijson\n",
    "from tqdm.auto import tqdm\n",
    "\n",
    "\n",
    "\n",
    "path = \"../../data/news-all-final.json\"\n",
    "\n",
    "num_articles = 537_200\n",
    "\n",
    "data = []\n",
    "\n",
    "num_comments = 0\n",
    "\n",
    "LIMIT = 500\n",
    "with open(path) as f:\n",
    "    articles = ijson.items(f, 'item')\n",
    "\n",
    "    for i, article in tqdm(enumerate(articles), total=num_articles):\n",
    "        num_comments += len(article[\"comments\"])\n",
    "\n",
    "        context = article[\"title\"] if \"title\" in article else article[\"text\"]\n",
    "\n",
    "        for comment in article[\"comments\"]:\n",
    "            data.append({\n",
    "                \"text\": comment[\"text\"],\n",
    "                \"context\": context,\n",
    "                \"id\": comment[\"tweet_id\"],\n",
    "            })\n",
    "        \n",
    "        if i > LIMIT:\n",
    "            break\n",
    "\n",
    "        "
   ]
  },
  {
   "cell_type": "markdown",
   "metadata": {},
   "source": [
    "8.5M de comentarios. Ok, es un montonazo"
   ]
  },
  {
   "cell_type": "code",
   "execution_count": 3,
   "metadata": {},
   "outputs": [
    {
     "name": "stdout",
     "output_type": "stream",
     "text": [
      "INFO: Pandarallel will run on 24 workers.\n",
      "INFO: Pandarallel will use Memory file system to transfer data between the main process and workers.\n"
     ]
    }
   ],
   "source": [
    "import pandas as pd\n",
    "from pandarallel import pandarallel\n",
    "from hatedetection.preprocessing import preprocess_tweet\n",
    "\n",
    "pandarallel.initialize()\n",
    "\n",
    "df = pd.DataFrame(data)"
   ]
  },
  {
   "cell_type": "code",
   "execution_count": 4,
   "metadata": {},
   "outputs": [],
   "source": [
    "device = \"cuda\"\n",
    "\n",
    "model = analyzer.base_model\n",
    "model = model.to(device)\n",
    "model.eval()\n",
    "tokenizer = analyzer.tokenizer"
   ]
  },
  {
   "cell_type": "code",
   "execution_count": 5,
   "metadata": {},
   "outputs": [],
   "source": [
    "df[\"text\"] = df[\"text\"].parallel_apply(preprocess_tweet)\n",
    "df[\"context\"] = df[\"context\"].parallel_apply(preprocess_tweet)"
   ]
  },
  {
   "cell_type": "code",
   "execution_count": 6,
   "metadata": {},
   "outputs": [
    {
     "data": {
      "application/vnd.jupyter.widget-view+json": {
       "model_id": "e0bb58cd0c464749a55406f60fddd4b8",
       "version_major": 2,
       "version_minor": 0
      },
      "text/plain": [
       "HBox(children=(FloatProgress(value=0.0, max=6.0), HTML(value='')))"
      ]
     },
     "metadata": {},
     "output_type": "display_data"
    },
    {
     "name": "stdout",
     "output_type": "stream",
     "text": [
      "\n"
     ]
    }
   ],
   "source": [
    "from hatedetection.training import tokenize\n",
    "from datasets import Dataset, Value, ClassLabel, Features\n",
    "\n",
    "features = Features({\n",
    "    'id': Value('uint64'),\n",
    "    'context': Value('string'),\n",
    "    'text': Value('string'),\n",
    "})\n",
    "\n",
    "dataset = Dataset.from_pandas(df, features=features)\n",
    "\n",
    "dataset = dataset.map(\n",
    "    lambda x: tokenizer(x[\"text\"], x[\"context\"], padding=\"max_length\", truncation=True), \n",
    "    batched=True,\n",
    ")\n",
    "\n",
    "def format_dataset(dataset):\n",
    "    dataset.set_format(type='torch', columns=['input_ids', 'token_type_ids', 'attention_mask'])\n",
    "    return dataset\n",
    "\n",
    "dataset = format_dataset(dataset)"
   ]
  },
  {
   "cell_type": "code",
   "execution_count": 7,
   "metadata": {},
   "outputs": [
    {
     "data": {
      "application/vnd.jupyter.widget-view+json": {
       "model_id": "0be187a5303d4a5984ab548736f3f191",
       "version_major": 2,
       "version_minor": 0
      },
      "text/plain": [
       "HBox(children=(FloatProgress(value=0.0, max=338.0), HTML(value='')))"
      ]
     },
     "metadata": {},
     "output_type": "display_data"
    }
   ],
   "source": [
    "from torch.utils.data import DataLoader\n",
    "from hatedetection import extended_hate_categories\n",
    "\n",
    "dataloader = DataLoader(dataset, batch_size=16)\n",
    "outputs = []\n",
    "\n",
    "for batch in tqdm(dataloader):\n",
    "    batch = {k:v.to(device) for k, v in batch.items() if k != \"id\"}\n",
    "    outs = model(**batch)\n",
    "    outputs.append((outs.logits > 0).cpu().numpy())\n"
   ]
  },
  {
   "cell_type": "code",
   "execution_count": null,
   "metadata": {},
   "outputs": [
    {
     "data": {
      "text/plain": [
       "array([[False, False, False, ..., False, False, False],\n",
       "       [False, False, False, ..., False, False, False],\n",
       "       [ True, False, False, ..., False, False,  True],\n",
       "       ...,\n",
       "       [False, False, False, ..., False, False, False],\n",
       "       [False, False, False, ..., False, False, False],\n",
       "       [False, False, False, ..., False, False, False]])"
      ]
     },
     "execution_count": 13,
     "metadata": {},
     "output_type": "execute_result"
    }
   ],
   "source": [
    "import numpy as np\n",
    "\n",
    "np.vstack(outputs)"
   ]
  },
  {
   "cell_type": "code",
   "execution_count": null,
   "metadata": {},
   "outputs": [],
   "source": [
    "import torch\n",
    "\n"
   ]
  },
  {
   "cell_type": "code",
   "execution_count": null,
   "metadata": {},
   "outputs": [],
   "source": []
  }
 ],
 "metadata": {
  "interpreter": {
   "hash": "3af164d50710d9f221a3ae6c9ac2b1bef73a4fcc4dd97b6430472a2215de3743"
  },
  "kernelspec": {
   "display_name": "Python 3.8.5 64-bit ('hatespeech-classification-n4GdOxTz': pipenv)",
   "name": "python3"
  },
  "language_info": {
   "codemirror_mode": {
    "name": "ipython",
    "version": 3
   },
   "file_extension": ".py",
   "mimetype": "text/x-python",
   "name": "python",
   "nbconvert_exporter": "python",
   "pygments_lexer": "ipython3",
   "version": "3.8.5"
  },
  "orig_nbformat": 4
 },
 "nbformat": 4,
 "nbformat_minor": 2
}