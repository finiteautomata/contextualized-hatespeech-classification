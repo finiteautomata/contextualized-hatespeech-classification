{
 "cells": [
  {
   "cell_type": "code",
   "execution_count": 1,
   "metadata": {},
   "outputs": [],
   "source": [
    "%load_ext autoreload\n",
    "%autoreload 2\n",
    "\n",
    "import os\n",
    "\n",
    "os.environ[\"CUDA_VISIBLE_DEVICES\"] = \"1\"\n",
    "from hatedetection import HateSpeechAnalyzer\n",
    "analyzer = HateSpeechAnalyzer.load_contextualized_model()"
   ]
  },
  {
   "cell_type": "code",
   "execution_count": 2,
   "metadata": {},
   "outputs": [
    {
     "data": {
      "application/vnd.jupyter.widget-view+json": {
       "model_id": "88abd1ff6a6544319e5597bfbf01a336",
       "version_major": 2,
       "version_minor": 0
      },
      "text/plain": [
       "HBox(children=(FloatProgress(value=0.0, max=537200.0), HTML(value='')))"
      ]
     },
     "metadata": {},
     "output_type": "display_data"
    },
    {
     "name": "stdout",
     "output_type": "stream",
     "text": [
      "\n"
     ]
    }
   ],
   "source": [
    "\n",
    "import ijson\n",
    "from tqdm.auto import tqdm\n",
    "\n",
    "\n",
    "\n",
    "path = \"../../data/news-all-final.json\"\n",
    "\n",
    "num_articles = 537_200\n",
    "\n",
    "data = []\n",
    "\n",
    "num_comments = 0\n",
    "\n",
    "LIMIT = 5e3\n",
    "with open(path) as f:\n",
    "    articles = ijson.items(f, 'item')\n",
    "\n",
    "    for i, article in tqdm(enumerate(articles), total=num_articles):\n",
    "        num_comments += len(article[\"comments\"])\n",
    "\n",
    "        context = article[\"title\"] if \"title\" in article else article[\"text\"]\n",
    "\n",
    "        for comment in article[\"comments\"]:\n",
    "            data.append({\n",
    "                \"text\": comment[\"text\"],\n",
    "                \"context\": context,\n",
    "                \"id\": comment[\"tweet_id\"],\n",
    "            })\n",
    "        \n",
    "        if i > LIMIT:\n",
    "            break\n",
    "\n",
    "        "
   ]
  },
  {
   "cell_type": "markdown",
   "metadata": {},
   "source": [
    "8.5M de comentarios. Ok, es un montonazo"
   ]
  },
  {
   "cell_type": "code",
   "execution_count": 3,
   "metadata": {},
   "outputs": [
    {
     "name": "stdout",
     "output_type": "stream",
     "text": [
      "INFO: Pandarallel will run on 24 workers.\n",
      "INFO: Pandarallel will use Memory file system to transfer data between the main process and workers.\n"
     ]
    }
   ],
   "source": [
    "import pandas as pd\n",
    "from pandarallel import pandarallel\n",
    "from hatedetection.preprocessing import preprocess_tweet\n",
    "\n",
    "pandarallel.initialize()\n",
    "\n",
    "df = pd.DataFrame(data)"
   ]
  },
  {
   "cell_type": "code",
   "execution_count": 4,
   "metadata": {},
   "outputs": [],
   "source": [
    "device = \"cuda\"\n",
    "\n",
    "model = analyzer.base_model\n",
    "model = model.to(device)\n",
    "model.eval()\n",
    "tokenizer = analyzer.tokenizer"
   ]
  },
  {
   "cell_type": "code",
   "execution_count": 5,
   "metadata": {},
   "outputs": [],
   "source": [
    "df[\"text\"] = df[\"text\"].parallel_apply(preprocess_tweet)\n",
    "df[\"context\"] = df[\"context\"].parallel_apply(preprocess_tweet)"
   ]
  },
  {
   "cell_type": "code",
   "execution_count": 6,
   "metadata": {},
   "outputs": [
    {
     "data": {
      "application/vnd.jupyter.widget-view+json": {
       "model_id": "bde88fdc35604869a3310c74b3fceb0f",
       "version_major": 2,
       "version_minor": 0
      },
      "text/plain": [
       "HBox(children=(FloatProgress(value=0.0, max=2511.0), HTML(value='')))"
      ]
     },
     "metadata": {},
     "output_type": "display_data"
    },
    {
     "name": "stdout",
     "output_type": "stream",
     "text": [
      "\n"
     ]
    }
   ],
   "source": [
    "from hatedetection.training import tokenize\n",
    "from torch.utils.data import DataLoader\n",
    "from datasets import Dataset, Value, ClassLabel, Features\n",
    "\n",
    "features = Features({\n",
    "    'id': Value('uint64'),\n",
    "    'context': Value('string'),\n",
    "    'text': Value('string'),\n",
    "})\n",
    "\n",
    "batch_size = 24\n",
    "\n",
    "dataset = Dataset.from_pandas(df, features=features)\n",
    "\n",
    "dataset = dataset.map(\n",
    "    lambda x: tokenizer(x[\"text\"], x[\"context\"], padding=\"longest\", truncation='longest_first'), \n",
    "    batched=True, batch_size=batch_size, \n",
    ")\n",
    "\n"
   ]
  },
  {
   "cell_type": "code",
   "execution_count": 7,
   "metadata": {},
   "outputs": [],
   "source": [
    "def format_dataset(dataset):\n",
    "    dataset.set_format(type='torch', columns=['input_ids', 'token_type_ids', 'attention_mask'])\n",
    "    return dataset\n",
    "\n",
    "dataset = format_dataset(dataset)\n",
    "\n",
    "dataloader = DataLoader(dataset, batch_size=batch_size)"
   ]
  },
  {
   "cell_type": "code",
   "execution_count": 8,
   "metadata": {},
   "outputs": [
    {
     "data": {
      "application/vnd.jupyter.widget-view+json": {
       "model_id": "8ee7ff01b4dc4e1b892e9f9bad16775d",
       "version_major": 2,
       "version_minor": 0
      },
      "text/plain": [
       "HBox(children=(FloatProgress(value=0.0, max=2511.0), HTML(value='')))"
      ]
     },
     "metadata": {},
     "output_type": "display_data"
    },
    {
     "name": "stdout",
     "output_type": "stream",
     "text": [
      "\n"
     ]
    }
   ],
   "source": [
    "\n",
    "from hatedetection import extended_hate_categories\n",
    "\n",
    "outputs = []\n",
    "\n",
    "for batch in tqdm(dataloader):\n",
    "    batch = {k:v.to(device) for k, v in batch.items() if k != \"id\"}\n",
    "    outs = model(**batch)\n",
    "    outputs.append((outs.logits > 0).cpu().numpy())\n"
   ]
  },
  {
   "cell_type": "code",
   "execution_count": 10,
   "metadata": {},
   "outputs": [
    {
     "data": {
      "text/plain": [
       "CALLS         205\n",
       "WOMEN         679\n",
       "LGBTI         237\n",
       "RACISM        411\n",
       "CLASS         217\n",
       "POLITICS      898\n",
       "DISABLED      352\n",
       "APPEARANCE    907\n",
       "CRIMINAL      238\n",
       "dtype: int64"
      ]
     },
     "execution_count": 10,
     "metadata": {},
     "output_type": "execute_result"
    }
   ],
   "source": [
    "import numpy as np\n",
    "pd.options.display.max_rows = 200\n",
    "pd.options.display.max_colwidth = 300\n",
    "\n",
    "df[extended_hate_categories] = np.vstack(outputs)\n",
    "df[\"HATEFUL\"] = df[extended_hate_categories[1:]].sum(axis=1) > 0\n",
    "\n",
    "df[extended_hate_categories].sum()\n"
   ]
  },
  {
   "cell_type": "code",
   "execution_count": 13,
   "metadata": {},
   "outputs": [
    {
     "data": {
      "text/html": [
       "<div>\n",
       "<style scoped>\n",
       "    .dataframe tbody tr th:only-of-type {\n",
       "        vertical-align: middle;\n",
       "    }\n",
       "\n",
       "    .dataframe tbody tr th {\n",
       "        vertical-align: top;\n",
       "    }\n",
       "\n",
       "    .dataframe thead th {\n",
       "        text-align: right;\n",
       "    }\n",
       "</style>\n",
       "<table border=\"1\" class=\"dataframe\">\n",
       "  <thead>\n",
       "    <tr style=\"text-align: right;\">\n",
       "      <th></th>\n",
       "      <th>text</th>\n",
       "      <th>context</th>\n",
       "      <th>CALLS</th>\n",
       "      <th>WOMEN</th>\n",
       "      <th>LGBTI</th>\n",
       "      <th>RACISM</th>\n",
       "      <th>CLASS</th>\n",
       "      <th>POLITICS</th>\n",
       "      <th>DISABLED</th>\n",
       "      <th>APPEARANCE</th>\n",
       "      <th>CRIMINAL</th>\n",
       "    </tr>\n",
       "  </thead>\n",
       "  <tbody>\n",
       "    <tr>\n",
       "      <th>194</th>\n",
       "      <td>[USER] TROLA LESBIANA</td>\n",
       "      <td>El poderoso mensaje que escondió Natalie Portman en su vestido de los Oscars 2020</td>\n",
       "      <td>False</td>\n",
       "      <td>True</td>\n",
       "      <td>True</td>\n",
       "      <td>False</td>\n",
       "      <td>False</td>\n",
       "      <td>False</td>\n",
       "      <td>False</td>\n",
       "      <td>False</td>\n",
       "      <td>False</td>\n",
       "    </tr>\n",
       "    <tr>\n",
       "      <th>207</th>\n",
       "      <td>[USER] El fútbol se vuelve más \"no seas trolo Man\" cada día. Una pelota que viene tan rápida no te da tiempo a sacar la mano, es obvio que no hay intención. Las nuevas reglas para cobrar mano están hechas para los llorones y organizadores q quieren q los partidos salgan 8 a 5</td>\n",
       "      <td>El detalle en el gol de Racing: la \"mano de VAR\" de Cvitanich en la jugada previa que debió sancionar el árbitro</td>\n",
       "      <td>False</td>\n",
       "      <td>False</td>\n",
       "      <td>True</td>\n",
       "      <td>False</td>\n",
       "      <td>False</td>\n",
       "      <td>False</td>\n",
       "      <td>False</td>\n",
       "      <td>False</td>\n",
       "      <td>False</td>\n",
       "    </tr>\n",
       "    <tr>\n",
       "      <th>219</th>\n",
       "      <td>[USER] Rojo puto, jugadores a todos la concha de su madre. [USER]</td>\n",
       "      <td>Las cuatro rojas en el clásico de Avellaneda: ¿Loustau acertó en todas las expulsiones?</td>\n",
       "      <td>False</td>\n",
       "      <td>False</td>\n",
       "      <td>True</td>\n",
       "      <td>True</td>\n",
       "      <td>False</td>\n",
       "      <td>False</td>\n",
       "      <td>False</td>\n",
       "      <td>False</td>\n",
       "      <td>False</td>\n",
       "    </tr>\n",
       "    <tr>\n",
       "      <th>591</th>\n",
       "      <td>[USER] Vestida de payasa.</td>\n",
       "      <td>Billie Eilish, la antidiva de la alfombra roja de los Oscar, con uñas a lo Rosalía y traje grafitero</td>\n",
       "      <td>False</td>\n",
       "      <td>True</td>\n",
       "      <td>True</td>\n",
       "      <td>False</td>\n",
       "      <td>False</td>\n",
       "      <td>False</td>\n",
       "      <td>False</td>\n",
       "      <td>False</td>\n",
       "      <td>False</td>\n",
       "    </tr>\n",
       "    <tr>\n",
       "      <th>968</th>\n",
       "      <td>[USER] Degenerado no, mal gusto</td>\n",
       "      <td>Carmen Barbieri: \"Un degenerado me tocó la cola a la salida del teatro\"</td>\n",
       "      <td>False</td>\n",
       "      <td>True</td>\n",
       "      <td>True</td>\n",
       "      <td>False</td>\n",
       "      <td>False</td>\n",
       "      <td>False</td>\n",
       "      <td>False</td>\n",
       "      <td>False</td>\n",
       "      <td>False</td>\n",
       "    </tr>\n",
       "    <tr>\n",
       "      <th>...</th>\n",
       "      <td>...</td>\n",
       "      <td>...</td>\n",
       "      <td>...</td>\n",
       "      <td>...</td>\n",
       "      <td>...</td>\n",
       "      <td>...</td>\n",
       "      <td>...</td>\n",
       "      <td>...</td>\n",
       "      <td>...</td>\n",
       "      <td>...</td>\n",
       "      <td>...</td>\n",
       "    </tr>\n",
       "    <tr>\n",
       "      <th>58929</th>\n",
       "      <td>[USER] Bueno. La verdad qué. No te apoyo. Eso de qué. La noche sera diversa o No sera habla de una intolerancia qué es impropia del movimiento LGTB.</td>\n",
       "      <td>Intendencia citó a los dueños de local denunciado por discriminación a mujer trans</td>\n",
       "      <td>False</td>\n",
       "      <td>False</td>\n",
       "      <td>True</td>\n",
       "      <td>False</td>\n",
       "      <td>False</td>\n",
       "      <td>False</td>\n",
       "      <td>False</td>\n",
       "      <td>False</td>\n",
       "      <td>False</td>\n",
       "    </tr>\n",
       "    <tr>\n",
       "      <th>58950</th>\n",
       "      <td>[USER] Pijasos en el orto se merecen nomás estos maricones asesinos</td>\n",
       "      <td>Té con leche, truco y biblia: ¿Cómo pasan los días en la cárcel los rugbiers?</td>\n",
       "      <td>True</td>\n",
       "      <td>False</td>\n",
       "      <td>True</td>\n",
       "      <td>False</td>\n",
       "      <td>False</td>\n",
       "      <td>False</td>\n",
       "      <td>False</td>\n",
       "      <td>False</td>\n",
       "      <td>True</td>\n",
       "    </tr>\n",
       "    <tr>\n",
       "      <th>59109</th>\n",
       "      <td>[USER] Degenerado, animal, bestia humana. Escrachenlo</td>\n",
       "      <td>Tiene 12 años y logró grabar cómo un familiar la abusaba: está prófugo</td>\n",
       "      <td>False</td>\n",
       "      <td>False</td>\n",
       "      <td>True</td>\n",
       "      <td>False</td>\n",
       "      <td>False</td>\n",
       "      <td>False</td>\n",
       "      <td>False</td>\n",
       "      <td>False</td>\n",
       "      <td>False</td>\n",
       "    </tr>\n",
       "    <tr>\n",
       "      <th>59208</th>\n",
       "      <td>[USER] Agarrenlo... Degenerado, perverso, bestia y animal.</td>\n",
       "      <td>Vive en un country de Moreno y es gerente de una empresa: quién es Leandro Martínez, el tío abusador filmado \"in fraganti\"</td>\n",
       "      <td>False</td>\n",
       "      <td>False</td>\n",
       "      <td>True</td>\n",
       "      <td>False</td>\n",
       "      <td>False</td>\n",
       "      <td>False</td>\n",
       "      <td>False</td>\n",
       "      <td>False</td>\n",
       "      <td>False</td>\n",
       "    </tr>\n",
       "    <tr>\n",
       "      <th>60213</th>\n",
       "      <td>[USER] No es influencer, es prostituta porque nadie lo dice?</td>\n",
       "      <td>Intendencia citó a los dueños de local denunciado por discriminación a mujer trans</td>\n",
       "      <td>False</td>\n",
       "      <td>False</td>\n",
       "      <td>True</td>\n",
       "      <td>False</td>\n",
       "      <td>False</td>\n",
       "      <td>False</td>\n",
       "      <td>False</td>\n",
       "      <td>False</td>\n",
       "      <td>False</td>\n",
       "    </tr>\n",
       "  </tbody>\n",
       "</table>\n",
       "<p>237 rows × 11 columns</p>\n",
       "</div>"
      ],
      "text/plain": [
       "                                                                                                                                                                                                                                                                                       text  \\\n",
       "194                                                                                                                                                                                                                                                                   [USER] TROLA LESBIANA   \n",
       "207    [USER] El fútbol se vuelve más \"no seas trolo Man\" cada día. Una pelota que viene tan rápida no te da tiempo a sacar la mano, es obvio que no hay intención. Las nuevas reglas para cobrar mano están hechas para los llorones y organizadores q quieren q los partidos salgan 8 a 5   \n",
       "219                                                                                                                                                                                                                       [USER] Rojo puto, jugadores a todos la concha de su madre. [USER]   \n",
       "591                                                                                                                                                                                                                                                               [USER] Vestida de payasa.   \n",
       "968                                                                                                                                                                                                                                                         [USER] Degenerado no, mal gusto   \n",
       "...                                                                                                                                                                                                                                                                                     ...   \n",
       "58929                                                                                                                                  [USER] Bueno. La verdad qué. No te apoyo. Eso de qué. La noche sera diversa o No sera habla de una intolerancia qué es impropia del movimiento LGTB.   \n",
       "58950                                                                                                                                                                                                                   [USER] Pijasos en el orto se merecen nomás estos maricones asesinos   \n",
       "59109                                                                                                                                                                                                                                 [USER] Degenerado, animal, bestia humana. Escrachenlo   \n",
       "59208                                                                                                                                                                                                                            [USER] Agarrenlo... Degenerado, perverso, bestia y animal.   \n",
       "60213                                                                                                                                                                                                                          [USER] No es influencer, es prostituta porque nadie lo dice?   \n",
       "\n",
       "                                                                                                                          context  \\\n",
       "194                                             El poderoso mensaje que escondió Natalie Portman en su vestido de los Oscars 2020   \n",
       "207              El detalle en el gol de Racing: la \"mano de VAR\" de Cvitanich en la jugada previa que debió sancionar el árbitro   \n",
       "219                                       Las cuatro rojas en el clásico de Avellaneda: ¿Loustau acertó en todas las expulsiones?   \n",
       "591                          Billie Eilish, la antidiva de la alfombra roja de los Oscar, con uñas a lo Rosalía y traje grafitero   \n",
       "968                                                       Carmen Barbieri: \"Un degenerado me tocó la cola a la salida del teatro\"   \n",
       "...                                                                                                                           ...   \n",
       "58929                                          Intendencia citó a los dueños de local denunciado por discriminación a mujer trans   \n",
       "58950                                               Té con leche, truco y biblia: ¿Cómo pasan los días en la cárcel los rugbiers?   \n",
       "59109                                                      Tiene 12 años y logró grabar cómo un familiar la abusaba: está prófugo   \n",
       "59208  Vive en un country de Moreno y es gerente de una empresa: quién es Leandro Martínez, el tío abusador filmado \"in fraganti\"   \n",
       "60213                                          Intendencia citó a los dueños de local denunciado por discriminación a mujer trans   \n",
       "\n",
       "       CALLS  WOMEN  LGBTI  RACISM  CLASS  POLITICS  DISABLED  APPEARANCE  \\\n",
       "194    False   True   True   False  False     False     False       False   \n",
       "207    False  False   True   False  False     False     False       False   \n",
       "219    False  False   True    True  False     False     False       False   \n",
       "591    False   True   True   False  False     False     False       False   \n",
       "968    False   True   True   False  False     False     False       False   \n",
       "...      ...    ...    ...     ...    ...       ...       ...         ...   \n",
       "58929  False  False   True   False  False     False     False       False   \n",
       "58950   True  False   True   False  False     False     False       False   \n",
       "59109  False  False   True   False  False     False     False       False   \n",
       "59208  False  False   True   False  False     False     False       False   \n",
       "60213  False  False   True   False  False     False     False       False   \n",
       "\n",
       "       CRIMINAL  \n",
       "194       False  \n",
       "207       False  \n",
       "219       False  \n",
       "591       False  \n",
       "968       False  \n",
       "...         ...  \n",
       "58929     False  \n",
       "58950      True  \n",
       "59109     False  \n",
       "59208     False  \n",
       "60213     False  \n",
       "\n",
       "[237 rows x 11 columns]"
      ]
     },
     "execution_count": 13,
     "metadata": {},
     "output_type": "execute_result"
    }
   ],
   "source": [
    "pd.options.display = 200\n",
    "pd.options.display.max_colwidth = 300\n",
    "\n",
    "\n",
    "df[df[\"LGBTI\"]][[\"text\", \"context\"] + extended_hate_categories]"
   ]
  },
  {
   "cell_type": "code",
   "execution_count": 10,
   "metadata": {},
   "outputs": [],
   "source": [
    "import torch\n",
    "\n"
   ]
  },
  {
   "cell_type": "code",
   "execution_count": null,
   "metadata": {},
   "outputs": [],
   "source": []
  }
 ],
 "metadata": {
  "interpreter": {
   "hash": "3af164d50710d9f221a3ae6c9ac2b1bef73a4fcc4dd97b6430472a2215de3743"
  },
  "kernelspec": {
   "display_name": "Python 3.8.5 64-bit ('hatespeech-classification-n4GdOxTz': pipenv)",
   "name": "python3"
  },
  "language_info": {
   "codemirror_mode": {
    "name": "ipython",
    "version": 3
   },
   "file_extension": ".py",
   "mimetype": "text/x-python",
   "name": "python",
   "nbconvert_exporter": "python",
   "pygments_lexer": "ipython3",
   "version": "3.8.5"
  },
  "orig_nbformat": 4
 },
 "nbformat": 4,
 "nbformat_minor": 2
}